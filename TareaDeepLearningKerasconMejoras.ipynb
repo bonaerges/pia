{
  "metadata": {
    "colab": {
      "provenance": [],
      "gpuType": "T4",
      "name": "notebooke06822448d",
      "include_colab_link": true
    },
    "kernelspec": {
      "name": "python3",
      "display_name": "Python 3"
    },
    "language_info": {
      "name": "python",
      "version": "3.10.13",
      "mimetype": "text/x-python",
      "codemirror_mode": {
        "name": "ipython",
        "version": 3
      },
      "pygments_lexer": "ipython3",
      "nbconvert_exporter": "python",
      "file_extension": ".py"
    },
    "accelerator": "GPU",
    "kaggle": {
      "accelerator": "none",
      "dataSources": [],
      "dockerImageVersionId": 30684,
      "isInternetEnabled": false,
      "language": "python",
      "sourceType": "notebook",
      "isGpuEnabled": false
    },
    "widgets": {
      "application/vnd.jupyter.widget-state+json": {
        "df134827d6ec467cbcccc66cfc636395": {
          "model_module": "@jupyter-widgets/controls",
          "model_name": "HBoxModel",
          "model_module_version": "1.5.0",
          "state": {
            "_dom_classes": [],
            "_model_module": "@jupyter-widgets/controls",
            "_model_module_version": "1.5.0",
            "_model_name": "HBoxModel",
            "_view_count": null,
            "_view_module": "@jupyter-widgets/controls",
            "_view_module_version": "1.5.0",
            "_view_name": "HBoxView",
            "box_style": "",
            "children": [
              "IPY_MODEL_76e3306e13d54e15ac6b09a2d222e661",
              "IPY_MODEL_1cf306e4dbad4943b01d06aeab56ccec",
              "IPY_MODEL_8564606cb16d415793841a3a28f6fed2"
            ],
            "layout": "IPY_MODEL_010a30c7a96d4d3aa8c0829f69f9f80c"
          }
        },
        "76e3306e13d54e15ac6b09a2d222e661": {
          "model_module": "@jupyter-widgets/controls",
          "model_name": "HTMLModel",
          "model_module_version": "1.5.0",
          "state": {
            "_dom_classes": [],
            "_model_module": "@jupyter-widgets/controls",
            "_model_module_version": "1.5.0",
            "_model_name": "HTMLModel",
            "_view_count": null,
            "_view_module": "@jupyter-widgets/controls",
            "_view_module_version": "1.5.0",
            "_view_name": "HTMLView",
            "description": "",
            "description_tooltip": null,
            "layout": "IPY_MODEL_b0880fb9d9ab4e2fb1993c15f6f7d8a5",
            "placeholder": "​",
            "style": "IPY_MODEL_8e2244c193c84ee3ad9ca85fdd13b1a6",
            "value": "Dl Completed...: 100%"
          }
        },
        "1cf306e4dbad4943b01d06aeab56ccec": {
          "model_module": "@jupyter-widgets/controls",
          "model_name": "FloatProgressModel",
          "model_module_version": "1.5.0",
          "state": {
            "_dom_classes": [],
            "_model_module": "@jupyter-widgets/controls",
            "_model_module_version": "1.5.0",
            "_model_name": "FloatProgressModel",
            "_view_count": null,
            "_view_module": "@jupyter-widgets/controls",
            "_view_module_version": "1.5.0",
            "_view_name": "ProgressView",
            "bar_style": "success",
            "description": "",
            "description_tooltip": null,
            "layout": "IPY_MODEL_ef9e77bc983f4446b23391afdb7c7c49",
            "max": 1,
            "min": 0,
            "orientation": "horizontal",
            "style": "IPY_MODEL_c2191070325649b0bae10de860be134c",
            "value": 1
          }
        },
        "8564606cb16d415793841a3a28f6fed2": {
          "model_module": "@jupyter-widgets/controls",
          "model_name": "HTMLModel",
          "model_module_version": "1.5.0",
          "state": {
            "_dom_classes": [],
            "_model_module": "@jupyter-widgets/controls",
            "_model_module_version": "1.5.0",
            "_model_name": "HTMLModel",
            "_view_count": null,
            "_view_module": "@jupyter-widgets/controls",
            "_view_module_version": "1.5.0",
            "_view_name": "HTMLView",
            "description": "",
            "description_tooltip": null,
            "layout": "IPY_MODEL_3805e2b42f614b96a4edf2a7e090a46e",
            "placeholder": "​",
            "style": "IPY_MODEL_571bd87afbb645dbbb725d2d3f2289ca",
            "value": " 3/3 [02:38&lt;00:00, 67.10s/ url]"
          }
        },
        "010a30c7a96d4d3aa8c0829f69f9f80c": {
          "model_module": "@jupyter-widgets/base",
          "model_name": "LayoutModel",
          "model_module_version": "1.2.0",
          "state": {
            "_model_module": "@jupyter-widgets/base",
            "_model_module_version": "1.2.0",
            "_model_name": "LayoutModel",
            "_view_count": null,
            "_view_module": "@jupyter-widgets/base",
            "_view_module_version": "1.2.0",
            "_view_name": "LayoutView",
            "align_content": null,
            "align_items": null,
            "align_self": null,
            "border": null,
            "bottom": null,
            "display": null,
            "flex": null,
            "flex_flow": null,
            "grid_area": null,
            "grid_auto_columns": null,
            "grid_auto_flow": null,
            "grid_auto_rows": null,
            "grid_column": null,
            "grid_gap": null,
            "grid_row": null,
            "grid_template_areas": null,
            "grid_template_columns": null,
            "grid_template_rows": null,
            "height": null,
            "justify_content": null,
            "justify_items": null,
            "left": null,
            "margin": null,
            "max_height": null,
            "max_width": null,
            "min_height": null,
            "min_width": null,
            "object_fit": null,
            "object_position": null,
            "order": null,
            "overflow": null,
            "overflow_x": null,
            "overflow_y": null,
            "padding": null,
            "right": null,
            "top": null,
            "visibility": null,
            "width": null
          }
        },
        "b0880fb9d9ab4e2fb1993c15f6f7d8a5": {
          "model_module": "@jupyter-widgets/base",
          "model_name": "LayoutModel",
          "model_module_version": "1.2.0",
          "state": {
            "_model_module": "@jupyter-widgets/base",
            "_model_module_version": "1.2.0",
            "_model_name": "LayoutModel",
            "_view_count": null,
            "_view_module": "@jupyter-widgets/base",
            "_view_module_version": "1.2.0",
            "_view_name": "LayoutView",
            "align_content": null,
            "align_items": null,
            "align_self": null,
            "border": null,
            "bottom": null,
            "display": null,
            "flex": null,
            "flex_flow": null,
            "grid_area": null,
            "grid_auto_columns": null,
            "grid_auto_flow": null,
            "grid_auto_rows": null,
            "grid_column": null,
            "grid_gap": null,
            "grid_row": null,
            "grid_template_areas": null,
            "grid_template_columns": null,
            "grid_template_rows": null,
            "height": null,
            "justify_content": null,
            "justify_items": null,
            "left": null,
            "margin": null,
            "max_height": null,
            "max_width": null,
            "min_height": null,
            "min_width": null,
            "object_fit": null,
            "object_position": null,
            "order": null,
            "overflow": null,
            "overflow_x": null,
            "overflow_y": null,
            "padding": null,
            "right": null,
            "top": null,
            "visibility": null,
            "width": null
          }
        },
        "8e2244c193c84ee3ad9ca85fdd13b1a6": {
          "model_module": "@jupyter-widgets/controls",
          "model_name": "DescriptionStyleModel",
          "model_module_version": "1.5.0",
          "state": {
            "_model_module": "@jupyter-widgets/controls",
            "_model_module_version": "1.5.0",
            "_model_name": "DescriptionStyleModel",
            "_view_count": null,
            "_view_module": "@jupyter-widgets/base",
            "_view_module_version": "1.2.0",
            "_view_name": "StyleView",
            "description_width": ""
          }
        },
        "ef9e77bc983f4446b23391afdb7c7c49": {
          "model_module": "@jupyter-widgets/base",
          "model_name": "LayoutModel",
          "model_module_version": "1.2.0",
          "state": {
            "_model_module": "@jupyter-widgets/base",
            "_model_module_version": "1.2.0",
            "_model_name": "LayoutModel",
            "_view_count": null,
            "_view_module": "@jupyter-widgets/base",
            "_view_module_version": "1.2.0",
            "_view_name": "LayoutView",
            "align_content": null,
            "align_items": null,
            "align_self": null,
            "border": null,
            "bottom": null,
            "display": null,
            "flex": null,
            "flex_flow": null,
            "grid_area": null,
            "grid_auto_columns": null,
            "grid_auto_flow": null,
            "grid_auto_rows": null,
            "grid_column": null,
            "grid_gap": null,
            "grid_row": null,
            "grid_template_areas": null,
            "grid_template_columns": null,
            "grid_template_rows": null,
            "height": null,
            "justify_content": null,
            "justify_items": null,
            "left": null,
            "margin": null,
            "max_height": null,
            "max_width": null,
            "min_height": null,
            "min_width": null,
            "object_fit": null,
            "object_position": null,
            "order": null,
            "overflow": null,
            "overflow_x": null,
            "overflow_y": null,
            "padding": null,
            "right": null,
            "top": null,
            "visibility": null,
            "width": "20px"
          }
        },
        "c2191070325649b0bae10de860be134c": {
          "model_module": "@jupyter-widgets/controls",
          "model_name": "ProgressStyleModel",
          "model_module_version": "1.5.0",
          "state": {
            "_model_module": "@jupyter-widgets/controls",
            "_model_module_version": "1.5.0",
            "_model_name": "ProgressStyleModel",
            "_view_count": null,
            "_view_module": "@jupyter-widgets/base",
            "_view_module_version": "1.2.0",
            "_view_name": "StyleView",
            "bar_color": null,
            "description_width": ""
          }
        },
        "3805e2b42f614b96a4edf2a7e090a46e": {
          "model_module": "@jupyter-widgets/base",
          "model_name": "LayoutModel",
          "model_module_version": "1.2.0",
          "state": {
            "_model_module": "@jupyter-widgets/base",
            "_model_module_version": "1.2.0",
            "_model_name": "LayoutModel",
            "_view_count": null,
            "_view_module": "@jupyter-widgets/base",
            "_view_module_version": "1.2.0",
            "_view_name": "LayoutView",
            "align_content": null,
            "align_items": null,
            "align_self": null,
            "border": null,
            "bottom": null,
            "display": null,
            "flex": null,
            "flex_flow": null,
            "grid_area": null,
            "grid_auto_columns": null,
            "grid_auto_flow": null,
            "grid_auto_rows": null,
            "grid_column": null,
            "grid_gap": null,
            "grid_row": null,
            "grid_template_areas": null,
            "grid_template_columns": null,
            "grid_template_rows": null,
            "height": null,
            "justify_content": null,
            "justify_items": null,
            "left": null,
            "margin": null,
            "max_height": null,
            "max_width": null,
            "min_height": null,
            "min_width": null,
            "object_fit": null,
            "object_position": null,
            "order": null,
            "overflow": null,
            "overflow_x": null,
            "overflow_y": null,
            "padding": null,
            "right": null,
            "top": null,
            "visibility": null,
            "width": null
          }
        },
        "571bd87afbb645dbbb725d2d3f2289ca": {
          "model_module": "@jupyter-widgets/controls",
          "model_name": "DescriptionStyleModel",
          "model_module_version": "1.5.0",
          "state": {
            "_model_module": "@jupyter-widgets/controls",
            "_model_module_version": "1.5.0",
            "_model_name": "DescriptionStyleModel",
            "_view_count": null,
            "_view_module": "@jupyter-widgets/base",
            "_view_module_version": "1.2.0",
            "_view_name": "StyleView",
            "description_width": ""
          }
        },
        "d924a7a6e4be4b179ae1e820c444b289": {
          "model_module": "@jupyter-widgets/controls",
          "model_name": "HBoxModel",
          "model_module_version": "1.5.0",
          "state": {
            "_dom_classes": [],
            "_model_module": "@jupyter-widgets/controls",
            "_model_module_version": "1.5.0",
            "_model_name": "HBoxModel",
            "_view_count": null,
            "_view_module": "@jupyter-widgets/controls",
            "_view_module_version": "1.5.0",
            "_view_name": "HBoxView",
            "box_style": "",
            "children": [
              "IPY_MODEL_e3b9842296654ed59fd39a677b541dc8",
              "IPY_MODEL_9c74db2ebf9f46ad9fc5d4b487025a52",
              "IPY_MODEL_57b03bb7888745518cd0a01fbb39c4c3"
            ],
            "layout": "IPY_MODEL_ada23d485043482fad2b153b076f7a6c"
          }
        },
        "e3b9842296654ed59fd39a677b541dc8": {
          "model_module": "@jupyter-widgets/controls",
          "model_name": "HTMLModel",
          "model_module_version": "1.5.0",
          "state": {
            "_dom_classes": [],
            "_model_module": "@jupyter-widgets/controls",
            "_model_module_version": "1.5.0",
            "_model_name": "HTMLModel",
            "_view_count": null,
            "_view_module": "@jupyter-widgets/controls",
            "_view_module_version": "1.5.0",
            "_view_name": "HTMLView",
            "description": "",
            "description_tooltip": null,
            "layout": "IPY_MODEL_44ff3f4c4e0348ed8e4ac175dcfc1583",
            "placeholder": "​",
            "style": "IPY_MODEL_2df11f474d6c4d21b99303557bf38d05",
            "value": "Dl Size...: 100%"
          }
        },
        "9c74db2ebf9f46ad9fc5d4b487025a52": {
          "model_module": "@jupyter-widgets/controls",
          "model_name": "FloatProgressModel",
          "model_module_version": "1.5.0",
          "state": {
            "_dom_classes": [],
            "_model_module": "@jupyter-widgets/controls",
            "_model_module_version": "1.5.0",
            "_model_name": "FloatProgressModel",
            "_view_count": null,
            "_view_module": "@jupyter-widgets/controls",
            "_view_module_version": "1.5.0",
            "_view_name": "ProgressView",
            "bar_style": "success",
            "description": "",
            "description_tooltip": null,
            "layout": "IPY_MODEL_7c85930242c044cfba457b1cedcbccfa",
            "max": 1,
            "min": 0,
            "orientation": "horizontal",
            "style": "IPY_MODEL_d9b7eead18e5437c816969a7f1f25662",
            "value": 1
          }
        },
        "57b03bb7888745518cd0a01fbb39c4c3": {
          "model_module": "@jupyter-widgets/controls",
          "model_name": "HTMLModel",
          "model_module_version": "1.5.0",
          "state": {
            "_dom_classes": [],
            "_model_module": "@jupyter-widgets/controls",
            "_model_module_version": "1.5.0",
            "_model_name": "HTMLModel",
            "_view_count": null,
            "_view_module": "@jupyter-widgets/controls",
            "_view_module_version": "1.5.0",
            "_view_name": "HTMLView",
            "description": "",
            "description_tooltip": null,
            "layout": "IPY_MODEL_7d156ad47a394f9bb6a0cd284a26dd8b",
            "placeholder": "​",
            "style": "IPY_MODEL_bc7c74070b814066bf7b7d1234bdd8fb",
            "value": " 1501/1501 [02:38&lt;00:00,  5.44 MiB/s]"
          }
        },
        "ada23d485043482fad2b153b076f7a6c": {
          "model_module": "@jupyter-widgets/base",
          "model_name": "LayoutModel",
          "model_module_version": "1.2.0",
          "state": {
            "_model_module": "@jupyter-widgets/base",
            "_model_module_version": "1.2.0",
            "_model_name": "LayoutModel",
            "_view_count": null,
            "_view_module": "@jupyter-widgets/base",
            "_view_module_version": "1.2.0",
            "_view_name": "LayoutView",
            "align_content": null,
            "align_items": null,
            "align_self": null,
            "border": null,
            "bottom": null,
            "display": null,
            "flex": null,
            "flex_flow": null,
            "grid_area": null,
            "grid_auto_columns": null,
            "grid_auto_flow": null,
            "grid_auto_rows": null,
            "grid_column": null,
            "grid_gap": null,
            "grid_row": null,
            "grid_template_areas": null,
            "grid_template_columns": null,
            "grid_template_rows": null,
            "height": null,
            "justify_content": null,
            "justify_items": null,
            "left": null,
            "margin": null,
            "max_height": null,
            "max_width": null,
            "min_height": null,
            "min_width": null,
            "object_fit": null,
            "object_position": null,
            "order": null,
            "overflow": null,
            "overflow_x": null,
            "overflow_y": null,
            "padding": null,
            "right": null,
            "top": null,
            "visibility": null,
            "width": null
          }
        },
        "44ff3f4c4e0348ed8e4ac175dcfc1583": {
          "model_module": "@jupyter-widgets/base",
          "model_name": "LayoutModel",
          "model_module_version": "1.2.0",
          "state": {
            "_model_module": "@jupyter-widgets/base",
            "_model_module_version": "1.2.0",
            "_model_name": "LayoutModel",
            "_view_count": null,
            "_view_module": "@jupyter-widgets/base",
            "_view_module_version": "1.2.0",
            "_view_name": "LayoutView",
            "align_content": null,
            "align_items": null,
            "align_self": null,
            "border": null,
            "bottom": null,
            "display": null,
            "flex": null,
            "flex_flow": null,
            "grid_area": null,
            "grid_auto_columns": null,
            "grid_auto_flow": null,
            "grid_auto_rows": null,
            "grid_column": null,
            "grid_gap": null,
            "grid_row": null,
            "grid_template_areas": null,
            "grid_template_columns": null,
            "grid_template_rows": null,
            "height": null,
            "justify_content": null,
            "justify_items": null,
            "left": null,
            "margin": null,
            "max_height": null,
            "max_width": null,
            "min_height": null,
            "min_width": null,
            "object_fit": null,
            "object_position": null,
            "order": null,
            "overflow": null,
            "overflow_x": null,
            "overflow_y": null,
            "padding": null,
            "right": null,
            "top": null,
            "visibility": null,
            "width": null
          }
        },
        "2df11f474d6c4d21b99303557bf38d05": {
          "model_module": "@jupyter-widgets/controls",
          "model_name": "DescriptionStyleModel",
          "model_module_version": "1.5.0",
          "state": {
            "_model_module": "@jupyter-widgets/controls",
            "_model_module_version": "1.5.0",
            "_model_name": "DescriptionStyleModel",
            "_view_count": null,
            "_view_module": "@jupyter-widgets/base",
            "_view_module_version": "1.2.0",
            "_view_name": "StyleView",
            "description_width": ""
          }
        },
        "7c85930242c044cfba457b1cedcbccfa": {
          "model_module": "@jupyter-widgets/base",
          "model_name": "LayoutModel",
          "model_module_version": "1.2.0",
          "state": {
            "_model_module": "@jupyter-widgets/base",
            "_model_module_version": "1.2.0",
            "_model_name": "LayoutModel",
            "_view_count": null,
            "_view_module": "@jupyter-widgets/base",
            "_view_module_version": "1.2.0",
            "_view_name": "LayoutView",
            "align_content": null,
            "align_items": null,
            "align_self": null,
            "border": null,
            "bottom": null,
            "display": null,
            "flex": null,
            "flex_flow": null,
            "grid_area": null,
            "grid_auto_columns": null,
            "grid_auto_flow": null,
            "grid_auto_rows": null,
            "grid_column": null,
            "grid_gap": null,
            "grid_row": null,
            "grid_template_areas": null,
            "grid_template_columns": null,
            "grid_template_rows": null,
            "height": null,
            "justify_content": null,
            "justify_items": null,
            "left": null,
            "margin": null,
            "max_height": null,
            "max_width": null,
            "min_height": null,
            "min_width": null,
            "object_fit": null,
            "object_position": null,
            "order": null,
            "overflow": null,
            "overflow_x": null,
            "overflow_y": null,
            "padding": null,
            "right": null,
            "top": null,
            "visibility": null,
            "width": "20px"
          }
        },
        "d9b7eead18e5437c816969a7f1f25662": {
          "model_module": "@jupyter-widgets/controls",
          "model_name": "ProgressStyleModel",
          "model_module_version": "1.5.0",
          "state": {
            "_model_module": "@jupyter-widgets/controls",
            "_model_module_version": "1.5.0",
            "_model_name": "ProgressStyleModel",
            "_view_count": null,
            "_view_module": "@jupyter-widgets/base",
            "_view_module_version": "1.2.0",
            "_view_name": "StyleView",
            "bar_color": null,
            "description_width": ""
          }
        },
        "7d156ad47a394f9bb6a0cd284a26dd8b": {
          "model_module": "@jupyter-widgets/base",
          "model_name": "LayoutModel",
          "model_module_version": "1.2.0",
          "state": {
            "_model_module": "@jupyter-widgets/base",
            "_model_module_version": "1.2.0",
            "_model_name": "LayoutModel",
            "_view_count": null,
            "_view_module": "@jupyter-widgets/base",
            "_view_module_version": "1.2.0",
            "_view_name": "LayoutView",
            "align_content": null,
            "align_items": null,
            "align_self": null,
            "border": null,
            "bottom": null,
            "display": null,
            "flex": null,
            "flex_flow": null,
            "grid_area": null,
            "grid_auto_columns": null,
            "grid_auto_flow": null,
            "grid_auto_rows": null,
            "grid_column": null,
            "grid_gap": null,
            "grid_row": null,
            "grid_template_areas": null,
            "grid_template_columns": null,
            "grid_template_rows": null,
            "height": null,
            "justify_content": null,
            "justify_items": null,
            "left": null,
            "margin": null,
            "max_height": null,
            "max_width": null,
            "min_height": null,
            "min_width": null,
            "object_fit": null,
            "object_position": null,
            "order": null,
            "overflow": null,
            "overflow_x": null,
            "overflow_y": null,
            "padding": null,
            "right": null,
            "top": null,
            "visibility": null,
            "width": null
          }
        },
        "bc7c74070b814066bf7b7d1234bdd8fb": {
          "model_module": "@jupyter-widgets/controls",
          "model_name": "DescriptionStyleModel",
          "model_module_version": "1.5.0",
          "state": {
            "_model_module": "@jupyter-widgets/controls",
            "_model_module_version": "1.5.0",
            "_model_name": "DescriptionStyleModel",
            "_view_count": null,
            "_view_module": "@jupyter-widgets/base",
            "_view_module_version": "1.2.0",
            "_view_name": "StyleView",
            "description_width": ""
          }
        },
        "2aba7774f45c413c81482a3b19218539": {
          "model_module": "@jupyter-widgets/controls",
          "model_name": "HBoxModel",
          "model_module_version": "1.5.0",
          "state": {
            "_dom_classes": [],
            "_model_module": "@jupyter-widgets/controls",
            "_model_module_version": "1.5.0",
            "_model_name": "HBoxModel",
            "_view_count": null,
            "_view_module": "@jupyter-widgets/controls",
            "_view_module_version": "1.5.0",
            "_view_name": "HBoxView",
            "box_style": "",
            "children": [
              "IPY_MODEL_90cd9a9b3a65432490b53d28116103fb",
              "IPY_MODEL_b1455844504b47a5ad71eae49dae6dfc",
              "IPY_MODEL_45f058d2cc69436a83f1a23e63bcd5db"
            ],
            "layout": "IPY_MODEL_924ea1853ac9462fafcd6e8033dc6a37"
          }
        },
        "90cd9a9b3a65432490b53d28116103fb": {
          "model_module": "@jupyter-widgets/controls",
          "model_name": "HTMLModel",
          "model_module_version": "1.5.0",
          "state": {
            "_dom_classes": [],
            "_model_module": "@jupyter-widgets/controls",
            "_model_module_version": "1.5.0",
            "_model_name": "HTMLModel",
            "_view_count": null,
            "_view_module": "@jupyter-widgets/controls",
            "_view_module_version": "1.5.0",
            "_view_name": "HTMLView",
            "description": "",
            "description_tooltip": null,
            "layout": "IPY_MODEL_0de1dd05df424d78859005fc12166adb",
            "placeholder": "​",
            "style": "IPY_MODEL_074a66f470e34b40b2d604c1baabad90",
            "value": "Generating splits...: 100%"
          }
        },
        "b1455844504b47a5ad71eae49dae6dfc": {
          "model_module": "@jupyter-widgets/controls",
          "model_name": "FloatProgressModel",
          "model_module_version": "1.5.0",
          "state": {
            "_dom_classes": [],
            "_model_module": "@jupyter-widgets/controls",
            "_model_module_version": "1.5.0",
            "_model_name": "FloatProgressModel",
            "_view_count": null,
            "_view_module": "@jupyter-widgets/controls",
            "_view_module_version": "1.5.0",
            "_view_name": "ProgressView",
            "bar_style": "",
            "description": "",
            "description_tooltip": null,
            "layout": "IPY_MODEL_4a131c75306843b1a9ca815036589154",
            "max": 3,
            "min": 0,
            "orientation": "horizontal",
            "style": "IPY_MODEL_3041858f4e81402a9ea4a0534fbb6c84",
            "value": 3
          }
        },
        "45f058d2cc69436a83f1a23e63bcd5db": {
          "model_module": "@jupyter-widgets/controls",
          "model_name": "HTMLModel",
          "model_module_version": "1.5.0",
          "state": {
            "_dom_classes": [],
            "_model_module": "@jupyter-widgets/controls",
            "_model_module_version": "1.5.0",
            "_model_name": "HTMLModel",
            "_view_count": null,
            "_view_module": "@jupyter-widgets/controls",
            "_view_module_version": "1.5.0",
            "_view_name": "HTMLView",
            "description": "",
            "description_tooltip": null,
            "layout": "IPY_MODEL_7a03c13034f546dc8b7a82137efdca07",
            "placeholder": "​",
            "style": "IPY_MODEL_a40b6e4f4f2e42c099514be360ea2c7d",
            "value": " 3/3 [09:38&lt;00:00, 242.37s/ splits]"
          }
        },
        "924ea1853ac9462fafcd6e8033dc6a37": {
          "model_module": "@jupyter-widgets/base",
          "model_name": "LayoutModel",
          "model_module_version": "1.2.0",
          "state": {
            "_model_module": "@jupyter-widgets/base",
            "_model_module_version": "1.2.0",
            "_model_name": "LayoutModel",
            "_view_count": null,
            "_view_module": "@jupyter-widgets/base",
            "_view_module_version": "1.2.0",
            "_view_name": "LayoutView",
            "align_content": null,
            "align_items": null,
            "align_self": null,
            "border": null,
            "bottom": null,
            "display": null,
            "flex": null,
            "flex_flow": null,
            "grid_area": null,
            "grid_auto_columns": null,
            "grid_auto_flow": null,
            "grid_auto_rows": null,
            "grid_column": null,
            "grid_gap": null,
            "grid_row": null,
            "grid_template_areas": null,
            "grid_template_columns": null,
            "grid_template_rows": null,
            "height": null,
            "justify_content": null,
            "justify_items": null,
            "left": null,
            "margin": null,
            "max_height": null,
            "max_width": null,
            "min_height": null,
            "min_width": null,
            "object_fit": null,
            "object_position": null,
            "order": null,
            "overflow": null,
            "overflow_x": null,
            "overflow_y": null,
            "padding": null,
            "right": null,
            "top": null,
            "visibility": "hidden",
            "width": null
          }
        },
        "0de1dd05df424d78859005fc12166adb": {
          "model_module": "@jupyter-widgets/base",
          "model_name": "LayoutModel",
          "model_module_version": "1.2.0",
          "state": {
            "_model_module": "@jupyter-widgets/base",
            "_model_module_version": "1.2.0",
            "_model_name": "LayoutModel",
            "_view_count": null,
            "_view_module": "@jupyter-widgets/base",
            "_view_module_version": "1.2.0",
            "_view_name": "LayoutView",
            "align_content": null,
            "align_items": null,
            "align_self": null,
            "border": null,
            "bottom": null,
            "display": null,
            "flex": null,
            "flex_flow": null,
            "grid_area": null,
            "grid_auto_columns": null,
            "grid_auto_flow": null,
            "grid_auto_rows": null,
            "grid_column": null,
            "grid_gap": null,
            "grid_row": null,
            "grid_template_areas": null,
            "grid_template_columns": null,
            "grid_template_rows": null,
            "height": null,
            "justify_content": null,
            "justify_items": null,
            "left": null,
            "margin": null,
            "max_height": null,
            "max_width": null,
            "min_height": null,
            "min_width": null,
            "object_fit": null,
            "object_position": null,
            "order": null,
            "overflow": null,
            "overflow_x": null,
            "overflow_y": null,
            "padding": null,
            "right": null,
            "top": null,
            "visibility": null,
            "width": null
          }
        },
        "074a66f470e34b40b2d604c1baabad90": {
          "model_module": "@jupyter-widgets/controls",
          "model_name": "DescriptionStyleModel",
          "model_module_version": "1.5.0",
          "state": {
            "_model_module": "@jupyter-widgets/controls",
            "_model_module_version": "1.5.0",
            "_model_name": "DescriptionStyleModel",
            "_view_count": null,
            "_view_module": "@jupyter-widgets/base",
            "_view_module_version": "1.2.0",
            "_view_name": "StyleView",
            "description_width": ""
          }
        },
        "4a131c75306843b1a9ca815036589154": {
          "model_module": "@jupyter-widgets/base",
          "model_name": "LayoutModel",
          "model_module_version": "1.2.0",
          "state": {
            "_model_module": "@jupyter-widgets/base",
            "_model_module_version": "1.2.0",
            "_model_name": "LayoutModel",
            "_view_count": null,
            "_view_module": "@jupyter-widgets/base",
            "_view_module_version": "1.2.0",
            "_view_name": "LayoutView",
            "align_content": null,
            "align_items": null,
            "align_self": null,
            "border": null,
            "bottom": null,
            "display": null,
            "flex": null,
            "flex_flow": null,
            "grid_area": null,
            "grid_auto_columns": null,
            "grid_auto_flow": null,
            "grid_auto_rows": null,
            "grid_column": null,
            "grid_gap": null,
            "grid_row": null,
            "grid_template_areas": null,
            "grid_template_columns": null,
            "grid_template_rows": null,
            "height": null,
            "justify_content": null,
            "justify_items": null,
            "left": null,
            "margin": null,
            "max_height": null,
            "max_width": null,
            "min_height": null,
            "min_width": null,
            "object_fit": null,
            "object_position": null,
            "order": null,
            "overflow": null,
            "overflow_x": null,
            "overflow_y": null,
            "padding": null,
            "right": null,
            "top": null,
            "visibility": null,
            "width": null
          }
        },
        "3041858f4e81402a9ea4a0534fbb6c84": {
          "model_module": "@jupyter-widgets/controls",
          "model_name": "ProgressStyleModel",
          "model_module_version": "1.5.0",
          "state": {
            "_model_module": "@jupyter-widgets/controls",
            "_model_module_version": "1.5.0",
            "_model_name": "ProgressStyleModel",
            "_view_count": null,
            "_view_module": "@jupyter-widgets/base",
            "_view_module_version": "1.2.0",
            "_view_name": "StyleView",
            "bar_color": null,
            "description_width": ""
          }
        },
        "7a03c13034f546dc8b7a82137efdca07": {
          "model_module": "@jupyter-widgets/base",
          "model_name": "LayoutModel",
          "model_module_version": "1.2.0",
          "state": {
            "_model_module": "@jupyter-widgets/base",
            "_model_module_version": "1.2.0",
            "_model_name": "LayoutModel",
            "_view_count": null,
            "_view_module": "@jupyter-widgets/base",
            "_view_module_version": "1.2.0",
            "_view_name": "LayoutView",
            "align_content": null,
            "align_items": null,
            "align_self": null,
            "border": null,
            "bottom": null,
            "display": null,
            "flex": null,
            "flex_flow": null,
            "grid_area": null,
            "grid_auto_columns": null,
            "grid_auto_flow": null,
            "grid_auto_rows": null,
            "grid_column": null,
            "grid_gap": null,
            "grid_row": null,
            "grid_template_areas": null,
            "grid_template_columns": null,
            "grid_template_rows": null,
            "height": null,
            "justify_content": null,
            "justify_items": null,
            "left": null,
            "margin": null,
            "max_height": null,
            "max_width": null,
            "min_height": null,
            "min_width": null,
            "object_fit": null,
            "object_position": null,
            "order": null,
            "overflow": null,
            "overflow_x": null,
            "overflow_y": null,
            "padding": null,
            "right": null,
            "top": null,
            "visibility": null,
            "width": null
          }
        },
        "a40b6e4f4f2e42c099514be360ea2c7d": {
          "model_module": "@jupyter-widgets/controls",
          "model_name": "DescriptionStyleModel",
          "model_module_version": "1.5.0",
          "state": {
            "_model_module": "@jupyter-widgets/controls",
            "_model_module_version": "1.5.0",
            "_model_name": "DescriptionStyleModel",
            "_view_count": null,
            "_view_module": "@jupyter-widgets/base",
            "_view_module_version": "1.2.0",
            "_view_name": "StyleView",
            "description_width": ""
          }
        },
        "eb2968609ba0431692c51148e08f8e20": {
          "model_module": "@jupyter-widgets/controls",
          "model_name": "HBoxModel",
          "model_module_version": "1.5.0",
          "state": {
            "_dom_classes": [],
            "_model_module": "@jupyter-widgets/controls",
            "_model_module_version": "1.5.0",
            "_model_name": "HBoxModel",
            "_view_count": null,
            "_view_module": "@jupyter-widgets/controls",
            "_view_module_version": "1.5.0",
            "_view_name": "HBoxView",
            "box_style": "",
            "children": [
              "IPY_MODEL_970036fd9e2f40d899876032c7781234",
              "IPY_MODEL_9189f8c5493a4c5b8bfb5125dd5f5896",
              "IPY_MODEL_816f4290bf4a4dc5b70acb90bdc73404"
            ],
            "layout": "IPY_MODEL_1b8a7791049245a89c28fd18efad9c9d"
          }
        },
        "970036fd9e2f40d899876032c7781234": {
          "model_module": "@jupyter-widgets/controls",
          "model_name": "HTMLModel",
          "model_module_version": "1.5.0",
          "state": {
            "_dom_classes": [],
            "_model_module": "@jupyter-widgets/controls",
            "_model_module_version": "1.5.0",
            "_model_name": "HTMLModel",
            "_view_count": null,
            "_view_module": "@jupyter-widgets/controls",
            "_view_module_version": "1.5.0",
            "_view_name": "HTMLView",
            "description": "",
            "description_tooltip": null,
            "layout": "IPY_MODEL_facc03616bb742afbeec93ea54334f90",
            "placeholder": "​",
            "style": "IPY_MODEL_7b08d1caf8fc437e8beb2f8bc3c553e5",
            "value": "Generating train examples...:  99%"
          }
        },
        "9189f8c5493a4c5b8bfb5125dd5f5896": {
          "model_module": "@jupyter-widgets/controls",
          "model_name": "FloatProgressModel",
          "model_module_version": "1.5.0",
          "state": {
            "_dom_classes": [],
            "_model_module": "@jupyter-widgets/controls",
            "_model_module_version": "1.5.0",
            "_model_name": "FloatProgressModel",
            "_view_count": null,
            "_view_module": "@jupyter-widgets/controls",
            "_view_module_version": "1.5.0",
            "_view_name": "ProgressView",
            "bar_style": "",
            "description": "",
            "description_tooltip": null,
            "layout": "IPY_MODEL_ee9d16cc0b0f4240b67e7769790bdd88",
            "max": 73257,
            "min": 0,
            "orientation": "horizontal",
            "style": "IPY_MODEL_45a81dbfa536424cbceeb3da4af92a90",
            "value": 73257
          }
        },
        "816f4290bf4a4dc5b70acb90bdc73404": {
          "model_module": "@jupyter-widgets/controls",
          "model_name": "HTMLModel",
          "model_module_version": "1.5.0",
          "state": {
            "_dom_classes": [],
            "_model_module": "@jupyter-widgets/controls",
            "_model_module_version": "1.5.0",
            "_model_name": "HTMLModel",
            "_view_count": null,
            "_view_module": "@jupyter-widgets/controls",
            "_view_module_version": "1.5.0",
            "_view_name": "HTMLView",
            "description": "",
            "description_tooltip": null,
            "layout": "IPY_MODEL_f95bb4c70fe147879773a3e8aed8fc15",
            "placeholder": "​",
            "style": "IPY_MODEL_bd52d8a8d8dd4b35b6d3e1dd6d41b803",
            "value": " 72700/73257 [01:19&lt;00:00, 1157.98 examples/s]"
          }
        },
        "1b8a7791049245a89c28fd18efad9c9d": {
          "model_module": "@jupyter-widgets/base",
          "model_name": "LayoutModel",
          "model_module_version": "1.2.0",
          "state": {
            "_model_module": "@jupyter-widgets/base",
            "_model_module_version": "1.2.0",
            "_model_name": "LayoutModel",
            "_view_count": null,
            "_view_module": "@jupyter-widgets/base",
            "_view_module_version": "1.2.0",
            "_view_name": "LayoutView",
            "align_content": null,
            "align_items": null,
            "align_self": null,
            "border": null,
            "bottom": null,
            "display": null,
            "flex": null,
            "flex_flow": null,
            "grid_area": null,
            "grid_auto_columns": null,
            "grid_auto_flow": null,
            "grid_auto_rows": null,
            "grid_column": null,
            "grid_gap": null,
            "grid_row": null,
            "grid_template_areas": null,
            "grid_template_columns": null,
            "grid_template_rows": null,
            "height": null,
            "justify_content": null,
            "justify_items": null,
            "left": null,
            "margin": null,
            "max_height": null,
            "max_width": null,
            "min_height": null,
            "min_width": null,
            "object_fit": null,
            "object_position": null,
            "order": null,
            "overflow": null,
            "overflow_x": null,
            "overflow_y": null,
            "padding": null,
            "right": null,
            "top": null,
            "visibility": "hidden",
            "width": null
          }
        },
        "facc03616bb742afbeec93ea54334f90": {
          "model_module": "@jupyter-widgets/base",
          "model_name": "LayoutModel",
          "model_module_version": "1.2.0",
          "state": {
            "_model_module": "@jupyter-widgets/base",
            "_model_module_version": "1.2.0",
            "_model_name": "LayoutModel",
            "_view_count": null,
            "_view_module": "@jupyter-widgets/base",
            "_view_module_version": "1.2.0",
            "_view_name": "LayoutView",
            "align_content": null,
            "align_items": null,
            "align_self": null,
            "border": null,
            "bottom": null,
            "display": null,
            "flex": null,
            "flex_flow": null,
            "grid_area": null,
            "grid_auto_columns": null,
            "grid_auto_flow": null,
            "grid_auto_rows": null,
            "grid_column": null,
            "grid_gap": null,
            "grid_row": null,
            "grid_template_areas": null,
            "grid_template_columns": null,
            "grid_template_rows": null,
            "height": null,
            "justify_content": null,
            "justify_items": null,
            "left": null,
            "margin": null,
            "max_height": null,
            "max_width": null,
            "min_height": null,
            "min_width": null,
            "object_fit": null,
            "object_position": null,
            "order": null,
            "overflow": null,
            "overflow_x": null,
            "overflow_y": null,
            "padding": null,
            "right": null,
            "top": null,
            "visibility": null,
            "width": null
          }
        },
        "7b08d1caf8fc437e8beb2f8bc3c553e5": {
          "model_module": "@jupyter-widgets/controls",
          "model_name": "DescriptionStyleModel",
          "model_module_version": "1.5.0",
          "state": {
            "_model_module": "@jupyter-widgets/controls",
            "_model_module_version": "1.5.0",
            "_model_name": "DescriptionStyleModel",
            "_view_count": null,
            "_view_module": "@jupyter-widgets/base",
            "_view_module_version": "1.2.0",
            "_view_name": "StyleView",
            "description_width": ""
          }
        },
        "ee9d16cc0b0f4240b67e7769790bdd88": {
          "model_module": "@jupyter-widgets/base",
          "model_name": "LayoutModel",
          "model_module_version": "1.2.0",
          "state": {
            "_model_module": "@jupyter-widgets/base",
            "_model_module_version": "1.2.0",
            "_model_name": "LayoutModel",
            "_view_count": null,
            "_view_module": "@jupyter-widgets/base",
            "_view_module_version": "1.2.0",
            "_view_name": "LayoutView",
            "align_content": null,
            "align_items": null,
            "align_self": null,
            "border": null,
            "bottom": null,
            "display": null,
            "flex": null,
            "flex_flow": null,
            "grid_area": null,
            "grid_auto_columns": null,
            "grid_auto_flow": null,
            "grid_auto_rows": null,
            "grid_column": null,
            "grid_gap": null,
            "grid_row": null,
            "grid_template_areas": null,
            "grid_template_columns": null,
            "grid_template_rows": null,
            "height": null,
            "justify_content": null,
            "justify_items": null,
            "left": null,
            "margin": null,
            "max_height": null,
            "max_width": null,
            "min_height": null,
            "min_width": null,
            "object_fit": null,
            "object_position": null,
            "order": null,
            "overflow": null,
            "overflow_x": null,
            "overflow_y": null,
            "padding": null,
            "right": null,
            "top": null,
            "visibility": null,
            "width": null
          }
        },
        "45a81dbfa536424cbceeb3da4af92a90": {
          "model_module": "@jupyter-widgets/controls",
          "model_name": "ProgressStyleModel",
          "model_module_version": "1.5.0",
          "state": {
            "_model_module": "@jupyter-widgets/controls",
            "_model_module_version": "1.5.0",
            "_model_name": "ProgressStyleModel",
            "_view_count": null,
            "_view_module": "@jupyter-widgets/base",
            "_view_module_version": "1.2.0",
            "_view_name": "StyleView",
            "bar_color": null,
            "description_width": ""
          }
        },
        "f95bb4c70fe147879773a3e8aed8fc15": {
          "model_module": "@jupyter-widgets/base",
          "model_name": "LayoutModel",
          "model_module_version": "1.2.0",
          "state": {
            "_model_module": "@jupyter-widgets/base",
            "_model_module_version": "1.2.0",
            "_model_name": "LayoutModel",
            "_view_count": null,
            "_view_module": "@jupyter-widgets/base",
            "_view_module_version": "1.2.0",
            "_view_name": "LayoutView",
            "align_content": null,
            "align_items": null,
            "align_self": null,
            "border": null,
            "bottom": null,
            "display": null,
            "flex": null,
            "flex_flow": null,
            "grid_area": null,
            "grid_auto_columns": null,
            "grid_auto_flow": null,
            "grid_auto_rows": null,
            "grid_column": null,
            "grid_gap": null,
            "grid_row": null,
            "grid_template_areas": null,
            "grid_template_columns": null,
            "grid_template_rows": null,
            "height": null,
            "justify_content": null,
            "justify_items": null,
            "left": null,
            "margin": null,
            "max_height": null,
            "max_width": null,
            "min_height": null,
            "min_width": null,
            "object_fit": null,
            "object_position": null,
            "order": null,
            "overflow": null,
            "overflow_x": null,
            "overflow_y": null,
            "padding": null,
            "right": null,
            "top": null,
            "visibility": null,
            "width": null
          }
        },
        "bd52d8a8d8dd4b35b6d3e1dd6d41b803": {
          "model_module": "@jupyter-widgets/controls",
          "model_name": "DescriptionStyleModel",
          "model_module_version": "1.5.0",
          "state": {
            "_model_module": "@jupyter-widgets/controls",
            "_model_module_version": "1.5.0",
            "_model_name": "DescriptionStyleModel",
            "_view_count": null,
            "_view_module": "@jupyter-widgets/base",
            "_view_module_version": "1.2.0",
            "_view_name": "StyleView",
            "description_width": ""
          }
        },
        "9334f9365192436aa2be9240db073a3a": {
          "model_module": "@jupyter-widgets/controls",
          "model_name": "HBoxModel",
          "model_module_version": "1.5.0",
          "state": {
            "_dom_classes": [],
            "_model_module": "@jupyter-widgets/controls",
            "_model_module_version": "1.5.0",
            "_model_name": "HBoxModel",
            "_view_count": null,
            "_view_module": "@jupyter-widgets/controls",
            "_view_module_version": "1.5.0",
            "_view_name": "HBoxView",
            "box_style": "",
            "children": [
              "IPY_MODEL_73b6f02b0fa1408792d98d8892255486",
              "IPY_MODEL_acff464a616b498ca1cd823fe34cc693",
              "IPY_MODEL_57ee977e4f4a42cba12e4dfb9a6b50fa"
            ],
            "layout": "IPY_MODEL_8618746f4632435d9975d5437aeb64c1"
          }
        },
        "73b6f02b0fa1408792d98d8892255486": {
          "model_module": "@jupyter-widgets/controls",
          "model_name": "HTMLModel",
          "model_module_version": "1.5.0",
          "state": {
            "_dom_classes": [],
            "_model_module": "@jupyter-widgets/controls",
            "_model_module_version": "1.5.0",
            "_model_name": "HTMLModel",
            "_view_count": null,
            "_view_module": "@jupyter-widgets/controls",
            "_view_module_version": "1.5.0",
            "_view_name": "HTMLView",
            "description": "",
            "description_tooltip": null,
            "layout": "IPY_MODEL_8080ecb6b90c4dcc8a49ff2722c78176",
            "placeholder": "​",
            "style": "IPY_MODEL_35a154e326714153a0bb5e9cbac8a738",
            "value": "Shuffling /root/tensorflow_datasets/svhn_cropped/3.0.0.incompleteUD2TBK/svhn_cropped-train.tfrecord*...:  89%"
          }
        },
        "acff464a616b498ca1cd823fe34cc693": {
          "model_module": "@jupyter-widgets/controls",
          "model_name": "FloatProgressModel",
          "model_module_version": "1.5.0",
          "state": {
            "_dom_classes": [],
            "_model_module": "@jupyter-widgets/controls",
            "_model_module_version": "1.5.0",
            "_model_name": "FloatProgressModel",
            "_view_count": null,
            "_view_module": "@jupyter-widgets/controls",
            "_view_module_version": "1.5.0",
            "_view_name": "ProgressView",
            "bar_style": "",
            "description": "",
            "description_tooltip": null,
            "layout": "IPY_MODEL_aea841515d9f4978aac0d5df52355981",
            "max": 73257,
            "min": 0,
            "orientation": "horizontal",
            "style": "IPY_MODEL_6424a3621bdf404fb1df7d22d50d12e5",
            "value": 73257
          }
        },
        "57ee977e4f4a42cba12e4dfb9a6b50fa": {
          "model_module": "@jupyter-widgets/controls",
          "model_name": "HTMLModel",
          "model_module_version": "1.5.0",
          "state": {
            "_dom_classes": [],
            "_model_module": "@jupyter-widgets/controls",
            "_model_module_version": "1.5.0",
            "_model_name": "HTMLModel",
            "_view_count": null,
            "_view_module": "@jupyter-widgets/controls",
            "_view_module_version": "1.5.0",
            "_view_name": "HTMLView",
            "description": "",
            "description_tooltip": null,
            "layout": "IPY_MODEL_7943ce61938f4fea93b054a1df57d191",
            "placeholder": "​",
            "style": "IPY_MODEL_86d3cd90975042a6bda27023797f4d7d",
            "value": " 65187/73257 [00:00&lt;00:00, 178196.05 examples/s]"
          }
        },
        "8618746f4632435d9975d5437aeb64c1": {
          "model_module": "@jupyter-widgets/base",
          "model_name": "LayoutModel",
          "model_module_version": "1.2.0",
          "state": {
            "_model_module": "@jupyter-widgets/base",
            "_model_module_version": "1.2.0",
            "_model_name": "LayoutModel",
            "_view_count": null,
            "_view_module": "@jupyter-widgets/base",
            "_view_module_version": "1.2.0",
            "_view_name": "LayoutView",
            "align_content": null,
            "align_items": null,
            "align_self": null,
            "border": null,
            "bottom": null,
            "display": null,
            "flex": null,
            "flex_flow": null,
            "grid_area": null,
            "grid_auto_columns": null,
            "grid_auto_flow": null,
            "grid_auto_rows": null,
            "grid_column": null,
            "grid_gap": null,
            "grid_row": null,
            "grid_template_areas": null,
            "grid_template_columns": null,
            "grid_template_rows": null,
            "height": null,
            "justify_content": null,
            "justify_items": null,
            "left": null,
            "margin": null,
            "max_height": null,
            "max_width": null,
            "min_height": null,
            "min_width": null,
            "object_fit": null,
            "object_position": null,
            "order": null,
            "overflow": null,
            "overflow_x": null,
            "overflow_y": null,
            "padding": null,
            "right": null,
            "top": null,
            "visibility": "hidden",
            "width": null
          }
        },
        "8080ecb6b90c4dcc8a49ff2722c78176": {
          "model_module": "@jupyter-widgets/base",
          "model_name": "LayoutModel",
          "model_module_version": "1.2.0",
          "state": {
            "_model_module": "@jupyter-widgets/base",
            "_model_module_version": "1.2.0",
            "_model_name": "LayoutModel",
            "_view_count": null,
            "_view_module": "@jupyter-widgets/base",
            "_view_module_version": "1.2.0",
            "_view_name": "LayoutView",
            "align_content": null,
            "align_items": null,
            "align_self": null,
            "border": null,
            "bottom": null,
            "display": null,
            "flex": null,
            "flex_flow": null,
            "grid_area": null,
            "grid_auto_columns": null,
            "grid_auto_flow": null,
            "grid_auto_rows": null,
            "grid_column": null,
            "grid_gap": null,
            "grid_row": null,
            "grid_template_areas": null,
            "grid_template_columns": null,
            "grid_template_rows": null,
            "height": null,
            "justify_content": null,
            "justify_items": null,
            "left": null,
            "margin": null,
            "max_height": null,
            "max_width": null,
            "min_height": null,
            "min_width": null,
            "object_fit": null,
            "object_position": null,
            "order": null,
            "overflow": null,
            "overflow_x": null,
            "overflow_y": null,
            "padding": null,
            "right": null,
            "top": null,
            "visibility": null,
            "width": null
          }
        },
        "35a154e326714153a0bb5e9cbac8a738": {
          "model_module": "@jupyter-widgets/controls",
          "model_name": "DescriptionStyleModel",
          "model_module_version": "1.5.0",
          "state": {
            "_model_module": "@jupyter-widgets/controls",
            "_model_module_version": "1.5.0",
            "_model_name": "DescriptionStyleModel",
            "_view_count": null,
            "_view_module": "@jupyter-widgets/base",
            "_view_module_version": "1.2.0",
            "_view_name": "StyleView",
            "description_width": ""
          }
        },
        "aea841515d9f4978aac0d5df52355981": {
          "model_module": "@jupyter-widgets/base",
          "model_name": "LayoutModel",
          "model_module_version": "1.2.0",
          "state": {
            "_model_module": "@jupyter-widgets/base",
            "_model_module_version": "1.2.0",
            "_model_name": "LayoutModel",
            "_view_count": null,
            "_view_module": "@jupyter-widgets/base",
            "_view_module_version": "1.2.0",
            "_view_name": "LayoutView",
            "align_content": null,
            "align_items": null,
            "align_self": null,
            "border": null,
            "bottom": null,
            "display": null,
            "flex": null,
            "flex_flow": null,
            "grid_area": null,
            "grid_auto_columns": null,
            "grid_auto_flow": null,
            "grid_auto_rows": null,
            "grid_column": null,
            "grid_gap": null,
            "grid_row": null,
            "grid_template_areas": null,
            "grid_template_columns": null,
            "grid_template_rows": null,
            "height": null,
            "justify_content": null,
            "justify_items": null,
            "left": null,
            "margin": null,
            "max_height": null,
            "max_width": null,
            "min_height": null,
            "min_width": null,
            "object_fit": null,
            "object_position": null,
            "order": null,
            "overflow": null,
            "overflow_x": null,
            "overflow_y": null,
            "padding": null,
            "right": null,
            "top": null,
            "visibility": null,
            "width": null
          }
        },
        "6424a3621bdf404fb1df7d22d50d12e5": {
          "model_module": "@jupyter-widgets/controls",
          "model_name": "ProgressStyleModel",
          "model_module_version": "1.5.0",
          "state": {
            "_model_module": "@jupyter-widgets/controls",
            "_model_module_version": "1.5.0",
            "_model_name": "ProgressStyleModel",
            "_view_count": null,
            "_view_module": "@jupyter-widgets/base",
            "_view_module_version": "1.2.0",
            "_view_name": "StyleView",
            "bar_color": null,
            "description_width": ""
          }
        },
        "7943ce61938f4fea93b054a1df57d191": {
          "model_module": "@jupyter-widgets/base",
          "model_name": "LayoutModel",
          "model_module_version": "1.2.0",
          "state": {
            "_model_module": "@jupyter-widgets/base",
            "_model_module_version": "1.2.0",
            "_model_name": "LayoutModel",
            "_view_count": null,
            "_view_module": "@jupyter-widgets/base",
            "_view_module_version": "1.2.0",
            "_view_name": "LayoutView",
            "align_content": null,
            "align_items": null,
            "align_self": null,
            "border": null,
            "bottom": null,
            "display": null,
            "flex": null,
            "flex_flow": null,
            "grid_area": null,
            "grid_auto_columns": null,
            "grid_auto_flow": null,
            "grid_auto_rows": null,
            "grid_column": null,
            "grid_gap": null,
            "grid_row": null,
            "grid_template_areas": null,
            "grid_template_columns": null,
            "grid_template_rows": null,
            "height": null,
            "justify_content": null,
            "justify_items": null,
            "left": null,
            "margin": null,
            "max_height": null,
            "max_width": null,
            "min_height": null,
            "min_width": null,
            "object_fit": null,
            "object_position": null,
            "order": null,
            "overflow": null,
            "overflow_x": null,
            "overflow_y": null,
            "padding": null,
            "right": null,
            "top": null,
            "visibility": null,
            "width": null
          }
        },
        "86d3cd90975042a6bda27023797f4d7d": {
          "model_module": "@jupyter-widgets/controls",
          "model_name": "DescriptionStyleModel",
          "model_module_version": "1.5.0",
          "state": {
            "_model_module": "@jupyter-widgets/controls",
            "_model_module_version": "1.5.0",
            "_model_name": "DescriptionStyleModel",
            "_view_count": null,
            "_view_module": "@jupyter-widgets/base",
            "_view_module_version": "1.2.0",
            "_view_name": "StyleView",
            "description_width": ""
          }
        },
        "f0a11d3f37ab41c2bc11fd5f0a6d90b1": {
          "model_module": "@jupyter-widgets/controls",
          "model_name": "HBoxModel",
          "model_module_version": "1.5.0",
          "state": {
            "_dom_classes": [],
            "_model_module": "@jupyter-widgets/controls",
            "_model_module_version": "1.5.0",
            "_model_name": "HBoxModel",
            "_view_count": null,
            "_view_module": "@jupyter-widgets/controls",
            "_view_module_version": "1.5.0",
            "_view_name": "HBoxView",
            "box_style": "",
            "children": [
              "IPY_MODEL_7a61ed5f445c43da90ce06cbc22435cd",
              "IPY_MODEL_84ab309ae6114da6905c1746e64089cb",
              "IPY_MODEL_69be8f427b91431fbac644e4429b3ee5"
            ],
            "layout": "IPY_MODEL_d8f84fe0acc943a6b78ee90d70912b66"
          }
        },
        "7a61ed5f445c43da90ce06cbc22435cd": {
          "model_module": "@jupyter-widgets/controls",
          "model_name": "HTMLModel",
          "model_module_version": "1.5.0",
          "state": {
            "_dom_classes": [],
            "_model_module": "@jupyter-widgets/controls",
            "_model_module_version": "1.5.0",
            "_model_name": "HTMLModel",
            "_view_count": null,
            "_view_module": "@jupyter-widgets/controls",
            "_view_module_version": "1.5.0",
            "_view_name": "HTMLView",
            "description": "",
            "description_tooltip": null,
            "layout": "IPY_MODEL_d5e4ce9ed6824c35b2747edf18cb08b7",
            "placeholder": "​",
            "style": "IPY_MODEL_cac20d1b40e7441a9456e72f6d6d1074",
            "value": "Generating test examples...:  97%"
          }
        },
        "84ab309ae6114da6905c1746e64089cb": {
          "model_module": "@jupyter-widgets/controls",
          "model_name": "FloatProgressModel",
          "model_module_version": "1.5.0",
          "state": {
            "_dom_classes": [],
            "_model_module": "@jupyter-widgets/controls",
            "_model_module_version": "1.5.0",
            "_model_name": "FloatProgressModel",
            "_view_count": null,
            "_view_module": "@jupyter-widgets/controls",
            "_view_module_version": "1.5.0",
            "_view_name": "ProgressView",
            "bar_style": "",
            "description": "",
            "description_tooltip": null,
            "layout": "IPY_MODEL_ecae68a9d72849ac8b2fb9f38edefb2c",
            "max": 26032,
            "min": 0,
            "orientation": "horizontal",
            "style": "IPY_MODEL_a477d0d61e4041b3a16f75f820c5b6b0",
            "value": 26032
          }
        },
        "69be8f427b91431fbac644e4429b3ee5": {
          "model_module": "@jupyter-widgets/controls",
          "model_name": "HTMLModel",
          "model_module_version": "1.5.0",
          "state": {
            "_dom_classes": [],
            "_model_module": "@jupyter-widgets/controls",
            "_model_module_version": "1.5.0",
            "_model_name": "HTMLModel",
            "_view_count": null,
            "_view_module": "@jupyter-widgets/controls",
            "_view_module_version": "1.5.0",
            "_view_name": "HTMLView",
            "description": "",
            "description_tooltip": null,
            "layout": "IPY_MODEL_bec0da21e3a140d79333cddc4fbd68c5",
            "placeholder": "​",
            "style": "IPY_MODEL_0125d2a9cae74006bc5ee1268e26917c",
            "value": " 25354/26032 [00:22&lt;00:00, 1208.71 examples/s]"
          }
        },
        "d8f84fe0acc943a6b78ee90d70912b66": {
          "model_module": "@jupyter-widgets/base",
          "model_name": "LayoutModel",
          "model_module_version": "1.2.0",
          "state": {
            "_model_module": "@jupyter-widgets/base",
            "_model_module_version": "1.2.0",
            "_model_name": "LayoutModel",
            "_view_count": null,
            "_view_module": "@jupyter-widgets/base",
            "_view_module_version": "1.2.0",
            "_view_name": "LayoutView",
            "align_content": null,
            "align_items": null,
            "align_self": null,
            "border": null,
            "bottom": null,
            "display": null,
            "flex": null,
            "flex_flow": null,
            "grid_area": null,
            "grid_auto_columns": null,
            "grid_auto_flow": null,
            "grid_auto_rows": null,
            "grid_column": null,
            "grid_gap": null,
            "grid_row": null,
            "grid_template_areas": null,
            "grid_template_columns": null,
            "grid_template_rows": null,
            "height": null,
            "justify_content": null,
            "justify_items": null,
            "left": null,
            "margin": null,
            "max_height": null,
            "max_width": null,
            "min_height": null,
            "min_width": null,
            "object_fit": null,
            "object_position": null,
            "order": null,
            "overflow": null,
            "overflow_x": null,
            "overflow_y": null,
            "padding": null,
            "right": null,
            "top": null,
            "visibility": "hidden",
            "width": null
          }
        },
        "d5e4ce9ed6824c35b2747edf18cb08b7": {
          "model_module": "@jupyter-widgets/base",
          "model_name": "LayoutModel",
          "model_module_version": "1.2.0",
          "state": {
            "_model_module": "@jupyter-widgets/base",
            "_model_module_version": "1.2.0",
            "_model_name": "LayoutModel",
            "_view_count": null,
            "_view_module": "@jupyter-widgets/base",
            "_view_module_version": "1.2.0",
            "_view_name": "LayoutView",
            "align_content": null,
            "align_items": null,
            "align_self": null,
            "border": null,
            "bottom": null,
            "display": null,
            "flex": null,
            "flex_flow": null,
            "grid_area": null,
            "grid_auto_columns": null,
            "grid_auto_flow": null,
            "grid_auto_rows": null,
            "grid_column": null,
            "grid_gap": null,
            "grid_row": null,
            "grid_template_areas": null,
            "grid_template_columns": null,
            "grid_template_rows": null,
            "height": null,
            "justify_content": null,
            "justify_items": null,
            "left": null,
            "margin": null,
            "max_height": null,
            "max_width": null,
            "min_height": null,
            "min_width": null,
            "object_fit": null,
            "object_position": null,
            "order": null,
            "overflow": null,
            "overflow_x": null,
            "overflow_y": null,
            "padding": null,
            "right": null,
            "top": null,
            "visibility": null,
            "width": null
          }
        },
        "cac20d1b40e7441a9456e72f6d6d1074": {
          "model_module": "@jupyter-widgets/controls",
          "model_name": "DescriptionStyleModel",
          "model_module_version": "1.5.0",
          "state": {
            "_model_module": "@jupyter-widgets/controls",
            "_model_module_version": "1.5.0",
            "_model_name": "DescriptionStyleModel",
            "_view_count": null,
            "_view_module": "@jupyter-widgets/base",
            "_view_module_version": "1.2.0",
            "_view_name": "StyleView",
            "description_width": ""
          }
        },
        "ecae68a9d72849ac8b2fb9f38edefb2c": {
          "model_module": "@jupyter-widgets/base",
          "model_name": "LayoutModel",
          "model_module_version": "1.2.0",
          "state": {
            "_model_module": "@jupyter-widgets/base",
            "_model_module_version": "1.2.0",
            "_model_name": "LayoutModel",
            "_view_count": null,
            "_view_module": "@jupyter-widgets/base",
            "_view_module_version": "1.2.0",
            "_view_name": "LayoutView",
            "align_content": null,
            "align_items": null,
            "align_self": null,
            "border": null,
            "bottom": null,
            "display": null,
            "flex": null,
            "flex_flow": null,
            "grid_area": null,
            "grid_auto_columns": null,
            "grid_auto_flow": null,
            "grid_auto_rows": null,
            "grid_column": null,
            "grid_gap": null,
            "grid_row": null,
            "grid_template_areas": null,
            "grid_template_columns": null,
            "grid_template_rows": null,
            "height": null,
            "justify_content": null,
            "justify_items": null,
            "left": null,
            "margin": null,
            "max_height": null,
            "max_width": null,
            "min_height": null,
            "min_width": null,
            "object_fit": null,
            "object_position": null,
            "order": null,
            "overflow": null,
            "overflow_x": null,
            "overflow_y": null,
            "padding": null,
            "right": null,
            "top": null,
            "visibility": null,
            "width": null
          }
        },
        "a477d0d61e4041b3a16f75f820c5b6b0": {
          "model_module": "@jupyter-widgets/controls",
          "model_name": "ProgressStyleModel",
          "model_module_version": "1.5.0",
          "state": {
            "_model_module": "@jupyter-widgets/controls",
            "_model_module_version": "1.5.0",
            "_model_name": "ProgressStyleModel",
            "_view_count": null,
            "_view_module": "@jupyter-widgets/base",
            "_view_module_version": "1.2.0",
            "_view_name": "StyleView",
            "bar_color": null,
            "description_width": ""
          }
        },
        "bec0da21e3a140d79333cddc4fbd68c5": {
          "model_module": "@jupyter-widgets/base",
          "model_name": "LayoutModel",
          "model_module_version": "1.2.0",
          "state": {
            "_model_module": "@jupyter-widgets/base",
            "_model_module_version": "1.2.0",
            "_model_name": "LayoutModel",
            "_view_count": null,
            "_view_module": "@jupyter-widgets/base",
            "_view_module_version": "1.2.0",
            "_view_name": "LayoutView",
            "align_content": null,
            "align_items": null,
            "align_self": null,
            "border": null,
            "bottom": null,
            "display": null,
            "flex": null,
            "flex_flow": null,
            "grid_area": null,
            "grid_auto_columns": null,
            "grid_auto_flow": null,
            "grid_auto_rows": null,
            "grid_column": null,
            "grid_gap": null,
            "grid_row": null,
            "grid_template_areas": null,
            "grid_template_columns": null,
            "grid_template_rows": null,
            "height": null,
            "justify_content": null,
            "justify_items": null,
            "left": null,
            "margin": null,
            "max_height": null,
            "max_width": null,
            "min_height": null,
            "min_width": null,
            "object_fit": null,
            "object_position": null,
            "order": null,
            "overflow": null,
            "overflow_x": null,
            "overflow_y": null,
            "padding": null,
            "right": null,
            "top": null,
            "visibility": null,
            "width": null
          }
        },
        "0125d2a9cae74006bc5ee1268e26917c": {
          "model_module": "@jupyter-widgets/controls",
          "model_name": "DescriptionStyleModel",
          "model_module_version": "1.5.0",
          "state": {
            "_model_module": "@jupyter-widgets/controls",
            "_model_module_version": "1.5.0",
            "_model_name": "DescriptionStyleModel",
            "_view_count": null,
            "_view_module": "@jupyter-widgets/base",
            "_view_module_version": "1.2.0",
            "_view_name": "StyleView",
            "description_width": ""
          }
        },
        "800f352452534d06980df43b924f2b99": {
          "model_module": "@jupyter-widgets/controls",
          "model_name": "HBoxModel",
          "model_module_version": "1.5.0",
          "state": {
            "_dom_classes": [],
            "_model_module": "@jupyter-widgets/controls",
            "_model_module_version": "1.5.0",
            "_model_name": "HBoxModel",
            "_view_count": null,
            "_view_module": "@jupyter-widgets/controls",
            "_view_module_version": "1.5.0",
            "_view_name": "HBoxView",
            "box_style": "",
            "children": [
              "IPY_MODEL_6387262b25074b67b17f3354b943629e",
              "IPY_MODEL_5294c35a54534222a3d5c85f82a72ff8",
              "IPY_MODEL_65d9bb0184954a258d69b823e9e7823f"
            ],
            "layout": "IPY_MODEL_83e081a734294b81a97dda2b80e5c4af"
          }
        },
        "6387262b25074b67b17f3354b943629e": {
          "model_module": "@jupyter-widgets/controls",
          "model_name": "HTMLModel",
          "model_module_version": "1.5.0",
          "state": {
            "_dom_classes": [],
            "_model_module": "@jupyter-widgets/controls",
            "_model_module_version": "1.5.0",
            "_model_name": "HTMLModel",
            "_view_count": null,
            "_view_module": "@jupyter-widgets/controls",
            "_view_module_version": "1.5.0",
            "_view_name": "HTMLView",
            "description": "",
            "description_tooltip": null,
            "layout": "IPY_MODEL_76ad3968a2ea48d08da6b7a1475973ca",
            "placeholder": "​",
            "style": "IPY_MODEL_6cd4989c71cf4433862319db6494e346",
            "value": "Shuffling /root/tensorflow_datasets/svhn_cropped/3.0.0.incompleteUD2TBK/svhn_cropped-test.tfrecord*...:  45%"
          }
        },
        "5294c35a54534222a3d5c85f82a72ff8": {
          "model_module": "@jupyter-widgets/controls",
          "model_name": "FloatProgressModel",
          "model_module_version": "1.5.0",
          "state": {
            "_dom_classes": [],
            "_model_module": "@jupyter-widgets/controls",
            "_model_module_version": "1.5.0",
            "_model_name": "FloatProgressModel",
            "_view_count": null,
            "_view_module": "@jupyter-widgets/controls",
            "_view_module_version": "1.5.0",
            "_view_name": "ProgressView",
            "bar_style": "",
            "description": "",
            "description_tooltip": null,
            "layout": "IPY_MODEL_ee67d45a08fc47649036dcd0be0365b5",
            "max": 26032,
            "min": 0,
            "orientation": "horizontal",
            "style": "IPY_MODEL_b9e713b38d1149f88d516e2b5e2d2c69",
            "value": 26032
          }
        },
        "65d9bb0184954a258d69b823e9e7823f": {
          "model_module": "@jupyter-widgets/controls",
          "model_name": "HTMLModel",
          "model_module_version": "1.5.0",
          "state": {
            "_dom_classes": [],
            "_model_module": "@jupyter-widgets/controls",
            "_model_module_version": "1.5.0",
            "_model_name": "HTMLModel",
            "_view_count": null,
            "_view_module": "@jupyter-widgets/controls",
            "_view_module_version": "1.5.0",
            "_view_name": "HTMLView",
            "description": "",
            "description_tooltip": null,
            "layout": "IPY_MODEL_81d78db5b42146cdacd707a47603664a",
            "placeholder": "​",
            "style": "IPY_MODEL_44b6e3a86318424caa9b7866616348f5",
            "value": " 11786/26032 [00:00&lt;00:00, 117844.66 examples/s]"
          }
        },
        "83e081a734294b81a97dda2b80e5c4af": {
          "model_module": "@jupyter-widgets/base",
          "model_name": "LayoutModel",
          "model_module_version": "1.2.0",
          "state": {
            "_model_module": "@jupyter-widgets/base",
            "_model_module_version": "1.2.0",
            "_model_name": "LayoutModel",
            "_view_count": null,
            "_view_module": "@jupyter-widgets/base",
            "_view_module_version": "1.2.0",
            "_view_name": "LayoutView",
            "align_content": null,
            "align_items": null,
            "align_self": null,
            "border": null,
            "bottom": null,
            "display": null,
            "flex": null,
            "flex_flow": null,
            "grid_area": null,
            "grid_auto_columns": null,
            "grid_auto_flow": null,
            "grid_auto_rows": null,
            "grid_column": null,
            "grid_gap": null,
            "grid_row": null,
            "grid_template_areas": null,
            "grid_template_columns": null,
            "grid_template_rows": null,
            "height": null,
            "justify_content": null,
            "justify_items": null,
            "left": null,
            "margin": null,
            "max_height": null,
            "max_width": null,
            "min_height": null,
            "min_width": null,
            "object_fit": null,
            "object_position": null,
            "order": null,
            "overflow": null,
            "overflow_x": null,
            "overflow_y": null,
            "padding": null,
            "right": null,
            "top": null,
            "visibility": "hidden",
            "width": null
          }
        },
        "76ad3968a2ea48d08da6b7a1475973ca": {
          "model_module": "@jupyter-widgets/base",
          "model_name": "LayoutModel",
          "model_module_version": "1.2.0",
          "state": {
            "_model_module": "@jupyter-widgets/base",
            "_model_module_version": "1.2.0",
            "_model_name": "LayoutModel",
            "_view_count": null,
            "_view_module": "@jupyter-widgets/base",
            "_view_module_version": "1.2.0",
            "_view_name": "LayoutView",
            "align_content": null,
            "align_items": null,
            "align_self": null,
            "border": null,
            "bottom": null,
            "display": null,
            "flex": null,
            "flex_flow": null,
            "grid_area": null,
            "grid_auto_columns": null,
            "grid_auto_flow": null,
            "grid_auto_rows": null,
            "grid_column": null,
            "grid_gap": null,
            "grid_row": null,
            "grid_template_areas": null,
            "grid_template_columns": null,
            "grid_template_rows": null,
            "height": null,
            "justify_content": null,
            "justify_items": null,
            "left": null,
            "margin": null,
            "max_height": null,
            "max_width": null,
            "min_height": null,
            "min_width": null,
            "object_fit": null,
            "object_position": null,
            "order": null,
            "overflow": null,
            "overflow_x": null,
            "overflow_y": null,
            "padding": null,
            "right": null,
            "top": null,
            "visibility": null,
            "width": null
          }
        },
        "6cd4989c71cf4433862319db6494e346": {
          "model_module": "@jupyter-widgets/controls",
          "model_name": "DescriptionStyleModel",
          "model_module_version": "1.5.0",
          "state": {
            "_model_module": "@jupyter-widgets/controls",
            "_model_module_version": "1.5.0",
            "_model_name": "DescriptionStyleModel",
            "_view_count": null,
            "_view_module": "@jupyter-widgets/base",
            "_view_module_version": "1.2.0",
            "_view_name": "StyleView",
            "description_width": ""
          }
        },
        "ee67d45a08fc47649036dcd0be0365b5": {
          "model_module": "@jupyter-widgets/base",
          "model_name": "LayoutModel",
          "model_module_version": "1.2.0",
          "state": {
            "_model_module": "@jupyter-widgets/base",
            "_model_module_version": "1.2.0",
            "_model_name": "LayoutModel",
            "_view_count": null,
            "_view_module": "@jupyter-widgets/base",
            "_view_module_version": "1.2.0",
            "_view_name": "LayoutView",
            "align_content": null,
            "align_items": null,
            "align_self": null,
            "border": null,
            "bottom": null,
            "display": null,
            "flex": null,
            "flex_flow": null,
            "grid_area": null,
            "grid_auto_columns": null,
            "grid_auto_flow": null,
            "grid_auto_rows": null,
            "grid_column": null,
            "grid_gap": null,
            "grid_row": null,
            "grid_template_areas": null,
            "grid_template_columns": null,
            "grid_template_rows": null,
            "height": null,
            "justify_content": null,
            "justify_items": null,
            "left": null,
            "margin": null,
            "max_height": null,
            "max_width": null,
            "min_height": null,
            "min_width": null,
            "object_fit": null,
            "object_position": null,
            "order": null,
            "overflow": null,
            "overflow_x": null,
            "overflow_y": null,
            "padding": null,
            "right": null,
            "top": null,
            "visibility": null,
            "width": null
          }
        },
        "b9e713b38d1149f88d516e2b5e2d2c69": {
          "model_module": "@jupyter-widgets/controls",
          "model_name": "ProgressStyleModel",
          "model_module_version": "1.5.0",
          "state": {
            "_model_module": "@jupyter-widgets/controls",
            "_model_module_version": "1.5.0",
            "_model_name": "ProgressStyleModel",
            "_view_count": null,
            "_view_module": "@jupyter-widgets/base",
            "_view_module_version": "1.2.0",
            "_view_name": "StyleView",
            "bar_color": null,
            "description_width": ""
          }
        },
        "81d78db5b42146cdacd707a47603664a": {
          "model_module": "@jupyter-widgets/base",
          "model_name": "LayoutModel",
          "model_module_version": "1.2.0",
          "state": {
            "_model_module": "@jupyter-widgets/base",
            "_model_module_version": "1.2.0",
            "_model_name": "LayoutModel",
            "_view_count": null,
            "_view_module": "@jupyter-widgets/base",
            "_view_module_version": "1.2.0",
            "_view_name": "LayoutView",
            "align_content": null,
            "align_items": null,
            "align_self": null,
            "border": null,
            "bottom": null,
            "display": null,
            "flex": null,
            "flex_flow": null,
            "grid_area": null,
            "grid_auto_columns": null,
            "grid_auto_flow": null,
            "grid_auto_rows": null,
            "grid_column": null,
            "grid_gap": null,
            "grid_row": null,
            "grid_template_areas": null,
            "grid_template_columns": null,
            "grid_template_rows": null,
            "height": null,
            "justify_content": null,
            "justify_items": null,
            "left": null,
            "margin": null,
            "max_height": null,
            "max_width": null,
            "min_height": null,
            "min_width": null,
            "object_fit": null,
            "object_position": null,
            "order": null,
            "overflow": null,
            "overflow_x": null,
            "overflow_y": null,
            "padding": null,
            "right": null,
            "top": null,
            "visibility": null,
            "width": null
          }
        },
        "44b6e3a86318424caa9b7866616348f5": {
          "model_module": "@jupyter-widgets/controls",
          "model_name": "DescriptionStyleModel",
          "model_module_version": "1.5.0",
          "state": {
            "_model_module": "@jupyter-widgets/controls",
            "_model_module_version": "1.5.0",
            "_model_name": "DescriptionStyleModel",
            "_view_count": null,
            "_view_module": "@jupyter-widgets/base",
            "_view_module_version": "1.2.0",
            "_view_name": "StyleView",
            "description_width": ""
          }
        },
        "d54d5601e4394d6a93cb079a89368294": {
          "model_module": "@jupyter-widgets/controls",
          "model_name": "HBoxModel",
          "model_module_version": "1.5.0",
          "state": {
            "_dom_classes": [],
            "_model_module": "@jupyter-widgets/controls",
            "_model_module_version": "1.5.0",
            "_model_name": "HBoxModel",
            "_view_count": null,
            "_view_module": "@jupyter-widgets/controls",
            "_view_module_version": "1.5.0",
            "_view_name": "HBoxView",
            "box_style": "",
            "children": [
              "IPY_MODEL_b5f54c7e93e346eaa57448d49d59a3de",
              "IPY_MODEL_139158c26e014c6597a53b2902f0537d",
              "IPY_MODEL_fcd874cab80a46539de66348c69b22ce"
            ],
            "layout": "IPY_MODEL_3d2400e2478540329ebf97c355468b77"
          }
        },
        "b5f54c7e93e346eaa57448d49d59a3de": {
          "model_module": "@jupyter-widgets/controls",
          "model_name": "HTMLModel",
          "model_module_version": "1.5.0",
          "state": {
            "_dom_classes": [],
            "_model_module": "@jupyter-widgets/controls",
            "_model_module_version": "1.5.0",
            "_model_name": "HTMLModel",
            "_view_count": null,
            "_view_module": "@jupyter-widgets/controls",
            "_view_module_version": "1.5.0",
            "_view_name": "HTMLView",
            "description": "",
            "description_tooltip": null,
            "layout": "IPY_MODEL_f2b8c050876b4774aaa6875092ba3f13",
            "placeholder": "​",
            "style": "IPY_MODEL_bc605d268050407f9944ffd044b0cd55",
            "value": "Generating extra examples...: 100%"
          }
        },
        "139158c26e014c6597a53b2902f0537d": {
          "model_module": "@jupyter-widgets/controls",
          "model_name": "FloatProgressModel",
          "model_module_version": "1.5.0",
          "state": {
            "_dom_classes": [],
            "_model_module": "@jupyter-widgets/controls",
            "_model_module_version": "1.5.0",
            "_model_name": "FloatProgressModel",
            "_view_count": null,
            "_view_module": "@jupyter-widgets/controls",
            "_view_module_version": "1.5.0",
            "_view_name": "ProgressView",
            "bar_style": "",
            "description": "",
            "description_tooltip": null,
            "layout": "IPY_MODEL_d815e784e0854eef899dbcec981c08b0",
            "max": 531131,
            "min": 0,
            "orientation": "horizontal",
            "style": "IPY_MODEL_159807cdc2884dc3b93f6263fd71a43b",
            "value": 531131
          }
        },
        "fcd874cab80a46539de66348c69b22ce": {
          "model_module": "@jupyter-widgets/controls",
          "model_name": "HTMLModel",
          "model_module_version": "1.5.0",
          "state": {
            "_dom_classes": [],
            "_model_module": "@jupyter-widgets/controls",
            "_model_module_version": "1.5.0",
            "_model_name": "HTMLModel",
            "_view_count": null,
            "_view_module": "@jupyter-widgets/controls",
            "_view_module_version": "1.5.0",
            "_view_name": "HTMLView",
            "description": "",
            "description_tooltip": null,
            "layout": "IPY_MODEL_3d5383cd8a0f44b5ac8b791d4ef899d5",
            "placeholder": "​",
            "style": "IPY_MODEL_822efdf800364d7b8585a55d7bef9db7",
            "value": " 530943/531131 [07:51&lt;00:00, 1201.23 examples/s]"
          }
        },
        "3d2400e2478540329ebf97c355468b77": {
          "model_module": "@jupyter-widgets/base",
          "model_name": "LayoutModel",
          "model_module_version": "1.2.0",
          "state": {
            "_model_module": "@jupyter-widgets/base",
            "_model_module_version": "1.2.0",
            "_model_name": "LayoutModel",
            "_view_count": null,
            "_view_module": "@jupyter-widgets/base",
            "_view_module_version": "1.2.0",
            "_view_name": "LayoutView",
            "align_content": null,
            "align_items": null,
            "align_self": null,
            "border": null,
            "bottom": null,
            "display": null,
            "flex": null,
            "flex_flow": null,
            "grid_area": null,
            "grid_auto_columns": null,
            "grid_auto_flow": null,
            "grid_auto_rows": null,
            "grid_column": null,
            "grid_gap": null,
            "grid_row": null,
            "grid_template_areas": null,
            "grid_template_columns": null,
            "grid_template_rows": null,
            "height": null,
            "justify_content": null,
            "justify_items": null,
            "left": null,
            "margin": null,
            "max_height": null,
            "max_width": null,
            "min_height": null,
            "min_width": null,
            "object_fit": null,
            "object_position": null,
            "order": null,
            "overflow": null,
            "overflow_x": null,
            "overflow_y": null,
            "padding": null,
            "right": null,
            "top": null,
            "visibility": "hidden",
            "width": null
          }
        },
        "f2b8c050876b4774aaa6875092ba3f13": {
          "model_module": "@jupyter-widgets/base",
          "model_name": "LayoutModel",
          "model_module_version": "1.2.0",
          "state": {
            "_model_module": "@jupyter-widgets/base",
            "_model_module_version": "1.2.0",
            "_model_name": "LayoutModel",
            "_view_count": null,
            "_view_module": "@jupyter-widgets/base",
            "_view_module_version": "1.2.0",
            "_view_name": "LayoutView",
            "align_content": null,
            "align_items": null,
            "align_self": null,
            "border": null,
            "bottom": null,
            "display": null,
            "flex": null,
            "flex_flow": null,
            "grid_area": null,
            "grid_auto_columns": null,
            "grid_auto_flow": null,
            "grid_auto_rows": null,
            "grid_column": null,
            "grid_gap": null,
            "grid_row": null,
            "grid_template_areas": null,
            "grid_template_columns": null,
            "grid_template_rows": null,
            "height": null,
            "justify_content": null,
            "justify_items": null,
            "left": null,
            "margin": null,
            "max_height": null,
            "max_width": null,
            "min_height": null,
            "min_width": null,
            "object_fit": null,
            "object_position": null,
            "order": null,
            "overflow": null,
            "overflow_x": null,
            "overflow_y": null,
            "padding": null,
            "right": null,
            "top": null,
            "visibility": null,
            "width": null
          }
        },
        "bc605d268050407f9944ffd044b0cd55": {
          "model_module": "@jupyter-widgets/controls",
          "model_name": "DescriptionStyleModel",
          "model_module_version": "1.5.0",
          "state": {
            "_model_module": "@jupyter-widgets/controls",
            "_model_module_version": "1.5.0",
            "_model_name": "DescriptionStyleModel",
            "_view_count": null,
            "_view_module": "@jupyter-widgets/base",
            "_view_module_version": "1.2.0",
            "_view_name": "StyleView",
            "description_width": ""
          }
        },
        "d815e784e0854eef899dbcec981c08b0": {
          "model_module": "@jupyter-widgets/base",
          "model_name": "LayoutModel",
          "model_module_version": "1.2.0",
          "state": {
            "_model_module": "@jupyter-widgets/base",
            "_model_module_version": "1.2.0",
            "_model_name": "LayoutModel",
            "_view_count": null,
            "_view_module": "@jupyter-widgets/base",
            "_view_module_version": "1.2.0",
            "_view_name": "LayoutView",
            "align_content": null,
            "align_items": null,
            "align_self": null,
            "border": null,
            "bottom": null,
            "display": null,
            "flex": null,
            "flex_flow": null,
            "grid_area": null,
            "grid_auto_columns": null,
            "grid_auto_flow": null,
            "grid_auto_rows": null,
            "grid_column": null,
            "grid_gap": null,
            "grid_row": null,
            "grid_template_areas": null,
            "grid_template_columns": null,
            "grid_template_rows": null,
            "height": null,
            "justify_content": null,
            "justify_items": null,
            "left": null,
            "margin": null,
            "max_height": null,
            "max_width": null,
            "min_height": null,
            "min_width": null,
            "object_fit": null,
            "object_position": null,
            "order": null,
            "overflow": null,
            "overflow_x": null,
            "overflow_y": null,
            "padding": null,
            "right": null,
            "top": null,
            "visibility": null,
            "width": null
          }
        },
        "159807cdc2884dc3b93f6263fd71a43b": {
          "model_module": "@jupyter-widgets/controls",
          "model_name": "ProgressStyleModel",
          "model_module_version": "1.5.0",
          "state": {
            "_model_module": "@jupyter-widgets/controls",
            "_model_module_version": "1.5.0",
            "_model_name": "ProgressStyleModel",
            "_view_count": null,
            "_view_module": "@jupyter-widgets/base",
            "_view_module_version": "1.2.0",
            "_view_name": "StyleView",
            "bar_color": null,
            "description_width": ""
          }
        },
        "3d5383cd8a0f44b5ac8b791d4ef899d5": {
          "model_module": "@jupyter-widgets/base",
          "model_name": "LayoutModel",
          "model_module_version": "1.2.0",
          "state": {
            "_model_module": "@jupyter-widgets/base",
            "_model_module_version": "1.2.0",
            "_model_name": "LayoutModel",
            "_view_count": null,
            "_view_module": "@jupyter-widgets/base",
            "_view_module_version": "1.2.0",
            "_view_name": "LayoutView",
            "align_content": null,
            "align_items": null,
            "align_self": null,
            "border": null,
            "bottom": null,
            "display": null,
            "flex": null,
            "flex_flow": null,
            "grid_area": null,
            "grid_auto_columns": null,
            "grid_auto_flow": null,
            "grid_auto_rows": null,
            "grid_column": null,
            "grid_gap": null,
            "grid_row": null,
            "grid_template_areas": null,
            "grid_template_columns": null,
            "grid_template_rows": null,
            "height": null,
            "justify_content": null,
            "justify_items": null,
            "left": null,
            "margin": null,
            "max_height": null,
            "max_width": null,
            "min_height": null,
            "min_width": null,
            "object_fit": null,
            "object_position": null,
            "order": null,
            "overflow": null,
            "overflow_x": null,
            "overflow_y": null,
            "padding": null,
            "right": null,
            "top": null,
            "visibility": null,
            "width": null
          }
        },
        "822efdf800364d7b8585a55d7bef9db7": {
          "model_module": "@jupyter-widgets/controls",
          "model_name": "DescriptionStyleModel",
          "model_module_version": "1.5.0",
          "state": {
            "_model_module": "@jupyter-widgets/controls",
            "_model_module_version": "1.5.0",
            "_model_name": "DescriptionStyleModel",
            "_view_count": null,
            "_view_module": "@jupyter-widgets/base",
            "_view_module_version": "1.2.0",
            "_view_name": "StyleView",
            "description_width": ""
          }
        },
        "8e0e3186194542ff8e51387e958056d6": {
          "model_module": "@jupyter-widgets/controls",
          "model_name": "HBoxModel",
          "model_module_version": "1.5.0",
          "state": {
            "_dom_classes": [],
            "_model_module": "@jupyter-widgets/controls",
            "_model_module_version": "1.5.0",
            "_model_name": "HBoxModel",
            "_view_count": null,
            "_view_module": "@jupyter-widgets/controls",
            "_view_module_version": "1.5.0",
            "_view_name": "HBoxView",
            "box_style": "",
            "children": [
              "IPY_MODEL_ea0857994f7540b3836513847f645451",
              "IPY_MODEL_020730f627da4d11b198e9c074e4346a",
              "IPY_MODEL_9176ecb445f24ff8b2a891158336778b"
            ],
            "layout": "IPY_MODEL_c3379ba888724a43976a991039c828ae"
          }
        },
        "ea0857994f7540b3836513847f645451": {
          "model_module": "@jupyter-widgets/controls",
          "model_name": "HTMLModel",
          "model_module_version": "1.5.0",
          "state": {
            "_dom_classes": [],
            "_model_module": "@jupyter-widgets/controls",
            "_model_module_version": "1.5.0",
            "_model_name": "HTMLModel",
            "_view_count": null,
            "_view_module": "@jupyter-widgets/controls",
            "_view_module_version": "1.5.0",
            "_view_name": "HTMLView",
            "description": "",
            "description_tooltip": null,
            "layout": "IPY_MODEL_c035b09a20fc4b8eb8b95416dbf87724",
            "placeholder": "​",
            "style": "IPY_MODEL_8125706fddbf4d4e8ecc667a4bb400a9",
            "value": "Shuffling /root/tensorflow_datasets/svhn_cropped/3.0.0.incompleteUD2TBK/svhn_cropped-extra.tfrecord*...:  98%"
          }
        },
        "020730f627da4d11b198e9c074e4346a": {
          "model_module": "@jupyter-widgets/controls",
          "model_name": "FloatProgressModel",
          "model_module_version": "1.5.0",
          "state": {
            "_dom_classes": [],
            "_model_module": "@jupyter-widgets/controls",
            "_model_module_version": "1.5.0",
            "_model_name": "FloatProgressModel",
            "_view_count": null,
            "_view_module": "@jupyter-widgets/controls",
            "_view_module_version": "1.5.0",
            "_view_name": "ProgressView",
            "bar_style": "",
            "description": "",
            "description_tooltip": null,
            "layout": "IPY_MODEL_175853bc0ec54f1d865f59f43d2307b2",
            "max": 531131,
            "min": 0,
            "orientation": "horizontal",
            "style": "IPY_MODEL_9f335bdd18754ae88616db7219e0995f",
            "value": 531131
          }
        },
        "9176ecb445f24ff8b2a891158336778b": {
          "model_module": "@jupyter-widgets/controls",
          "model_name": "HTMLModel",
          "model_module_version": "1.5.0",
          "state": {
            "_dom_classes": [],
            "_model_module": "@jupyter-widgets/controls",
            "_model_module_version": "1.5.0",
            "_model_name": "HTMLModel",
            "_view_count": null,
            "_view_module": "@jupyter-widgets/controls",
            "_view_module_version": "1.5.0",
            "_view_name": "HTMLView",
            "description": "",
            "description_tooltip": null,
            "layout": "IPY_MODEL_74017f553fb6441b8b3352f1527ecb58",
            "placeholder": "​",
            "style": "IPY_MODEL_90f3a034fd3d40e28840b9a25defa994",
            "value": " 522866/531131 [00:04&lt;00:00, 138837.99 examples/s]"
          }
        },
        "c3379ba888724a43976a991039c828ae": {
          "model_module": "@jupyter-widgets/base",
          "model_name": "LayoutModel",
          "model_module_version": "1.2.0",
          "state": {
            "_model_module": "@jupyter-widgets/base",
            "_model_module_version": "1.2.0",
            "_model_name": "LayoutModel",
            "_view_count": null,
            "_view_module": "@jupyter-widgets/base",
            "_view_module_version": "1.2.0",
            "_view_name": "LayoutView",
            "align_content": null,
            "align_items": null,
            "align_self": null,
            "border": null,
            "bottom": null,
            "display": null,
            "flex": null,
            "flex_flow": null,
            "grid_area": null,
            "grid_auto_columns": null,
            "grid_auto_flow": null,
            "grid_auto_rows": null,
            "grid_column": null,
            "grid_gap": null,
            "grid_row": null,
            "grid_template_areas": null,
            "grid_template_columns": null,
            "grid_template_rows": null,
            "height": null,
            "justify_content": null,
            "justify_items": null,
            "left": null,
            "margin": null,
            "max_height": null,
            "max_width": null,
            "min_height": null,
            "min_width": null,
            "object_fit": null,
            "object_position": null,
            "order": null,
            "overflow": null,
            "overflow_x": null,
            "overflow_y": null,
            "padding": null,
            "right": null,
            "top": null,
            "visibility": "hidden",
            "width": null
          }
        },
        "c035b09a20fc4b8eb8b95416dbf87724": {
          "model_module": "@jupyter-widgets/base",
          "model_name": "LayoutModel",
          "model_module_version": "1.2.0",
          "state": {
            "_model_module": "@jupyter-widgets/base",
            "_model_module_version": "1.2.0",
            "_model_name": "LayoutModel",
            "_view_count": null,
            "_view_module": "@jupyter-widgets/base",
            "_view_module_version": "1.2.0",
            "_view_name": "LayoutView",
            "align_content": null,
            "align_items": null,
            "align_self": null,
            "border": null,
            "bottom": null,
            "display": null,
            "flex": null,
            "flex_flow": null,
            "grid_area": null,
            "grid_auto_columns": null,
            "grid_auto_flow": null,
            "grid_auto_rows": null,
            "grid_column": null,
            "grid_gap": null,
            "grid_row": null,
            "grid_template_areas": null,
            "grid_template_columns": null,
            "grid_template_rows": null,
            "height": null,
            "justify_content": null,
            "justify_items": null,
            "left": null,
            "margin": null,
            "max_height": null,
            "max_width": null,
            "min_height": null,
            "min_width": null,
            "object_fit": null,
            "object_position": null,
            "order": null,
            "overflow": null,
            "overflow_x": null,
            "overflow_y": null,
            "padding": null,
            "right": null,
            "top": null,
            "visibility": null,
            "width": null
          }
        },
        "8125706fddbf4d4e8ecc667a4bb400a9": {
          "model_module": "@jupyter-widgets/controls",
          "model_name": "DescriptionStyleModel",
          "model_module_version": "1.5.0",
          "state": {
            "_model_module": "@jupyter-widgets/controls",
            "_model_module_version": "1.5.0",
            "_model_name": "DescriptionStyleModel",
            "_view_count": null,
            "_view_module": "@jupyter-widgets/base",
            "_view_module_version": "1.2.0",
            "_view_name": "StyleView",
            "description_width": ""
          }
        },
        "175853bc0ec54f1d865f59f43d2307b2": {
          "model_module": "@jupyter-widgets/base",
          "model_name": "LayoutModel",
          "model_module_version": "1.2.0",
          "state": {
            "_model_module": "@jupyter-widgets/base",
            "_model_module_version": "1.2.0",
            "_model_name": "LayoutModel",
            "_view_count": null,
            "_view_module": "@jupyter-widgets/base",
            "_view_module_version": "1.2.0",
            "_view_name": "LayoutView",
            "align_content": null,
            "align_items": null,
            "align_self": null,
            "border": null,
            "bottom": null,
            "display": null,
            "flex": null,
            "flex_flow": null,
            "grid_area": null,
            "grid_auto_columns": null,
            "grid_auto_flow": null,
            "grid_auto_rows": null,
            "grid_column": null,
            "grid_gap": null,
            "grid_row": null,
            "grid_template_areas": null,
            "grid_template_columns": null,
            "grid_template_rows": null,
            "height": null,
            "justify_content": null,
            "justify_items": null,
            "left": null,
            "margin": null,
            "max_height": null,
            "max_width": null,
            "min_height": null,
            "min_width": null,
            "object_fit": null,
            "object_position": null,
            "order": null,
            "overflow": null,
            "overflow_x": null,
            "overflow_y": null,
            "padding": null,
            "right": null,
            "top": null,
            "visibility": null,
            "width": null
          }
        },
        "9f335bdd18754ae88616db7219e0995f": {
          "model_module": "@jupyter-widgets/controls",
          "model_name": "ProgressStyleModel",
          "model_module_version": "1.5.0",
          "state": {
            "_model_module": "@jupyter-widgets/controls",
            "_model_module_version": "1.5.0",
            "_model_name": "ProgressStyleModel",
            "_view_count": null,
            "_view_module": "@jupyter-widgets/base",
            "_view_module_version": "1.2.0",
            "_view_name": "StyleView",
            "bar_color": null,
            "description_width": ""
          }
        },
        "74017f553fb6441b8b3352f1527ecb58": {
          "model_module": "@jupyter-widgets/base",
          "model_name": "LayoutModel",
          "model_module_version": "1.2.0",
          "state": {
            "_model_module": "@jupyter-widgets/base",
            "_model_module_version": "1.2.0",
            "_model_name": "LayoutModel",
            "_view_count": null,
            "_view_module": "@jupyter-widgets/base",
            "_view_module_version": "1.2.0",
            "_view_name": "LayoutView",
            "align_content": null,
            "align_items": null,
            "align_self": null,
            "border": null,
            "bottom": null,
            "display": null,
            "flex": null,
            "flex_flow": null,
            "grid_area": null,
            "grid_auto_columns": null,
            "grid_auto_flow": null,
            "grid_auto_rows": null,
            "grid_column": null,
            "grid_gap": null,
            "grid_row": null,
            "grid_template_areas": null,
            "grid_template_columns": null,
            "grid_template_rows": null,
            "height": null,
            "justify_content": null,
            "justify_items": null,
            "left": null,
            "margin": null,
            "max_height": null,
            "max_width": null,
            "min_height": null,
            "min_width": null,
            "object_fit": null,
            "object_position": null,
            "order": null,
            "overflow": null,
            "overflow_x": null,
            "overflow_y": null,
            "padding": null,
            "right": null,
            "top": null,
            "visibility": null,
            "width": null
          }
        },
        "90f3a034fd3d40e28840b9a25defa994": {
          "model_module": "@jupyter-widgets/controls",
          "model_name": "DescriptionStyleModel",
          "model_module_version": "1.5.0",
          "state": {
            "_model_module": "@jupyter-widgets/controls",
            "_model_module_version": "1.5.0",
            "_model_name": "DescriptionStyleModel",
            "_view_count": null,
            "_view_module": "@jupyter-widgets/base",
            "_view_module_version": "1.2.0",
            "_view_name": "StyleView",
            "description_width": ""
          }
        }
      }
    }
  },
  "nbformat_minor": 0,
  "nbformat": 4,
  "cells": [
    {
      "cell_type": "markdown",
      "metadata": {
        "id": "view-in-github",
        "colab_type": "text"
      },
      "source": [
        "<a href=\"https://colab.research.google.com/github/bonaerges/pia/blob/main/TareaDeepLearningKerasconMejoras.ipynb\" target=\"_parent\"><img src=\"https://colab.research.google.com/assets/colab-badge.svg\" alt=\"Open In Colab\"/></a>"
      ]
    },
    {
      "cell_type": "code",
      "source": [
        "import sys\n",
        "\n",
        "assert sys.version_info >= (3, 7)"
      ],
      "metadata": {
        "id": "moEzmf2LRtWe",
        "execution": {
          "iopub.status.busy": "2024-04-17T09:37:20.597053Z",
          "iopub.execute_input": "2024-04-17T09:37:20.597466Z",
          "iopub.status.idle": "2024-04-17T09:37:20.637136Z",
          "shell.execute_reply.started": "2024-04-17T09:37:20.597427Z",
          "shell.execute_reply": "2024-04-17T09:37:20.635975Z"
        },
        "trusted": true
      },
      "execution_count": null,
      "outputs": []
    },
    {
      "cell_type": "code",
      "source": [
        "from packaging import version\n",
        "import tensorflow as tf\n",
        "import tensorflow_datasets as tfds"
      ],
      "metadata": {
        "id": "nlPTmHeqRvKr",
        "execution": {
          "iopub.status.busy": "2024-04-17T09:37:20.639433Z",
          "iopub.execute_input": "2024-04-17T09:37:20.639755Z",
          "iopub.status.idle": "2024-04-17T09:37:38.004193Z",
          "shell.execute_reply.started": "2024-04-17T09:37:20.639727Z",
          "shell.execute_reply": "2024-04-17T09:37:38.003036Z"
        },
        "trusted": true
      },
      "execution_count": null,
      "outputs": []
    },
    {
      "cell_type": "code",
      "source": [
        "from tensorflow.keras.models import Sequential\n",
        "from tensorflow.keras.layers import Dense, Flatten\n",
        "from tensorflow.keras.initializers import GlorotUniform\n",
        "from tensorflow.keras.activations import elu\n",
        "from tensorflow.keras.optimizers import Adam\n",
        "from tensorflow.keras.callbacks import EarlyStopping\n",
        "from tensorflow.keras.layers import BatchNormalization, Activation,Conv2D, MaxPooling2D\n",
        "from tensorflow.keras.initializers import HeNormal\n",
        "assert version.parse(tf.__version__) >= version.parse(\"2.8.0\")"
      ],
      "metadata": {
        "id": "mqAMAJHcmjNp",
        "execution": {
          "iopub.status.busy": "2024-04-17T09:37:38.00559Z",
          "iopub.execute_input": "2024-04-17T09:37:38.006164Z",
          "iopub.status.idle": "2024-04-17T09:37:38.027482Z",
          "shell.execute_reply.started": "2024-04-17T09:37:38.006133Z",
          "shell.execute_reply": "2024-04-17T09:37:38.026409Z"
        },
        "trusted": true
      },
      "execution_count": null,
      "outputs": []
    },
    {
      "cell_type": "markdown",
      "source": [
        "# Parte A: Construcción y Entrenamiento Inicial\n",
        "\n",
        "\n",
        "## Construcción de la Red Neuronal:\n",
        "\n",
        "  ## 20 capas ocultas, cada una con 100 neuronas.\n",
        "\n",
        "*   20 capas ocultas, cada una con 100 neuronas\n",
        "\n",
        "*   Inicialización de Xavier/Glorot.\n",
        "\n",
        "*   Función de activación ELU.\n",
        "*   Entrenamiento de la Red:\n",
        "**   Uso del optimizador Adam.\n",
        "**   Implementación de la detención temprana.\n",
        "\n",
        "# Parte B: Integración de Mejoras y Comparación\n",
        "\n",
        "*   Normalización por Lotes\n",
        " Implementación y comparación de la velocidad de convergencia y el impacto en\n",
        "el tiempo de entrenamiento.\n",
        "\n",
        "\n",
        "## Implementación y comparación de la velocidad de convergencia y el impacto en el tiempo de entrenamiento.\n",
        "##Sustitución de Normalización por Lotes con ReLU:\n",
        "\n",
        "## Uso de la inicialización He.\n",
        "## Comparación de rendimiento entre configuraciones.\n",
        "\n",
        "# Parte C: Avanzando en Regularización y Optimización\n",
        "## Dropout y MC Dropout:\n",
        "## Implementación de dropout.\n",
        "## Evaluación con MC dropout sin reentrenamiento.\n",
        "## Análisis de los efectos."
      ],
      "metadata": {
        "id": "Bvt2zO7kZrdy"
      }
    },
    {
      "cell_type": "markdown",
      "source": [
        "###Parte A: Construcción y Entrenamiento Inicial\n",
        "### Cargar y prepara el dataset SVHN (Parte A, paso 1)"
      ],
      "metadata": {
        "id": "-fpijTO3SKVd"
      }
    },
    {
      "cell_type": "code",
      "source": [
        "def load_data():\n",
        "    (train_data, test_data), ds_info = tfds.load(\n",
        "        'svhn_cropped',\n",
        "        split=['train', 'test'],\n",
        "        as_supervised=True,\n",
        "        with_info=True,\n",
        "        batch_size=-1\n",
        "    )\n",
        "    return train_data, test_data, ds_info"
      ],
      "metadata": {
        "id": "MlemtOhTRvQg",
        "execution": {
          "iopub.status.busy": "2024-04-17T09:37:38.029101Z",
          "iopub.execute_input": "2024-04-17T09:37:38.029487Z",
          "iopub.status.idle": "2024-04-17T09:37:38.035336Z",
          "shell.execute_reply.started": "2024-04-17T09:37:38.029459Z",
          "shell.execute_reply": "2024-04-17T09:37:38.034401Z"
        },
        "trusted": true
      },
      "execution_count": null,
      "outputs": []
    },
    {
      "cell_type": "markdown",
      "source": [
        "## Cargar y preparar datos"
      ],
      "metadata": {
        "id": "m1SDBDjhSakF"
      }
    },
    {
      "cell_type": "code",
      "source": [
        "train_data, test_data, ds_info = load_data()"
      ],
      "metadata": {
        "id": "KrrYEUaSRvTX",
        "execution": {
          "iopub.status.busy": "2024-04-17T09:47:34.428692Z",
          "iopub.execute_input": "2024-04-17T09:47:34.429142Z",
          "iopub.status.idle": "2024-04-17T09:55:20.368537Z",
          "shell.execute_reply.started": "2024-04-17T09:47:34.429113Z",
          "shell.execute_reply": "2024-04-17T09:55:20.36505Z"
        },
        "trusted": true,
        "outputId": "7dd9799d-6ad4-4c0b-908e-0d09300135ce",
        "colab": {
          "base_uri": "https://localhost:8080/",
          "height": 116,
          "referenced_widgets": [
            "df134827d6ec467cbcccc66cfc636395",
            "76e3306e13d54e15ac6b09a2d222e661",
            "1cf306e4dbad4943b01d06aeab56ccec",
            "8564606cb16d415793841a3a28f6fed2",
            "010a30c7a96d4d3aa8c0829f69f9f80c",
            "b0880fb9d9ab4e2fb1993c15f6f7d8a5",
            "8e2244c193c84ee3ad9ca85fdd13b1a6",
            "ef9e77bc983f4446b23391afdb7c7c49",
            "c2191070325649b0bae10de860be134c",
            "3805e2b42f614b96a4edf2a7e090a46e",
            "571bd87afbb645dbbb725d2d3f2289ca",
            "d924a7a6e4be4b179ae1e820c444b289",
            "e3b9842296654ed59fd39a677b541dc8",
            "9c74db2ebf9f46ad9fc5d4b487025a52",
            "57b03bb7888745518cd0a01fbb39c4c3",
            "ada23d485043482fad2b153b076f7a6c",
            "44ff3f4c4e0348ed8e4ac175dcfc1583",
            "2df11f474d6c4d21b99303557bf38d05",
            "7c85930242c044cfba457b1cedcbccfa",
            "d9b7eead18e5437c816969a7f1f25662",
            "7d156ad47a394f9bb6a0cd284a26dd8b",
            "bc7c74070b814066bf7b7d1234bdd8fb",
            "2aba7774f45c413c81482a3b19218539",
            "90cd9a9b3a65432490b53d28116103fb",
            "b1455844504b47a5ad71eae49dae6dfc",
            "45f058d2cc69436a83f1a23e63bcd5db",
            "924ea1853ac9462fafcd6e8033dc6a37",
            "0de1dd05df424d78859005fc12166adb",
            "074a66f470e34b40b2d604c1baabad90",
            "4a131c75306843b1a9ca815036589154",
            "3041858f4e81402a9ea4a0534fbb6c84",
            "7a03c13034f546dc8b7a82137efdca07",
            "a40b6e4f4f2e42c099514be360ea2c7d",
            "eb2968609ba0431692c51148e08f8e20",
            "970036fd9e2f40d899876032c7781234",
            "9189f8c5493a4c5b8bfb5125dd5f5896",
            "816f4290bf4a4dc5b70acb90bdc73404",
            "1b8a7791049245a89c28fd18efad9c9d",
            "facc03616bb742afbeec93ea54334f90",
            "7b08d1caf8fc437e8beb2f8bc3c553e5",
            "ee9d16cc0b0f4240b67e7769790bdd88",
            "45a81dbfa536424cbceeb3da4af92a90",
            "f95bb4c70fe147879773a3e8aed8fc15",
            "bd52d8a8d8dd4b35b6d3e1dd6d41b803",
            "9334f9365192436aa2be9240db073a3a",
            "73b6f02b0fa1408792d98d8892255486",
            "acff464a616b498ca1cd823fe34cc693",
            "57ee977e4f4a42cba12e4dfb9a6b50fa",
            "8618746f4632435d9975d5437aeb64c1",
            "8080ecb6b90c4dcc8a49ff2722c78176",
            "35a154e326714153a0bb5e9cbac8a738",
            "aea841515d9f4978aac0d5df52355981",
            "6424a3621bdf404fb1df7d22d50d12e5",
            "7943ce61938f4fea93b054a1df57d191",
            "86d3cd90975042a6bda27023797f4d7d",
            "f0a11d3f37ab41c2bc11fd5f0a6d90b1",
            "7a61ed5f445c43da90ce06cbc22435cd",
            "84ab309ae6114da6905c1746e64089cb",
            "69be8f427b91431fbac644e4429b3ee5",
            "d8f84fe0acc943a6b78ee90d70912b66",
            "d5e4ce9ed6824c35b2747edf18cb08b7",
            "cac20d1b40e7441a9456e72f6d6d1074",
            "ecae68a9d72849ac8b2fb9f38edefb2c",
            "a477d0d61e4041b3a16f75f820c5b6b0",
            "bec0da21e3a140d79333cddc4fbd68c5",
            "0125d2a9cae74006bc5ee1268e26917c",
            "800f352452534d06980df43b924f2b99",
            "6387262b25074b67b17f3354b943629e",
            "5294c35a54534222a3d5c85f82a72ff8",
            "65d9bb0184954a258d69b823e9e7823f",
            "83e081a734294b81a97dda2b80e5c4af",
            "76ad3968a2ea48d08da6b7a1475973ca",
            "6cd4989c71cf4433862319db6494e346",
            "ee67d45a08fc47649036dcd0be0365b5",
            "b9e713b38d1149f88d516e2b5e2d2c69",
            "81d78db5b42146cdacd707a47603664a",
            "44b6e3a86318424caa9b7866616348f5",
            "d54d5601e4394d6a93cb079a89368294",
            "b5f54c7e93e346eaa57448d49d59a3de",
            "139158c26e014c6597a53b2902f0537d",
            "fcd874cab80a46539de66348c69b22ce",
            "3d2400e2478540329ebf97c355468b77",
            "f2b8c050876b4774aaa6875092ba3f13",
            "bc605d268050407f9944ffd044b0cd55",
            "d815e784e0854eef899dbcec981c08b0",
            "159807cdc2884dc3b93f6263fd71a43b",
            "3d5383cd8a0f44b5ac8b791d4ef899d5",
            "822efdf800364d7b8585a55d7bef9db7",
            "8e0e3186194542ff8e51387e958056d6",
            "ea0857994f7540b3836513847f645451",
            "020730f627da4d11b198e9c074e4346a",
            "9176ecb445f24ff8b2a891158336778b",
            "c3379ba888724a43976a991039c828ae",
            "c035b09a20fc4b8eb8b95416dbf87724",
            "8125706fddbf4d4e8ecc667a4bb400a9",
            "175853bc0ec54f1d865f59f43d2307b2",
            "9f335bdd18754ae88616db7219e0995f",
            "74017f553fb6441b8b3352f1527ecb58",
            "90f3a034fd3d40e28840b9a25defa994"
          ]
        }
      },
      "execution_count": null,
      "outputs": [
        {
          "output_type": "stream",
          "name": "stdout",
          "text": [
            "Downloading and preparing dataset 1.47 GiB (download: 1.47 GiB, generated: Unknown size, total: 1.47 GiB) to /root/tensorflow_datasets/svhn_cropped/3.0.0...\n"
          ]
        },
        {
          "output_type": "display_data",
          "data": {
            "text/plain": [
              "Dl Completed...: 0 url [00:00, ? url/s]"
            ],
            "application/vnd.jupyter.widget-view+json": {
              "version_major": 2,
              "version_minor": 0,
              "model_id": "df134827d6ec467cbcccc66cfc636395"
            }
          },
          "metadata": {}
        },
        {
          "output_type": "display_data",
          "data": {
            "text/plain": [
              "Dl Size...: 0 MiB [00:00, ? MiB/s]"
            ],
            "application/vnd.jupyter.widget-view+json": {
              "version_major": 2,
              "version_minor": 0,
              "model_id": "d924a7a6e4be4b179ae1e820c444b289"
            }
          },
          "metadata": {}
        },
        {
          "output_type": "display_data",
          "data": {
            "text/plain": [
              "Generating splits...:   0%|          | 0/3 [00:00<?, ? splits/s]"
            ],
            "application/vnd.jupyter.widget-view+json": {
              "version_major": 2,
              "version_minor": 0,
              "model_id": "2aba7774f45c413c81482a3b19218539"
            }
          },
          "metadata": {}
        },
        {
          "output_type": "display_data",
          "data": {
            "text/plain": [
              "Generating train examples...:   0%|          | 0/73257 [00:00<?, ? examples/s]"
            ],
            "application/vnd.jupyter.widget-view+json": {
              "version_major": 2,
              "version_minor": 0,
              "model_id": "eb2968609ba0431692c51148e08f8e20"
            }
          },
          "metadata": {}
        },
        {
          "output_type": "display_data",
          "data": {
            "text/plain": [
              "Shuffling /root/tensorflow_datasets/svhn_cropped/3.0.0.incompleteUD2TBK/svhn_cropped-train.tfrecord*...:   0%|…"
            ],
            "application/vnd.jupyter.widget-view+json": {
              "version_major": 2,
              "version_minor": 0,
              "model_id": "9334f9365192436aa2be9240db073a3a"
            }
          },
          "metadata": {}
        },
        {
          "output_type": "display_data",
          "data": {
            "text/plain": [
              "Generating test examples...:   0%|          | 0/26032 [00:00<?, ? examples/s]"
            ],
            "application/vnd.jupyter.widget-view+json": {
              "version_major": 2,
              "version_minor": 0,
              "model_id": "f0a11d3f37ab41c2bc11fd5f0a6d90b1"
            }
          },
          "metadata": {}
        },
        {
          "output_type": "display_data",
          "data": {
            "text/plain": [
              "Shuffling /root/tensorflow_datasets/svhn_cropped/3.0.0.incompleteUD2TBK/svhn_cropped-test.tfrecord*...:   0%| …"
            ],
            "application/vnd.jupyter.widget-view+json": {
              "version_major": 2,
              "version_minor": 0,
              "model_id": "800f352452534d06980df43b924f2b99"
            }
          },
          "metadata": {}
        },
        {
          "output_type": "display_data",
          "data": {
            "text/plain": [
              "Generating extra examples...:   0%|          | 0/531131 [00:00<?, ? examples/s]"
            ],
            "application/vnd.jupyter.widget-view+json": {
              "version_major": 2,
              "version_minor": 0,
              "model_id": "d54d5601e4394d6a93cb079a89368294"
            }
          },
          "metadata": {}
        },
        {
          "output_type": "display_data",
          "data": {
            "text/plain": [
              "Shuffling /root/tensorflow_datasets/svhn_cropped/3.0.0.incompleteUD2TBK/svhn_cropped-extra.tfrecord*...:   0%|…"
            ],
            "application/vnd.jupyter.widget-view+json": {
              "version_major": 2,
              "version_minor": 0,
              "model_id": "8e0e3186194542ff8e51387e958056d6"
            }
          },
          "metadata": {}
        },
        {
          "output_type": "stream",
          "name": "stdout",
          "text": [
            "Dataset svhn_cropped downloaded and prepared to /root/tensorflow_datasets/svhn_cropped/3.0.0. Subsequent calls will reuse this data.\n"
          ]
        }
      ]
    },
    {
      "cell_type": "markdown",
      "source": [
        "### Preprocesar los datos (Parte A, paso 1)"
      ],
      "metadata": {
        "id": "VddmjMh_XgSf"
      }
    },
    {
      "cell_type": "code",
      "source": [
        "def preprocess(data, info):\n",
        "    x, y = data\n",
        "    x = tf.image.convert_image_dtype(x, tf.float32)\n",
        "    y = tf.one_hot(y, depth=info.features['label'].num_classes)\n",
        "    return x, y"
      ],
      "metadata": {
        "id": "4Z5aK0nlRvYo",
        "execution": {
          "iopub.status.busy": "2024-04-17T09:45:46.524115Z",
          "iopub.status.idle": "2024-04-17T09:45:46.524507Z",
          "shell.execute_reply.started": "2024-04-17T09:45:46.524307Z",
          "shell.execute_reply": "2024-04-17T09:45:46.524321Z"
        },
        "trusted": true
      },
      "execution_count": null,
      "outputs": []
    },
    {
      "cell_type": "code",
      "source": [
        "train_data = preprocess(train_data, ds_info)\n",
        "test_data = preprocess(test_data, ds_info)"
      ],
      "metadata": {
        "id": "HFEuVhQ0RvbL",
        "execution": {
          "iopub.status.busy": "2024-04-17T09:45:46.525647Z",
          "iopub.status.idle": "2024-04-17T09:45:46.526019Z",
          "shell.execute_reply.started": "2024-04-17T09:45:46.525839Z",
          "shell.execute_reply": "2024-04-17T09:45:46.525854Z"
        },
        "trusted": true
      },
      "execution_count": null,
      "outputs": []
    },
    {
      "cell_type": "markdown",
      "source": [
        "### Construir el modelo inicial con Xavier/Glorot y ELU (Parte A, paso 1 y 2)\n",
        "### 20 capas ocultas, cada una con 100 neuronas"
      ],
      "metadata": {
        "id": "ydeurZucXqtC"
      }
    },
    {
      "cell_type": "code",
      "source": [
        "def build_model(input_shape, num_classes):\n",
        "    model = Sequential()\n",
        "    model.add(Flatten(input_shape=input_shape))\n",
        "    for _ in range(20):\n",
        "        model.add(Dense(100, activation=elu, kernel_initializer=GlorotUniform()))\n",
        "    model.add(Dense(num_classes, activation='softmax'))\n",
        "    return model"
      ],
      "metadata": {
        "id": "HkRqvEz9Rvd7",
        "execution": {
          "iopub.status.busy": "2024-04-17T09:45:46.527617Z",
          "iopub.status.idle": "2024-04-17T09:45:46.527982Z",
          "shell.execute_reply.started": "2024-04-17T09:45:46.527805Z",
          "shell.execute_reply": "2024-04-17T09:45:46.52782Z"
        },
        "trusted": true
      },
      "execution_count": null,
      "outputs": []
    },
    {
      "cell_type": "markdown",
      "source": [
        "### Construir y entrenar el modelo inicial, y  entrenamiento inicial (Parte A)\n"
      ],
      "metadata": {
        "id": "wF4ibv2QX9it"
      }
    },
    {
      "cell_type": "code",
      "source": [
        "model = build_model(train_data[0].shape[1:], ds_info.features['label'].num_classes)"
      ],
      "metadata": {
        "id": "ZJ2HZ1dsRvi4",
        "execution": {
          "iopub.status.busy": "2024-04-17T09:45:46.529214Z",
          "iopub.status.idle": "2024-04-17T09:45:46.529578Z",
          "shell.execute_reply.started": "2024-04-17T09:45:46.529402Z",
          "shell.execute_reply": "2024-04-17T09:45:46.529416Z"
        },
        "trusted": true
      },
      "execution_count": null,
      "outputs": []
    },
    {
      "cell_type": "markdown",
      "source": [
        " # Compilar y entrenar el modelo (Parte A, paso 2)"
      ],
      "metadata": {
        "id": "DR7_0AafYNFN"
      }
    },
    {
      "cell_type": "code",
      "source": [
        "def compile_and_train(model, train_data, val_data, epochs=50):\n",
        "    model.compile(optimizer=Adam(),\n",
        "                  loss='categorical_crossentropy',\n",
        "                  metrics=['accuracy'])\n",
        "    early_stopping = EarlyStopping(monitor='val_loss', patience=5, restore_best_weights=True)\n",
        "    history = model.fit(train_data[0], train_data[1], epochs=epochs,\n",
        "                        validation_data=val_data, callbacks=[early_stopping])\n",
        "    return history"
      ],
      "metadata": {
        "id": "Gca84POqRvnz",
        "execution": {
          "iopub.status.busy": "2024-04-17T09:45:46.530813Z",
          "iopub.status.idle": "2024-04-17T09:45:46.531167Z",
          "shell.execute_reply.started": "2024-04-17T09:45:46.530991Z",
          "shell.execute_reply": "2024-04-17T09:45:46.531005Z"
        },
        "trusted": true
      },
      "execution_count": null,
      "outputs": []
    },
    {
      "cell_type": "code",
      "source": [
        "history = compile_and_train(model, train_data, test_data)"
      ],
      "metadata": {
        "colab": {
          "base_uri": "https://localhost:8080/"
        },
        "id": "6rvgvQ2GYJ-7",
        "outputId": "10d8ba66-6845-47a3-d1f2-cc2e0bad4898",
        "execution": {
          "iopub.status.busy": "2024-04-17T09:45:46.532465Z",
          "iopub.status.idle": "2024-04-17T09:45:46.532821Z",
          "shell.execute_reply.started": "2024-04-17T09:45:46.53264Z",
          "shell.execute_reply": "2024-04-17T09:45:46.532654Z"
        },
        "trusted": true
      },
      "execution_count": null,
      "outputs": [
        {
          "output_type": "stream",
          "name": "stdout",
          "text": [
            "Epoch 1/50\n",
            "2290/2290 [==============================] - 32s 11ms/step - loss: 2.2492 - accuracy: 0.1839 - val_loss: 2.2261 - val_accuracy: 0.1959\n",
            "Epoch 2/50\n",
            "2290/2290 [==============================] - 25s 11ms/step - loss: 2.2401 - accuracy: 0.1882 - val_loss: 2.2275 - val_accuracy: 0.1959\n",
            "Epoch 3/50\n",
            "2290/2290 [==============================] - 25s 11ms/step - loss: 2.2386 - accuracy: 0.1891 - val_loss: 2.2245 - val_accuracy: 0.1959\n",
            "Epoch 4/50\n",
            "2290/2290 [==============================] - 23s 10ms/step - loss: 2.2388 - accuracy: 0.1889 - val_loss: 2.2253 - val_accuracy: 0.1959\n",
            "Epoch 5/50\n",
            "2290/2290 [==============================] - 22s 10ms/step - loss: 2.2389 - accuracy: 0.1886 - val_loss: 2.2296 - val_accuracy: 0.1959\n",
            "Epoch 6/50\n",
            "2290/2290 [==============================] - 22s 10ms/step - loss: 2.2374 - accuracy: 0.1892 - val_loss: 2.2258 - val_accuracy: 0.1959\n",
            "Epoch 7/50\n",
            "2290/2290 [==============================] - 22s 10ms/step - loss: 2.2374 - accuracy: 0.1892 - val_loss: 2.2238 - val_accuracy: 0.1959\n",
            "Epoch 8/50\n",
            "2290/2290 [==============================] - 23s 10ms/step - loss: 2.2377 - accuracy: 0.1890 - val_loss: 2.2250 - val_accuracy: 0.1959\n",
            "Epoch 9/50\n",
            "2290/2290 [==============================] - 24s 11ms/step - loss: 2.2373 - accuracy: 0.1892 - val_loss: 2.2244 - val_accuracy: 0.1959\n",
            "Epoch 10/50\n",
            "2290/2290 [==============================] - 24s 11ms/step - loss: 2.2380 - accuracy: 0.1890 - val_loss: 2.2258 - val_accuracy: 0.1959\n",
            "Epoch 11/50\n",
            "2290/2290 [==============================] - 22s 10ms/step - loss: 2.2371 - accuracy: 0.1892 - val_loss: 2.2247 - val_accuracy: 0.1959\n",
            "Epoch 12/50\n",
            "2290/2290 [==============================] - 22s 10ms/step - loss: 2.2370 - accuracy: 0.1892 - val_loss: 2.2237 - val_accuracy: 0.1959\n",
            "Epoch 13/50\n",
            "2290/2290 [==============================] - 22s 10ms/step - loss: 2.2375 - accuracy: 0.1890 - val_loss: 2.2244 - val_accuracy: 0.1959\n",
            "Epoch 14/50\n",
            "2290/2290 [==============================] - 23s 10ms/step - loss: 2.2369 - accuracy: 0.1892 - val_loss: 2.2238 - val_accuracy: 0.1959\n",
            "Epoch 15/50\n",
            "2290/2290 [==============================] - 22s 10ms/step - loss: 2.2370 - accuracy: 0.1892 - val_loss: 2.2245 - val_accuracy: 0.1959\n",
            "Epoch 16/50\n",
            "2290/2290 [==============================] - 23s 10ms/step - loss: 2.2370 - accuracy: 0.1892 - val_loss: 2.2243 - val_accuracy: 0.1959\n",
            "Epoch 17/50\n",
            "2290/2290 [==============================] - 23s 10ms/step - loss: 2.2371 - accuracy: 0.1891 - val_loss: 2.2252 - val_accuracy: 0.1959\n"
          ]
        }
      ]
    },
    {
      "cell_type": "markdown",
      "source": [
        "### Construir y entrenar el modelo con normalización por lotes\n",
        "### Función para construir el modelo con normalización por lotes (Parte B, paso 1)"
      ],
      "metadata": {
        "id": "CqUeLYVYYdu0"
      }
    },
    {
      "cell_type": "code",
      "source": [
        "def build_model_with_batchnorm(input_shape, num_classes):\n",
        "    model = Sequential()\n",
        "    model.add(Flatten(input_shape=input_shape))\n",
        "    for _ in range(20):\n",
        "        model.add(Dense(100, kernel_initializer=GlorotUniform()))\n",
        "        model.add(BatchNormalization())\n",
        "        model.add(Activation('elu'))\n",
        "    model.add(Dense(num_classes, activation='softmax'))\n",
        "    return model"
      ],
      "metadata": {
        "id": "sexcPl-nYli5",
        "execution": {
          "iopub.status.busy": "2024-04-17T09:45:46.533994Z",
          "iopub.status.idle": "2024-04-17T09:45:46.534557Z",
          "shell.execute_reply.started": "2024-04-17T09:45:46.53437Z",
          "shell.execute_reply": "2024-04-17T09:45:46.534386Z"
        },
        "trusted": true
      },
      "execution_count": null,
      "outputs": []
    },
    {
      "cell_type": "code",
      "source": [
        "model_bn = build_model_with_batchnorm(train_data[0].shape[1:], ds_info.features['label'].num_classes)"
      ],
      "metadata": {
        "id": "ry3MYqRhYd9G",
        "execution": {
          "iopub.status.busy": "2024-04-17T09:45:46.535663Z",
          "iopub.status.idle": "2024-04-17T09:45:46.536023Z",
          "shell.execute_reply.started": "2024-04-17T09:45:46.535848Z",
          "shell.execute_reply": "2024-04-17T09:45:46.535862Z"
        },
        "trusted": true
      },
      "execution_count": null,
      "outputs": []
    },
    {
      "cell_type": "markdown",
      "source": [
        "### Mejora con batch normalization (Parte B, paso 1)"
      ],
      "metadata": {
        "id": "Lvgk0Q6EY0FH"
      }
    },
    {
      "cell_type": "code",
      "source": [
        "history_bn = compile_and_train(model_bn, train_data, test_data)"
      ],
      "metadata": {
        "colab": {
          "base_uri": "https://localhost:8080/"
        },
        "id": "9PzPS5f8YyP0",
        "outputId": "b0ee0f7f-a102-42a9-8742-9855b4e876a0",
        "execution": {
          "iopub.status.busy": "2024-04-17T09:45:46.537296Z",
          "iopub.status.idle": "2024-04-17T09:45:46.537658Z",
          "shell.execute_reply.started": "2024-04-17T09:45:46.537486Z",
          "shell.execute_reply": "2024-04-17T09:45:46.5375Z"
        },
        "trusted": true
      },
      "execution_count": null,
      "outputs": [
        {
          "output_type": "stream",
          "name": "stdout",
          "text": [
            "Epoch 1/50\n",
            "2290/2290 [==============================] - 82s 29ms/step - loss: 1.5671 - accuracy: 0.4772 - val_loss: 1.6748 - val_accuracy: 0.4588\n",
            "Epoch 2/50\n",
            "2290/2290 [==============================] - 63s 28ms/step - loss: 1.2904 - accuracy: 0.5919 - val_loss: 1.7388 - val_accuracy: 0.4508\n",
            "Epoch 3/50\n",
            "2290/2290 [==============================] - 62s 27ms/step - loss: 1.1798 - accuracy: 0.6356 - val_loss: 1.4272 - val_accuracy: 0.5410\n",
            "Epoch 4/50\n",
            "2290/2290 [==============================] - 64s 28ms/step - loss: 1.1080 - accuracy: 0.6575 - val_loss: 1.3667 - val_accuracy: 0.5579\n",
            "Epoch 5/50\n",
            "2290/2290 [==============================] - 65s 28ms/step - loss: 1.0455 - accuracy: 0.6779 - val_loss: 1.1384 - val_accuracy: 0.6482\n",
            "Epoch 6/50\n",
            "2290/2290 [==============================] - 64s 28ms/step - loss: 0.9989 - accuracy: 0.6920 - val_loss: 1.1277 - val_accuracy: 0.6400\n",
            "Epoch 7/50\n",
            "2290/2290 [==============================] - 62s 27ms/step - loss: 0.9573 - accuracy: 0.7044 - val_loss: 0.9811 - val_accuracy: 0.6951\n",
            "Epoch 8/50\n",
            "2290/2290 [==============================] - 67s 29ms/step - loss: 0.9229 - accuracy: 0.7145 - val_loss: 0.9693 - val_accuracy: 0.6970\n",
            "Epoch 9/50\n",
            "2290/2290 [==============================] - 64s 28ms/step - loss: 0.8826 - accuracy: 0.7282 - val_loss: 1.0549 - val_accuracy: 0.6724\n",
            "Epoch 10/50\n",
            "2290/2290 [==============================] - 64s 28ms/step - loss: 0.8641 - accuracy: 0.7337 - val_loss: 0.9824 - val_accuracy: 0.6876\n",
            "Epoch 11/50\n",
            "2290/2290 [==============================] - 65s 28ms/step - loss: 0.8382 - accuracy: 0.7426 - val_loss: 1.0311 - val_accuracy: 0.6698\n",
            "Epoch 12/50\n",
            "2290/2290 [==============================] - 64s 28ms/step - loss: 0.8099 - accuracy: 0.7486 - val_loss: 1.0659 - val_accuracy: 0.6655\n",
            "Epoch 13/50\n",
            "2290/2290 [==============================] - 64s 28ms/step - loss: 0.7886 - accuracy: 0.7576 - val_loss: 0.9078 - val_accuracy: 0.7129\n",
            "Epoch 14/50\n",
            "2290/2290 [==============================] - 65s 28ms/step - loss: 0.7688 - accuracy: 0.7625 - val_loss: 1.1312 - val_accuracy: 0.6502\n",
            "Epoch 15/50\n",
            "2290/2290 [==============================] - 62s 27ms/step - loss: 0.7471 - accuracy: 0.7690 - val_loss: 0.8851 - val_accuracy: 0.7251\n",
            "Epoch 16/50\n",
            "2290/2290 [==============================] - 63s 28ms/step - loss: 0.7278 - accuracy: 0.7746 - val_loss: 0.8915 - val_accuracy: 0.7186\n",
            "Epoch 17/50\n",
            "2290/2290 [==============================] - 66s 29ms/step - loss: 0.7164 - accuracy: 0.7795 - val_loss: 0.9749 - val_accuracy: 0.6905\n",
            "Epoch 18/50\n",
            "2290/2290 [==============================] - 62s 27ms/step - loss: 0.6969 - accuracy: 0.7865 - val_loss: 0.8109 - val_accuracy: 0.7477\n",
            "Epoch 19/50\n",
            "2290/2290 [==============================] - 63s 28ms/step - loss: 0.6844 - accuracy: 0.7888 - val_loss: 0.9717 - val_accuracy: 0.6977\n",
            "Epoch 20/50\n",
            "2290/2290 [==============================] - 64s 28ms/step - loss: 0.6682 - accuracy: 0.7929 - val_loss: 0.9098 - val_accuracy: 0.7153\n",
            "Epoch 21/50\n",
            "2290/2290 [==============================] - 62s 27ms/step - loss: 0.6612 - accuracy: 0.7943 - val_loss: 1.0109 - val_accuracy: 0.6748\n",
            "Epoch 22/50\n",
            "2290/2290 [==============================] - 65s 28ms/step - loss: 0.6481 - accuracy: 0.7999 - val_loss: 0.7908 - val_accuracy: 0.7498\n",
            "Epoch 23/50\n",
            "2290/2290 [==============================] - 63s 27ms/step - loss: 0.6383 - accuracy: 0.8014 - val_loss: 0.8058 - val_accuracy: 0.7424\n",
            "Epoch 24/50\n",
            "2290/2290 [==============================] - 61s 26ms/step - loss: 0.6287 - accuracy: 0.8077 - val_loss: 0.8353 - val_accuracy: 0.7405\n",
            "Epoch 25/50\n",
            "2290/2290 [==============================] - 63s 28ms/step - loss: 0.6200 - accuracy: 0.8080 - val_loss: 0.8513 - val_accuracy: 0.7305\n",
            "Epoch 26/50\n",
            "2290/2290 [==============================] - 61s 27ms/step - loss: 0.6134 - accuracy: 0.8098 - val_loss: 0.7119 - val_accuracy: 0.7817\n",
            "Epoch 27/50\n",
            "2290/2290 [==============================] - 64s 28ms/step - loss: 0.6014 - accuracy: 0.8156 - val_loss: 0.8488 - val_accuracy: 0.7347\n",
            "Epoch 28/50\n",
            "2290/2290 [==============================] - 61s 27ms/step - loss: 0.5888 - accuracy: 0.8176 - val_loss: 0.7545 - val_accuracy: 0.7651\n",
            "Epoch 29/50\n",
            "2290/2290 [==============================] - 63s 28ms/step - loss: 0.5853 - accuracy: 0.8189 - val_loss: 0.7456 - val_accuracy: 0.7674\n",
            "Epoch 30/50\n",
            "2290/2290 [==============================] - 62s 27ms/step - loss: 0.5810 - accuracy: 0.8196 - val_loss: 0.7573 - val_accuracy: 0.7622\n",
            "Epoch 31/50\n",
            "2290/2290 [==============================] - 63s 27ms/step - loss: 0.5720 - accuracy: 0.8221 - val_loss: 0.8155 - val_accuracy: 0.7419\n"
          ]
        }
      ]
    },
    {
      "cell_type": "markdown",
      "source": [
        "### Función para construir el modelo con ReLU y He (Parte B, paso 2)\n",
        "### 20 capas ocultas, cada una con 100 neuronas"
      ],
      "metadata": {
        "id": "1Ww-GTuRYeNP"
      }
    },
    {
      "cell_type": "code",
      "source": [
        "def build_model_with_relu_he(input_shape, num_classes):\n",
        "    model = Sequential()\n",
        "    model.add(Flatten(input_shape=input_shape))\n",
        "    for _ in range(20):\n",
        "        model.add(Dense(100, kernel_initializer=HeNormal()))\n",
        "        model.add(Activation('relu'))\n",
        "    model.add(Dense(num_classes, activation='softmax'))\n",
        "    return model"
      ],
      "metadata": {
        "id": "LDXF0zO0YeXS",
        "trusted": true
      },
      "execution_count": null,
      "outputs": []
    },
    {
      "cell_type": "markdown",
      "source": [
        "### Construir y entrenar el modelo con ReLU y He"
      ],
      "metadata": {
        "id": "n_jcgzjvYeiV"
      }
    },
    {
      "cell_type": "code",
      "source": [
        "model_relu_he = build_model_with_relu_he(train_data[0].shape[1:], ds_info.features['label'].num_classes)"
      ],
      "metadata": {
        "id": "8_I-XpfZYes7",
        "trusted": true
      },
      "execution_count": null,
      "outputs": []
    },
    {
      "cell_type": "code",
      "source": [
        "history_relu_he = compile_and_train(model_relu_he, train_data, test_data)"
      ],
      "metadata": {
        "colab": {
          "base_uri": "https://localhost:8080/"
        },
        "id": "ic-V1darYfCi",
        "outputId": "15f38e43-e7d1-4082-9f1f-ced9fa29cf6d",
        "trusted": true
      },
      "execution_count": null,
      "outputs": [
        {
          "output_type": "stream",
          "name": "stdout",
          "text": [
            "Epoch 1/50\n",
            "2290/2290 [==============================] - 28s 10ms/step - loss: 2.2410 - accuracy: 0.1887 - val_loss: 2.2247 - val_accuracy: 0.1959\n",
            "Epoch 2/50\n",
            "2290/2290 [==============================] - 22s 10ms/step - loss: 2.2375 - accuracy: 0.1892 - val_loss: 2.2253 - val_accuracy: 0.1959\n",
            "Epoch 3/50\n",
            "2290/2290 [==============================] - 22s 10ms/step - loss: 2.2372 - accuracy: 0.1892 - val_loss: 2.2245 - val_accuracy: 0.1959\n",
            "Epoch 4/50\n",
            "2290/2290 [==============================] - 22s 9ms/step - loss: 2.2370 - accuracy: 0.1892 - val_loss: 2.2255 - val_accuracy: 0.1959\n",
            "Epoch 5/50\n",
            "2290/2290 [==============================] - 22s 10ms/step - loss: 2.2370 - accuracy: 0.1892 - val_loss: 2.2247 - val_accuracy: 0.1959\n",
            "Epoch 6/50\n",
            "2290/2290 [==============================] - 23s 10ms/step - loss: 2.2369 - accuracy: 0.1892 - val_loss: 2.2259 - val_accuracy: 0.1959\n",
            "Epoch 7/50\n",
            "2290/2290 [==============================] - 23s 10ms/step - loss: 2.2371 - accuracy: 0.1892 - val_loss: 2.2254 - val_accuracy: 0.1959\n",
            "Epoch 8/50\n",
            "2290/2290 [==============================] - 22s 9ms/step - loss: 2.2369 - accuracy: 0.1892 - val_loss: 2.2240 - val_accuracy: 0.1959\n",
            "Epoch 9/50\n",
            "2290/2290 [==============================] - 21s 9ms/step - loss: 2.2369 - accuracy: 0.1892 - val_loss: 2.2242 - val_accuracy: 0.1959\n",
            "Epoch 10/50\n",
            "2290/2290 [==============================] - 22s 9ms/step - loss: 2.2369 - accuracy: 0.1892 - val_loss: 2.2244 - val_accuracy: 0.1959\n",
            "Epoch 11/50\n",
            "2290/2290 [==============================] - 21s 9ms/step - loss: 2.2369 - accuracy: 0.1892 - val_loss: 2.2242 - val_accuracy: 0.1959\n",
            "Epoch 12/50\n",
            "2290/2290 [==============================] - 22s 10ms/step - loss: 2.2369 - accuracy: 0.1892 - val_loss: 2.2235 - val_accuracy: 0.1959\n",
            "Epoch 13/50\n",
            "2290/2290 [==============================] - 21s 9ms/step - loss: 2.2368 - accuracy: 0.1892 - val_loss: 2.2241 - val_accuracy: 0.1959\n",
            "Epoch 14/50\n",
            "2290/2290 [==============================] - 21s 9ms/step - loss: 2.2368 - accuracy: 0.1892 - val_loss: 2.2237 - val_accuracy: 0.1959\n",
            "Epoch 15/50\n",
            "2290/2290 [==============================] - 21s 9ms/step - loss: 2.2369 - accuracy: 0.1892 - val_loss: 2.2236 - val_accuracy: 0.1959\n",
            "Epoch 16/50\n",
            "2290/2290 [==============================] - 21s 9ms/step - loss: 2.2368 - accuracy: 0.1892 - val_loss: 2.2235 - val_accuracy: 0.1959\n",
            "Epoch 17/50\n",
            "2290/2290 [==============================] - 21s 9ms/step - loss: 2.2368 - accuracy: 0.1892 - val_loss: 2.2232 - val_accuracy: 0.1959\n",
            "Epoch 18/50\n",
            "2290/2290 [==============================] - 21s 9ms/step - loss: 2.2369 - accuracy: 0.1892 - val_loss: 2.2236 - val_accuracy: 0.1959\n",
            "Epoch 19/50\n",
            "2290/2290 [==============================] - 21s 9ms/step - loss: 2.2368 - accuracy: 0.1892 - val_loss: 2.2235 - val_accuracy: 0.1959\n",
            "Epoch 20/50\n",
            "2290/2290 [==============================] - 21s 9ms/step - loss: 2.2368 - accuracy: 0.1892 - val_loss: 2.2234 - val_accuracy: 0.1959\n",
            "Epoch 21/50\n",
            "2290/2290 [==============================] - 21s 9ms/step - loss: 2.2367 - accuracy: 0.1892 - val_loss: 2.2232 - val_accuracy: 0.1959\n",
            "Epoch 22/50\n",
            "2290/2290 [==============================] - 22s 10ms/step - loss: 2.2367 - accuracy: 0.1892 - val_loss: 2.2248 - val_accuracy: 0.1959\n",
            "Epoch 23/50\n",
            "2290/2290 [==============================] - 21s 9ms/step - loss: 2.2367 - accuracy: 0.1892 - val_loss: 2.2236 - val_accuracy: 0.1959\n",
            "Epoch 24/50\n",
            "2290/2290 [==============================] - 21s 9ms/step - loss: 2.2367 - accuracy: 0.1892 - val_loss: 2.2235 - val_accuracy: 0.1959\n",
            "Epoch 25/50\n",
            "2290/2290 [==============================] - 21s 9ms/step - loss: 2.2367 - accuracy: 0.1892 - val_loss: 2.2239 - val_accuracy: 0.1959\n",
            "Epoch 26/50\n",
            "2290/2290 [==============================] - 23s 10ms/step - loss: 2.2368 - accuracy: 0.1892 - val_loss: 2.2243 - val_accuracy: 0.1959\n"
          ]
        }
      ]
    },
    {
      "cell_type": "markdown",
      "source": [
        "### Imprimir las métricas del entrenamiento para comparación"
      ],
      "metadata": {
        "id": "TedGSEUjYfNH"
      }
    },
    {
      "cell_type": "code",
      "source": [
        "print(\"Historial inicial:\", history.history)\n",
        "print(\"Historial con Normalización por Lotes:\", history_bn.history)\n",
        "print(\"Historial con ReLU y He:\", history_relu_he.history)"
      ],
      "metadata": {
        "colab": {
          "base_uri": "https://localhost:8080/"
        },
        "id": "MaBEoXOSYfW0",
        "outputId": "9f6a6d0f-8197-4863-ed98-db7d8ca89f0e",
        "trusted": true
      },
      "execution_count": null,
      "outputs": [
        {
          "output_type": "stream",
          "name": "stdout",
          "text": [
            "Historial inicial: {'loss': [2.2492222785949707, 2.24007511138916, 2.2385880947113037, 2.238797903060913, 2.23892879486084, 2.237374782562256, 2.2373769283294678, 2.2376813888549805, 2.2372546195983887, 2.238009452819824, 2.2371275424957275, 2.2370307445526123, 2.2375142574310303, 2.236882209777832, 2.236990213394165, 2.2370452880859375, 2.2371041774749756], 'accuracy': [0.18394146859645844, 0.1881594955921173, 0.18914233148097992, 0.18885567784309387, 0.18856900930404663, 0.18921059370040894, 0.18921059370040894, 0.1890331357717514, 0.18921059370040894, 0.1890331357717514, 0.18921059370040894, 0.18921059370040894, 0.18899217247962952, 0.18921059370040894, 0.18921059370040894, 0.18921059370040894, 0.18914233148097992], 'val_loss': [2.2261295318603516, 2.227452278137207, 2.22452712059021, 2.2252814769744873, 2.2296323776245117, 2.2258238792419434, 2.2237892150878906, 2.2250072956085205, 2.2244374752044678, 2.225780963897705, 2.2247443199157715, 2.223728895187378, 2.224350929260254, 2.22381329536438, 2.224487543106079, 2.2242913246154785, 2.2252347469329834], 'val_accuracy': [0.19587430357933044, 0.19587430357933044, 0.19587430357933044, 0.19587430357933044, 0.19587430357933044, 0.19587430357933044, 0.19587430357933044, 0.19587430357933044, 0.19587430357933044, 0.19587430357933044, 0.19587430357933044, 0.19587430357933044, 0.19587430357933044, 0.19587430357933044, 0.19587430357933044, 0.19587430357933044, 0.19587430357933044]}\n",
            "Historial con Normalización por Lotes: {'loss': [1.5671443939208984, 1.2903755903244019, 1.1797657012939453, 1.108031988143921, 1.0455156564712524, 0.9988518357276917, 0.9573131799697876, 0.9229481816291809, 0.8825640678405762, 0.8641406893730164, 0.8382083773612976, 0.809945821762085, 0.7886127829551697, 0.7688412070274353, 0.7471386194229126, 0.7277925610542297, 0.7163817882537842, 0.6969114542007446, 0.6844480633735657, 0.6682444214820862, 0.6612001061439514, 0.648091197013855, 0.6383441090583801, 0.6287380456924438, 0.6199830174446106, 0.6134002208709717, 0.601373553276062, 0.5887529850006104, 0.5852763056755066, 0.5810386538505554, 0.5720337629318237], 'accuracy': [0.47719672322273254, 0.5919297933578491, 0.6356388926506042, 0.6575207710266113, 0.6779283881187439, 0.691988468170166, 0.7044104933738708, 0.714525580406189, 0.7282034754753113, 0.7337455749511719, 0.742591142654419, 0.7485837340354919, 0.757579505443573, 0.7624936699867249, 0.7690459489822388, 0.7745744585990906, 0.779502272605896, 0.7865186929702759, 0.7887846827507019, 0.792907178401947, 0.7942858934402466, 0.7999098896980286, 0.8014387488365173, 0.80771803855896, 0.8080046772956848, 0.8098065853118896, 0.8155534863471985, 0.8176146745681763, 0.8189114928245544, 0.8195667266845703, 0.8220921158790588], 'val_loss': [1.6747665405273438, 1.7387516498565674, 1.4272180795669556, 1.3666834831237793, 1.138407826423645, 1.1276938915252686, 0.9810773134231567, 0.9693313241004944, 1.0549488067626953, 0.9823806285858154, 1.0311263799667358, 1.065935492515564, 0.9078073501586914, 1.1311943531036377, 0.8850631713867188, 0.891491711139679, 0.9748544096946716, 0.810920000076294, 0.9716510772705078, 0.9097998738288879, 1.0109151601791382, 0.7908243536949158, 0.8058305978775024, 0.835349440574646, 0.8513012528419495, 0.7119128108024597, 0.8487676978111267, 0.7545104622840881, 0.7456275820732117, 0.7573103904724121, 0.8155224919319153], 'val_accuracy': [0.45878151059150696, 0.4507913291454315, 0.540988028049469, 0.5578902959823608, 0.6481637954711914, 0.6399815678596497, 0.6951444149017334, 0.6970267295837402, 0.6724032163619995, 0.6875768303871155, 0.6697525978088379, 0.6655270457267761, 0.7128918170928955, 0.6501613259315491, 0.7250691652297974, 0.7185771465301514, 0.6904963254928589, 0.7477335333824158, 0.6976797580718994, 0.7152734994888306, 0.6748232841491699, 0.749846339225769, 0.742393970489502, 0.7404732704162598, 0.7304855585098267, 0.7817301750183105, 0.7347111105918884, 0.7651352286338806, 0.7674016356468201, 0.7622157335281372, 0.7419329881668091]}\n",
            "Historial con ReLU y He: {'loss': [2.2410247325897217, 2.237459182739258, 2.237186908721924, 2.237027406692505, 2.2369866371154785, 2.236919403076172, 2.237095594406128, 2.2369487285614014, 2.2369070053100586, 2.2368829250335693, 2.236873149871826, 2.2369484901428223, 2.2368009090423584, 2.236774444580078, 2.236873149871826, 2.2367730140686035, 2.2368171215057373, 2.236851215362549, 2.2368052005767822, 2.2368226051330566, 2.236746072769165, 2.23667573928833, 2.2366507053375244, 2.2367208003997803, 2.2366504669189453, 2.2367608547210693], 'accuracy': [0.18871916830539703, 0.18921059370040894, 0.18921059370040894, 0.18921059370040894, 0.18921059370040894, 0.18921059370040894, 0.18921059370040894, 0.18921059370040894, 0.18921059370040894, 0.18921059370040894, 0.18921059370040894, 0.18921059370040894, 0.18921059370040894, 0.18921059370040894, 0.18921059370040894, 0.18921059370040894, 0.18921059370040894, 0.18921059370040894, 0.18921059370040894, 0.18921059370040894, 0.18921059370040894, 0.18921059370040894, 0.18921059370040894, 0.18921059370040894, 0.18921059370040894, 0.18921059370040894], 'val_loss': [2.2247188091278076, 2.225301742553711, 2.2244842052459717, 2.225529432296753, 2.2246954441070557, 2.225874423980713, 2.2254366874694824, 2.2239556312561035, 2.2241714000701904, 2.2244484424591064, 2.2242116928100586, 2.2234532833099365, 2.2241179943084717, 2.2236626148223877, 2.223616600036621, 2.223494529724121, 2.223243474960327, 2.2236273288726807, 2.2234652042388916, 2.2234296798706055, 2.2232346534729004, 2.224836826324463, 2.2236011028289795, 2.223477602005005, 2.223878860473633, 2.2243127822875977], 'val_accuracy': [0.19587430357933044, 0.19587430357933044, 0.19587430357933044, 0.19587430357933044, 0.19587430357933044, 0.19587430357933044, 0.19587430357933044, 0.19587430357933044, 0.19587430357933044, 0.19587430357933044, 0.19587430357933044, 0.19587430357933044, 0.19587430357933044, 0.19587430357933044, 0.19587430357933044, 0.19587430357933044, 0.19587430357933044, 0.19587430357933044, 0.19587430357933044, 0.19587430357933044, 0.19587430357933044, 0.19587430357933044, 0.19587430357933044, 0.19587430357933044, 0.19587430357933044, 0.19587430357933044]}\n"
          ]
        }
      ]
    },
    {
      "cell_type": "markdown",
      "source": [
        "## Parte C: Avanzando en Regularización y Optimización\n",
        "* Introducir Dropout"
      ],
      "metadata": {
        "id": "so6L5ZTCde8Z"
      }
    },
    {
      "cell_type": "code",
      "source": [
        "from tensorflow.keras.layers import Dropout"
      ],
      "metadata": {
        "id": "XvqogNnGdfJL",
        "trusted": true
      },
      "execution_count": null,
      "outputs": []
    },
    {
      "cell_type": "markdown",
      "source": [
        "### Función para construir el modelo con dropout (Parte C, paso 1)"
      ],
      "metadata": {
        "id": "r_vCJyS6dfTb"
      }
    },
    {
      "cell_type": "code",
      "source": [
        "def build_model_with_dropout(input_shape, num_classes, dropout_rate=0.5):\n",
        "    model = Sequential()\n",
        "    model.add(Flatten(input_shape=input_shape))\n",
        "    for _ in range(20):\n",
        "        model.add(Dense(100, activation='elu', kernel_initializer=GlorotUniform()))\n",
        "        model.add(Dropout(dropout_rate))\n",
        "    model.add(Dense(num_classes, activation='softmax'))\n",
        "    return model"
      ],
      "metadata": {
        "id": "PXeio0cUdfck",
        "trusted": true
      },
      "execution_count": null,
      "outputs": []
    },
    {
      "cell_type": "markdown",
      "source": [
        "### Función para realizar predicciones utilizando MC Dropout (Parte C, paso 2)"
      ],
      "metadata": {
        "id": "QvsOMVE9dfk_"
      }
    },
    {
      "cell_type": "code",
      "source": [
        "def mc_dropout_predict(model, data, num_samples=100):\n",
        "    predictions = [model(data, training=True) for _ in range(num_samples)]\n",
        "    return tf.reduce_mean(predictions, axis=0)"
      ],
      "metadata": {
        "id": "fbVrwM_xdftb",
        "trusted": true
      },
      "execution_count": null,
      "outputs": []
    },
    {
      "cell_type": "markdown",
      "source": [
        "### Construir y entrenar el modelo con dropout\n",
        "\n"
      ],
      "metadata": {
        "id": "ol2hEFdCdf3K"
      }
    },
    {
      "cell_type": "code",
      "source": [
        "model_dropout = build_model_with_dropout(train_data[0].shape[1:], ds_info.features['label'].num_classes)\n",
        "history_dropout = compile_and_train(model_dropout, train_data, test_data)"
      ],
      "metadata": {
        "colab": {
          "base_uri": "https://localhost:8080/"
        },
        "id": "nLsS1oKRdf-7",
        "outputId": "c9d3a9e6-a01f-4a12-9ecb-7864e28b9e74",
        "trusted": true
      },
      "execution_count": null,
      "outputs": [
        {
          "output_type": "stream",
          "name": "stdout",
          "text": [
            "Epoch 1/50\n",
            "2290/2290 [==============================] - 31s 11ms/step - loss: 2.4959 - accuracy: 0.1520 - val_loss: 2.2288 - val_accuracy: 0.1959\n",
            "Epoch 2/50\n",
            "2290/2290 [==============================] - 24s 11ms/step - loss: 2.2514 - accuracy: 0.1839 - val_loss: 2.2243 - val_accuracy: 0.1959\n",
            "Epoch 3/50\n",
            "2290/2290 [==============================] - 24s 10ms/step - loss: 2.2497 - accuracy: 0.1849 - val_loss: 2.2281 - val_accuracy: 0.1959\n",
            "Epoch 4/50\n",
            "2290/2290 [==============================] - 24s 11ms/step - loss: 2.2497 - accuracy: 0.1836 - val_loss: 2.2267 - val_accuracy: 0.1959\n",
            "Epoch 5/50\n",
            "2290/2290 [==============================] - 24s 11ms/step - loss: 2.2509 - accuracy: 0.1835 - val_loss: 2.2274 - val_accuracy: 0.1959\n",
            "Epoch 6/50\n",
            "2290/2290 [==============================] - 25s 11ms/step - loss: 2.2499 - accuracy: 0.1837 - val_loss: 2.2333 - val_accuracy: 0.1959\n",
            "Epoch 7/50\n",
            "2290/2290 [==============================] - 25s 11ms/step - loss: 2.2497 - accuracy: 0.1836 - val_loss: 2.2293 - val_accuracy: 0.1959\n"
          ]
        }
      ]
    },
    {
      "cell_type": "markdown",
      "source": [
        "### Utilizar MC Dropout para evaluar el modelo en el conjunto de test,  Evluación con MC Dropout (Parte C, paso 2)"
      ],
      "metadata": {
        "id": "pZbwfn5adgHu"
      }
    },
    {
      "cell_type": "code",
      "source": [
        "mc_predictions = mc_dropout_predict(model_dropout, test_data[0])"
      ],
      "metadata": {
        "id": "a6uy8U4HdgP9",
        "trusted": true
      },
      "execution_count": null,
      "outputs": []
    },
    {
      "cell_type": "markdown",
      "source": [
        "\n",
        "###  Calcular la precisión final con MC Dropout"
      ],
      "metadata": {
        "id": "PsE0XMnHdgY0"
      }
    },
    {
      "cell_type": "code",
      "source": [
        "mc_accuracy = tf.metrics.categorical_accuracy(test_data[1], mc_predictions)\n",
        "mc_accuracy_mean = tf.reduce_mean(mc_accuracy)"
      ],
      "metadata": {
        "id": "2NUDtPJPdggh",
        "trusted": true
      },
      "execution_count": null,
      "outputs": []
    },
    {
      "cell_type": "markdown",
      "source": [
        "### Imprimir las métricas"
      ],
      "metadata": {
        "id": "rfhSGwTCgqpQ"
      }
    },
    {
      "cell_type": "code",
      "source": [
        "print(\"Historial con Dropout:\", history_dropout.history)\n",
        "print(\"Precisión media con MC Dropout:\", mc_accuracy_mean.numpy())"
      ],
      "metadata": {
        "colab": {
          "base_uri": "https://localhost:8080/"
        },
        "id": "1LcVwpIBgqx3",
        "outputId": "ee2ef4d1-6bac-4d85-c19c-713fcb354072",
        "trusted": true
      },
      "execution_count": null,
      "outputs": [
        {
          "output_type": "stream",
          "name": "stdout",
          "text": [
            "Historial con Dropout: {'loss': [2.495887279510498, 2.2513513565063477, 2.249732494354248, 2.2497031688690186, 2.2508950233459473, 2.2499232292175293, 2.2496538162231445], 'accuracy': [0.15204007923603058, 0.18387320637702942, 0.18491065502166748, 0.1835729032754898, 0.1834636926651001, 0.1836548000574112, 0.1836138516664505], 'val_loss': [2.2288424968719482, 2.224316358566284, 2.2281417846679688, 2.226691722869873, 2.2273740768432617, 2.233281135559082, 2.229280948638916], 'val_accuracy': [0.19587430357933044, 0.19587430357933044, 0.19587430357933044, 0.19587430357933044, 0.19587430357933044, 0.19587430357933044, 0.19587430357933044]}\n",
            "Precisión media con MC Dropout: 0.1958743\n"
          ]
        }
      ]
    },
    {
      "cell_type": "markdown",
      "source": [
        "## Gráficos de las Curvas de Entrenamiento y Validación"
      ],
      "metadata": {
        "id": "WTxINz0khRXr"
      }
    },
    {
      "cell_type": "code",
      "source": [
        "%matplotlib inline\n",
        "import matplotlib.pyplot as plt\n",
        "import warnings\n",
        "warnings.filterwarnings('ignore')   # Suppress Matplotlib warnings"
      ],
      "metadata": {
        "id": "GFmio4wGkIjx",
        "trusted": true
      },
      "execution_count": null,
      "outputs": []
    },
    {
      "cell_type": "code",
      "source": [
        "def plot_history(histories, titles):\n",
        "    plt.figure(figsize=(14, 5))\n",
        "    for i, (history, title) in enumerate(zip(histories, titles)):\n",
        "        plt.subplot(1, len(histories), i+1)\n",
        "        plt.plot(history.history['accuracy'], label='train_accuracy')\n",
        "        plt.plot(history.history['val_accuracy'], label='val_accuracy')\n",
        "        plt.title('Model Accuracy - ' + title)\n",
        "        plt.ylabel('Accuracy')\n",
        "        plt.xlabel('Epoch')\n",
        "        plt.legend(loc='upper left')\n",
        "    plt.tight_layout()\n",
        "    plt.show()"
      ],
      "metadata": {
        "id": "5rYMd_BUhRf_",
        "trusted": true
      },
      "execution_count": null,
      "outputs": []
    },
    {
      "cell_type": "markdown",
      "source": [
        "### Suponiendo que history, history_bn, history_relu_he, history_dropout son los históricos obtenidos de cada modelo"
      ],
      "metadata": {
        "id": "QBgBP6rNhUqR"
      }
    },
    {
      "cell_type": "code",
      "source": [
        "plot_history([history, history_bn, history_relu_he, history_dropout],\n",
        "             ['Inicial', 'BatchNorm', 'ReLU+He', 'Dropout'])"
      ],
      "metadata": {
        "colab": {
          "base_uri": "https://localhost:8080/",
          "height": 507
        },
        "id": "cIAYZjlhhU09",
        "outputId": "5bce51b2-663a-4894-b34c-962534720dda",
        "trusted": true
      },
      "execution_count": null,
      "outputs": [
        {
          "output_type": "display_data",
          "data": {
            "text/plain": [
              "<Figure size 1400x500 with 4 Axes>"
            ],
            "image/png": "[encoded data removed]"
          },
          "metadata": {}
        }
      ]
    },
    {
      "cell_type": "markdown",
      "source": [
        "### Sugerencias para Futuras Exploraciones:\n",
        "### Optimización de Hiperparámetros"
      ],
      "metadata": {
        "id": "cGcTQ9T8hU_n"
      }
    },
    {
      "cell_type": "code",
      "source": [
        "!pip install keras-tuner --upgrade"
      ],
      "metadata": {
        "id": "NioikNpghzSI",
        "outputId": "d5e74b63-d7f5-45ca-b241-91e61984aa4a",
        "colab": {
          "base_uri": "https://localhost:8080/"
        }
      },
      "execution_count": null,
      "outputs": [
        {
          "output_type": "stream",
          "name": "stdout",
          "text": [
            "Collecting keras-tuner\n",
            "  Downloading keras_tuner-1.4.7-py3-none-any.whl (129 kB)\n",
            "\u001b[?25l     \u001b[90m━━━━━━━━━━━━━━━━━━━━━━━━━━━━━━━━━━━━━━━━\u001b[0m \u001b[32m0.0/129.1 kB\u001b[0m \u001b[31m?\u001b[0m eta \u001b[36m-:--:--\u001b[0m\r\u001b[2K     \u001b[90m━━━━━━━━━━━━━━━━━━━━━━━━━━━━━━━━━━━━━━━━\u001b[0m \u001b[32m129.1/129.1 kB\u001b[0m \u001b[31m3.8 MB/s\u001b[0m eta \u001b[36m0:00:00\u001b[0m\n",
            "\u001b[?25hRequirement already satisfied: keras in /usr/local/lib/python3.10/dist-packages (from keras-tuner) (2.15.0)\n",
            "Requirement already satisfied: packaging in /usr/local/lib/python3.10/dist-packages (from keras-tuner) (24.0)\n",
            "Requirement already satisfied: requests in /usr/local/lib/python3.10/dist-packages (from keras-tuner) (2.31.0)\n",
            "Collecting kt-legacy (from keras-tuner)\n",
            "  Downloading kt_legacy-1.0.5-py3-none-any.whl (9.6 kB)\n",
            "Requirement already satisfied: charset-normalizer<4,>=2 in /usr/local/lib/python3.10/dist-packages (from requests->keras-tuner) (3.3.2)\n",
            "Requirement already satisfied: idna<4,>=2.5 in /usr/local/lib/python3.10/dist-packages (from requests->keras-tuner) (3.6)\n",
            "Requirement already satisfied: urllib3<3,>=1.21.1 in /usr/local/lib/python3.10/dist-packages (from requests->keras-tuner) (2.0.7)\n",
            "Requirement already satisfied: certifi>=2017.4.17 in /usr/local/lib/python3.10/dist-packages (from requests->keras-tuner) (2024.2.2)\n",
            "Installing collected packages: kt-legacy, keras-tuner\n",
            "Successfully installed keras-tuner-1.4.7 kt-legacy-1.0.5\n"
          ]
        }
      ]
    },
    {
      "cell_type": "code",
      "source": [
        "from tensorflow import keras\n",
        "from kerastuner.tuners import RandomSearch"
      ],
      "metadata": {
        "id": "VRm09rrfWkJ1",
        "trusted": true
      },
      "execution_count": null,
      "outputs": []
    },
    {
      "cell_type": "markdown",
      "source": [],
      "metadata": {
        "id": "zOyCu-VfWweW"
      }
    },
    {
      "cell_type": "markdown",
      "source": [
        "### Funcion"
      ],
      "metadata": {
        "id": "wA-DG2SGWpqZ"
      }
    },
    {
      "cell_type": "code",
      "source": [
        "def build_model(hp):\n",
        "    model = keras.Sequential()\n",
        "    model.add(keras.layers.Flatten(input_shape=(28, 28)))  # Ajusta según la forma de tus datos de entrada\n",
        "\n",
        "    # Permite a Keras Tuner decidir el número de neuronas en las primeras dos capas Dense\n",
        "    for i in range(2):  # Dos capas densas\n",
        "        model.add(keras.layers.Dense(\n",
        "            units=hp.Int('units_' + str(i), min_value=32, max_value=512, step=32),\n",
        "            activation='relu'))\n",
        "\n",
        "    model.add(keras.layers.Dense(10, activation='softmax'))  # Ajusta según el número de clases\n",
        "\n",
        "    # Permite a Keras Tuner decidir la tasa de aprendizaje\n",
        "    hp_learning_rate = hp.Choice('learning_rate', values=[1e-2, 1e-3, 1e-4])\n",
        "\n",
        "    model.compile(\n",
        "        optimizer=keras.optimizers.Adam(learning_rate=hp_learning_rate),\n",
        "        loss=keras.losses.SparseCategoricalCrossentropy(),\n",
        "        metrics=['accuracy'])\n",
        "\n",
        "    return model"
      ],
      "metadata": {
        "id": "dSGY9_uTWp6f",
        "trusted": true
      },
      "execution_count": null,
      "outputs": []
    },
    {
      "cell_type": "markdown",
      "source": [
        "### # Crear el tuner y realizar la búsqueda de hiperparámetros"
      ],
      "metadata": {
        "id": "zttKj1MKWyAz"
      }
    },
    {
      "cell_type": "code",
      "source": [
        "tuner = RandomSearch(\n",
        "    build_model,\n",
        "    objective='val_accuracy',\n",
        "    max_trials=10,  # Número máximo de configuraciones de prueba\n",
        "    executions_per_trial=2,  # Número de modelos que se entrenan por prueba\n",
        "    directory='logs',  # Directorio para almacenar logs\n",
        "    project_name='keras_tuner_demo')"
      ],
      "metadata": {
        "id": "KtcoYqnnWyJD",
        "trusted": true
      },
      "execution_count": null,
      "outputs": []
    },
    {
      "cell_type": "code",
      "source": [
        "# Suponiendo que x_train y y_train están definidos\n",
        "tuner.search(train_data, test_data epochs=10, validation_split=0.2)\n",
        "\n",
        "# Obtiene el mejor modelo\n",
        "best_model = tuner.get_best_models(num_models=1)[0]\n",
        "\n",
        "# Evaluar el mejor modelo\n",
        "loss, accuracy = best_model.evaluate(train_data, test_data)\n",
        "print(f\"Loss: {loss}, Accuracy: {accuracy}\")"
      ],
      "metadata": {
        "id": "slxEb3895drb",
        "outputId": "c765c914-0a93-4f08-c70e-9a1ab8b07c06",
        "colab": {
          "base_uri": "https://localhost:8080/",
          "height": 211
        }
      },
      "execution_count": null,
      "outputs": [
        {
          "output_type": "error",
          "ename": "NameError",
          "evalue": "name 'tra' is not defined",
          "traceback": [
            "\u001b[0;31m---------------------------------------------------------------------------\u001b[0m",
            "\u001b[0;31mNameError\u001b[0m                                 Traceback (most recent call last)",
            "\u001b[0;32m<ipython-input-33-4b29c62b9fee>\u001b[0m in \u001b[0;36m<cell line: 2>\u001b[0;34m()\u001b[0m\n\u001b[1;32m      1\u001b[0m \u001b[0;31m# Suponiendo que x_train y y_train están definidos\u001b[0m\u001b[0;34m\u001b[0m\u001b[0;34m\u001b[0m\u001b[0m\n\u001b[0;32m----> 2\u001b[0;31m \u001b[0mtuner\u001b[0m\u001b[0;34m.\u001b[0m\u001b[0msearch\u001b[0m\u001b[0;34m(\u001b[0m\u001b[0mtra\u001b[0m\u001b[0;34m,\u001b[0m \u001b[0my_train\u001b[0m\u001b[0;34m,\u001b[0m \u001b[0mepochs\u001b[0m\u001b[0;34m=\u001b[0m\u001b[0;36m10\u001b[0m\u001b[0;34m,\u001b[0m \u001b[0mvalidation_split\u001b[0m\u001b[0;34m=\u001b[0m\u001b[0;36m0.2\u001b[0m\u001b[0;34m)\u001b[0m\u001b[0;34m\u001b[0m\u001b[0;34m\u001b[0m\u001b[0m\n\u001b[0m\u001b[1;32m      3\u001b[0m \u001b[0;34m\u001b[0m\u001b[0m\n\u001b[1;32m      4\u001b[0m \u001b[0;31m# Obtiene el mejor modelo\u001b[0m\u001b[0;34m\u001b[0m\u001b[0;34m\u001b[0m\u001b[0m\n\u001b[1;32m      5\u001b[0m \u001b[0mbest_model\u001b[0m \u001b[0;34m=\u001b[0m \u001b[0mtuner\u001b[0m\u001b[0;34m.\u001b[0m\u001b[0mget_best_models\u001b[0m\u001b[0;34m(\u001b[0m\u001b[0mnum_models\u001b[0m\u001b[0;34m=\u001b[0m\u001b[0;36m1\u001b[0m\u001b[0;34m)\u001b[0m\u001b[0;34m[\u001b[0m\u001b[0;36m0\u001b[0m\u001b[0;34m]\u001b[0m\u001b[0;34m\u001b[0m\u001b[0;34m\u001b[0m\u001b[0m\n",
            "\u001b[0;31mNameError\u001b[0m: name 'tra' is not defined"
          ]
        }
      ]
    },
    {
      "cell_type": "markdown",
      "source": [
        "### SVHN con CNN"
      ],
      "metadata": {
        "id": "_WR40msmW7s-"
      }
    },
    {
      "cell_type": "code",
      "source": [
        "def load_data():\n",
        "    (train_data, test_data), ds_info = tfds.load(\n",
        "        'svhn_cropped',\n",
        "        split=['train', 'test'],\n",
        "        as_supervised=True,\n",
        "        with_info=True\n",
        "    )\n",
        "    return train_data, test_data, ds_info"
      ],
      "metadata": {
        "id": "jZNl3XabyJSy"
      },
      "execution_count": null,
      "outputs": []
    },
    {
      "cell_type": "code",
      "source": [
        "train_data, test_data, ds_info = load_data()"
      ],
      "metadata": {
        "id": "5W2MyZeWyTyN"
      },
      "execution_count": null,
      "outputs": []
    },
    {
      "cell_type": "code",
      "source": [
        "def preprocess(image, label):\n",
        "    image = tf.image.convert_image_dtype(image, tf.float32)  # Convertir a float y escalar [0, 1]\n",
        "    label = tf.one_hot(label, depth=ds_info.features['label'].num_classes)\n",
        "    return image, label"
      ],
      "metadata": {
        "id": "Ll61q_WZrNct"
      },
      "execution_count": null,
      "outputs": []
    },
    {
      "cell_type": "markdown",
      "source": [
        "### Aplicar el preprocesamiento de datos\n",
        "\n"
      ],
      "metadata": {
        "id": "QvfRzniavN2n"
      }
    },
    {
      "cell_type": "code",
      "source": [
        "train_data2 = train_data.map(preprocess).cache().shuffle(10000).batch(32).prefetch(tf.data.AUTOTUNE)\n",
        "test_data2 = test_data.map(preprocess).batch(32).prefetch(tf.data.AUTOTUNE)"
      ],
      "metadata": {
        "id": "uYnFDW0NvN-p"
      },
      "execution_count": null,
      "outputs": []
    },
    {
      "cell_type": "markdown",
      "source": [
        "### Construir el modelo CNN"
      ],
      "metadata": {
        "id": "Dx8Fv5P3vVWP"
      }
    },
    {
      "cell_type": "code",
      "source": [
        "model = Sequential([\n",
        "    Conv2D(32, (3, 3), activation='relu', input_shape=(32, 32, 3)),\n",
        "    BatchNormalization(),\n",
        "    MaxPooling2D((2, 2)),\n",
        "    Conv2D(64, (3, 3), activation='relu'),\n",
        "    BatchNormalization(),\n",
        "    MaxPooling2D((2, 2)),\n",
        "    Conv2D(128, (3, 3), activation='relu'),\n",
        "    BatchNormalization(),\n",
        "    MaxPooling2D((2, 2)),\n",
        "    Flatten(),\n",
        "    Dense(128, activation='relu'),\n",
        "    Dropout(0.5),\n",
        "    Dense(ds_info.features['label'].num_classes, activation='softmax')\n",
        "])\n",
        "\n",
        "model.compile(\n",
        "    optimizer='adam',\n",
        "    loss='categorical_crossentropy',\n",
        "    metrics=['accuracy']\n",
        ")\n"
      ],
      "metadata": {
        "id": "IGU4WVBAvVej"
      },
      "execution_count": null,
      "outputs": []
    },
    {
      "cell_type": "markdown",
      "source": [
        "### Entrenar el modelo"
      ],
      "metadata": {
        "id": "M-HrkS44vVlu"
      }
    },
    {
      "cell_type": "code",
      "source": [
        "history = model.fit(train_data2, epochs=10, validation_data=test_data2)"
      ],
      "metadata": {
        "id": "eY_vlSXnvVsg",
        "outputId": "87797ea4-a90b-4730-e70b-7c2d26e4a4b3",
        "colab": {
          "base_uri": "https://localhost:8080/"
        }
      },
      "execution_count": null,
      "outputs": [
        {
          "output_type": "stream",
          "name": "stdout",
          "text": [
            "Epoch 1/10\n",
            "2290/2290 [==============================] - 36s 13ms/step - loss: 0.7925 - accuracy: 0.7513 - val_loss: 0.5891 - val_accuracy: 0.8233\n",
            "Epoch 2/10\n",
            "2290/2290 [==============================] - 24s 10ms/step - loss: 0.4663 - accuracy: 0.8632 - val_loss: 0.4295 - val_accuracy: 0.8724\n",
            "Epoch 3/10\n",
            "2290/2290 [==============================] - 18s 8ms/step - loss: 0.3970 - accuracy: 0.8840 - val_loss: 0.3758 - val_accuracy: 0.8914\n",
            "Epoch 4/10\n",
            "2290/2290 [==============================] - 21s 9ms/step - loss: 0.3510 - accuracy: 0.8979 - val_loss: 0.3451 - val_accuracy: 0.9026\n",
            "Epoch 5/10\n",
            "2290/2290 [==============================] - 19s 8ms/step - loss: 0.3264 - accuracy: 0.9055 - val_loss: 0.3118 - val_accuracy: 0.9149\n",
            "Epoch 6/10\n",
            "2290/2290 [==============================] - 18s 8ms/step - loss: 0.2953 - accuracy: 0.9121 - val_loss: 0.3092 - val_accuracy: 0.9157\n",
            "Epoch 7/10\n",
            "2290/2290 [==============================] - 23s 10ms/step - loss: 0.2737 - accuracy: 0.9193 - val_loss: 0.3045 - val_accuracy: 0.9180\n",
            "Epoch 8/10\n",
            "2290/2290 [==============================] - 18s 8ms/step - loss: 0.2592 - accuracy: 0.9243 - val_loss: 0.3201 - val_accuracy: 0.9134\n",
            "Epoch 9/10\n",
            "2290/2290 [==============================] - 18s 8ms/step - loss: 0.2438 - accuracy: 0.9271 - val_loss: 0.3302 - val_accuracy: 0.9155\n",
            "Epoch 10/10\n",
            "2290/2290 [==============================] - 19s 8ms/step - loss: 0.2309 - accuracy: 0.9314 - val_loss: 0.3452 - val_accuracy: 0.9110\n"
          ]
        }
      ]
    },
    {
      "cell_type": "markdown",
      "source": [
        "### Evaluar el modelo"
      ],
      "metadata": {
        "id": "qYYzITqQv9io"
      }
    },
    {
      "cell_type": "code",
      "source": [
        "test_loss, test_acc = model.evaluate(test_data2)\n",
        "print(\"Test accuracy:\", test_acc)\n"
      ],
      "metadata": {
        "id": "vRB_3LS0v9wi",
        "outputId": "f23a13ba-2eac-45fb-d71e-153a566c7575",
        "colab": {
          "base_uri": "https://localhost:8080/"
        }
      },
      "execution_count": null,
      "outputs": [
        {
          "output_type": "stream",
          "name": "stdout",
          "text": [
            "814/814 [==============================] - 7s 9ms/step - loss: 0.3452 - accuracy: 0.9110\n",
            "Test accuracy: 0.9110325574874878\n"
          ]
        }
      ]
    },
    {
      "cell_type": "markdown",
      "source": [
        "### Visualización"
      ],
      "metadata": {
        "id": "BvhCou5kw1bz"
      }
    },
    {
      "cell_type": "code",
      "source": [
        "import matplotlib.pyplot as plt\n",
        "\n",
        "plt.plot(history.history['accuracy'], label='accuracy')\n",
        "plt.plot(history.history['val_accuracy'], label='val_accuracy')\n",
        "plt.xlabel('Epoch')\n",
        "plt.ylabel('Accuracy')\n",
        "plt.ylim([0, 1])\n",
        "plt.legend(loc='lower right')"
      ],
      "metadata": {
        "id": "7uBtAeg0w1j3",
        "outputId": "4b482ceb-2eb8-449d-8cb1-3e3749d23343",
        "colab": {
          "base_uri": "https://localhost:8080/",
          "height": 472
        }
      },
      "execution_count": null,
      "outputs": [
        {
          "output_type": "execute_result",
          "data": {
            "text/plain": [
              "<matplotlib.legend.Legend at 0x7a1383815210>"
            ]
          },
          "metadata": {},
          "execution_count": 46
        },
        {
          "output_type": "display_data",
          "data": {
            "text/plain": [
              "<Figure size 640x480 with 1 Axes>"
            ],
            "image/png": "[encoded data removed]"
          },
          "metadata": {}
        }
      ]
    },
    {
      "cell_type": "markdown",
      "source": [
        "###  Técnicas Avanzadas de Regularización: Regularizaciones más avanzadas como L1/L2 o métodos basados en el ruido como Cutout."
      ],
      "metadata": {
        "id": "pAguiHLR0vHP"
      }
    },
    {
      "cell_type": "code",
      "source": [
        "import tensorflow as tf\n",
        "import tensorflow_datasets as tfds\n",
        "from tensorflow.keras.models import Sequential\n",
        "from tensorflow.keras.layers import Conv2D, MaxPooling2D, Flatten, Dense, Dropout, BatchNormalization\n",
        "from tensorflow.keras.regularizers import l1_l2\n",
        "import numpy as np"
      ],
      "metadata": {
        "id": "rODEYGdu0vjj"
      },
      "execution_count": 1,
      "outputs": []
    },
    {
      "cell_type": "markdown",
      "source": [
        "# 1. Cargar el dataset SVHN y preprocesar datos"
      ],
      "metadata": {
        "id": "0LBt-rdU9pQq"
      }
    },
    {
      "cell_type": "code",
      "source": [
        "# 1. Cargar el dataset SVHN utilizando tensorflow_datasets\n",
        "(ds_train, ds_test), ds_info = tfds.load(\n",
        "    'svhn_cropped',\n",
        "    split=['train', 'test'],\n",
        "    as_supervised=True,  # Cargar los datos en formato tupla (img, label)\n",
        "    with_info=True,  # Cargar la metadata del dataset\n",
        "    batch_size=-1  # Cargar todo el dataset\n",
        ")"
      ],
      "metadata": {
        "id": "uFYIPtAX90gO"
      },
      "execution_count": 2,
      "outputs": []
    },
    {
      "cell_type": "code",
      "source": [
        "x_train, y_train = tfds.as_numpy(ds_train)\n",
        "x_test, y_test = tfds.as_numpy(ds_test)"
      ],
      "metadata": {
        "id": "-LQhE4jx9nxz"
      },
      "execution_count": 3,
      "outputs": []
    },
    {
      "cell_type": "code",
      "source": [
        "# 2. Preprocesamiento de datos\n",
        "x_train, x_test = x_train / 255.0, x_test / 255.0  # Normalización"
      ],
      "metadata": {
        "id": "QtSq5g6qFEoV"
      },
      "execution_count": 4,
      "outputs": []
    },
    {
      "cell_type": "markdown",
      "source": [
        "###  Implementar Cutout"
      ],
      "metadata": {
        "id": "YYoJlowp1BTb"
      }
    },
    {
      "cell_type": "code",
      "source": [
        "def cutout(img):\n",
        "    h, w, _ = img.shape\n",
        "    mask_size = 16  # Tamaño de la máscara\n",
        "\n",
        "    # Centro del cuadrado\n",
        "    cx, cy = np.random.randint(w), np.random.randint(h)\n",
        "    x1 = np.clip(cx - mask_size // 2, 0, w)\n",
        "    x2 = np.clip(cx + mask_size // 2, 0, w)\n",
        "    y1 = np.clip(cy - mask_size // 2, 0, h)\n",
        "    y2 = np.clip(cy + mask_size // 2, 0, h)\n",
        "\n",
        "    img[y1:y2, x1:x2, :] = 0\n",
        "    return img\n"
      ],
      "metadata": {
        "id": "arQHyue71Bb4"
      },
      "execution_count": 5,
      "outputs": []
    },
    {
      "cell_type": "markdown",
      "source": [
        "### Aplicar la función augment al dataset"
      ],
      "metadata": {
        "id": "gJtHLAUv4uMo"
      }
    },
    {
      "cell_type": "code",
      "source": [
        "x_train = np.array([cutout(img) for img in x_train])"
      ],
      "metadata": {
        "id": "vhbbDoS14WcQ"
      },
      "execution_count": 6,
      "outputs": []
    },
    {
      "cell_type": "markdown",
      "source": [
        "### Construir y compilar el modelo con L1/L2 Regularization\n"
      ],
      "metadata": {
        "id": "G3z0FeXg1JXR"
      }
    },
    {
      "cell_type": "code",
      "source": [
        "model = Sequential([\n",
        "    Conv2D(32, (3, 3), activation='relu', input_shape=(32, 32, 3), kernel_regularizer=l1_l2(l1=1e-5, l2=1e-4)),\n",
        "    BatchNormalization(),\n",
        "    MaxPooling2D(2, 2),\n",
        "    Conv2D(64, (3, 3), activation='relu', kernel_regularizer=l1_l2(l1=1e-5, l2=1e-4)),\n",
        "    BatchNormalization(),\n",
        "    MaxPooling2D(2, 2),\n",
        "    Flatten(),\n",
        "    Dense(256, activation='relu', kernel_regularizer=l1_l2(l1=1e-5, l2=1e-4)),\n",
        "    Dropout(0.5),\n",
        "    Dense(10, activation='softmax')\n",
        "])\n",
        "\n",
        "model.compile(optimizer='adam', loss='sparse_categorical_crossentropy', metrics=['accuracy'])"
      ],
      "metadata": {
        "id": "1zQgx-gF1Jhn"
      },
      "execution_count": 7,
      "outputs": []
    },
    {
      "cell_type": "markdown",
      "source": [
        "### Entrenar el modelo"
      ],
      "metadata": {
        "id": "5k0Qk2bB1Ogm"
      }
    },
    {
      "cell_type": "code",
      "source": [
        "history = model.fit(x_train, y_train, epochs=10, validation_data=(x_test, y_test))"
      ],
      "metadata": {
        "id": "z8Y774v-1OpU",
        "outputId": "88fa6851-e3d3-4f3c-8048-3d54f8cec210",
        "colab": {
          "base_uri": "https://localhost:8080/"
        }
      },
      "execution_count": 8,
      "outputs": [
        {
          "output_type": "stream",
          "name": "stdout",
          "text": [
            "Epoch 1/10\n",
            "2290/2290 [==============================] - 179s 77ms/step - loss: 1.6903 - accuracy: 0.5009 - val_loss: 0.9865 - val_accuracy: 0.7753\n",
            "Epoch 2/10\n",
            "2290/2290 [==============================] - 156s 68ms/step - loss: 1.1468 - accuracy: 0.7073 - val_loss: 0.8117 - val_accuracy: 0.8342\n",
            "Epoch 3/10\n",
            "2290/2290 [==============================] - 165s 72ms/step - loss: 1.0632 - accuracy: 0.7470 - val_loss: 0.7718 - val_accuracy: 0.8577\n",
            "Epoch 4/10\n",
            "2290/2290 [==============================] - 169s 74ms/step - loss: 1.0062 - accuracy: 0.7698 - val_loss: 0.9218 - val_accuracy: 0.8124\n",
            "Epoch 5/10\n",
            "2290/2290 [==============================] - 168s 73ms/step - loss: 0.9637 - accuracy: 0.7856 - val_loss: 0.7330 - val_accuracy: 0.8756\n",
            "Epoch 6/10\n",
            "2290/2290 [==============================] - 167s 73ms/step - loss: 0.9385 - accuracy: 0.7960 - val_loss: 0.7373 - val_accuracy: 0.8769\n",
            "Epoch 7/10\n",
            "2290/2290 [==============================] - 175s 76ms/step - loss: 0.9187 - accuracy: 0.8038 - val_loss: 0.7452 - val_accuracy: 0.8749\n",
            "Epoch 8/10\n",
            "2290/2290 [==============================] - 169s 74ms/step - loss: 0.8948 - accuracy: 0.8112 - val_loss: 0.7498 - val_accuracy: 0.8704\n",
            "Epoch 9/10\n",
            "2290/2290 [==============================] - 173s 76ms/step - loss: 0.8806 - accuracy: 0.8186 - val_loss: 0.7206 - val_accuracy: 0.8823\n",
            "Epoch 10/10\n",
            "2290/2290 [==============================] - 178s 78ms/step - loss: 0.8718 - accuracy: 0.8231 - val_loss: 0.7098 - val_accuracy: 0.8921\n"
          ]
        }
      ]
    },
    {
      "cell_type": "markdown",
      "source": [
        "### Evaluar el modelo"
      ],
      "metadata": {
        "id": "O2X59wFm1T63"
      }
    },
    {
      "cell_type": "code",
      "source": [
        "test_loss, test_acc = model.evaluate(x_test, y_test)\n",
        "print(\"Test accuracy:\", test_acc)"
      ],
      "metadata": {
        "id": "3RYSIUN91UDi",
        "outputId": "db22987e-c576-4107-850a-fa3d765527a2",
        "colab": {
          "base_uri": "https://localhost:8080/"
        }
      },
      "execution_count": 9,
      "outputs": [
        {
          "output_type": "stream",
          "name": "stdout",
          "text": [
            "814/814 [==============================] - 18s 22ms/step - loss: 0.7098 - accuracy: 0.8921\n",
            "Test accuracy: 0.8920559287071228\n"
          ]
        }
      ]
    }
  ]
}