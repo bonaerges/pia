{
  "metadata": {
    "colab": {
      "provenance": [],
      "gpuType": "T4",
      "name": "notebooke06822448d",
      "include_colab_link": true
    },
    "kernelspec": {
      "name": "python3",
      "display_name": "Python 3",
      "language": "python"
    },
    "language_info": {
      "name": "python",
      "version": "3.10.13",
      "mimetype": "text/x-python",
      "codemirror_mode": {
        "name": "ipython",
        "version": 3
      },
      "pygments_lexer": "ipython3",
      "nbconvert_exporter": "python",
      "file_extension": ".py"
    },
    "accelerator": "GPU",
    "kaggle": {
      "accelerator": "none",
      "dataSources": [],
      "dockerImageVersionId": 30684,
      "isInternetEnabled": false,
      "language": "python",
      "sourceType": "notebook",
      "isGpuEnabled": false
    }
  },
  "nbformat_minor": 0,
  "nbformat": 4,
  "cells": [
    {
      "cell_type": "markdown",
      "metadata": {
        "id": "view-in-github",
        "colab_type": "text"
      },
      "source": [
        "<a href=\"https://colab.research.google.com/github/bonaerges/pia/blob/main/TareaDeepLearningKerasconMejoras.ipynb\" target=\"_parent\"><img src=\"https://colab.research.google.com/assets/colab-badge.svg\" alt=\"Open In Colab\"/></a>"
      ]
    },
    {
      "cell_type": "code",
      "source": [
        "import sys\n",
        "\n",
        "assert sys.version_info >= (3, 7)"
      ],
      "metadata": {
        "id": "moEzmf2LRtWe",
        "execution": {
          "iopub.status.busy": "2024-04-17T09:37:20.597053Z",
          "iopub.execute_input": "2024-04-17T09:37:20.597466Z",
          "iopub.status.idle": "2024-04-17T09:37:20.637136Z",
          "shell.execute_reply.started": "2024-04-17T09:37:20.597427Z",
          "shell.execute_reply": "2024-04-17T09:37:20.635975Z"
        },
        "trusted": true
      },
      "execution_count": 64,
      "outputs": []
    },
    {
      "cell_type": "code",
      "source": [
        "from packaging import version\n",
        "import tensorflow as tf\n",
        "import tensorflow_datasets as tfds"
      ],
      "metadata": {
        "id": "nlPTmHeqRvKr",
        "execution": {
          "iopub.status.busy": "2024-04-17T09:37:20.639433Z",
          "iopub.execute_input": "2024-04-17T09:37:20.639755Z",
          "iopub.status.idle": "2024-04-17T09:37:38.004193Z",
          "shell.execute_reply.started": "2024-04-17T09:37:20.639727Z",
          "shell.execute_reply": "2024-04-17T09:37:38.003036Z"
        },
        "trusted": true
      },
      "execution_count": 65,
      "outputs": []
    },
    {
      "cell_type": "code",
      "source": [
        "from tensorflow.keras.models import Sequential\n",
        "from tensorflow.keras.layers import Dense, Flatten\n",
        "from tensorflow.keras.initializers import GlorotUniform\n",
        "from tensorflow.keras.activations import elu\n",
        "from tensorflow.keras.optimizers import Adam\n",
        "from tensorflow.keras.callbacks import EarlyStopping\n",
        "from tensorflow.keras.layers import BatchNormalization, Activation\n",
        "from tensorflow.keras.initializers import HeNormal\n",
        "assert version.parse(tf.__version__) >= version.parse(\"2.8.0\")"
      ],
      "metadata": {
        "id": "mqAMAJHcmjNp",
        "execution": {
          "iopub.status.busy": "2024-04-17T09:37:38.00559Z",
          "iopub.execute_input": "2024-04-17T09:37:38.006164Z",
          "iopub.status.idle": "2024-04-17T09:37:38.027482Z",
          "shell.execute_reply.started": "2024-04-17T09:37:38.006133Z",
          "shell.execute_reply": "2024-04-17T09:37:38.026409Z"
        },
        "trusted": true
      },
      "execution_count": 66,
      "outputs": []
    },
    {
      "cell_type": "markdown",
      "source": [
        "# Parte A: Construcción y Entrenamiento Inicial\n",
        "\n",
        "\n",
        "## Construcción de la Red Neuronal:\n",
        "\n",
        "  ## 20 capas ocultas, cada una con 100 neuronas.\n",
        "\n",
        "*   20 capas ocultas, cada una con 100 neuronas\n",
        "\n",
        "*   Inicialización de Xavier/Glorot.\n",
        "\n",
        "*   Función de activación ELU.\n",
        "*   Entrenamiento de la Red:\n",
        "**   Uso del optimizador Adam.\n",
        "**   Implementación de la detención temprana.\n",
        "\n",
        "# Parte B: Integración de Mejoras y Comparación\n",
        "\n",
        "*   Normalización por Lotes\n",
        " Implementación y comparación de la velocidad de convergencia y el impacto en\n",
        "el tiempo de entrenamiento.\n",
        "\n",
        "\n",
        "## Implementación y comparación de la velocidad de convergencia y el impacto en el tiempo de entrenamiento.\n",
        "##Sustitución de Normalización por Lotes con ReLU:\n",
        "\n",
        "## Uso de la inicialización He.\n",
        "## Comparación de rendimiento entre configuraciones.\n",
        "\n",
        "# Parte C: Avanzando en Regularización y Optimización\n",
        "## Dropout y MC Dropout:\n",
        "## Implementación de dropout.\n",
        "## Evaluación con MC dropout sin reentrenamiento.\n",
        "## Análisis de los efectos."
      ],
      "metadata": {
        "id": "Bvt2zO7kZrdy"
      }
    },
    {
      "cell_type": "markdown",
      "source": [
        "###Parte A: Construcción y Entrenamiento Inicial\n",
        "### Cargar y prepara el dataset SVHN (Parte A, paso 1)"
      ],
      "metadata": {
        "id": "-fpijTO3SKVd"
      }
    },
    {
      "cell_type": "code",
      "source": [
        "def load_data():\n",
        "    (train_data, test_data), ds_info = tfds.load(\n",
        "        'svhn_cropped',\n",
        "        split=['train', 'test'],\n",
        "        as_supervised=True,\n",
        "        with_info=True,\n",
        "        batch_size=-1\n",
        "    )\n",
        "    return train_data, test_data, ds_info"
      ],
      "metadata": {
        "id": "MlemtOhTRvQg",
        "execution": {
          "iopub.status.busy": "2024-04-17T09:37:38.029101Z",
          "iopub.execute_input": "2024-04-17T09:37:38.029487Z",
          "iopub.status.idle": "2024-04-17T09:37:38.035336Z",
          "shell.execute_reply.started": "2024-04-17T09:37:38.029459Z",
          "shell.execute_reply": "2024-04-17T09:37:38.034401Z"
        },
        "trusted": true
      },
      "execution_count": 67,
      "outputs": []
    },
    {
      "cell_type": "markdown",
      "source": [
        "## Cargar y preparar datos"
      ],
      "metadata": {
        "id": "m1SDBDjhSakF"
      }
    },
    {
      "cell_type": "code",
      "source": [
        "train_data, test_data, ds_info = load_data()"
      ],
      "metadata": {
        "id": "KrrYEUaSRvTX",
        "execution": {
          "iopub.status.busy": "2024-04-17T09:47:34.428692Z",
          "iopub.execute_input": "2024-04-17T09:47:34.429142Z",
          "iopub.status.idle": "2024-04-17T09:55:20.368537Z",
          "shell.execute_reply.started": "2024-04-17T09:47:34.429113Z",
          "shell.execute_reply": "2024-04-17T09:55:20.36505Z"
        },
        "trusted": true
      },
      "execution_count": 68,
      "outputs": []
    },
    {
      "cell_type": "markdown",
      "source": [
        "### Preprocesar los datos (Parte A, paso 1)"
      ],
      "metadata": {
        "id": "VddmjMh_XgSf"
      }
    },
    {
      "cell_type": "code",
      "source": [
        "def preprocess(data, info):\n",
        "    x, y = data\n",
        "    x = tf.image.convert_image_dtype(x, tf.float32)\n",
        "    y = tf.one_hot(y, depth=info.features['label'].num_classes)\n",
        "    return x, y"
      ],
      "metadata": {
        "id": "4Z5aK0nlRvYo",
        "execution": {
          "iopub.status.busy": "2024-04-17T09:45:46.524115Z",
          "iopub.status.idle": "2024-04-17T09:45:46.524507Z",
          "shell.execute_reply.started": "2024-04-17T09:45:46.524307Z",
          "shell.execute_reply": "2024-04-17T09:45:46.524321Z"
        },
        "trusted": true
      },
      "execution_count": 69,
      "outputs": []
    },
    {
      "cell_type": "code",
      "source": [
        "train_data = preprocess(train_data, ds_info)\n",
        "test_data = preprocess(test_data, ds_info)"
      ],
      "metadata": {
        "id": "HFEuVhQ0RvbL",
        "execution": {
          "iopub.status.busy": "2024-04-17T09:45:46.525647Z",
          "iopub.status.idle": "2024-04-17T09:45:46.526019Z",
          "shell.execute_reply.started": "2024-04-17T09:45:46.525839Z",
          "shell.execute_reply": "2024-04-17T09:45:46.525854Z"
        },
        "trusted": true
      },
      "execution_count": 70,
      "outputs": []
    },
    {
      "cell_type": "markdown",
      "source": [
        "### Construir el modelo inicial con Xavier/Glorot y ELU (Parte A, paso 1 y 2)\n",
        "### 20 capas ocultas, cada una con 100 neuronas"
      ],
      "metadata": {
        "id": "ydeurZucXqtC"
      }
    },
    {
      "cell_type": "code",
      "source": [
        "def build_model(input_shape, num_classes):\n",
        "    model = Sequential()\n",
        "    model.add(Flatten(input_shape=input_shape))\n",
        "    for _ in range(20):\n",
        "        model.add(Dense(100, activation=elu, kernel_initializer=GlorotUniform()))\n",
        "    model.add(Dense(num_classes, activation='softmax'))\n",
        "    return model"
      ],
      "metadata": {
        "id": "HkRqvEz9Rvd7",
        "execution": {
          "iopub.status.busy": "2024-04-17T09:45:46.527617Z",
          "iopub.status.idle": "2024-04-17T09:45:46.527982Z",
          "shell.execute_reply.started": "2024-04-17T09:45:46.527805Z",
          "shell.execute_reply": "2024-04-17T09:45:46.52782Z"
        },
        "trusted": true
      },
      "execution_count": 71,
      "outputs": []
    },
    {
      "cell_type": "markdown",
      "source": [
        "### Construir y entrenar el modelo inicial, y  entrenamiento inicial (Parte A)\n"
      ],
      "metadata": {
        "id": "wF4ibv2QX9it"
      }
    },
    {
      "cell_type": "code",
      "source": [
        "model = build_model(train_data[0].shape[1:], ds_info.features['label'].num_classes)"
      ],
      "metadata": {
        "id": "ZJ2HZ1dsRvi4",
        "execution": {
          "iopub.status.busy": "2024-04-17T09:45:46.529214Z",
          "iopub.status.idle": "2024-04-17T09:45:46.529578Z",
          "shell.execute_reply.started": "2024-04-17T09:45:46.529402Z",
          "shell.execute_reply": "2024-04-17T09:45:46.529416Z"
        },
        "trusted": true
      },
      "execution_count": 72,
      "outputs": []
    },
    {
      "cell_type": "markdown",
      "source": [
        " # Compilar y entrenar el modelo (Parte A, paso 2)"
      ],
      "metadata": {
        "id": "DR7_0AafYNFN"
      }
    },
    {
      "cell_type": "code",
      "source": [
        "def compile_and_train(model, train_data, val_data, epochs=50):\n",
        "    model.compile(optimizer=Adam(),\n",
        "                  loss='categorical_crossentropy',\n",
        "                  metrics=['accuracy'])\n",
        "    early_stopping = EarlyStopping(monitor='val_loss', patience=5, restore_best_weights=True)\n",
        "    history = model.fit(train_data[0], train_data[1], epochs=epochs,\n",
        "                        validation_data=val_data, callbacks=[early_stopping])\n",
        "    return history"
      ],
      "metadata": {
        "id": "Gca84POqRvnz",
        "execution": {
          "iopub.status.busy": "2024-04-17T09:45:46.530813Z",
          "iopub.status.idle": "2024-04-17T09:45:46.531167Z",
          "shell.execute_reply.started": "2024-04-17T09:45:46.530991Z",
          "shell.execute_reply": "2024-04-17T09:45:46.531005Z"
        },
        "trusted": true
      },
      "execution_count": 73,
      "outputs": []
    },
    {
      "cell_type": "code",
      "source": [
        "history = compile_and_train(model, train_data, test_data)"
      ],
      "metadata": {
        "colab": {
          "base_uri": "https://localhost:8080/"
        },
        "id": "6rvgvQ2GYJ-7",
        "outputId": "a6a1301e-6f7b-4aaa-8ce2-bcbef404ba44",
        "execution": {
          "iopub.status.busy": "2024-04-17T09:45:46.532465Z",
          "iopub.status.idle": "2024-04-17T09:45:46.532821Z",
          "shell.execute_reply.started": "2024-04-17T09:45:46.53264Z",
          "shell.execute_reply": "2024-04-17T09:45:46.532654Z"
        },
        "trusted": true
      },
      "execution_count": 74,
      "outputs": [
        {
          "output_type": "stream",
          "name": "stdout",
          "text": [
            "Epoch 1/50\n",
            "2290/2290 [==============================] - 49s 16ms/step - loss: 2.2471 - accuracy: 0.1859 - val_loss: 2.2257 - val_accuracy: 0.1959\n",
            "Epoch 2/50\n",
            "2290/2290 [==============================] - 32s 14ms/step - loss: 2.2400 - accuracy: 0.1883 - val_loss: 2.2252 - val_accuracy: 0.1959\n",
            "Epoch 3/50\n",
            "2290/2290 [==============================] - 30s 13ms/step - loss: 2.2393 - accuracy: 0.1887 - val_loss: 2.2262 - val_accuracy: 0.1959\n",
            "Epoch 4/50\n",
            "2290/2290 [==============================] - 29s 13ms/step - loss: 2.2378 - accuracy: 0.1892 - val_loss: 2.2259 - val_accuracy: 0.1959\n",
            "Epoch 5/50\n",
            "2290/2290 [==============================] - 45s 20ms/step - loss: 2.2381 - accuracy: 0.1890 - val_loss: 2.2253 - val_accuracy: 0.1959\n",
            "Epoch 6/50\n",
            "2290/2290 [==============================] - 29s 13ms/step - loss: 2.2384 - accuracy: 0.1886 - val_loss: 2.2273 - val_accuracy: 0.1959\n",
            "Epoch 7/50\n",
            "2290/2290 [==============================] - 30s 13ms/step - loss: 2.2375 - accuracy: 0.1890 - val_loss: 2.2338 - val_accuracy: 0.1596\n"
          ]
        }
      ]
    },
    {
      "cell_type": "markdown",
      "source": [
        "### Construir y entrenar el modelo con normalización por lotes\n",
        "### Función para construir el modelo con normalización por lotes (Parte B, paso 1)"
      ],
      "metadata": {
        "id": "CqUeLYVYYdu0"
      }
    },
    {
      "cell_type": "code",
      "source": [
        "def build_model_with_batchnorm(input_shape, num_classes):\n",
        "    model = Sequential()\n",
        "    model.add(Flatten(input_shape=input_shape))\n",
        "    for _ in range(20):\n",
        "        model.add(Dense(100, kernel_initializer=GlorotUniform()))\n",
        "        model.add(BatchNormalization())\n",
        "        model.add(Activation('elu'))\n",
        "    model.add(Dense(num_classes, activation='softmax'))\n",
        "    return model"
      ],
      "metadata": {
        "id": "sexcPl-nYli5",
        "execution": {
          "iopub.status.busy": "2024-04-17T09:45:46.533994Z",
          "iopub.status.idle": "2024-04-17T09:45:46.534557Z",
          "shell.execute_reply.started": "2024-04-17T09:45:46.53437Z",
          "shell.execute_reply": "2024-04-17T09:45:46.534386Z"
        },
        "trusted": true
      },
      "execution_count": 75,
      "outputs": []
    },
    {
      "cell_type": "code",
      "source": [
        "model_bn = build_model_with_batchnorm(train_data[0].shape[1:], ds_info.features['label'].num_classes)"
      ],
      "metadata": {
        "id": "ry3MYqRhYd9G",
        "execution": {
          "iopub.status.busy": "2024-04-17T09:45:46.535663Z",
          "iopub.status.idle": "2024-04-17T09:45:46.536023Z",
          "shell.execute_reply.started": "2024-04-17T09:45:46.535848Z",
          "shell.execute_reply": "2024-04-17T09:45:46.535862Z"
        },
        "trusted": true
      },
      "execution_count": 76,
      "outputs": []
    },
    {
      "cell_type": "markdown",
      "source": [
        "### Mejora con batch normalization (Parte B, paso 1)"
      ],
      "metadata": {
        "id": "Lvgk0Q6EY0FH"
      }
    },
    {
      "cell_type": "code",
      "source": [
        "history_bn = compile_and_train(model_bn, train_data, test_data)"
      ],
      "metadata": {
        "colab": {
          "base_uri": "https://localhost:8080/"
        },
        "id": "9PzPS5f8YyP0",
        "outputId": "3a5379e4-6004-428a-9944-ccdef9bf5204",
        "execution": {
          "iopub.status.busy": "2024-04-17T09:45:46.537296Z",
          "iopub.status.idle": "2024-04-17T09:45:46.537658Z",
          "shell.execute_reply.started": "2024-04-17T09:45:46.537486Z",
          "shell.execute_reply": "2024-04-17T09:45:46.5375Z"
        },
        "trusted": true
      },
      "execution_count": 77,
      "outputs": [
        {
          "output_type": "stream",
          "name": "stdout",
          "text": [
            "Epoch 1/50\n",
            "2290/2290 [==============================] - 53s 18ms/step - loss: 1.5746 - accuracy: 0.4767 - val_loss: 1.4514 - val_accuracy: 0.5498\n",
            "Epoch 2/50\n",
            "2290/2290 [==============================] - 44s 19ms/step - loss: 1.2860 - accuracy: 0.5959 - val_loss: 1.8966 - val_accuracy: 0.4359\n",
            "Epoch 3/50\n",
            "2290/2290 [==============================] - 57s 25ms/step - loss: 1.1876 - accuracy: 0.6313 - val_loss: 1.3488 - val_accuracy: 0.5682\n",
            "Epoch 4/50\n",
            "2290/2290 [==============================] - 45s 20ms/step - loss: 1.1033 - accuracy: 0.6601 - val_loss: 1.2102 - val_accuracy: 0.6182\n",
            "Epoch 5/50\n",
            "2290/2290 [==============================] - 44s 19ms/step - loss: 1.0354 - accuracy: 0.6801 - val_loss: 1.3642 - val_accuracy: 0.5705\n",
            "Epoch 6/50\n",
            "2290/2290 [==============================] - 44s 19ms/step - loss: 0.9907 - accuracy: 0.6935 - val_loss: 1.0727 - val_accuracy: 0.6642\n",
            "Epoch 7/50\n",
            "2290/2290 [==============================] - 42s 18ms/step - loss: 0.9455 - accuracy: 0.7086 - val_loss: 1.0336 - val_accuracy: 0.6777\n",
            "Epoch 8/50\n",
            "2290/2290 [==============================] - 44s 19ms/step - loss: 0.9056 - accuracy: 0.7193 - val_loss: 1.2829 - val_accuracy: 0.5888\n",
            "Epoch 9/50\n",
            "2290/2290 [==============================] - 43s 19ms/step - loss: 0.8738 - accuracy: 0.7301 - val_loss: 1.0152 - val_accuracy: 0.6777\n",
            "Epoch 10/50\n",
            "2290/2290 [==============================] - 42s 18ms/step - loss: 0.8552 - accuracy: 0.7353 - val_loss: 1.3537 - val_accuracy: 0.5600\n",
            "Epoch 11/50\n",
            "2290/2290 [==============================] - 44s 19ms/step - loss: 0.8251 - accuracy: 0.7447 - val_loss: 1.1059 - val_accuracy: 0.6449\n",
            "Epoch 12/50\n",
            "2290/2290 [==============================] - 43s 19ms/step - loss: 0.8080 - accuracy: 0.7495 - val_loss: 0.8830 - val_accuracy: 0.7290\n",
            "Epoch 13/50\n",
            "2290/2290 [==============================] - 44s 19ms/step - loss: 0.7820 - accuracy: 0.7577 - val_loss: 0.8960 - val_accuracy: 0.7219\n",
            "Epoch 14/50\n",
            "2290/2290 [==============================] - 45s 20ms/step - loss: 0.7643 - accuracy: 0.7638 - val_loss: 1.1106 - val_accuracy: 0.6540\n",
            "Epoch 15/50\n",
            "2290/2290 [==============================] - 44s 19ms/step - loss: 0.7502 - accuracy: 0.7683 - val_loss: 0.9624 - val_accuracy: 0.7043\n",
            "Epoch 16/50\n",
            "2290/2290 [==============================] - 44s 19ms/step - loss: 0.7324 - accuracy: 0.7750 - val_loss: 0.8773 - val_accuracy: 0.7261\n",
            "Epoch 17/50\n",
            "2290/2290 [==============================] - 42s 18ms/step - loss: 0.7124 - accuracy: 0.7788 - val_loss: 0.8074 - val_accuracy: 0.7499\n",
            "Epoch 18/50\n",
            "2290/2290 [==============================] - 42s 18ms/step - loss: 0.7005 - accuracy: 0.7829 - val_loss: 0.8595 - val_accuracy: 0.7284\n",
            "Epoch 19/50\n",
            "2290/2290 [==============================] - 44s 19ms/step - loss: 0.6875 - accuracy: 0.7879 - val_loss: 1.1091 - val_accuracy: 0.6564\n",
            "Epoch 20/50\n",
            "2290/2290 [==============================] - 44s 19ms/step - loss: 0.6794 - accuracy: 0.7914 - val_loss: 0.9074 - val_accuracy: 0.7170\n",
            "Epoch 21/50\n",
            "2290/2290 [==============================] - 43s 19ms/step - loss: 0.6603 - accuracy: 0.7954 - val_loss: 0.7678 - val_accuracy: 0.7628\n",
            "Epoch 22/50\n",
            "2290/2290 [==============================] - 45s 19ms/step - loss: 0.6530 - accuracy: 0.7999 - val_loss: 0.8401 - val_accuracy: 0.7401\n",
            "Epoch 23/50\n",
            "2290/2290 [==============================] - 44s 19ms/step - loss: 0.6406 - accuracy: 0.8007 - val_loss: 0.7122 - val_accuracy: 0.7876\n",
            "Epoch 24/50\n",
            "2290/2290 [==============================] - 43s 19ms/step - loss: 0.6344 - accuracy: 0.8034 - val_loss: 0.7500 - val_accuracy: 0.7669\n",
            "Epoch 25/50\n",
            "2290/2290 [==============================] - 45s 19ms/step - loss: 0.6202 - accuracy: 0.8073 - val_loss: 0.7575 - val_accuracy: 0.7682\n",
            "Epoch 26/50\n",
            "2290/2290 [==============================] - 50s 22ms/step - loss: 0.6137 - accuracy: 0.8115 - val_loss: 0.8575 - val_accuracy: 0.7374\n",
            "Epoch 27/50\n",
            "2290/2290 [==============================] - 49s 21ms/step - loss: 0.6058 - accuracy: 0.8131 - val_loss: 0.8159 - val_accuracy: 0.7535\n",
            "Epoch 28/50\n",
            "2290/2290 [==============================] - 69s 30ms/step - loss: 0.5982 - accuracy: 0.8155 - val_loss: 0.7984 - val_accuracy: 0.7545\n"
          ]
        }
      ]
    },
    {
      "cell_type": "markdown",
      "source": [
        "### Función para construir el modelo con ReLU y He (Parte B, paso 2)\n",
        "### 20 capas ocultas, cada una con 100 neuronas"
      ],
      "metadata": {
        "id": "1Ww-GTuRYeNP"
      }
    },
    {
      "cell_type": "code",
      "source": [
        "def build_model_with_relu_he(input_shape, num_classes):\n",
        "    model = Sequential()\n",
        "    model.add(Flatten(input_shape=input_shape))\n",
        "    for _ in range(20):\n",
        "        model.add(Dense(100, kernel_initializer=HeNormal()))\n",
        "        model.add(Activation('relu'))\n",
        "    model.add(Dense(num_classes, activation='softmax'))\n",
        "    return model"
      ],
      "metadata": {
        "id": "LDXF0zO0YeXS",
        "trusted": true
      },
      "execution_count": 78,
      "outputs": []
    },
    {
      "cell_type": "markdown",
      "source": [
        "### Construir y entrenar el modelo con ReLU y He"
      ],
      "metadata": {
        "id": "n_jcgzjvYeiV"
      }
    },
    {
      "cell_type": "code",
      "source": [
        "model_relu_he = build_model_with_relu_he(train_data[0].shape[1:], ds_info.features['label'].num_classes)"
      ],
      "metadata": {
        "id": "8_I-XpfZYes7",
        "trusted": true
      },
      "execution_count": 79,
      "outputs": []
    },
    {
      "cell_type": "code",
      "source": [
        "history_relu_he = compile_and_train(model_relu_he, train_data, test_data)"
      ],
      "metadata": {
        "colab": {
          "base_uri": "https://localhost:8080/"
        },
        "id": "ic-V1darYfCi",
        "outputId": "bbb49a4c-3214-4c72-f2d3-50c6e0b476e0",
        "trusted": true
      },
      "execution_count": 80,
      "outputs": [
        {
          "output_type": "stream",
          "name": "stdout",
          "text": [
            "Epoch 1/50\n",
            "2290/2290 [==============================] - 43s 17ms/step - loss: 2.2412 - accuracy: 0.1882 - val_loss: 2.2268 - val_accuracy: 0.1959\n",
            "Epoch 2/50\n",
            "2290/2290 [==============================] - 30s 13ms/step - loss: 2.2376 - accuracy: 0.1892 - val_loss: 2.2241 - val_accuracy: 0.1959\n",
            "Epoch 3/50\n",
            "2290/2290 [==============================] - 28s 12ms/step - loss: 2.2373 - accuracy: 0.1892 - val_loss: 2.2252 - val_accuracy: 0.1959\n",
            "Epoch 4/50\n",
            "2290/2290 [==============================] - 28s 12ms/step - loss: 2.2371 - accuracy: 0.1892 - val_loss: 2.2253 - val_accuracy: 0.1959\n",
            "Epoch 5/50\n",
            "2290/2290 [==============================] - 28s 12ms/step - loss: 2.2370 - accuracy: 0.1892 - val_loss: 2.2250 - val_accuracy: 0.1959\n",
            "Epoch 6/50\n",
            "2290/2290 [==============================] - 31s 13ms/step - loss: 2.2371 - accuracy: 0.1892 - val_loss: 2.2235 - val_accuracy: 0.1959\n",
            "Epoch 7/50\n",
            "2290/2290 [==============================] - 28s 12ms/step - loss: 2.2369 - accuracy: 0.1892 - val_loss: 2.2251 - val_accuracy: 0.1959\n",
            "Epoch 8/50\n",
            "2290/2290 [==============================] - 29s 13ms/step - loss: 2.2369 - accuracy: 0.1892 - val_loss: 2.2247 - val_accuracy: 0.1959\n",
            "Epoch 9/50\n",
            "2290/2290 [==============================] - 28s 12ms/step - loss: 2.2369 - accuracy: 0.1892 - val_loss: 2.2241 - val_accuracy: 0.1959\n",
            "Epoch 10/50\n",
            "2290/2290 [==============================] - 29s 13ms/step - loss: 2.2368 - accuracy: 0.1892 - val_loss: 2.2247 - val_accuracy: 0.1959\n",
            "Epoch 11/50\n",
            "2290/2290 [==============================] - 29s 12ms/step - loss: 2.2369 - accuracy: 0.1892 - val_loss: 2.2240 - val_accuracy: 0.1959\n"
          ]
        }
      ]
    },
    {
      "cell_type": "markdown",
      "source": [
        "### Imprimir las métricas del entrenamiento para comparación"
      ],
      "metadata": {
        "id": "TedGSEUjYfNH"
      }
    },
    {
      "cell_type": "code",
      "source": [
        "print(\"Historial inicial:\", history.history)\n",
        "print(\"Historial con Normalización por Lotes:\", history_bn.history)\n",
        "print(\"Historial con ReLU y He:\", history_relu_he.history)"
      ],
      "metadata": {
        "colab": {
          "base_uri": "https://localhost:8080/"
        },
        "id": "MaBEoXOSYfW0",
        "outputId": "df9757f5-c7cb-461f-a4b0-e628f7096ce6",
        "trusted": true
      },
      "execution_count": 81,
      "outputs": [
        {
          "output_type": "stream",
          "name": "stdout",
          "text": [
            "Historial inicial: {'loss': [2.2470645904541016, 2.240004301071167, 2.239251136779785, 2.237804412841797, 2.238147735595703, 2.238429546356201, 2.237473964691162], 'accuracy': [0.1858525425195694, 0.18829600512981415, 0.18867821991443634, 0.18921059370040894, 0.18899217247962952, 0.18860995769500732, 0.1890331357717514], 'val_loss': [2.2256710529327393, 2.2251524925231934, 2.2261717319488525, 2.2258667945861816, 2.225285530090332, 2.227325201034546, 2.2338318824768066], 'val_accuracy': [0.19587430357933044, 0.19587430357933044, 0.19587430357933044, 0.19587430357933044, 0.19587430357933044, 0.19587430357933044, 0.15957283973693848]}\n",
            "Historial con Normalización por Lotes: {'loss': [1.5746266841888428, 1.286011815071106, 1.1875922679901123, 1.1032973527908325, 1.035435438156128, 0.990683913230896, 0.9455462694168091, 0.9056159853935242, 0.8738243579864502, 0.8552001118659973, 0.8250771164894104, 0.80800461769104, 0.7820078730583191, 0.7643492221832275, 0.7501761317253113, 0.732398509979248, 0.7123641967773438, 0.7004556059837341, 0.687548816204071, 0.6793588995933533, 0.6603317856788635, 0.6530413031578064, 0.6405693888664246, 0.6344120502471924, 0.620182991027832, 0.6137121915817261, 0.6057710647583008, 0.5981836318969727], 'accuracy': [0.4766779839992523, 0.5958747863769531, 0.6313253045082092, 0.660073459148407, 0.6801124811172485, 0.6934900283813477, 0.7086148858070374, 0.7193168997764587, 0.7300872206687927, 0.7353153824806213, 0.7446933388710022, 0.7494847178459167, 0.7576614022254944, 0.7638177871704102, 0.768295168876648, 0.7750248908996582, 0.7787514925003052, 0.7828876376152039, 0.7879247069358826, 0.7914329171180725, 0.7954188585281372, 0.799896240234375, 0.8006606698036194, 0.8034453988075256, 0.807349443435669, 0.8115265369415283, 0.8130963444709778, 0.8154578804969788], 'val_loss': [1.4513500928878784, 1.8966339826583862, 1.3487564325332642, 1.2101539373397827, 1.3641548156738281, 1.0727335214614868, 1.0335501432418823, 1.2828503847122192, 1.0152273178100586, 1.3537044525146484, 1.1058869361877441, 0.8829739093780518, 0.8959653377532959, 1.1105873584747314, 0.9623651504516602, 0.8773420453071594, 0.807422399520874, 0.8594605326652527, 1.1090503931045532, 0.9074000120162964, 0.7677900195121765, 0.8400639295578003, 0.7122377157211304, 0.7500014901161194, 0.7575308680534363, 0.8575485944747925, 0.8158689737319946, 0.7983763217926025], 'val_accuracy': [0.5497848987579346, 0.43588659167289734, 0.5681853294372559, 0.6182006597518921, 0.5704517364501953, 0.6641825437545776, 0.6777427792549133, 0.5888137817382812, 0.6777427792549133, 0.559964656829834, 0.6448601484298706, 0.7290258407592773, 0.7219191789627075, 0.6540027856826782, 0.704287052154541, 0.7260679006576538, 0.7498847842216492, 0.7283727526664734, 0.6563844680786133, 0.7170405387878418, 0.7627535462379456, 0.7401275634765625, 0.7875691652297974, 0.7668638825416565, 0.768208384513855, 0.7374385595321655, 0.7535341382026672, 0.7544560432434082]}\n",
            "Historial con ReLU y He: {'loss': [2.241208076477051, 2.237565279006958, 2.237287998199463, 2.237128257751465, 2.23704195022583, 2.2370643615722656, 2.236863374710083, 2.2369492053985596, 2.2369167804718018, 2.236793279647827, 2.236907720565796], 'accuracy': [0.1881594955921173, 0.18921059370040894, 0.18921059370040894, 0.18921059370040894, 0.18921059370040894, 0.18921059370040894, 0.18921059370040894, 0.18921059370040894, 0.18921059370040894, 0.18921059370040894, 0.18921059370040894], 'val_loss': [2.2267961502075195, 2.2241458892822266, 2.2252233028411865, 2.225327491760254, 2.224961280822754, 2.223466634750366, 2.225148916244507, 2.2247395515441895, 2.224083662033081, 2.224712610244751, 2.224033832550049], 'val_accuracy': [0.19587430357933044, 0.19587430357933044, 0.19587430357933044, 0.19587430357933044, 0.19587430357933044, 0.19587430357933044, 0.19587430357933044, 0.19587430357933044, 0.19587430357933044, 0.19587430357933044, 0.19587430357933044]}\n"
          ]
        }
      ]
    },
    {
      "cell_type": "markdown",
      "source": [
        "## Parte C: Avanzando en Regularización y Optimización\n",
        "* Introducir Dropout"
      ],
      "metadata": {
        "id": "so6L5ZTCde8Z"
      }
    },
    {
      "cell_type": "code",
      "source": [
        "from tensorflow.keras.layers import Dropout"
      ],
      "metadata": {
        "id": "XvqogNnGdfJL",
        "trusted": true
      },
      "execution_count": 82,
      "outputs": []
    },
    {
      "cell_type": "markdown",
      "source": [
        "### Función para construir el modelo con dropout (Parte C, paso 1)"
      ],
      "metadata": {
        "id": "r_vCJyS6dfTb"
      }
    },
    {
      "cell_type": "code",
      "source": [
        "def build_model_with_dropout(input_shape, num_classes, dropout_rate=0.5):\n",
        "    model = Sequential()\n",
        "    model.add(Flatten(input_shape=input_shape))\n",
        "    for _ in range(20):\n",
        "        model.add(Dense(100, activation='elu', kernel_initializer=GlorotUniform()))\n",
        "        model.add(Dropout(dropout_rate))\n",
        "    model.add(Dense(num_classes, activation='softmax'))\n",
        "    return model"
      ],
      "metadata": {
        "id": "PXeio0cUdfck",
        "trusted": true
      },
      "execution_count": 83,
      "outputs": []
    },
    {
      "cell_type": "markdown",
      "source": [
        "### Función para realizar predicciones utilizando MC Dropout (Parte C, paso 2)"
      ],
      "metadata": {
        "id": "QvsOMVE9dfk_"
      }
    },
    {
      "cell_type": "code",
      "source": [
        "def mc_dropout_predict(model, data, num_samples=100):\n",
        "    predictions = [model(data, training=True) for _ in range(num_samples)]\n",
        "    return tf.reduce_mean(predictions, axis=0)"
      ],
      "metadata": {
        "id": "fbVrwM_xdftb",
        "trusted": true
      },
      "execution_count": 84,
      "outputs": []
    },
    {
      "cell_type": "markdown",
      "source": [
        "### Construir y entrenar el modelo con dropout\n",
        "\n"
      ],
      "metadata": {
        "id": "ol2hEFdCdf3K"
      }
    },
    {
      "cell_type": "code",
      "source": [
        "model_dropout = build_model_with_dropout(train_data[0].shape[1:], ds_info.features['label'].num_classes)\n",
        "history_dropout = compile_and_train(model_dropout, train_data, test_data)"
      ],
      "metadata": {
        "colab": {
          "base_uri": "https://localhost:8080/"
        },
        "id": "nLsS1oKRdf-7",
        "outputId": "c9d29a34-3cb2-4016-d529-165e4bc8cf0f",
        "trusted": true
      },
      "execution_count": 85,
      "outputs": [
        {
          "output_type": "stream",
          "name": "stdout",
          "text": [
            "Epoch 1/50\n",
            "2290/2290 [==============================] - 40s 16ms/step - loss: 2.4957 - accuracy: 0.1505 - val_loss: 2.2276 - val_accuracy: 0.1959\n",
            "Epoch 2/50\n",
            "2290/2290 [==============================] - 33s 14ms/step - loss: 2.2511 - accuracy: 0.1833 - val_loss: 2.2240 - val_accuracy: 0.1959\n",
            "Epoch 3/50\n",
            "2290/2290 [==============================] - 34s 15ms/step - loss: 2.2487 - accuracy: 0.1845 - val_loss: 2.2278 - val_accuracy: 0.1959\n",
            "Epoch 4/50\n",
            "2290/2290 [==============================] - 35s 15ms/step - loss: 2.2504 - accuracy: 0.1835 - val_loss: 2.2292 - val_accuracy: 0.1959\n",
            "Epoch 5/50\n",
            "2290/2290 [==============================] - 33s 14ms/step - loss: 2.2503 - accuracy: 0.1842 - val_loss: 2.2272 - val_accuracy: 0.1959\n",
            "Epoch 6/50\n",
            "2290/2290 [==============================] - 34s 15ms/step - loss: 2.2504 - accuracy: 0.1838 - val_loss: 2.2304 - val_accuracy: 0.1959\n",
            "Epoch 7/50\n",
            "2290/2290 [==============================] - 34s 15ms/step - loss: 2.2518 - accuracy: 0.1825 - val_loss: 2.2325 - val_accuracy: 0.1959\n"
          ]
        }
      ]
    },
    {
      "cell_type": "markdown",
      "source": [
        "### Utilizar MC Dropout para evaluar el modelo en el conjunto de test,  Evluación con MC Dropout (Parte C, paso 2)"
      ],
      "metadata": {
        "id": "pZbwfn5adgHu"
      }
    },
    {
      "cell_type": "code",
      "source": [
        "mc_predictions = mc_dropout_predict(model_dropout, test_data[0])"
      ],
      "metadata": {
        "id": "a6uy8U4HdgP9",
        "trusted": true
      },
      "execution_count": 86,
      "outputs": []
    },
    {
      "cell_type": "markdown",
      "source": [
        "\n",
        "###  Calcular la precisión final con MC Dropout"
      ],
      "metadata": {
        "id": "PsE0XMnHdgY0"
      }
    },
    {
      "cell_type": "code",
      "source": [
        "mc_accuracy = tf.metrics.categorical_accuracy(test_data[1], mc_predictions)\n",
        "mc_accuracy_mean = tf.reduce_mean(mc_accuracy)"
      ],
      "metadata": {
        "id": "2NUDtPJPdggh",
        "trusted": true
      },
      "execution_count": 87,
      "outputs": []
    },
    {
      "cell_type": "markdown",
      "source": [
        "### Imprimir las métricas"
      ],
      "metadata": {
        "id": "rfhSGwTCgqpQ"
      }
    },
    {
      "cell_type": "code",
      "source": [
        "print(\"Historial con Dropout:\", history_dropout.history)\n",
        "print(\"Precisión media con MC Dropout:\", mc_accuracy_mean.numpy())"
      ],
      "metadata": {
        "colab": {
          "base_uri": "https://localhost:8080/"
        },
        "id": "1LcVwpIBgqx3",
        "outputId": "aa8b4a1d-a98f-47a3-f48a-4d11ddf84a7c",
        "trusted": true
      },
      "execution_count": 88,
      "outputs": [
        {
          "output_type": "stream",
          "name": "stdout",
          "text": [
            "Historial con Dropout: {'loss': [2.4957284927368164, 2.251149892807007, 2.248713254928589, 2.25042724609375, 2.250253438949585, 2.2503561973571777, 2.2518069744110107], 'accuracy': [0.1504839062690735, 0.18325893580913544, 0.18447384238243103, 0.18349099159240723, 0.18417352437973022, 0.18383225798606873, 0.1825491040945053], 'val_loss': [2.227567672729492, 2.2240488529205322, 2.227825164794922, 2.22918701171875, 2.2272250652313232, 2.2303669452667236, 2.2324516773223877], 'val_accuracy': [0.19587430357933044, 0.19587430357933044, 0.19587430357933044, 0.19587430357933044, 0.19587430357933044, 0.19587430357933044, 0.19587430357933044]}\n",
            "Precisión media con MC Dropout: 0.1958743\n"
          ]
        }
      ]
    },
    {
      "cell_type": "markdown",
      "source": [
        "## Gráficos de las Curvas de Entrenamiento y Validación"
      ],
      "metadata": {
        "id": "WTxINz0khRXr"
      }
    },
    {
      "cell_type": "code",
      "source": [
        "%matplotlib inline\n",
        "import matplotlib.pyplot as plt\n",
        "import warnings\n",
        "warnings.filterwarnings('ignore')   # Suppress Matplotlib warnings"
      ],
      "metadata": {
        "id": "GFmio4wGkIjx",
        "trusted": true
      },
      "execution_count": 89,
      "outputs": []
    },
    {
      "cell_type": "code",
      "source": [
        "def plot_history(histories, titles):\n",
        "    plt.figure(figsize=(14, 5))\n",
        "    for i, (history, title) in enumerate(zip(histories, titles)):\n",
        "        plt.subplot(1, len(histories), i+1)\n",
        "        plt.plot(history.history['accuracy'], label='train_accuracy')\n",
        "        plt.plot(history.history['val_accuracy'], label='val_accuracy')\n",
        "        plt.title('Model Accuracy - ' + title)\n",
        "        plt.ylabel('Accuracy')\n",
        "        plt.xlabel('Epoch')\n",
        "        plt.legend(loc='upper left')\n",
        "    plt.tight_layout()\n",
        "    plt.show()"
      ],
      "metadata": {
        "id": "5rYMd_BUhRf_",
        "trusted": true
      },
      "execution_count": 90,
      "outputs": []
    },
    {
      "cell_type": "markdown",
      "source": [
        "### Suponiendo que history, history_bn, history_relu_he, history_dropout son los históricos obtenidos de cada modelo"
      ],
      "metadata": {
        "id": "QBgBP6rNhUqR"
      }
    },
    {
      "cell_type": "code",
      "source": [
        "plot_history([history, history_bn, history_relu_he, history_dropout],\n",
        "             ['Inicial', 'BatchNorm', 'ReLU+He', 'Dropout'])"
      ],
      "metadata": {
        "colab": {
          "base_uri": "https://localhost:8080/",
          "height": 507
        },
        "id": "cIAYZjlhhU09",
        "outputId": "a302c3a8-7b1c-4b6d-de51-3457f0ce750d",
        "trusted": true
      },
      "execution_count": 91,
      "outputs": [
        {
          "output_type": "display_data",
          "data": {
            "text/plain": [
              "<Figure size 1400x500 with 4 Axes>"
            ],
            "image/png": "[encoded data removed]"
          },
          "metadata": {}
        }
      ]
    },
    {
      "cell_type": "markdown",
      "source": [
        "### Sugerencias para Futuras Exploraciones:\n",
        "### Optimización de Hiperparámetros"
      ],
      "metadata": {
        "id": "cGcTQ9T8hU_n"
      }
    },
    {
      "cell_type": "code",
      "source": [
        "!pip install keras-tuner --upgrade"
      ],
      "metadata": {
        "id": "NioikNpghzSI",
        "outputId": "3dd4f8ec-a1a1-4e7f-9fed-2f04e81ebcb8",
        "colab": {
          "base_uri": "https://localhost:8080/"
        }
      },
      "execution_count": 92,
      "outputs": [
        {
          "output_type": "stream",
          "name": "stdout",
          "text": [
            "Requirement already satisfied: keras-tuner in /usr/local/lib/python3.10/dist-packages (1.4.7)\n",
            "Requirement already satisfied: keras in /usr/local/lib/python3.10/dist-packages (from keras-tuner) (2.15.0)\n",
            "Requirement already satisfied: packaging in /usr/local/lib/python3.10/dist-packages (from keras-tuner) (24.0)\n",
            "Requirement already satisfied: requests in /usr/local/lib/python3.10/dist-packages (from keras-tuner) (2.31.0)\n",
            "Requirement already satisfied: kt-legacy in /usr/local/lib/python3.10/dist-packages (from keras-tuner) (1.0.5)\n",
            "Requirement already satisfied: charset-normalizer<4,>=2 in /usr/local/lib/python3.10/dist-packages (from requests->keras-tuner) (3.3.2)\n",
            "Requirement already satisfied: idna<4,>=2.5 in /usr/local/lib/python3.10/dist-packages (from requests->keras-tuner) (3.6)\n",
            "Requirement already satisfied: urllib3<3,>=1.21.1 in /usr/local/lib/python3.10/dist-packages (from requests->keras-tuner) (2.0.7)\n",
            "Requirement already satisfied: certifi>=2017.4.17 in /usr/local/lib/python3.10/dist-packages (from requests->keras-tuner) (2024.2.2)\n"
          ]
        }
      ]
    },
    {
      "cell_type": "code",
      "source": [
        "from tensorflow import keras\n",
        "from kerastuner.tuners import RandomSearch"
      ],
      "metadata": {
        "id": "VRm09rrfWkJ1",
        "trusted": true,
        "outputId": "8a7307ab-ca22-4094-db86-99673d7bee6e",
        "colab": {
          "base_uri": "https://localhost:8080/",
          "height": 350
        }
      },
      "execution_count": 1,
      "outputs": [
        {
          "output_type": "error",
          "ename": "ModuleNotFoundError",
          "evalue": "No module named 'kerastuner'",
          "traceback": [
            "\u001b[0;31m---------------------------------------------------------------------------\u001b[0m",
            "\u001b[0;31mModuleNotFoundError\u001b[0m                       Traceback (most recent call last)",
            "\u001b[0;32m<ipython-input-1-b420bea64af7>\u001b[0m in \u001b[0;36m<cell line: 3>\u001b[0;34m()\u001b[0m\n\u001b[1;32m      1\u001b[0m \u001b[0;32mimport\u001b[0m \u001b[0mtensorflow\u001b[0m \u001b[0;32mas\u001b[0m \u001b[0mtf\u001b[0m\u001b[0;34m\u001b[0m\u001b[0;34m\u001b[0m\u001b[0m\n\u001b[1;32m      2\u001b[0m \u001b[0;32mfrom\u001b[0m \u001b[0mtensorflow\u001b[0m \u001b[0;32mimport\u001b[0m \u001b[0mkeras\u001b[0m\u001b[0;34m\u001b[0m\u001b[0;34m\u001b[0m\u001b[0m\n\u001b[0;32m----> 3\u001b[0;31m \u001b[0;32mfrom\u001b[0m \u001b[0mkerastuner\u001b[0m\u001b[0;34m.\u001b[0m\u001b[0mtuners\u001b[0m \u001b[0;32mimport\u001b[0m \u001b[0mRandomSearch\u001b[0m\u001b[0;34m\u001b[0m\u001b[0;34m\u001b[0m\u001b[0m\n\u001b[0m",
            "\u001b[0;31mModuleNotFoundError\u001b[0m: No module named 'kerastuner'",
            "",
            "\u001b[0;31m---------------------------------------------------------------------------\u001b[0;32m\nNOTE: If your import is failing due to a missing package, you can\nmanually install dependencies using either !pip or !apt.\n\nTo view examples of installing some common dependencies, click the\n\"Open Examples\" button below.\n\u001b[0;31m---------------------------------------------------------------------------\u001b[0m\n"
          ],
          "errorDetails": {
            "actions": [
              {
                "action": "open_url",
                "actionText": "Open Examples",
                "url": "/notebooks/snippets/importing_libraries.ipynb"
              }
            ]
          }
        }
      ]
    },
    {
      "cell_type": "markdown",
      "source": [],
      "metadata": {
        "id": "zOyCu-VfWweW"
      }
    },
    {
      "cell_type": "markdown",
      "source": [
        "### Funcion"
      ],
      "metadata": {
        "id": "wA-DG2SGWpqZ"
      }
    },
    {
      "cell_type": "code",
      "source": [
        "def build_model(hp):\n",
        "    model = keras.Sequential()\n",
        "    model.add(keras.layers.Flatten(input_shape=(28, 28)))  # Ajusta según la forma de tus datos de entrada\n",
        "\n",
        "    # Permite a Keras Tuner decidir el número de neuronas en las primeras dos capas Dense\n",
        "    for i in range(2):  # Dos capas densas\n",
        "        model.add(keras.layers.Dense(\n",
        "            units=hp.Int('units_' + str(i), min_value=32, max_value=512, step=32),\n",
        "            activation='relu'))\n",
        "\n",
        "    model.add(keras.layers.Dense(10, activation='softmax'))  # Ajusta según el número de clases\n",
        "\n",
        "    # Permite a Keras Tuner decidir la tasa de aprendizaje\n",
        "    hp_learning_rate = hp.Choice('learning_rate', values=[1e-2, 1e-3, 1e-4])\n",
        "\n",
        "    model.compile(\n",
        "        optimizer=keras.optimizers.Adam(learning_rate=hp_learning_rate),\n",
        "        loss=keras.losses.SparseCategoricalCrossentropy(),\n",
        "        metrics=['accuracy'])\n",
        "\n",
        "    return model"
      ],
      "metadata": {
        "id": "dSGY9_uTWp6f",
        "trusted": true
      },
      "execution_count": null,
      "outputs": []
    },
    {
      "cell_type": "markdown",
      "source": [
        "### # Crear el tuner y realizar la búsqueda de hiperparámetros"
      ],
      "metadata": {
        "id": "zttKj1MKWyAz"
      }
    },
    {
      "cell_type": "code",
      "source": [
        "tuner = RandomSearch(\n",
        "    build_model,\n",
        "    objective='val_accuracy',\n",
        "    max_trials=10,  # Número máximo de configuraciones de prueba\n",
        "    executions_per_trial=2,  # Número de modelos que se entrenan por prueba\n",
        "    directory='logs',  # Directorio para almacenar logs\n",
        "    project_name='keras_tuner_demo')"
      ],
      "metadata": {
        "id": "KtcoYqnnWyJD",
        "trusted": true,
        "outputId": "5d773577-f69d-4607-8afd-52d02c8b3fc1",
        "colab": {
          "base_uri": "https://localhost:8080/"
        }
      },
      "execution_count": 95,
      "outputs": [
        {
          "output_type": "stream",
          "name": "stdout",
          "text": [
            "Reloading Tuner from logs/keras_tuner_demo/tuner0.json\n"
          ]
        }
      ]
    },
    {
      "cell_type": "code",
      "source": [
        "# Suponiendo que x_train y y_train están definidos\n",
        "tuner.search(tra, y_train, epochs=10, validation_split=0.2)\n",
        "\n",
        "# Obtiene el mejor modelo\n",
        "best_model = tuner.get_best_models(num_models=1)[0]\n",
        "\n",
        "# Evaluar el mejor modelo\n",
        "loss, accuracy = best_model.evaluate(x_test, y_test)\n",
        "print(f\"Loss: {loss}, Accuracy: {accuracy}\")"
      ],
      "metadata": {
        "id": "slxEb3895drb"
      },
      "execution_count": null,
      "outputs": []
    },
    {
      "cell_type": "markdown",
      "source": [
        "### SVHN con CNN"
      ],
      "metadata": {
        "id": "_WR40msmW7s-"
      }
    },
    {
      "cell_type": "code",
      "source": [
        "def preprocess(image, label):\n",
        "    image = tf.image.convert_image_dtype(image, tf.float32)  # Convertir a float y escalar [0, 1]\n",
        "    label = tf.one_hot(label, depth=ds_info.features['label'].num_classes)\n",
        "    return image, label"
      ],
      "metadata": {
        "id": "Ll61q_WZrNct"
      },
      "execution_count": 95,
      "outputs": []
    },
    {
      "cell_type": "markdown",
      "source": [
        "### Aplicar el preprocesamiento de datos\n",
        "\n"
      ],
      "metadata": {
        "id": "QvfRzniavN2n"
      }
    },
    {
      "cell_type": "code",
      "source": [
        "train_data = train_data.map(preprocess).cache().shuffle(10000).batch(32).prefetch(tf.data.AUTOTUNE)\n",
        "test_data = test_data.map(preprocess).batch(32).prefetch(tf.data.AUTOTUNE)"
      ],
      "metadata": {
        "id": "uYnFDW0NvN-p"
      },
      "execution_count": null,
      "outputs": []
    },
    {
      "cell_type": "markdown",
      "source": [
        "### Construir el modelo CNN"
      ],
      "metadata": {
        "id": "Dx8Fv5P3vVWP"
      }
    },
    {
      "cell_type": "code",
      "source": [
        "model = Sequential([\n",
        "    Conv2D(32, (3, 3), activation='relu', input_shape=(32, 32, 3)),\n",
        "    BatchNormalization(),\n",
        "    MaxPooling2D((2, 2)),\n",
        "    Conv2D(64, (3, 3), activation='relu'),\n",
        "    BatchNormalization(),\n",
        "    MaxPooling2D((2, 2)),\n",
        "    Conv2D(128, (3, 3), activation='relu'),\n",
        "    BatchNormalization(),\n",
        "    MaxPooling2D((2, 2)),\n",
        "    Flatten(),\n",
        "    Dense(128, activation='relu'),\n",
        "    Dropout(0.5),\n",
        "    Dense(ds_info.features['label'].num_classes, activation='softmax')\n",
        "])\n",
        "\n",
        "model.compile(\n",
        "    optimizer='adam',\n",
        "    loss='categorical_crossentropy',\n",
        "    metrics=['accuracy']\n",
        ")\n"
      ],
      "metadata": {
        "id": "IGU4WVBAvVej"
      },
      "execution_count": null,
      "outputs": []
    },
    {
      "cell_type": "markdown",
      "source": [
        "### Entrenar el modelo"
      ],
      "metadata": {
        "id": "M-HrkS44vVlu"
      }
    },
    {
      "cell_type": "code",
      "source": [
        "history = model.fit(train_data, epochs=10, validation_data=test_data)"
      ],
      "metadata": {
        "id": "eY_vlSXnvVsg"
      },
      "execution_count": null,
      "outputs": []
    },
    {
      "cell_type": "markdown",
      "source": [
        "### Evaluar el modelo"
      ],
      "metadata": {
        "id": "qYYzITqQv9io"
      }
    },
    {
      "cell_type": "code",
      "source": [
        "test_loss, test_acc = model.evaluate(test_data)\n",
        "print(\"Test accuracy:\", test_acc)\n"
      ],
      "metadata": {
        "id": "vRB_3LS0v9wi"
      },
      "execution_count": null,
      "outputs": []
    },
    {
      "cell_type": "markdown",
      "source": [
        "### Visualización"
      ],
      "metadata": {
        "id": "BvhCou5kw1bz"
      }
    },
    {
      "cell_type": "code",
      "source": [
        "import matplotlib.pyplot as plt\n",
        "\n",
        "plt.plot(history.history['accuracy'], label='accuracy')\n",
        "plt.plot(history.history['val_accuracy'], label='val_accuracy')\n",
        "plt.xlabel('Epoch')\n",
        "plt.ylabel('Accuracy')\n",
        "plt.ylim([0, 1])\n",
        "plt.legend(loc='lower right')"
      ],
      "metadata": {
        "id": "7uBtAeg0w1j3"
      },
      "execution_count": null,
      "outputs": []
    },
    {
      "cell_type": "markdown",
      "source": [
        "###  Técnicas Avanzadas de Regularización: Regularizaciones más avanzadas como L1/L2 o métodos basados en el ruido como Cutout."
      ],
      "metadata": {
        "id": "pAguiHLR0vHP"
      }
    },
    {
      "cell_type": "code",
      "source": [
        " Avanzadas de Regularización: Explorar regularizaciones más avanzadas como L1/L2 o métodos basados en el ruido como Cutout."
      ],
      "metadata": {
        "id": "BpLKDeE60vQ4"
      },
      "execution_count": null,
      "outputs": []
    },
    {
      "cell_type": "markdown",
      "source": [],
      "metadata": {
        "id": "IA1s0kCQ0vcF"
      }
    },
    {
      "cell_type": "code",
      "source": [
        "from tensorflow.keras.regularizers import l1_l2"
      ],
      "metadata": {
        "id": "rODEYGdu0vjj"
      },
      "execution_count": null,
      "outputs": []
    },
    {
      "cell_type": "markdown",
      "source": [
        "###  Implementar Cutout"
      ],
      "metadata": {
        "id": "YYoJlowp1BTb"
      }
    },
    {
      "cell_type": "code",
      "source": [
        "def cutout(img, mask_size, p=0.5):\n",
        "    if tf.random.uniform(()) > p:\n",
        "        return img\n",
        "    mask_size_half = mask_size // 2\n",
        "    h = tf.shape(img)[0]\n",
        "    w = tf.shape(img)[1]\n",
        "    center = (tf.random.uniform(shape=[], minval=0, maxval=h),\n",
        "              tf.random.uniform(shape=[], minval=0, maxval=w))\n",
        "\n",
        "    mask = tf.zeros((h, w, 3))\n",
        "    mask = tf.tensor_scatter_nd_update(mask,\n",
        "                                       indices=[[center[0], center[1]]],\n",
        "                                       updates=[[1.0]])\n",
        "\n",
        "    mask = tf.image.resize_with_crop_or_pad(mask, h + mask_size, w + mask_size)\n",
        "    mask = tf.image.crop_to_bounding_box(mask, mask_size_half, mask_size_half, h, w)\n",
        "    img = tf.where(tf.equal(mask, 0), tf.zeros_like(img), img)\n",
        "    return img\n",
        "\n",
        "# Apply Cutout as a data augmentation step\n",
        "def augment(image, label):\n",
        "    image = cutout(image, mask_size=16)  # You can adjust the mask size\n",
        "    return image, label\n",
        "\n",
        "train_data = train_data.map(augment)"
      ],
      "metadata": {
        "id": "arQHyue71Bb4"
      },
      "execution_count": null,
      "outputs": []
    },
    {
      "cell_type": "markdown",
      "source": [
        "### Construir el modelo con L1/L2 Regularization\n"
      ],
      "metadata": {
        "id": "G3z0FeXg1JXR"
      }
    },
    {
      "cell_type": "code",
      "source": [
        "model = Sequential([\n",
        "    Conv2D(32, (3, 3), activation='relu', input_shape=(32, 32, 3), kernel_regularizer=l1_l2(l1=0.01, l2=0.01)),\n",
        "    BatchNormalization(),\n",
        "    MaxPooling2D((2, 2)),\n",
        "    Conv2D(64, (3, 3), activation='relu', kernel_regularizer=l1_l2(l1=0.01, l2=0.01)),\n",
        "    BatchNormalization(),\n",
        "    MaxPooling2D((2, 2)),\n",
        "    Conv2D(128, (3, 3), activation='relu', kernel_regularizer=l1_l2(l1=0.01, l2=0.01)),\n",
        "    BatchNormalization(),\n",
        "    MaxPooling2D((2, 2)),\n",
        "    Flatten(),\n",
        "    Dense(128, activation='relu', kernel_regularizer=l1_l2(l1=0.01, l2=0.01)),\n",
        "    Dropout(0.5),\n",
        "    Dense(10, activation='softmax')\n",
        "])\n",
        "\n",
        "model.compile(\n",
        "    optimizer='adam',\n",
        "    loss='categorical_crossentropy',\n",
        "    metrics=['accuracy']\n",
        ")"
      ],
      "metadata": {
        "id": "1zQgx-gF1Jhn"
      },
      "execution_count": null,
      "outputs": []
    },
    {
      "cell_type": "markdown",
      "source": [
        "### Entrenar el modelo"
      ],
      "metadata": {
        "id": "5k0Qk2bB1Ogm"
      }
    },
    {
      "cell_type": "code",
      "source": [
        "history = model.fit(train_data, epochs=10, validation_data=test_data)"
      ],
      "metadata": {
        "id": "z8Y774v-1OpU"
      },
      "execution_count": null,
      "outputs": []
    },
    {
      "cell_type": "markdown",
      "source": [
        "### Evaluar el modelo"
      ],
      "metadata": {
        "id": "O2X59wFm1T63"
      }
    },
    {
      "cell_type": "code",
      "source": [
        "test_loss, test_acc = model.evaluate(test_data)\n",
        "print(\"Test accuracy:\", test_acc)"
      ],
      "metadata": {
        "id": "3RYSIUN91UDi"
      },
      "execution_count": null,
      "outputs": []
    }
  ]
}