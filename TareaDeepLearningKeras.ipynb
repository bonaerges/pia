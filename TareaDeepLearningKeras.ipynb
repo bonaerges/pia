{
  "metadata": {
    "colab": {
      "provenance": [],
      "gpuType": "T4",
      "name": "notebooke06822448d",
      "include_colab_link": true
    },
    "kernelspec": {
      "name": "python3",
      "display_name": "Python 3",
      "language": "python"
    },
    "language_info": {
      "name": "python",
      "version": "3.10.13",
      "mimetype": "text/x-python",
      "codemirror_mode": {
        "name": "ipython",
        "version": 3
      },
      "pygments_lexer": "ipython3",
      "nbconvert_exporter": "python",
      "file_extension": ".py"
    },
    "accelerator": "GPU",
    "widgets": {
      "application/vnd.jupyter.widget-state+json": {
        "642cc215fe104bc2b9965104e0b4afe8": {
          "model_module": "@jupyter-widgets/controls",
          "model_name": "HBoxModel",
          "model_module_version": "1.5.0",
          "state": {
            "_dom_classes": [],
            "_model_module": "@jupyter-widgets/controls",
            "_model_module_version": "1.5.0",
            "_model_name": "HBoxModel",
            "_view_count": null,
            "_view_module": "@jupyter-widgets/controls",
            "_view_module_version": "1.5.0",
            "_view_name": "HBoxView",
            "box_style": "",
            "children": [
              "IPY_MODEL_f5180da90bf34663b55c394f96fa2335",
              "IPY_MODEL_2c04b295bc144849ae1f16ae8a38e963",
              "IPY_MODEL_2037ae173eb040098d33a9c1f25c4e16"
            ],
            "layout": "IPY_MODEL_6be10004ef9946e89ec8d05f0c60a46e"
          }
        },
        "f5180da90bf34663b55c394f96fa2335": {
          "model_module": "@jupyter-widgets/controls",
          "model_name": "HTMLModel",
          "model_module_version": "1.5.0",
          "state": {
            "_dom_classes": [],
            "_model_module": "@jupyter-widgets/controls",
            "_model_module_version": "1.5.0",
            "_model_name": "HTMLModel",
            "_view_count": null,
            "_view_module": "@jupyter-widgets/controls",
            "_view_module_version": "1.5.0",
            "_view_name": "HTMLView",
            "description": "",
            "description_tooltip": null,
            "layout": "IPY_MODEL_04988746b639414c90b1c3110ed29716",
            "placeholder": "​",
            "style": "IPY_MODEL_40bec983644d48d9b72ccca079123f74",
            "value": "Dl Completed...: 100%"
          }
        },
        "2c04b295bc144849ae1f16ae8a38e963": {
          "model_module": "@jupyter-widgets/controls",
          "model_name": "FloatProgressModel",
          "model_module_version": "1.5.0",
          "state": {
            "_dom_classes": [],
            "_model_module": "@jupyter-widgets/controls",
            "_model_module_version": "1.5.0",
            "_model_name": "FloatProgressModel",
            "_view_count": null,
            "_view_module": "@jupyter-widgets/controls",
            "_view_module_version": "1.5.0",
            "_view_name": "ProgressView",
            "bar_style": "success",
            "description": "",
            "description_tooltip": null,
            "layout": "IPY_MODEL_f4995614f9e343caa3577964185bd0d9",
            "max": 1,
            "min": 0,
            "orientation": "horizontal",
            "style": "IPY_MODEL_6f7d9ec2e22e4e8dbffc264fb43a27b6",
            "value": 1
          }
        },
        "2037ae173eb040098d33a9c1f25c4e16": {
          "model_module": "@jupyter-widgets/controls",
          "model_name": "HTMLModel",
          "model_module_version": "1.5.0",
          "state": {
            "_dom_classes": [],
            "_model_module": "@jupyter-widgets/controls",
            "_model_module_version": "1.5.0",
            "_model_name": "HTMLModel",
            "_view_count": null,
            "_view_module": "@jupyter-widgets/controls",
            "_view_module_version": "1.5.0",
            "_view_name": "HTMLView",
            "description": "",
            "description_tooltip": null,
            "layout": "IPY_MODEL_95fea39a108c455d9345f56264a3a6fe",
            "placeholder": "​",
            "style": "IPY_MODEL_eef0ab669dad4061af02e0c0006a679a",
            "value": " 3/3 [01:39&lt;00:00, 42.53s/ url]"
          }
        },
        "6be10004ef9946e89ec8d05f0c60a46e": {
          "model_module": "@jupyter-widgets/base",
          "model_name": "LayoutModel",
          "model_module_version": "1.2.0",
          "state": {
            "_model_module": "@jupyter-widgets/base",
            "_model_module_version": "1.2.0",
            "_model_name": "LayoutModel",
            "_view_count": null,
            "_view_module": "@jupyter-widgets/base",
            "_view_module_version": "1.2.0",
            "_view_name": "LayoutView",
            "align_content": null,
            "align_items": null,
            "align_self": null,
            "border": null,
            "bottom": null,
            "display": null,
            "flex": null,
            "flex_flow": null,
            "grid_area": null,
            "grid_auto_columns": null,
            "grid_auto_flow": null,
            "grid_auto_rows": null,
            "grid_column": null,
            "grid_gap": null,
            "grid_row": null,
            "grid_template_areas": null,
            "grid_template_columns": null,
            "grid_template_rows": null,
            "height": null,
            "justify_content": null,
            "justify_items": null,
            "left": null,
            "margin": null,
            "max_height": null,
            "max_width": null,
            "min_height": null,
            "min_width": null,
            "object_fit": null,
            "object_position": null,
            "order": null,
            "overflow": null,
            "overflow_x": null,
            "overflow_y": null,
            "padding": null,
            "right": null,
            "top": null,
            "visibility": null,
            "width": null
          }
        },
        "04988746b639414c90b1c3110ed29716": {
          "model_module": "@jupyter-widgets/base",
          "model_name": "LayoutModel",
          "model_module_version": "1.2.0",
          "state": {
            "_model_module": "@jupyter-widgets/base",
            "_model_module_version": "1.2.0",
            "_model_name": "LayoutModel",
            "_view_count": null,
            "_view_module": "@jupyter-widgets/base",
            "_view_module_version": "1.2.0",
            "_view_name": "LayoutView",
            "align_content": null,
            "align_items": null,
            "align_self": null,
            "border": null,
            "bottom": null,
            "display": null,
            "flex": null,
            "flex_flow": null,
            "grid_area": null,
            "grid_auto_columns": null,
            "grid_auto_flow": null,
            "grid_auto_rows": null,
            "grid_column": null,
            "grid_gap": null,
            "grid_row": null,
            "grid_template_areas": null,
            "grid_template_columns": null,
            "grid_template_rows": null,
            "height": null,
            "justify_content": null,
            "justify_items": null,
            "left": null,
            "margin": null,
            "max_height": null,
            "max_width": null,
            "min_height": null,
            "min_width": null,
            "object_fit": null,
            "object_position": null,
            "order": null,
            "overflow": null,
            "overflow_x": null,
            "overflow_y": null,
            "padding": null,
            "right": null,
            "top": null,
            "visibility": null,
            "width": null
          }
        },
        "40bec983644d48d9b72ccca079123f74": {
          "model_module": "@jupyter-widgets/controls",
          "model_name": "DescriptionStyleModel",
          "model_module_version": "1.5.0",
          "state": {
            "_model_module": "@jupyter-widgets/controls",
            "_model_module_version": "1.5.0",
            "_model_name": "DescriptionStyleModel",
            "_view_count": null,
            "_view_module": "@jupyter-widgets/base",
            "_view_module_version": "1.2.0",
            "_view_name": "StyleView",
            "description_width": ""
          }
        },
        "f4995614f9e343caa3577964185bd0d9": {
          "model_module": "@jupyter-widgets/base",
          "model_name": "LayoutModel",
          "model_module_version": "1.2.0",
          "state": {
            "_model_module": "@jupyter-widgets/base",
            "_model_module_version": "1.2.0",
            "_model_name": "LayoutModel",
            "_view_count": null,
            "_view_module": "@jupyter-widgets/base",
            "_view_module_version": "1.2.0",
            "_view_name": "LayoutView",
            "align_content": null,
            "align_items": null,
            "align_self": null,
            "border": null,
            "bottom": null,
            "display": null,
            "flex": null,
            "flex_flow": null,
            "grid_area": null,
            "grid_auto_columns": null,
            "grid_auto_flow": null,
            "grid_auto_rows": null,
            "grid_column": null,
            "grid_gap": null,
            "grid_row": null,
            "grid_template_areas": null,
            "grid_template_columns": null,
            "grid_template_rows": null,
            "height": null,
            "justify_content": null,
            "justify_items": null,
            "left": null,
            "margin": null,
            "max_height": null,
            "max_width": null,
            "min_height": null,
            "min_width": null,
            "object_fit": null,
            "object_position": null,
            "order": null,
            "overflow": null,
            "overflow_x": null,
            "overflow_y": null,
            "padding": null,
            "right": null,
            "top": null,
            "visibility": null,
            "width": "20px"
          }
        },
        "6f7d9ec2e22e4e8dbffc264fb43a27b6": {
          "model_module": "@jupyter-widgets/controls",
          "model_name": "ProgressStyleModel",
          "model_module_version": "1.5.0",
          "state": {
            "_model_module": "@jupyter-widgets/controls",
            "_model_module_version": "1.5.0",
            "_model_name": "ProgressStyleModel",
            "_view_count": null,
            "_view_module": "@jupyter-widgets/base",
            "_view_module_version": "1.2.0",
            "_view_name": "StyleView",
            "bar_color": null,
            "description_width": ""
          }
        },
        "95fea39a108c455d9345f56264a3a6fe": {
          "model_module": "@jupyter-widgets/base",
          "model_name": "LayoutModel",
          "model_module_version": "1.2.0",
          "state": {
            "_model_module": "@jupyter-widgets/base",
            "_model_module_version": "1.2.0",
            "_model_name": "LayoutModel",
            "_view_count": null,
            "_view_module": "@jupyter-widgets/base",
            "_view_module_version": "1.2.0",
            "_view_name": "LayoutView",
            "align_content": null,
            "align_items": null,
            "align_self": null,
            "border": null,
            "bottom": null,
            "display": null,
            "flex": null,
            "flex_flow": null,
            "grid_area": null,
            "grid_auto_columns": null,
            "grid_auto_flow": null,
            "grid_auto_rows": null,
            "grid_column": null,
            "grid_gap": null,
            "grid_row": null,
            "grid_template_areas": null,
            "grid_template_columns": null,
            "grid_template_rows": null,
            "height": null,
            "justify_content": null,
            "justify_items": null,
            "left": null,
            "margin": null,
            "max_height": null,
            "max_width": null,
            "min_height": null,
            "min_width": null,
            "object_fit": null,
            "object_position": null,
            "order": null,
            "overflow": null,
            "overflow_x": null,
            "overflow_y": null,
            "padding": null,
            "right": null,
            "top": null,
            "visibility": null,
            "width": null
          }
        },
        "eef0ab669dad4061af02e0c0006a679a": {
          "model_module": "@jupyter-widgets/controls",
          "model_name": "DescriptionStyleModel",
          "model_module_version": "1.5.0",
          "state": {
            "_model_module": "@jupyter-widgets/controls",
            "_model_module_version": "1.5.0",
            "_model_name": "DescriptionStyleModel",
            "_view_count": null,
            "_view_module": "@jupyter-widgets/base",
            "_view_module_version": "1.2.0",
            "_view_name": "StyleView",
            "description_width": ""
          }
        },
        "a53a89067a6943deb01863e42c838278": {
          "model_module": "@jupyter-widgets/controls",
          "model_name": "HBoxModel",
          "model_module_version": "1.5.0",
          "state": {
            "_dom_classes": [],
            "_model_module": "@jupyter-widgets/controls",
            "_model_module_version": "1.5.0",
            "_model_name": "HBoxModel",
            "_view_count": null,
            "_view_module": "@jupyter-widgets/controls",
            "_view_module_version": "1.5.0",
            "_view_name": "HBoxView",
            "box_style": "",
            "children": [
              "IPY_MODEL_c61de46a62074b3a9da28232f589eafc",
              "IPY_MODEL_d96dc3b8ec884a899060612adc646937",
              "IPY_MODEL_09d43b3ca95b43af9124b570b84557bf"
            ],
            "layout": "IPY_MODEL_121c3b0eb59447de8bb078a23a966149"
          }
        },
        "c61de46a62074b3a9da28232f589eafc": {
          "model_module": "@jupyter-widgets/controls",
          "model_name": "HTMLModel",
          "model_module_version": "1.5.0",
          "state": {
            "_dom_classes": [],
            "_model_module": "@jupyter-widgets/controls",
            "_model_module_version": "1.5.0",
            "_model_name": "HTMLModel",
            "_view_count": null,
            "_view_module": "@jupyter-widgets/controls",
            "_view_module_version": "1.5.0",
            "_view_name": "HTMLView",
            "description": "",
            "description_tooltip": null,
            "layout": "IPY_MODEL_022f571ab53c490390dd3fddd1b184cf",
            "placeholder": "​",
            "style": "IPY_MODEL_49c403f763424349acc155e530b0f46c",
            "value": "Dl Size...: 100%"
          }
        },
        "d96dc3b8ec884a899060612adc646937": {
          "model_module": "@jupyter-widgets/controls",
          "model_name": "FloatProgressModel",
          "model_module_version": "1.5.0",
          "state": {
            "_dom_classes": [],
            "_model_module": "@jupyter-widgets/controls",
            "_model_module_version": "1.5.0",
            "_model_name": "FloatProgressModel",
            "_view_count": null,
            "_view_module": "@jupyter-widgets/controls",
            "_view_module_version": "1.5.0",
            "_view_name": "ProgressView",
            "bar_style": "success",
            "description": "",
            "description_tooltip": null,
            "layout": "IPY_MODEL_1a397fb76dce4704a0c8178358f10cb4",
            "max": 1,
            "min": 0,
            "orientation": "horizontal",
            "style": "IPY_MODEL_931add97cee84217bd34c4aa867b790c",
            "value": 1
          }
        },
        "09d43b3ca95b43af9124b570b84557bf": {
          "model_module": "@jupyter-widgets/controls",
          "model_name": "HTMLModel",
          "model_module_version": "1.5.0",
          "state": {
            "_dom_classes": [],
            "_model_module": "@jupyter-widgets/controls",
            "_model_module_version": "1.5.0",
            "_model_name": "HTMLModel",
            "_view_count": null,
            "_view_module": "@jupyter-widgets/controls",
            "_view_module_version": "1.5.0",
            "_view_name": "HTMLView",
            "description": "",
            "description_tooltip": null,
            "layout": "IPY_MODEL_f3cacd8054ad48b5b1c2608bd2590b75",
            "placeholder": "​",
            "style": "IPY_MODEL_0d34b1d726e641ad869a75e6df466155",
            "value": " 1501/1501 [01:39&lt;00:00, 10.86 MiB/s]"
          }
        },
        "121c3b0eb59447de8bb078a23a966149": {
          "model_module": "@jupyter-widgets/base",
          "model_name": "LayoutModel",
          "model_module_version": "1.2.0",
          "state": {
            "_model_module": "@jupyter-widgets/base",
            "_model_module_version": "1.2.0",
            "_model_name": "LayoutModel",
            "_view_count": null,
            "_view_module": "@jupyter-widgets/base",
            "_view_module_version": "1.2.0",
            "_view_name": "LayoutView",
            "align_content": null,
            "align_items": null,
            "align_self": null,
            "border": null,
            "bottom": null,
            "display": null,
            "flex": null,
            "flex_flow": null,
            "grid_area": null,
            "grid_auto_columns": null,
            "grid_auto_flow": null,
            "grid_auto_rows": null,
            "grid_column": null,
            "grid_gap": null,
            "grid_row": null,
            "grid_template_areas": null,
            "grid_template_columns": null,
            "grid_template_rows": null,
            "height": null,
            "justify_content": null,
            "justify_items": null,
            "left": null,
            "margin": null,
            "max_height": null,
            "max_width": null,
            "min_height": null,
            "min_width": null,
            "object_fit": null,
            "object_position": null,
            "order": null,
            "overflow": null,
            "overflow_x": null,
            "overflow_y": null,
            "padding": null,
            "right": null,
            "top": null,
            "visibility": null,
            "width": null
          }
        },
        "022f571ab53c490390dd3fddd1b184cf": {
          "model_module": "@jupyter-widgets/base",
          "model_name": "LayoutModel",
          "model_module_version": "1.2.0",
          "state": {
            "_model_module": "@jupyter-widgets/base",
            "_model_module_version": "1.2.0",
            "_model_name": "LayoutModel",
            "_view_count": null,
            "_view_module": "@jupyter-widgets/base",
            "_view_module_version": "1.2.0",
            "_view_name": "LayoutView",
            "align_content": null,
            "align_items": null,
            "align_self": null,
            "border": null,
            "bottom": null,
            "display": null,
            "flex": null,
            "flex_flow": null,
            "grid_area": null,
            "grid_auto_columns": null,
            "grid_auto_flow": null,
            "grid_auto_rows": null,
            "grid_column": null,
            "grid_gap": null,
            "grid_row": null,
            "grid_template_areas": null,
            "grid_template_columns": null,
            "grid_template_rows": null,
            "height": null,
            "justify_content": null,
            "justify_items": null,
            "left": null,
            "margin": null,
            "max_height": null,
            "max_width": null,
            "min_height": null,
            "min_width": null,
            "object_fit": null,
            "object_position": null,
            "order": null,
            "overflow": null,
            "overflow_x": null,
            "overflow_y": null,
            "padding": null,
            "right": null,
            "top": null,
            "visibility": null,
            "width": null
          }
        },
        "49c403f763424349acc155e530b0f46c": {
          "model_module": "@jupyter-widgets/controls",
          "model_name": "DescriptionStyleModel",
          "model_module_version": "1.5.0",
          "state": {
            "_model_module": "@jupyter-widgets/controls",
            "_model_module_version": "1.5.0",
            "_model_name": "DescriptionStyleModel",
            "_view_count": null,
            "_view_module": "@jupyter-widgets/base",
            "_view_module_version": "1.2.0",
            "_view_name": "StyleView",
            "description_width": ""
          }
        },
        "1a397fb76dce4704a0c8178358f10cb4": {
          "model_module": "@jupyter-widgets/base",
          "model_name": "LayoutModel",
          "model_module_version": "1.2.0",
          "state": {
            "_model_module": "@jupyter-widgets/base",
            "_model_module_version": "1.2.0",
            "_model_name": "LayoutModel",
            "_view_count": null,
            "_view_module": "@jupyter-widgets/base",
            "_view_module_version": "1.2.0",
            "_view_name": "LayoutView",
            "align_content": null,
            "align_items": null,
            "align_self": null,
            "border": null,
            "bottom": null,
            "display": null,
            "flex": null,
            "flex_flow": null,
            "grid_area": null,
            "grid_auto_columns": null,
            "grid_auto_flow": null,
            "grid_auto_rows": null,
            "grid_column": null,
            "grid_gap": null,
            "grid_row": null,
            "grid_template_areas": null,
            "grid_template_columns": null,
            "grid_template_rows": null,
            "height": null,
            "justify_content": null,
            "justify_items": null,
            "left": null,
            "margin": null,
            "max_height": null,
            "max_width": null,
            "min_height": null,
            "min_width": null,
            "object_fit": null,
            "object_position": null,
            "order": null,
            "overflow": null,
            "overflow_x": null,
            "overflow_y": null,
            "padding": null,
            "right": null,
            "top": null,
            "visibility": null,
            "width": "20px"
          }
        },
        "931add97cee84217bd34c4aa867b790c": {
          "model_module": "@jupyter-widgets/controls",
          "model_name": "ProgressStyleModel",
          "model_module_version": "1.5.0",
          "state": {
            "_model_module": "@jupyter-widgets/controls",
            "_model_module_version": "1.5.0",
            "_model_name": "ProgressStyleModel",
            "_view_count": null,
            "_view_module": "@jupyter-widgets/base",
            "_view_module_version": "1.2.0",
            "_view_name": "StyleView",
            "bar_color": null,
            "description_width": ""
          }
        },
        "f3cacd8054ad48b5b1c2608bd2590b75": {
          "model_module": "@jupyter-widgets/base",
          "model_name": "LayoutModel",
          "model_module_version": "1.2.0",
          "state": {
            "_model_module": "@jupyter-widgets/base",
            "_model_module_version": "1.2.0",
            "_model_name": "LayoutModel",
            "_view_count": null,
            "_view_module": "@jupyter-widgets/base",
            "_view_module_version": "1.2.0",
            "_view_name": "LayoutView",
            "align_content": null,
            "align_items": null,
            "align_self": null,
            "border": null,
            "bottom": null,
            "display": null,
            "flex": null,
            "flex_flow": null,
            "grid_area": null,
            "grid_auto_columns": null,
            "grid_auto_flow": null,
            "grid_auto_rows": null,
            "grid_column": null,
            "grid_gap": null,
            "grid_row": null,
            "grid_template_areas": null,
            "grid_template_columns": null,
            "grid_template_rows": null,
            "height": null,
            "justify_content": null,
            "justify_items": null,
            "left": null,
            "margin": null,
            "max_height": null,
            "max_width": null,
            "min_height": null,
            "min_width": null,
            "object_fit": null,
            "object_position": null,
            "order": null,
            "overflow": null,
            "overflow_x": null,
            "overflow_y": null,
            "padding": null,
            "right": null,
            "top": null,
            "visibility": null,
            "width": null
          }
        },
        "0d34b1d726e641ad869a75e6df466155": {
          "model_module": "@jupyter-widgets/controls",
          "model_name": "DescriptionStyleModel",
          "model_module_version": "1.5.0",
          "state": {
            "_model_module": "@jupyter-widgets/controls",
            "_model_module_version": "1.5.0",
            "_model_name": "DescriptionStyleModel",
            "_view_count": null,
            "_view_module": "@jupyter-widgets/base",
            "_view_module_version": "1.2.0",
            "_view_name": "StyleView",
            "description_width": ""
          }
        },
        "efa9225a5bf74068bef04bca779fe47d": {
          "model_module": "@jupyter-widgets/controls",
          "model_name": "HBoxModel",
          "model_module_version": "1.5.0",
          "state": {
            "_dom_classes": [],
            "_model_module": "@jupyter-widgets/controls",
            "_model_module_version": "1.5.0",
            "_model_name": "HBoxModel",
            "_view_count": null,
            "_view_module": "@jupyter-widgets/controls",
            "_view_module_version": "1.5.0",
            "_view_name": "HBoxView",
            "box_style": "",
            "children": [
              "IPY_MODEL_b088839e6cab4e9297f4441bb5f11e09",
              "IPY_MODEL_1d8ce5bf23564d90beeb76073a9aba0b",
              "IPY_MODEL_d19e57a1d4404af4a62e31de335ec479"
            ],
            "layout": "IPY_MODEL_7bda43593f174572bb5276a646edaeac"
          }
        },
        "b088839e6cab4e9297f4441bb5f11e09": {
          "model_module": "@jupyter-widgets/controls",
          "model_name": "HTMLModel",
          "model_module_version": "1.5.0",
          "state": {
            "_dom_classes": [],
            "_model_module": "@jupyter-widgets/controls",
            "_model_module_version": "1.5.0",
            "_model_name": "HTMLModel",
            "_view_count": null,
            "_view_module": "@jupyter-widgets/controls",
            "_view_module_version": "1.5.0",
            "_view_name": "HTMLView",
            "description": "",
            "description_tooltip": null,
            "layout": "IPY_MODEL_231ce0223a0d44ebac127fa488654728",
            "placeholder": "​",
            "style": "IPY_MODEL_c06c77ddef0a4c53be6db4501678071b",
            "value": "Generating splits...: 100%"
          }
        },
        "1d8ce5bf23564d90beeb76073a9aba0b": {
          "model_module": "@jupyter-widgets/controls",
          "model_name": "FloatProgressModel",
          "model_module_version": "1.5.0",
          "state": {
            "_dom_classes": [],
            "_model_module": "@jupyter-widgets/controls",
            "_model_module_version": "1.5.0",
            "_model_name": "FloatProgressModel",
            "_view_count": null,
            "_view_module": "@jupyter-widgets/controls",
            "_view_module_version": "1.5.0",
            "_view_name": "ProgressView",
            "bar_style": "",
            "description": "",
            "description_tooltip": null,
            "layout": "IPY_MODEL_a3de59cac23e4d66a6c70c398a0a453f",
            "max": 3,
            "min": 0,
            "orientation": "horizontal",
            "style": "IPY_MODEL_567995ac63d64ae8af369183de21a555",
            "value": 3
          }
        },
        "d19e57a1d4404af4a62e31de335ec479": {
          "model_module": "@jupyter-widgets/controls",
          "model_name": "HTMLModel",
          "model_module_version": "1.5.0",
          "state": {
            "_dom_classes": [],
            "_model_module": "@jupyter-widgets/controls",
            "_model_module_version": "1.5.0",
            "_model_name": "HTMLModel",
            "_view_count": null,
            "_view_module": "@jupyter-widgets/controls",
            "_view_module_version": "1.5.0",
            "_view_name": "HTMLView",
            "description": "",
            "description_tooltip": null,
            "layout": "IPY_MODEL_432bebf14aea4c69816795bf84dba562",
            "placeholder": "​",
            "style": "IPY_MODEL_a2378f1682924abbafa32a11c98801c0",
            "value": " 3/3 [07:18&lt;00:00, 185.70s/ splits]"
          }
        },
        "7bda43593f174572bb5276a646edaeac": {
          "model_module": "@jupyter-widgets/base",
          "model_name": "LayoutModel",
          "model_module_version": "1.2.0",
          "state": {
            "_model_module": "@jupyter-widgets/base",
            "_model_module_version": "1.2.0",
            "_model_name": "LayoutModel",
            "_view_count": null,
            "_view_module": "@jupyter-widgets/base",
            "_view_module_version": "1.2.0",
            "_view_name": "LayoutView",
            "align_content": null,
            "align_items": null,
            "align_self": null,
            "border": null,
            "bottom": null,
            "display": null,
            "flex": null,
            "flex_flow": null,
            "grid_area": null,
            "grid_auto_columns": null,
            "grid_auto_flow": null,
            "grid_auto_rows": null,
            "grid_column": null,
            "grid_gap": null,
            "grid_row": null,
            "grid_template_areas": null,
            "grid_template_columns": null,
            "grid_template_rows": null,
            "height": null,
            "justify_content": null,
            "justify_items": null,
            "left": null,
            "margin": null,
            "max_height": null,
            "max_width": null,
            "min_height": null,
            "min_width": null,
            "object_fit": null,
            "object_position": null,
            "order": null,
            "overflow": null,
            "overflow_x": null,
            "overflow_y": null,
            "padding": null,
            "right": null,
            "top": null,
            "visibility": "hidden",
            "width": null
          }
        },
        "231ce0223a0d44ebac127fa488654728": {
          "model_module": "@jupyter-widgets/base",
          "model_name": "LayoutModel",
          "model_module_version": "1.2.0",
          "state": {
            "_model_module": "@jupyter-widgets/base",
            "_model_module_version": "1.2.0",
            "_model_name": "LayoutModel",
            "_view_count": null,
            "_view_module": "@jupyter-widgets/base",
            "_view_module_version": "1.2.0",
            "_view_name": "LayoutView",
            "align_content": null,
            "align_items": null,
            "align_self": null,
            "border": null,
            "bottom": null,
            "display": null,
            "flex": null,
            "flex_flow": null,
            "grid_area": null,
            "grid_auto_columns": null,
            "grid_auto_flow": null,
            "grid_auto_rows": null,
            "grid_column": null,
            "grid_gap": null,
            "grid_row": null,
            "grid_template_areas": null,
            "grid_template_columns": null,
            "grid_template_rows": null,
            "height": null,
            "justify_content": null,
            "justify_items": null,
            "left": null,
            "margin": null,
            "max_height": null,
            "max_width": null,
            "min_height": null,
            "min_width": null,
            "object_fit": null,
            "object_position": null,
            "order": null,
            "overflow": null,
            "overflow_x": null,
            "overflow_y": null,
            "padding": null,
            "right": null,
            "top": null,
            "visibility": null,
            "width": null
          }
        },
        "c06c77ddef0a4c53be6db4501678071b": {
          "model_module": "@jupyter-widgets/controls",
          "model_name": "DescriptionStyleModel",
          "model_module_version": "1.5.0",
          "state": {
            "_model_module": "@jupyter-widgets/controls",
            "_model_module_version": "1.5.0",
            "_model_name": "DescriptionStyleModel",
            "_view_count": null,
            "_view_module": "@jupyter-widgets/base",
            "_view_module_version": "1.2.0",
            "_view_name": "StyleView",
            "description_width": ""
          }
        },
        "a3de59cac23e4d66a6c70c398a0a453f": {
          "model_module": "@jupyter-widgets/base",
          "model_name": "LayoutModel",
          "model_module_version": "1.2.0",
          "state": {
            "_model_module": "@jupyter-widgets/base",
            "_model_module_version": "1.2.0",
            "_model_name": "LayoutModel",
            "_view_count": null,
            "_view_module": "@jupyter-widgets/base",
            "_view_module_version": "1.2.0",
            "_view_name": "LayoutView",
            "align_content": null,
            "align_items": null,
            "align_self": null,
            "border": null,
            "bottom": null,
            "display": null,
            "flex": null,
            "flex_flow": null,
            "grid_area": null,
            "grid_auto_columns": null,
            "grid_auto_flow": null,
            "grid_auto_rows": null,
            "grid_column": null,
            "grid_gap": null,
            "grid_row": null,
            "grid_template_areas": null,
            "grid_template_columns": null,
            "grid_template_rows": null,
            "height": null,
            "justify_content": null,
            "justify_items": null,
            "left": null,
            "margin": null,
            "max_height": null,
            "max_width": null,
            "min_height": null,
            "min_width": null,
            "object_fit": null,
            "object_position": null,
            "order": null,
            "overflow": null,
            "overflow_x": null,
            "overflow_y": null,
            "padding": null,
            "right": null,
            "top": null,
            "visibility": null,
            "width": null
          }
        },
        "567995ac63d64ae8af369183de21a555": {
          "model_module": "@jupyter-widgets/controls",
          "model_name": "ProgressStyleModel",
          "model_module_version": "1.5.0",
          "state": {
            "_model_module": "@jupyter-widgets/controls",
            "_model_module_version": "1.5.0",
            "_model_name": "ProgressStyleModel",
            "_view_count": null,
            "_view_module": "@jupyter-widgets/base",
            "_view_module_version": "1.2.0",
            "_view_name": "StyleView",
            "bar_color": null,
            "description_width": ""
          }
        },
        "432bebf14aea4c69816795bf84dba562": {
          "model_module": "@jupyter-widgets/base",
          "model_name": "LayoutModel",
          "model_module_version": "1.2.0",
          "state": {
            "_model_module": "@jupyter-widgets/base",
            "_model_module_version": "1.2.0",
            "_model_name": "LayoutModel",
            "_view_count": null,
            "_view_module": "@jupyter-widgets/base",
            "_view_module_version": "1.2.0",
            "_view_name": "LayoutView",
            "align_content": null,
            "align_items": null,
            "align_self": null,
            "border": null,
            "bottom": null,
            "display": null,
            "flex": null,
            "flex_flow": null,
            "grid_area": null,
            "grid_auto_columns": null,
            "grid_auto_flow": null,
            "grid_auto_rows": null,
            "grid_column": null,
            "grid_gap": null,
            "grid_row": null,
            "grid_template_areas": null,
            "grid_template_columns": null,
            "grid_template_rows": null,
            "height": null,
            "justify_content": null,
            "justify_items": null,
            "left": null,
            "margin": null,
            "max_height": null,
            "max_width": null,
            "min_height": null,
            "min_width": null,
            "object_fit": null,
            "object_position": null,
            "order": null,
            "overflow": null,
            "overflow_x": null,
            "overflow_y": null,
            "padding": null,
            "right": null,
            "top": null,
            "visibility": null,
            "width": null
          }
        },
        "a2378f1682924abbafa32a11c98801c0": {
          "model_module": "@jupyter-widgets/controls",
          "model_name": "DescriptionStyleModel",
          "model_module_version": "1.5.0",
          "state": {
            "_model_module": "@jupyter-widgets/controls",
            "_model_module_version": "1.5.0",
            "_model_name": "DescriptionStyleModel",
            "_view_count": null,
            "_view_module": "@jupyter-widgets/base",
            "_view_module_version": "1.2.0",
            "_view_name": "StyleView",
            "description_width": ""
          }
        },
        "9d91e6c735414f2c87f6e756520ef517": {
          "model_module": "@jupyter-widgets/controls",
          "model_name": "HBoxModel",
          "model_module_version": "1.5.0",
          "state": {
            "_dom_classes": [],
            "_model_module": "@jupyter-widgets/controls",
            "_model_module_version": "1.5.0",
            "_model_name": "HBoxModel",
            "_view_count": null,
            "_view_module": "@jupyter-widgets/controls",
            "_view_module_version": "1.5.0",
            "_view_name": "HBoxView",
            "box_style": "",
            "children": [
              "IPY_MODEL_64ee3c8bed7944a6bf665fc7c265f8a3",
              "IPY_MODEL_76b091e703d84186b75fc100e87a3fc5",
              "IPY_MODEL_6176713ec6d946c597155d4998fd232d"
            ],
            "layout": "IPY_MODEL_c4cb4fc61c95443baddaa0b30b087aa7"
          }
        },
        "64ee3c8bed7944a6bf665fc7c265f8a3": {
          "model_module": "@jupyter-widgets/controls",
          "model_name": "HTMLModel",
          "model_module_version": "1.5.0",
          "state": {
            "_dom_classes": [],
            "_model_module": "@jupyter-widgets/controls",
            "_model_module_version": "1.5.0",
            "_model_name": "HTMLModel",
            "_view_count": null,
            "_view_module": "@jupyter-widgets/controls",
            "_view_module_version": "1.5.0",
            "_view_name": "HTMLView",
            "description": "",
            "description_tooltip": null,
            "layout": "IPY_MODEL_be139038da4f4697af725dbe255630b6",
            "placeholder": "​",
            "style": "IPY_MODEL_447056875d1d4b998788996cbf63422d",
            "value": "Generating train examples...:  98%"
          }
        },
        "76b091e703d84186b75fc100e87a3fc5": {
          "model_module": "@jupyter-widgets/controls",
          "model_name": "FloatProgressModel",
          "model_module_version": "1.5.0",
          "state": {
            "_dom_classes": [],
            "_model_module": "@jupyter-widgets/controls",
            "_model_module_version": "1.5.0",
            "_model_name": "FloatProgressModel",
            "_view_count": null,
            "_view_module": "@jupyter-widgets/controls",
            "_view_module_version": "1.5.0",
            "_view_name": "ProgressView",
            "bar_style": "",
            "description": "",
            "description_tooltip": null,
            "layout": "IPY_MODEL_e4371e0524d7401aa5972fb317bce7e2",
            "max": 73257,
            "min": 0,
            "orientation": "horizontal",
            "style": "IPY_MODEL_eea79104412247e3943a6cf395376247",
            "value": 73257
          }
        },
        "6176713ec6d946c597155d4998fd232d": {
          "model_module": "@jupyter-widgets/controls",
          "model_name": "HTMLModel",
          "model_module_version": "1.5.0",
          "state": {
            "_dom_classes": [],
            "_model_module": "@jupyter-widgets/controls",
            "_model_module_version": "1.5.0",
            "_model_name": "HTMLModel",
            "_view_count": null,
            "_view_module": "@jupyter-widgets/controls",
            "_view_module_version": "1.5.0",
            "_view_name": "HTMLView",
            "description": "",
            "description_tooltip": null,
            "layout": "IPY_MODEL_dc4430fe6c364782a302d6834fb181ca",
            "placeholder": "​",
            "style": "IPY_MODEL_22fbb69748414a7c9d5814b72781ed25",
            "value": " 71653/73257 [00:50&lt;00:00, 1666.15 examples/s]"
          }
        },
        "c4cb4fc61c95443baddaa0b30b087aa7": {
          "model_module": "@jupyter-widgets/base",
          "model_name": "LayoutModel",
          "model_module_version": "1.2.0",
          "state": {
            "_model_module": "@jupyter-widgets/base",
            "_model_module_version": "1.2.0",
            "_model_name": "LayoutModel",
            "_view_count": null,
            "_view_module": "@jupyter-widgets/base",
            "_view_module_version": "1.2.0",
            "_view_name": "LayoutView",
            "align_content": null,
            "align_items": null,
            "align_self": null,
            "border": null,
            "bottom": null,
            "display": null,
            "flex": null,
            "flex_flow": null,
            "grid_area": null,
            "grid_auto_columns": null,
            "grid_auto_flow": null,
            "grid_auto_rows": null,
            "grid_column": null,
            "grid_gap": null,
            "grid_row": null,
            "grid_template_areas": null,
            "grid_template_columns": null,
            "grid_template_rows": null,
            "height": null,
            "justify_content": null,
            "justify_items": null,
            "left": null,
            "margin": null,
            "max_height": null,
            "max_width": null,
            "min_height": null,
            "min_width": null,
            "object_fit": null,
            "object_position": null,
            "order": null,
            "overflow": null,
            "overflow_x": null,
            "overflow_y": null,
            "padding": null,
            "right": null,
            "top": null,
            "visibility": "hidden",
            "width": null
          }
        },
        "be139038da4f4697af725dbe255630b6": {
          "model_module": "@jupyter-widgets/base",
          "model_name": "LayoutModel",
          "model_module_version": "1.2.0",
          "state": {
            "_model_module": "@jupyter-widgets/base",
            "_model_module_version": "1.2.0",
            "_model_name": "LayoutModel",
            "_view_count": null,
            "_view_module": "@jupyter-widgets/base",
            "_view_module_version": "1.2.0",
            "_view_name": "LayoutView",
            "align_content": null,
            "align_items": null,
            "align_self": null,
            "border": null,
            "bottom": null,
            "display": null,
            "flex": null,
            "flex_flow": null,
            "grid_area": null,
            "grid_auto_columns": null,
            "grid_auto_flow": null,
            "grid_auto_rows": null,
            "grid_column": null,
            "grid_gap": null,
            "grid_row": null,
            "grid_template_areas": null,
            "grid_template_columns": null,
            "grid_template_rows": null,
            "height": null,
            "justify_content": null,
            "justify_items": null,
            "left": null,
            "margin": null,
            "max_height": null,
            "max_width": null,
            "min_height": null,
            "min_width": null,
            "object_fit": null,
            "object_position": null,
            "order": null,
            "overflow": null,
            "overflow_x": null,
            "overflow_y": null,
            "padding": null,
            "right": null,
            "top": null,
            "visibility": null,
            "width": null
          }
        },
        "447056875d1d4b998788996cbf63422d": {
          "model_module": "@jupyter-widgets/controls",
          "model_name": "DescriptionStyleModel",
          "model_module_version": "1.5.0",
          "state": {
            "_model_module": "@jupyter-widgets/controls",
            "_model_module_version": "1.5.0",
            "_model_name": "DescriptionStyleModel",
            "_view_count": null,
            "_view_module": "@jupyter-widgets/base",
            "_view_module_version": "1.2.0",
            "_view_name": "StyleView",
            "description_width": ""
          }
        },
        "e4371e0524d7401aa5972fb317bce7e2": {
          "model_module": "@jupyter-widgets/base",
          "model_name": "LayoutModel",
          "model_module_version": "1.2.0",
          "state": {
            "_model_module": "@jupyter-widgets/base",
            "_model_module_version": "1.2.0",
            "_model_name": "LayoutModel",
            "_view_count": null,
            "_view_module": "@jupyter-widgets/base",
            "_view_module_version": "1.2.0",
            "_view_name": "LayoutView",
            "align_content": null,
            "align_items": null,
            "align_self": null,
            "border": null,
            "bottom": null,
            "display": null,
            "flex": null,
            "flex_flow": null,
            "grid_area": null,
            "grid_auto_columns": null,
            "grid_auto_flow": null,
            "grid_auto_rows": null,
            "grid_column": null,
            "grid_gap": null,
            "grid_row": null,
            "grid_template_areas": null,
            "grid_template_columns": null,
            "grid_template_rows": null,
            "height": null,
            "justify_content": null,
            "justify_items": null,
            "left": null,
            "margin": null,
            "max_height": null,
            "max_width": null,
            "min_height": null,
            "min_width": null,
            "object_fit": null,
            "object_position": null,
            "order": null,
            "overflow": null,
            "overflow_x": null,
            "overflow_y": null,
            "padding": null,
            "right": null,
            "top": null,
            "visibility": null,
            "width": null
          }
        },
        "eea79104412247e3943a6cf395376247": {
          "model_module": "@jupyter-widgets/controls",
          "model_name": "ProgressStyleModel",
          "model_module_version": "1.5.0",
          "state": {
            "_model_module": "@jupyter-widgets/controls",
            "_model_module_version": "1.5.0",
            "_model_name": "ProgressStyleModel",
            "_view_count": null,
            "_view_module": "@jupyter-widgets/base",
            "_view_module_version": "1.2.0",
            "_view_name": "StyleView",
            "bar_color": null,
            "description_width": ""
          }
        },
        "dc4430fe6c364782a302d6834fb181ca": {
          "model_module": "@jupyter-widgets/base",
          "model_name": "LayoutModel",
          "model_module_version": "1.2.0",
          "state": {
            "_model_module": "@jupyter-widgets/base",
            "_model_module_version": "1.2.0",
            "_model_name": "LayoutModel",
            "_view_count": null,
            "_view_module": "@jupyter-widgets/base",
            "_view_module_version": "1.2.0",
            "_view_name": "LayoutView",
            "align_content": null,
            "align_items": null,
            "align_self": null,
            "border": null,
            "bottom": null,
            "display": null,
            "flex": null,
            "flex_flow": null,
            "grid_area": null,
            "grid_auto_columns": null,
            "grid_auto_flow": null,
            "grid_auto_rows": null,
            "grid_column": null,
            "grid_gap": null,
            "grid_row": null,
            "grid_template_areas": null,
            "grid_template_columns": null,
            "grid_template_rows": null,
            "height": null,
            "justify_content": null,
            "justify_items": null,
            "left": null,
            "margin": null,
            "max_height": null,
            "max_width": null,
            "min_height": null,
            "min_width": null,
            "object_fit": null,
            "object_position": null,
            "order": null,
            "overflow": null,
            "overflow_x": null,
            "overflow_y": null,
            "padding": null,
            "right": null,
            "top": null,
            "visibility": null,
            "width": null
          }
        },
        "22fbb69748414a7c9d5814b72781ed25": {
          "model_module": "@jupyter-widgets/controls",
          "model_name": "DescriptionStyleModel",
          "model_module_version": "1.5.0",
          "state": {
            "_model_module": "@jupyter-widgets/controls",
            "_model_module_version": "1.5.0",
            "_model_name": "DescriptionStyleModel",
            "_view_count": null,
            "_view_module": "@jupyter-widgets/base",
            "_view_module_version": "1.2.0",
            "_view_name": "StyleView",
            "description_width": ""
          }
        },
        "fecb558aa453497c9c9b8e08c2d9d96c": {
          "model_module": "@jupyter-widgets/controls",
          "model_name": "HBoxModel",
          "model_module_version": "1.5.0",
          "state": {
            "_dom_classes": [],
            "_model_module": "@jupyter-widgets/controls",
            "_model_module_version": "1.5.0",
            "_model_name": "HBoxModel",
            "_view_count": null,
            "_view_module": "@jupyter-widgets/controls",
            "_view_module_version": "1.5.0",
            "_view_name": "HBoxView",
            "box_style": "",
            "children": [
              "IPY_MODEL_058332301e5d4d078a1881db09657757",
              "IPY_MODEL_a3f20a6ef4f84489bf8f097820e44be3",
              "IPY_MODEL_f800854dd3bc4c6c94c42c4af3ad2841"
            ],
            "layout": "IPY_MODEL_c6d4a46270354933a2431614618fac03"
          }
        },
        "058332301e5d4d078a1881db09657757": {
          "model_module": "@jupyter-widgets/controls",
          "model_name": "HTMLModel",
          "model_module_version": "1.5.0",
          "state": {
            "_dom_classes": [],
            "_model_module": "@jupyter-widgets/controls",
            "_model_module_version": "1.5.0",
            "_model_name": "HTMLModel",
            "_view_count": null,
            "_view_module": "@jupyter-widgets/controls",
            "_view_module_version": "1.5.0",
            "_view_name": "HTMLView",
            "description": "",
            "description_tooltip": null,
            "layout": "IPY_MODEL_aef275663d40461ca52246fb1c35b64d",
            "placeholder": "​",
            "style": "IPY_MODEL_7440b03ecf1542a1bd730d7affd364e0",
            "value": "Shuffling /root/tensorflow_datasets/svhn_cropped/3.0.0.incompleteV9U3Y1/svhn_cropped-train.tfrecord*...:  92%"
          }
        },
        "a3f20a6ef4f84489bf8f097820e44be3": {
          "model_module": "@jupyter-widgets/controls",
          "model_name": "FloatProgressModel",
          "model_module_version": "1.5.0",
          "state": {
            "_dom_classes": [],
            "_model_module": "@jupyter-widgets/controls",
            "_model_module_version": "1.5.0",
            "_model_name": "FloatProgressModel",
            "_view_count": null,
            "_view_module": "@jupyter-widgets/controls",
            "_view_module_version": "1.5.0",
            "_view_name": "ProgressView",
            "bar_style": "",
            "description": "",
            "description_tooltip": null,
            "layout": "IPY_MODEL_d82708e827dd4d128fe336b56c70e8ed",
            "max": 73257,
            "min": 0,
            "orientation": "horizontal",
            "style": "IPY_MODEL_cfd6998342f1497c8b0f3a8229bc43c5",
            "value": 73257
          }
        },
        "f800854dd3bc4c6c94c42c4af3ad2841": {
          "model_module": "@jupyter-widgets/controls",
          "model_name": "HTMLModel",
          "model_module_version": "1.5.0",
          "state": {
            "_dom_classes": [],
            "_model_module": "@jupyter-widgets/controls",
            "_model_module_version": "1.5.0",
            "_model_name": "HTMLModel",
            "_view_count": null,
            "_view_module": "@jupyter-widgets/controls",
            "_view_module_version": "1.5.0",
            "_view_name": "HTMLView",
            "description": "",
            "description_tooltip": null,
            "layout": "IPY_MODEL_70ba055be5f943f6a6ab24f0635a2fbb",
            "placeholder": "​",
            "style": "IPY_MODEL_3f9c5630a1e745a5b982c13c45b59588",
            "value": " 67269/73257 [00:00&lt;00:00, 155031.96 examples/s]"
          }
        },
        "c6d4a46270354933a2431614618fac03": {
          "model_module": "@jupyter-widgets/base",
          "model_name": "LayoutModel",
          "model_module_version": "1.2.0",
          "state": {
            "_model_module": "@jupyter-widgets/base",
            "_model_module_version": "1.2.0",
            "_model_name": "LayoutModel",
            "_view_count": null,
            "_view_module": "@jupyter-widgets/base",
            "_view_module_version": "1.2.0",
            "_view_name": "LayoutView",
            "align_content": null,
            "align_items": null,
            "align_self": null,
            "border": null,
            "bottom": null,
            "display": null,
            "flex": null,
            "flex_flow": null,
            "grid_area": null,
            "grid_auto_columns": null,
            "grid_auto_flow": null,
            "grid_auto_rows": null,
            "grid_column": null,
            "grid_gap": null,
            "grid_row": null,
            "grid_template_areas": null,
            "grid_template_columns": null,
            "grid_template_rows": null,
            "height": null,
            "justify_content": null,
            "justify_items": null,
            "left": null,
            "margin": null,
            "max_height": null,
            "max_width": null,
            "min_height": null,
            "min_width": null,
            "object_fit": null,
            "object_position": null,
            "order": null,
            "overflow": null,
            "overflow_x": null,
            "overflow_y": null,
            "padding": null,
            "right": null,
            "top": null,
            "visibility": "hidden",
            "width": null
          }
        },
        "aef275663d40461ca52246fb1c35b64d": {
          "model_module": "@jupyter-widgets/base",
          "model_name": "LayoutModel",
          "model_module_version": "1.2.0",
          "state": {
            "_model_module": "@jupyter-widgets/base",
            "_model_module_version": "1.2.0",
            "_model_name": "LayoutModel",
            "_view_count": null,
            "_view_module": "@jupyter-widgets/base",
            "_view_module_version": "1.2.0",
            "_view_name": "LayoutView",
            "align_content": null,
            "align_items": null,
            "align_self": null,
            "border": null,
            "bottom": null,
            "display": null,
            "flex": null,
            "flex_flow": null,
            "grid_area": null,
            "grid_auto_columns": null,
            "grid_auto_flow": null,
            "grid_auto_rows": null,
            "grid_column": null,
            "grid_gap": null,
            "grid_row": null,
            "grid_template_areas": null,
            "grid_template_columns": null,
            "grid_template_rows": null,
            "height": null,
            "justify_content": null,
            "justify_items": null,
            "left": null,
            "margin": null,
            "max_height": null,
            "max_width": null,
            "min_height": null,
            "min_width": null,
            "object_fit": null,
            "object_position": null,
            "order": null,
            "overflow": null,
            "overflow_x": null,
            "overflow_y": null,
            "padding": null,
            "right": null,
            "top": null,
            "visibility": null,
            "width": null
          }
        },
        "7440b03ecf1542a1bd730d7affd364e0": {
          "model_module": "@jupyter-widgets/controls",
          "model_name": "DescriptionStyleModel",
          "model_module_version": "1.5.0",
          "state": {
            "_model_module": "@jupyter-widgets/controls",
            "_model_module_version": "1.5.0",
            "_model_name": "DescriptionStyleModel",
            "_view_count": null,
            "_view_module": "@jupyter-widgets/base",
            "_view_module_version": "1.2.0",
            "_view_name": "StyleView",
            "description_width": ""
          }
        },
        "d82708e827dd4d128fe336b56c70e8ed": {
          "model_module": "@jupyter-widgets/base",
          "model_name": "LayoutModel",
          "model_module_version": "1.2.0",
          "state": {
            "_model_module": "@jupyter-widgets/base",
            "_model_module_version": "1.2.0",
            "_model_name": "LayoutModel",
            "_view_count": null,
            "_view_module": "@jupyter-widgets/base",
            "_view_module_version": "1.2.0",
            "_view_name": "LayoutView",
            "align_content": null,
            "align_items": null,
            "align_self": null,
            "border": null,
            "bottom": null,
            "display": null,
            "flex": null,
            "flex_flow": null,
            "grid_area": null,
            "grid_auto_columns": null,
            "grid_auto_flow": null,
            "grid_auto_rows": null,
            "grid_column": null,
            "grid_gap": null,
            "grid_row": null,
            "grid_template_areas": null,
            "grid_template_columns": null,
            "grid_template_rows": null,
            "height": null,
            "justify_content": null,
            "justify_items": null,
            "left": null,
            "margin": null,
            "max_height": null,
            "max_width": null,
            "min_height": null,
            "min_width": null,
            "object_fit": null,
            "object_position": null,
            "order": null,
            "overflow": null,
            "overflow_x": null,
            "overflow_y": null,
            "padding": null,
            "right": null,
            "top": null,
            "visibility": null,
            "width": null
          }
        },
        "cfd6998342f1497c8b0f3a8229bc43c5": {
          "model_module": "@jupyter-widgets/controls",
          "model_name": "ProgressStyleModel",
          "model_module_version": "1.5.0",
          "state": {
            "_model_module": "@jupyter-widgets/controls",
            "_model_module_version": "1.5.0",
            "_model_name": "ProgressStyleModel",
            "_view_count": null,
            "_view_module": "@jupyter-widgets/base",
            "_view_module_version": "1.2.0",
            "_view_name": "StyleView",
            "bar_color": null,
            "description_width": ""
          }
        },
        "70ba055be5f943f6a6ab24f0635a2fbb": {
          "model_module": "@jupyter-widgets/base",
          "model_name": "LayoutModel",
          "model_module_version": "1.2.0",
          "state": {
            "_model_module": "@jupyter-widgets/base",
            "_model_module_version": "1.2.0",
            "_model_name": "LayoutModel",
            "_view_count": null,
            "_view_module": "@jupyter-widgets/base",
            "_view_module_version": "1.2.0",
            "_view_name": "LayoutView",
            "align_content": null,
            "align_items": null,
            "align_self": null,
            "border": null,
            "bottom": null,
            "display": null,
            "flex": null,
            "flex_flow": null,
            "grid_area": null,
            "grid_auto_columns": null,
            "grid_auto_flow": null,
            "grid_auto_rows": null,
            "grid_column": null,
            "grid_gap": null,
            "grid_row": null,
            "grid_template_areas": null,
            "grid_template_columns": null,
            "grid_template_rows": null,
            "height": null,
            "justify_content": null,
            "justify_items": null,
            "left": null,
            "margin": null,
            "max_height": null,
            "max_width": null,
            "min_height": null,
            "min_width": null,
            "object_fit": null,
            "object_position": null,
            "order": null,
            "overflow": null,
            "overflow_x": null,
            "overflow_y": null,
            "padding": null,
            "right": null,
            "top": null,
            "visibility": null,
            "width": null
          }
        },
        "3f9c5630a1e745a5b982c13c45b59588": {
          "model_module": "@jupyter-widgets/controls",
          "model_name": "DescriptionStyleModel",
          "model_module_version": "1.5.0",
          "state": {
            "_model_module": "@jupyter-widgets/controls",
            "_model_module_version": "1.5.0",
            "_model_name": "DescriptionStyleModel",
            "_view_count": null,
            "_view_module": "@jupyter-widgets/base",
            "_view_module_version": "1.2.0",
            "_view_name": "StyleView",
            "description_width": ""
          }
        },
        "9a12d3daaa724cd48e93d82c7c7c2ebf": {
          "model_module": "@jupyter-widgets/controls",
          "model_name": "HBoxModel",
          "model_module_version": "1.5.0",
          "state": {
            "_dom_classes": [],
            "_model_module": "@jupyter-widgets/controls",
            "_model_module_version": "1.5.0",
            "_model_name": "HBoxModel",
            "_view_count": null,
            "_view_module": "@jupyter-widgets/controls",
            "_view_module_version": "1.5.0",
            "_view_name": "HBoxView",
            "box_style": "",
            "children": [
              "IPY_MODEL_8d357aafd699433aa7b72d597d0b8f40",
              "IPY_MODEL_0b67460906354295aab388dfd353d551",
              "IPY_MODEL_7d932c4f54f547f18a56093b067da0bc"
            ],
            "layout": "IPY_MODEL_95928b0a8ced4550bb23d04026ad885b"
          }
        },
        "8d357aafd699433aa7b72d597d0b8f40": {
          "model_module": "@jupyter-widgets/controls",
          "model_name": "HTMLModel",
          "model_module_version": "1.5.0",
          "state": {
            "_dom_classes": [],
            "_model_module": "@jupyter-widgets/controls",
            "_model_module_version": "1.5.0",
            "_model_name": "HTMLModel",
            "_view_count": null,
            "_view_module": "@jupyter-widgets/controls",
            "_view_module_version": "1.5.0",
            "_view_name": "HTMLView",
            "description": "",
            "description_tooltip": null,
            "layout": "IPY_MODEL_1741b433cfd349cdae854da63162c975",
            "placeholder": "​",
            "style": "IPY_MODEL_e6349a2754a34b2eb28d4ea0162d38b6",
            "value": "Generating test examples...:  99%"
          }
        },
        "0b67460906354295aab388dfd353d551": {
          "model_module": "@jupyter-widgets/controls",
          "model_name": "FloatProgressModel",
          "model_module_version": "1.5.0",
          "state": {
            "_dom_classes": [],
            "_model_module": "@jupyter-widgets/controls",
            "_model_module_version": "1.5.0",
            "_model_name": "FloatProgressModel",
            "_view_count": null,
            "_view_module": "@jupyter-widgets/controls",
            "_view_module_version": "1.5.0",
            "_view_name": "ProgressView",
            "bar_style": "",
            "description": "",
            "description_tooltip": null,
            "layout": "IPY_MODEL_7f91a276535a4570bc33929335a4e1a1",
            "max": 26032,
            "min": 0,
            "orientation": "horizontal",
            "style": "IPY_MODEL_dc4304a40e1e4d6caec1f17ddb05115b",
            "value": 26032
          }
        },
        "7d932c4f54f547f18a56093b067da0bc": {
          "model_module": "@jupyter-widgets/controls",
          "model_name": "HTMLModel",
          "model_module_version": "1.5.0",
          "state": {
            "_dom_classes": [],
            "_model_module": "@jupyter-widgets/controls",
            "_model_module_version": "1.5.0",
            "_model_name": "HTMLModel",
            "_view_count": null,
            "_view_module": "@jupyter-widgets/controls",
            "_view_module_version": "1.5.0",
            "_view_name": "HTMLView",
            "description": "",
            "description_tooltip": null,
            "layout": "IPY_MODEL_fdec659b583b4b91b8f80d1d6cde00b3",
            "placeholder": "​",
            "style": "IPY_MODEL_4cd864261dcc4105af45cc155e2e9051",
            "value": " 25675/26032 [00:17&lt;00:00, 1487.91 examples/s]"
          }
        },
        "95928b0a8ced4550bb23d04026ad885b": {
          "model_module": "@jupyter-widgets/base",
          "model_name": "LayoutModel",
          "model_module_version": "1.2.0",
          "state": {
            "_model_module": "@jupyter-widgets/base",
            "_model_module_version": "1.2.0",
            "_model_name": "LayoutModel",
            "_view_count": null,
            "_view_module": "@jupyter-widgets/base",
            "_view_module_version": "1.2.0",
            "_view_name": "LayoutView",
            "align_content": null,
            "align_items": null,
            "align_self": null,
            "border": null,
            "bottom": null,
            "display": null,
            "flex": null,
            "flex_flow": null,
            "grid_area": null,
            "grid_auto_columns": null,
            "grid_auto_flow": null,
            "grid_auto_rows": null,
            "grid_column": null,
            "grid_gap": null,
            "grid_row": null,
            "grid_template_areas": null,
            "grid_template_columns": null,
            "grid_template_rows": null,
            "height": null,
            "justify_content": null,
            "justify_items": null,
            "left": null,
            "margin": null,
            "max_height": null,
            "max_width": null,
            "min_height": null,
            "min_width": null,
            "object_fit": null,
            "object_position": null,
            "order": null,
            "overflow": null,
            "overflow_x": null,
            "overflow_y": null,
            "padding": null,
            "right": null,
            "top": null,
            "visibility": "hidden",
            "width": null
          }
        },
        "1741b433cfd349cdae854da63162c975": {
          "model_module": "@jupyter-widgets/base",
          "model_name": "LayoutModel",
          "model_module_version": "1.2.0",
          "state": {
            "_model_module": "@jupyter-widgets/base",
            "_model_module_version": "1.2.0",
            "_model_name": "LayoutModel",
            "_view_count": null,
            "_view_module": "@jupyter-widgets/base",
            "_view_module_version": "1.2.0",
            "_view_name": "LayoutView",
            "align_content": null,
            "align_items": null,
            "align_self": null,
            "border": null,
            "bottom": null,
            "display": null,
            "flex": null,
            "flex_flow": null,
            "grid_area": null,
            "grid_auto_columns": null,
            "grid_auto_flow": null,
            "grid_auto_rows": null,
            "grid_column": null,
            "grid_gap": null,
            "grid_row": null,
            "grid_template_areas": null,
            "grid_template_columns": null,
            "grid_template_rows": null,
            "height": null,
            "justify_content": null,
            "justify_items": null,
            "left": null,
            "margin": null,
            "max_height": null,
            "max_width": null,
            "min_height": null,
            "min_width": null,
            "object_fit": null,
            "object_position": null,
            "order": null,
            "overflow": null,
            "overflow_x": null,
            "overflow_y": null,
            "padding": null,
            "right": null,
            "top": null,
            "visibility": null,
            "width": null
          }
        },
        "e6349a2754a34b2eb28d4ea0162d38b6": {
          "model_module": "@jupyter-widgets/controls",
          "model_name": "DescriptionStyleModel",
          "model_module_version": "1.5.0",
          "state": {
            "_model_module": "@jupyter-widgets/controls",
            "_model_module_version": "1.5.0",
            "_model_name": "DescriptionStyleModel",
            "_view_count": null,
            "_view_module": "@jupyter-widgets/base",
            "_view_module_version": "1.2.0",
            "_view_name": "StyleView",
            "description_width": ""
          }
        },
        "7f91a276535a4570bc33929335a4e1a1": {
          "model_module": "@jupyter-widgets/base",
          "model_name": "LayoutModel",
          "model_module_version": "1.2.0",
          "state": {
            "_model_module": "@jupyter-widgets/base",
            "_model_module_version": "1.2.0",
            "_model_name": "LayoutModel",
            "_view_count": null,
            "_view_module": "@jupyter-widgets/base",
            "_view_module_version": "1.2.0",
            "_view_name": "LayoutView",
            "align_content": null,
            "align_items": null,
            "align_self": null,
            "border": null,
            "bottom": null,
            "display": null,
            "flex": null,
            "flex_flow": null,
            "grid_area": null,
            "grid_auto_columns": null,
            "grid_auto_flow": null,
            "grid_auto_rows": null,
            "grid_column": null,
            "grid_gap": null,
            "grid_row": null,
            "grid_template_areas": null,
            "grid_template_columns": null,
            "grid_template_rows": null,
            "height": null,
            "justify_content": null,
            "justify_items": null,
            "left": null,
            "margin": null,
            "max_height": null,
            "max_width": null,
            "min_height": null,
            "min_width": null,
            "object_fit": null,
            "object_position": null,
            "order": null,
            "overflow": null,
            "overflow_x": null,
            "overflow_y": null,
            "padding": null,
            "right": null,
            "top": null,
            "visibility": null,
            "width": null
          }
        },
        "dc4304a40e1e4d6caec1f17ddb05115b": {
          "model_module": "@jupyter-widgets/controls",
          "model_name": "ProgressStyleModel",
          "model_module_version": "1.5.0",
          "state": {
            "_model_module": "@jupyter-widgets/controls",
            "_model_module_version": "1.5.0",
            "_model_name": "ProgressStyleModel",
            "_view_count": null,
            "_view_module": "@jupyter-widgets/base",
            "_view_module_version": "1.2.0",
            "_view_name": "StyleView",
            "bar_color": null,
            "description_width": ""
          }
        },
        "fdec659b583b4b91b8f80d1d6cde00b3": {
          "model_module": "@jupyter-widgets/base",
          "model_name": "LayoutModel",
          "model_module_version": "1.2.0",
          "state": {
            "_model_module": "@jupyter-widgets/base",
            "_model_module_version": "1.2.0",
            "_model_name": "LayoutModel",
            "_view_count": null,
            "_view_module": "@jupyter-widgets/base",
            "_view_module_version": "1.2.0",
            "_view_name": "LayoutView",
            "align_content": null,
            "align_items": null,
            "align_self": null,
            "border": null,
            "bottom": null,
            "display": null,
            "flex": null,
            "flex_flow": null,
            "grid_area": null,
            "grid_auto_columns": null,
            "grid_auto_flow": null,
            "grid_auto_rows": null,
            "grid_column": null,
            "grid_gap": null,
            "grid_row": null,
            "grid_template_areas": null,
            "grid_template_columns": null,
            "grid_template_rows": null,
            "height": null,
            "justify_content": null,
            "justify_items": null,
            "left": null,
            "margin": null,
            "max_height": null,
            "max_width": null,
            "min_height": null,
            "min_width": null,
            "object_fit": null,
            "object_position": null,
            "order": null,
            "overflow": null,
            "overflow_x": null,
            "overflow_y": null,
            "padding": null,
            "right": null,
            "top": null,
            "visibility": null,
            "width": null
          }
        },
        "4cd864261dcc4105af45cc155e2e9051": {
          "model_module": "@jupyter-widgets/controls",
          "model_name": "DescriptionStyleModel",
          "model_module_version": "1.5.0",
          "state": {
            "_model_module": "@jupyter-widgets/controls",
            "_model_module_version": "1.5.0",
            "_model_name": "DescriptionStyleModel",
            "_view_count": null,
            "_view_module": "@jupyter-widgets/base",
            "_view_module_version": "1.2.0",
            "_view_name": "StyleView",
            "description_width": ""
          }
        },
        "52afd5ee321f4edd8bbd6a117980af8f": {
          "model_module": "@jupyter-widgets/controls",
          "model_name": "HBoxModel",
          "model_module_version": "1.5.0",
          "state": {
            "_dom_classes": [],
            "_model_module": "@jupyter-widgets/controls",
            "_model_module_version": "1.5.0",
            "_model_name": "HBoxModel",
            "_view_count": null,
            "_view_module": "@jupyter-widgets/controls",
            "_view_module_version": "1.5.0",
            "_view_name": "HBoxView",
            "box_style": "",
            "children": [
              "IPY_MODEL_623d648401dd4ba88960ad199f29c6eb",
              "IPY_MODEL_4c0afb944739453599e52fc197367541",
              "IPY_MODEL_f77f3f3677b342898c04ab0b73d4ea98"
            ],
            "layout": "IPY_MODEL_6a4003c8547d4c9799f0ecc470282589"
          }
        },
        "623d648401dd4ba88960ad199f29c6eb": {
          "model_module": "@jupyter-widgets/controls",
          "model_name": "HTMLModel",
          "model_module_version": "1.5.0",
          "state": {
            "_dom_classes": [],
            "_model_module": "@jupyter-widgets/controls",
            "_model_module_version": "1.5.0",
            "_model_name": "HTMLModel",
            "_view_count": null,
            "_view_module": "@jupyter-widgets/controls",
            "_view_module_version": "1.5.0",
            "_view_name": "HTMLView",
            "description": "",
            "description_tooltip": null,
            "layout": "IPY_MODEL_b24a75062ca5458fb4fc5930ee61d1ef",
            "placeholder": "​",
            "style": "IPY_MODEL_008a7d5a9c5e42dfbade8bdc3837fb13",
            "value": "Shuffling /root/tensorflow_datasets/svhn_cropped/3.0.0.incompleteV9U3Y1/svhn_cropped-test.tfrecord*...:  55%"
          }
        },
        "4c0afb944739453599e52fc197367541": {
          "model_module": "@jupyter-widgets/controls",
          "model_name": "FloatProgressModel",
          "model_module_version": "1.5.0",
          "state": {
            "_dom_classes": [],
            "_model_module": "@jupyter-widgets/controls",
            "_model_module_version": "1.5.0",
            "_model_name": "FloatProgressModel",
            "_view_count": null,
            "_view_module": "@jupyter-widgets/controls",
            "_view_module_version": "1.5.0",
            "_view_name": "ProgressView",
            "bar_style": "",
            "description": "",
            "description_tooltip": null,
            "layout": "IPY_MODEL_8538b1af71f24d5bacd00a76b99b1248",
            "max": 26032,
            "min": 0,
            "orientation": "horizontal",
            "style": "IPY_MODEL_53807bf771684a568110ec6dac259342",
            "value": 26032
          }
        },
        "f77f3f3677b342898c04ab0b73d4ea98": {
          "model_module": "@jupyter-widgets/controls",
          "model_name": "HTMLModel",
          "model_module_version": "1.5.0",
          "state": {
            "_dom_classes": [],
            "_model_module": "@jupyter-widgets/controls",
            "_model_module_version": "1.5.0",
            "_model_name": "HTMLModel",
            "_view_count": null,
            "_view_module": "@jupyter-widgets/controls",
            "_view_module_version": "1.5.0",
            "_view_name": "HTMLView",
            "description": "",
            "description_tooltip": null,
            "layout": "IPY_MODEL_c4b74622ac9a4289a8ddfa2702ff060c",
            "placeholder": "​",
            "style": "IPY_MODEL_86afa20faabb4126903bb96c0746310b",
            "value": " 14440/26032 [00:00&lt;00:00, 78406.15 examples/s]"
          }
        },
        "6a4003c8547d4c9799f0ecc470282589": {
          "model_module": "@jupyter-widgets/base",
          "model_name": "LayoutModel",
          "model_module_version": "1.2.0",
          "state": {
            "_model_module": "@jupyter-widgets/base",
            "_model_module_version": "1.2.0",
            "_model_name": "LayoutModel",
            "_view_count": null,
            "_view_module": "@jupyter-widgets/base",
            "_view_module_version": "1.2.0",
            "_view_name": "LayoutView",
            "align_content": null,
            "align_items": null,
            "align_self": null,
            "border": null,
            "bottom": null,
            "display": null,
            "flex": null,
            "flex_flow": null,
            "grid_area": null,
            "grid_auto_columns": null,
            "grid_auto_flow": null,
            "grid_auto_rows": null,
            "grid_column": null,
            "grid_gap": null,
            "grid_row": null,
            "grid_template_areas": null,
            "grid_template_columns": null,
            "grid_template_rows": null,
            "height": null,
            "justify_content": null,
            "justify_items": null,
            "left": null,
            "margin": null,
            "max_height": null,
            "max_width": null,
            "min_height": null,
            "min_width": null,
            "object_fit": null,
            "object_position": null,
            "order": null,
            "overflow": null,
            "overflow_x": null,
            "overflow_y": null,
            "padding": null,
            "right": null,
            "top": null,
            "visibility": "hidden",
            "width": null
          }
        },
        "b24a75062ca5458fb4fc5930ee61d1ef": {
          "model_module": "@jupyter-widgets/base",
          "model_name": "LayoutModel",
          "model_module_version": "1.2.0",
          "state": {
            "_model_module": "@jupyter-widgets/base",
            "_model_module_version": "1.2.0",
            "_model_name": "LayoutModel",
            "_view_count": null,
            "_view_module": "@jupyter-widgets/base",
            "_view_module_version": "1.2.0",
            "_view_name": "LayoutView",
            "align_content": null,
            "align_items": null,
            "align_self": null,
            "border": null,
            "bottom": null,
            "display": null,
            "flex": null,
            "flex_flow": null,
            "grid_area": null,
            "grid_auto_columns": null,
            "grid_auto_flow": null,
            "grid_auto_rows": null,
            "grid_column": null,
            "grid_gap": null,
            "grid_row": null,
            "grid_template_areas": null,
            "grid_template_columns": null,
            "grid_template_rows": null,
            "height": null,
            "justify_content": null,
            "justify_items": null,
            "left": null,
            "margin": null,
            "max_height": null,
            "max_width": null,
            "min_height": null,
            "min_width": null,
            "object_fit": null,
            "object_position": null,
            "order": null,
            "overflow": null,
            "overflow_x": null,
            "overflow_y": null,
            "padding": null,
            "right": null,
            "top": null,
            "visibility": null,
            "width": null
          }
        },
        "008a7d5a9c5e42dfbade8bdc3837fb13": {
          "model_module": "@jupyter-widgets/controls",
          "model_name": "DescriptionStyleModel",
          "model_module_version": "1.5.0",
          "state": {
            "_model_module": "@jupyter-widgets/controls",
            "_model_module_version": "1.5.0",
            "_model_name": "DescriptionStyleModel",
            "_view_count": null,
            "_view_module": "@jupyter-widgets/base",
            "_view_module_version": "1.2.0",
            "_view_name": "StyleView",
            "description_width": ""
          }
        },
        "8538b1af71f24d5bacd00a76b99b1248": {
          "model_module": "@jupyter-widgets/base",
          "model_name": "LayoutModel",
          "model_module_version": "1.2.0",
          "state": {
            "_model_module": "@jupyter-widgets/base",
            "_model_module_version": "1.2.0",
            "_model_name": "LayoutModel",
            "_view_count": null,
            "_view_module": "@jupyter-widgets/base",
            "_view_module_version": "1.2.0",
            "_view_name": "LayoutView",
            "align_content": null,
            "align_items": null,
            "align_self": null,
            "border": null,
            "bottom": null,
            "display": null,
            "flex": null,
            "flex_flow": null,
            "grid_area": null,
            "grid_auto_columns": null,
            "grid_auto_flow": null,
            "grid_auto_rows": null,
            "grid_column": null,
            "grid_gap": null,
            "grid_row": null,
            "grid_template_areas": null,
            "grid_template_columns": null,
            "grid_template_rows": null,
            "height": null,
            "justify_content": null,
            "justify_items": null,
            "left": null,
            "margin": null,
            "max_height": null,
            "max_width": null,
            "min_height": null,
            "min_width": null,
            "object_fit": null,
            "object_position": null,
            "order": null,
            "overflow": null,
            "overflow_x": null,
            "overflow_y": null,
            "padding": null,
            "right": null,
            "top": null,
            "visibility": null,
            "width": null
          }
        },
        "53807bf771684a568110ec6dac259342": {
          "model_module": "@jupyter-widgets/controls",
          "model_name": "ProgressStyleModel",
          "model_module_version": "1.5.0",
          "state": {
            "_model_module": "@jupyter-widgets/controls",
            "_model_module_version": "1.5.0",
            "_model_name": "ProgressStyleModel",
            "_view_count": null,
            "_view_module": "@jupyter-widgets/base",
            "_view_module_version": "1.2.0",
            "_view_name": "StyleView",
            "bar_color": null,
            "description_width": ""
          }
        },
        "c4b74622ac9a4289a8ddfa2702ff060c": {
          "model_module": "@jupyter-widgets/base",
          "model_name": "LayoutModel",
          "model_module_version": "1.2.0",
          "state": {
            "_model_module": "@jupyter-widgets/base",
            "_model_module_version": "1.2.0",
            "_model_name": "LayoutModel",
            "_view_count": null,
            "_view_module": "@jupyter-widgets/base",
            "_view_module_version": "1.2.0",
            "_view_name": "LayoutView",
            "align_content": null,
            "align_items": null,
            "align_self": null,
            "border": null,
            "bottom": null,
            "display": null,
            "flex": null,
            "flex_flow": null,
            "grid_area": null,
            "grid_auto_columns": null,
            "grid_auto_flow": null,
            "grid_auto_rows": null,
            "grid_column": null,
            "grid_gap": null,
            "grid_row": null,
            "grid_template_areas": null,
            "grid_template_columns": null,
            "grid_template_rows": null,
            "height": null,
            "justify_content": null,
            "justify_items": null,
            "left": null,
            "margin": null,
            "max_height": null,
            "max_width": null,
            "min_height": null,
            "min_width": null,
            "object_fit": null,
            "object_position": null,
            "order": null,
            "overflow": null,
            "overflow_x": null,
            "overflow_y": null,
            "padding": null,
            "right": null,
            "top": null,
            "visibility": null,
            "width": null
          }
        },
        "86afa20faabb4126903bb96c0746310b": {
          "model_module": "@jupyter-widgets/controls",
          "model_name": "DescriptionStyleModel",
          "model_module_version": "1.5.0",
          "state": {
            "_model_module": "@jupyter-widgets/controls",
            "_model_module_version": "1.5.0",
            "_model_name": "DescriptionStyleModel",
            "_view_count": null,
            "_view_module": "@jupyter-widgets/base",
            "_view_module_version": "1.2.0",
            "_view_name": "StyleView",
            "description_width": ""
          }
        },
        "73a898a5c58244b5aed52db30b8a096e": {
          "model_module": "@jupyter-widgets/controls",
          "model_name": "HBoxModel",
          "model_module_version": "1.5.0",
          "state": {
            "_dom_classes": [],
            "_model_module": "@jupyter-widgets/controls",
            "_model_module_version": "1.5.0",
            "_model_name": "HBoxModel",
            "_view_count": null,
            "_view_module": "@jupyter-widgets/controls",
            "_view_module_version": "1.5.0",
            "_view_name": "HBoxView",
            "box_style": "",
            "children": [
              "IPY_MODEL_ca608e03e0f94e8e970ce31b075b383a",
              "IPY_MODEL_189f47a17c534cbf93adcc23eb887062",
              "IPY_MODEL_c1504969670c4b67a6c9bbf5ea1f00d1"
            ],
            "layout": "IPY_MODEL_872e3c9f58dc4cb8b002ebb63966998b"
          }
        },
        "ca608e03e0f94e8e970ce31b075b383a": {
          "model_module": "@jupyter-widgets/controls",
          "model_name": "HTMLModel",
          "model_module_version": "1.5.0",
          "state": {
            "_dom_classes": [],
            "_model_module": "@jupyter-widgets/controls",
            "_model_module_version": "1.5.0",
            "_model_name": "HTMLModel",
            "_view_count": null,
            "_view_module": "@jupyter-widgets/controls",
            "_view_module_version": "1.5.0",
            "_view_name": "HTMLView",
            "description": "",
            "description_tooltip": null,
            "layout": "IPY_MODEL_492f799642b4457cbdb5eedb2a886628",
            "placeholder": "​",
            "style": "IPY_MODEL_f7adc49159ab44f8a845ac608745db09",
            "value": "Generating extra examples...: 100%"
          }
        },
        "189f47a17c534cbf93adcc23eb887062": {
          "model_module": "@jupyter-widgets/controls",
          "model_name": "FloatProgressModel",
          "model_module_version": "1.5.0",
          "state": {
            "_dom_classes": [],
            "_model_module": "@jupyter-widgets/controls",
            "_model_module_version": "1.5.0",
            "_model_name": "FloatProgressModel",
            "_view_count": null,
            "_view_module": "@jupyter-widgets/controls",
            "_view_module_version": "1.5.0",
            "_view_name": "ProgressView",
            "bar_style": "",
            "description": "",
            "description_tooltip": null,
            "layout": "IPY_MODEL_a30f6b2450ac442d88bcb6e208c28172",
            "max": 531131,
            "min": 0,
            "orientation": "horizontal",
            "style": "IPY_MODEL_461cd57fb7734fe0929f1ee0896f3e0f",
            "value": 531131
          }
        },
        "c1504969670c4b67a6c9bbf5ea1f00d1": {
          "model_module": "@jupyter-widgets/controls",
          "model_name": "HTMLModel",
          "model_module_version": "1.5.0",
          "state": {
            "_dom_classes": [],
            "_model_module": "@jupyter-widgets/controls",
            "_model_module_version": "1.5.0",
            "_model_name": "HTMLModel",
            "_view_count": null,
            "_view_module": "@jupyter-widgets/controls",
            "_view_module_version": "1.5.0",
            "_view_name": "HTMLView",
            "description": "",
            "description_tooltip": null,
            "layout": "IPY_MODEL_6700cf948d2145d290b5039d221ff990",
            "placeholder": "​",
            "style": "IPY_MODEL_d136141de19348f88e94012b1009fa86",
            "value": " 530956/531131 [05:56&lt;00:00, 1626.32 examples/s]"
          }
        },
        "872e3c9f58dc4cb8b002ebb63966998b": {
          "model_module": "@jupyter-widgets/base",
          "model_name": "LayoutModel",
          "model_module_version": "1.2.0",
          "state": {
            "_model_module": "@jupyter-widgets/base",
            "_model_module_version": "1.2.0",
            "_model_name": "LayoutModel",
            "_view_count": null,
            "_view_module": "@jupyter-widgets/base",
            "_view_module_version": "1.2.0",
            "_view_name": "LayoutView",
            "align_content": null,
            "align_items": null,
            "align_self": null,
            "border": null,
            "bottom": null,
            "display": null,
            "flex": null,
            "flex_flow": null,
            "grid_area": null,
            "grid_auto_columns": null,
            "grid_auto_flow": null,
            "grid_auto_rows": null,
            "grid_column": null,
            "grid_gap": null,
            "grid_row": null,
            "grid_template_areas": null,
            "grid_template_columns": null,
            "grid_template_rows": null,
            "height": null,
            "justify_content": null,
            "justify_items": null,
            "left": null,
            "margin": null,
            "max_height": null,
            "max_width": null,
            "min_height": null,
            "min_width": null,
            "object_fit": null,
            "object_position": null,
            "order": null,
            "overflow": null,
            "overflow_x": null,
            "overflow_y": null,
            "padding": null,
            "right": null,
            "top": null,
            "visibility": "hidden",
            "width": null
          }
        },
        "492f799642b4457cbdb5eedb2a886628": {
          "model_module": "@jupyter-widgets/base",
          "model_name": "LayoutModel",
          "model_module_version": "1.2.0",
          "state": {
            "_model_module": "@jupyter-widgets/base",
            "_model_module_version": "1.2.0",
            "_model_name": "LayoutModel",
            "_view_count": null,
            "_view_module": "@jupyter-widgets/base",
            "_view_module_version": "1.2.0",
            "_view_name": "LayoutView",
            "align_content": null,
            "align_items": null,
            "align_self": null,
            "border": null,
            "bottom": null,
            "display": null,
            "flex": null,
            "flex_flow": null,
            "grid_area": null,
            "grid_auto_columns": null,
            "grid_auto_flow": null,
            "grid_auto_rows": null,
            "grid_column": null,
            "grid_gap": null,
            "grid_row": null,
            "grid_template_areas": null,
            "grid_template_columns": null,
            "grid_template_rows": null,
            "height": null,
            "justify_content": null,
            "justify_items": null,
            "left": null,
            "margin": null,
            "max_height": null,
            "max_width": null,
            "min_height": null,
            "min_width": null,
            "object_fit": null,
            "object_position": null,
            "order": null,
            "overflow": null,
            "overflow_x": null,
            "overflow_y": null,
            "padding": null,
            "right": null,
            "top": null,
            "visibility": null,
            "width": null
          }
        },
        "f7adc49159ab44f8a845ac608745db09": {
          "model_module": "@jupyter-widgets/controls",
          "model_name": "DescriptionStyleModel",
          "model_module_version": "1.5.0",
          "state": {
            "_model_module": "@jupyter-widgets/controls",
            "_model_module_version": "1.5.0",
            "_model_name": "DescriptionStyleModel",
            "_view_count": null,
            "_view_module": "@jupyter-widgets/base",
            "_view_module_version": "1.2.0",
            "_view_name": "StyleView",
            "description_width": ""
          }
        },
        "a30f6b2450ac442d88bcb6e208c28172": {
          "model_module": "@jupyter-widgets/base",
          "model_name": "LayoutModel",
          "model_module_version": "1.2.0",
          "state": {
            "_model_module": "@jupyter-widgets/base",
            "_model_module_version": "1.2.0",
            "_model_name": "LayoutModel",
            "_view_count": null,
            "_view_module": "@jupyter-widgets/base",
            "_view_module_version": "1.2.0",
            "_view_name": "LayoutView",
            "align_content": null,
            "align_items": null,
            "align_self": null,
            "border": null,
            "bottom": null,
            "display": null,
            "flex": null,
            "flex_flow": null,
            "grid_area": null,
            "grid_auto_columns": null,
            "grid_auto_flow": null,
            "grid_auto_rows": null,
            "grid_column": null,
            "grid_gap": null,
            "grid_row": null,
            "grid_template_areas": null,
            "grid_template_columns": null,
            "grid_template_rows": null,
            "height": null,
            "justify_content": null,
            "justify_items": null,
            "left": null,
            "margin": null,
            "max_height": null,
            "max_width": null,
            "min_height": null,
            "min_width": null,
            "object_fit": null,
            "object_position": null,
            "order": null,
            "overflow": null,
            "overflow_x": null,
            "overflow_y": null,
            "padding": null,
            "right": null,
            "top": null,
            "visibility": null,
            "width": null
          }
        },
        "461cd57fb7734fe0929f1ee0896f3e0f": {
          "model_module": "@jupyter-widgets/controls",
          "model_name": "ProgressStyleModel",
          "model_module_version": "1.5.0",
          "state": {
            "_model_module": "@jupyter-widgets/controls",
            "_model_module_version": "1.5.0",
            "_model_name": "ProgressStyleModel",
            "_view_count": null,
            "_view_module": "@jupyter-widgets/base",
            "_view_module_version": "1.2.0",
            "_view_name": "StyleView",
            "bar_color": null,
            "description_width": ""
          }
        },
        "6700cf948d2145d290b5039d221ff990": {
          "model_module": "@jupyter-widgets/base",
          "model_name": "LayoutModel",
          "model_module_version": "1.2.0",
          "state": {
            "_model_module": "@jupyter-widgets/base",
            "_model_module_version": "1.2.0",
            "_model_name": "LayoutModel",
            "_view_count": null,
            "_view_module": "@jupyter-widgets/base",
            "_view_module_version": "1.2.0",
            "_view_name": "LayoutView",
            "align_content": null,
            "align_items": null,
            "align_self": null,
            "border": null,
            "bottom": null,
            "display": null,
            "flex": null,
            "flex_flow": null,
            "grid_area": null,
            "grid_auto_columns": null,
            "grid_auto_flow": null,
            "grid_auto_rows": null,
            "grid_column": null,
            "grid_gap": null,
            "grid_row": null,
            "grid_template_areas": null,
            "grid_template_columns": null,
            "grid_template_rows": null,
            "height": null,
            "justify_content": null,
            "justify_items": null,
            "left": null,
            "margin": null,
            "max_height": null,
            "max_width": null,
            "min_height": null,
            "min_width": null,
            "object_fit": null,
            "object_position": null,
            "order": null,
            "overflow": null,
            "overflow_x": null,
            "overflow_y": null,
            "padding": null,
            "right": null,
            "top": null,
            "visibility": null,
            "width": null
          }
        },
        "d136141de19348f88e94012b1009fa86": {
          "model_module": "@jupyter-widgets/controls",
          "model_name": "DescriptionStyleModel",
          "model_module_version": "1.5.0",
          "state": {
            "_model_module": "@jupyter-widgets/controls",
            "_model_module_version": "1.5.0",
            "_model_name": "DescriptionStyleModel",
            "_view_count": null,
            "_view_module": "@jupyter-widgets/base",
            "_view_module_version": "1.2.0",
            "_view_name": "StyleView",
            "description_width": ""
          }
        },
        "f1e7d5785423408a88cda7d9b28ae86b": {
          "model_module": "@jupyter-widgets/controls",
          "model_name": "HBoxModel",
          "model_module_version": "1.5.0",
          "state": {
            "_dom_classes": [],
            "_model_module": "@jupyter-widgets/controls",
            "_model_module_version": "1.5.0",
            "_model_name": "HBoxModel",
            "_view_count": null,
            "_view_module": "@jupyter-widgets/controls",
            "_view_module_version": "1.5.0",
            "_view_name": "HBoxView",
            "box_style": "",
            "children": [
              "IPY_MODEL_8da06c06c5b84c37ba641bfbd68f84a1",
              "IPY_MODEL_8cfa4515fb5a4af087c154972a25e016",
              "IPY_MODEL_4a3fdc12d2ff4955bec6158b30553571"
            ],
            "layout": "IPY_MODEL_dff919bc525f4572a24a6f6065cd58eb"
          }
        },
        "8da06c06c5b84c37ba641bfbd68f84a1": {
          "model_module": "@jupyter-widgets/controls",
          "model_name": "HTMLModel",
          "model_module_version": "1.5.0",
          "state": {
            "_dom_classes": [],
            "_model_module": "@jupyter-widgets/controls",
            "_model_module_version": "1.5.0",
            "_model_name": "HTMLModel",
            "_view_count": null,
            "_view_module": "@jupyter-widgets/controls",
            "_view_module_version": "1.5.0",
            "_view_name": "HTMLView",
            "description": "",
            "description_tooltip": null,
            "layout": "IPY_MODEL_79974f1a84a24bce81783147a0165aaf",
            "placeholder": "​",
            "style": "IPY_MODEL_a731af56ab7a4d328a365eae10b92e96",
            "value": "Shuffling /root/tensorflow_datasets/svhn_cropped/3.0.0.incompleteV9U3Y1/svhn_cropped-extra.tfrecord*...:  99%"
          }
        },
        "8cfa4515fb5a4af087c154972a25e016": {
          "model_module": "@jupyter-widgets/controls",
          "model_name": "FloatProgressModel",
          "model_module_version": "1.5.0",
          "state": {
            "_dom_classes": [],
            "_model_module": "@jupyter-widgets/controls",
            "_model_module_version": "1.5.0",
            "_model_name": "FloatProgressModel",
            "_view_count": null,
            "_view_module": "@jupyter-widgets/controls",
            "_view_module_version": "1.5.0",
            "_view_name": "ProgressView",
            "bar_style": "",
            "description": "",
            "description_tooltip": null,
            "layout": "IPY_MODEL_85ea6aab2fab43a1b1206546fc2f91d6",
            "max": 531131,
            "min": 0,
            "orientation": "horizontal",
            "style": "IPY_MODEL_05f483e4dca4444c91519d378c1ac5b2",
            "value": 531131
          }
        },
        "4a3fdc12d2ff4955bec6158b30553571": {
          "model_module": "@jupyter-widgets/controls",
          "model_name": "HTMLModel",
          "model_module_version": "1.5.0",
          "state": {
            "_dom_classes": [],
            "_model_module": "@jupyter-widgets/controls",
            "_model_module_version": "1.5.0",
            "_model_name": "HTMLModel",
            "_view_count": null,
            "_view_module": "@jupyter-widgets/controls",
            "_view_module_version": "1.5.0",
            "_view_name": "HTMLView",
            "description": "",
            "description_tooltip": null,
            "layout": "IPY_MODEL_b25285c539b14976b0be91a3874e9529",
            "placeholder": "​",
            "style": "IPY_MODEL_b00ac6713d42415b9c3d7f4778bf8c8c",
            "value": " 526476/531131 [00:11&lt;00:00, 115988.91 examples/s]"
          }
        },
        "dff919bc525f4572a24a6f6065cd58eb": {
          "model_module": "@jupyter-widgets/base",
          "model_name": "LayoutModel",
          "model_module_version": "1.2.0",
          "state": {
            "_model_module": "@jupyter-widgets/base",
            "_model_module_version": "1.2.0",
            "_model_name": "LayoutModel",
            "_view_count": null,
            "_view_module": "@jupyter-widgets/base",
            "_view_module_version": "1.2.0",
            "_view_name": "LayoutView",
            "align_content": null,
            "align_items": null,
            "align_self": null,
            "border": null,
            "bottom": null,
            "display": null,
            "flex": null,
            "flex_flow": null,
            "grid_area": null,
            "grid_auto_columns": null,
            "grid_auto_flow": null,
            "grid_auto_rows": null,
            "grid_column": null,
            "grid_gap": null,
            "grid_row": null,
            "grid_template_areas": null,
            "grid_template_columns": null,
            "grid_template_rows": null,
            "height": null,
            "justify_content": null,
            "justify_items": null,
            "left": null,
            "margin": null,
            "max_height": null,
            "max_width": null,
            "min_height": null,
            "min_width": null,
            "object_fit": null,
            "object_position": null,
            "order": null,
            "overflow": null,
            "overflow_x": null,
            "overflow_y": null,
            "padding": null,
            "right": null,
            "top": null,
            "visibility": "hidden",
            "width": null
          }
        },
        "79974f1a84a24bce81783147a0165aaf": {
          "model_module": "@jupyter-widgets/base",
          "model_name": "LayoutModel",
          "model_module_version": "1.2.0",
          "state": {
            "_model_module": "@jupyter-widgets/base",
            "_model_module_version": "1.2.0",
            "_model_name": "LayoutModel",
            "_view_count": null,
            "_view_module": "@jupyter-widgets/base",
            "_view_module_version": "1.2.0",
            "_view_name": "LayoutView",
            "align_content": null,
            "align_items": null,
            "align_self": null,
            "border": null,
            "bottom": null,
            "display": null,
            "flex": null,
            "flex_flow": null,
            "grid_area": null,
            "grid_auto_columns": null,
            "grid_auto_flow": null,
            "grid_auto_rows": null,
            "grid_column": null,
            "grid_gap": null,
            "grid_row": null,
            "grid_template_areas": null,
            "grid_template_columns": null,
            "grid_template_rows": null,
            "height": null,
            "justify_content": null,
            "justify_items": null,
            "left": null,
            "margin": null,
            "max_height": null,
            "max_width": null,
            "min_height": null,
            "min_width": null,
            "object_fit": null,
            "object_position": null,
            "order": null,
            "overflow": null,
            "overflow_x": null,
            "overflow_y": null,
            "padding": null,
            "right": null,
            "top": null,
            "visibility": null,
            "width": null
          }
        },
        "a731af56ab7a4d328a365eae10b92e96": {
          "model_module": "@jupyter-widgets/controls",
          "model_name": "DescriptionStyleModel",
          "model_module_version": "1.5.0",
          "state": {
            "_model_module": "@jupyter-widgets/controls",
            "_model_module_version": "1.5.0",
            "_model_name": "DescriptionStyleModel",
            "_view_count": null,
            "_view_module": "@jupyter-widgets/base",
            "_view_module_version": "1.2.0",
            "_view_name": "StyleView",
            "description_width": ""
          }
        },
        "85ea6aab2fab43a1b1206546fc2f91d6": {
          "model_module": "@jupyter-widgets/base",
          "model_name": "LayoutModel",
          "model_module_version": "1.2.0",
          "state": {
            "_model_module": "@jupyter-widgets/base",
            "_model_module_version": "1.2.0",
            "_model_name": "LayoutModel",
            "_view_count": null,
            "_view_module": "@jupyter-widgets/base",
            "_view_module_version": "1.2.0",
            "_view_name": "LayoutView",
            "align_content": null,
            "align_items": null,
            "align_self": null,
            "border": null,
            "bottom": null,
            "display": null,
            "flex": null,
            "flex_flow": null,
            "grid_area": null,
            "grid_auto_columns": null,
            "grid_auto_flow": null,
            "grid_auto_rows": null,
            "grid_column": null,
            "grid_gap": null,
            "grid_row": null,
            "grid_template_areas": null,
            "grid_template_columns": null,
            "grid_template_rows": null,
            "height": null,
            "justify_content": null,
            "justify_items": null,
            "left": null,
            "margin": null,
            "max_height": null,
            "max_width": null,
            "min_height": null,
            "min_width": null,
            "object_fit": null,
            "object_position": null,
            "order": null,
            "overflow": null,
            "overflow_x": null,
            "overflow_y": null,
            "padding": null,
            "right": null,
            "top": null,
            "visibility": null,
            "width": null
          }
        },
        "05f483e4dca4444c91519d378c1ac5b2": {
          "model_module": "@jupyter-widgets/controls",
          "model_name": "ProgressStyleModel",
          "model_module_version": "1.5.0",
          "state": {
            "_model_module": "@jupyter-widgets/controls",
            "_model_module_version": "1.5.0",
            "_model_name": "ProgressStyleModel",
            "_view_count": null,
            "_view_module": "@jupyter-widgets/base",
            "_view_module_version": "1.2.0",
            "_view_name": "StyleView",
            "bar_color": null,
            "description_width": ""
          }
        },
        "b25285c539b14976b0be91a3874e9529": {
          "model_module": "@jupyter-widgets/base",
          "model_name": "LayoutModel",
          "model_module_version": "1.2.0",
          "state": {
            "_model_module": "@jupyter-widgets/base",
            "_model_module_version": "1.2.0",
            "_model_name": "LayoutModel",
            "_view_count": null,
            "_view_module": "@jupyter-widgets/base",
            "_view_module_version": "1.2.0",
            "_view_name": "LayoutView",
            "align_content": null,
            "align_items": null,
            "align_self": null,
            "border": null,
            "bottom": null,
            "display": null,
            "flex": null,
            "flex_flow": null,
            "grid_area": null,
            "grid_auto_columns": null,
            "grid_auto_flow": null,
            "grid_auto_rows": null,
            "grid_column": null,
            "grid_gap": null,
            "grid_row": null,
            "grid_template_areas": null,
            "grid_template_columns": null,
            "grid_template_rows": null,
            "height": null,
            "justify_content": null,
            "justify_items": null,
            "left": null,
            "margin": null,
            "max_height": null,
            "max_width": null,
            "min_height": null,
            "min_width": null,
            "object_fit": null,
            "object_position": null,
            "order": null,
            "overflow": null,
            "overflow_x": null,
            "overflow_y": null,
            "padding": null,
            "right": null,
            "top": null,
            "visibility": null,
            "width": null
          }
        },
        "b00ac6713d42415b9c3d7f4778bf8c8c": {
          "model_module": "@jupyter-widgets/controls",
          "model_name": "DescriptionStyleModel",
          "model_module_version": "1.5.0",
          "state": {
            "_model_module": "@jupyter-widgets/controls",
            "_model_module_version": "1.5.0",
            "_model_name": "DescriptionStyleModel",
            "_view_count": null,
            "_view_module": "@jupyter-widgets/base",
            "_view_module_version": "1.2.0",
            "_view_name": "StyleView",
            "description_width": ""
          }
        }
      }
    },
    "kaggle": {
      "accelerator": "none",
      "dataSources": [],
      "dockerImageVersionId": 30684,
      "isInternetEnabled": false,
      "language": "python",
      "sourceType": "notebook",
      "isGpuEnabled": false
    }
  },
  "nbformat_minor": 0,
  "nbformat": 4,
  "cells": [
    {
      "cell_type": "markdown",
      "metadata": {
        "id": "view-in-github",
        "colab_type": "text"
      },
      "source": [
        "<a href=\"https://colab.research.google.com/github/bonaerges/pia/blob/main/TareaDeepLearningKeras.ipynb\" target=\"_parent\"><img src=\"https://colab.research.google.com/assets/colab-badge.svg\" alt=\"Open In Colab\"/></a>"
      ]
    },
    {
      "cell_type": "code",
      "source": [
        "import sys\n",
        "\n",
        "assert sys.version_info >= (3, 7)"
      ],
      "metadata": {
        "id": "moEzmf2LRtWe",
        "execution": {
          "iopub.status.busy": "2024-04-17T09:37:20.597053Z",
          "iopub.execute_input": "2024-04-17T09:37:20.597466Z",
          "iopub.status.idle": "2024-04-17T09:37:20.637136Z",
          "shell.execute_reply.started": "2024-04-17T09:37:20.597427Z",
          "shell.execute_reply": "2024-04-17T09:37:20.635975Z"
        },
        "trusted": true
      },
      "execution_count": 1,
      "outputs": []
    },
    {
      "cell_type": "code",
      "source": [
        "from packaging import version\n",
        "import tensorflow as tf\n",
        "import tensorflow_datasets as tfds"
      ],
      "metadata": {
        "id": "nlPTmHeqRvKr",
        "execution": {
          "iopub.status.busy": "2024-04-17T09:37:20.639433Z",
          "iopub.execute_input": "2024-04-17T09:37:20.639755Z",
          "iopub.status.idle": "2024-04-17T09:37:38.004193Z",
          "shell.execute_reply.started": "2024-04-17T09:37:20.639727Z",
          "shell.execute_reply": "2024-04-17T09:37:38.003036Z"
        },
        "trusted": true
      },
      "execution_count": 2,
      "outputs": []
    },
    {
      "cell_type": "code",
      "source": [
        "from tensorflow.keras.models import Sequential\n",
        "from tensorflow.keras.layers import Dense, Flatten\n",
        "from tensorflow.keras.initializers import GlorotUniform\n",
        "from tensorflow.keras.activations import elu\n",
        "from tensorflow.keras.optimizers import Adam\n",
        "from tensorflow.keras.callbacks import EarlyStopping\n",
        "from tensorflow.keras.layers import BatchNormalization, Activation\n",
        "from tensorflow.keras.initializers import HeNormal\n",
        "assert version.parse(tf.__version__) >= version.parse(\"2.8.0\")"
      ],
      "metadata": {
        "id": "mqAMAJHcmjNp",
        "execution": {
          "iopub.status.busy": "2024-04-17T09:37:38.00559Z",
          "iopub.execute_input": "2024-04-17T09:37:38.006164Z",
          "iopub.status.idle": "2024-04-17T09:37:38.027482Z",
          "shell.execute_reply.started": "2024-04-17T09:37:38.006133Z",
          "shell.execute_reply": "2024-04-17T09:37:38.026409Z"
        },
        "trusted": true
      },
      "execution_count": 3,
      "outputs": []
    },
    {
      "cell_type": "markdown",
      "source": [
        "# Parte A: Construcción y Entrenamiento Inicial\n",
        "\n",
        "\n",
        "## Construcción de la Red Neuronal:\n",
        "\n",
        "  ## 20 capas ocultas, cada una con 100 neuronas.\n",
        "\n",
        "*   20 capas ocultas, cada una con 100 neuronas\n",
        "\n",
        "*   Inicialización de Xavier/Glorot.\n",
        "\n",
        "*   Función de activación ELU.\n",
        "*   Entrenamiento de la Red:\n",
        "**   Uso del optimizador Adam.\n",
        "**   Implementación de la detención temprana.\n",
        "\n",
        "# Parte B: Integración de Mejoras y Comparación\n",
        "\n",
        "*   Normalización por Lotes\n",
        " Implementación y comparación de la velocidad de convergencia y el impacto en\n",
        "el tiempo de entrenamiento.\n",
        "\n",
        "\n",
        "## Implementación y comparación de la velocidad de convergencia y el impacto en el tiempo de entrenamiento.\n",
        "##Sustitución de Normalización por Lotes con ReLU:\n",
        "\n",
        "## Uso de la inicialización He.\n",
        "## Comparación de rendimiento entre configuraciones.\n",
        "\n",
        "# Parte C: Avanzando en Regularización y Optimización\n",
        "## Dropout y MC Dropout:\n",
        "## Implementación de dropout.\n",
        "## Evaluación con MC dropout sin reentrenamiento.\n",
        "## Análisis de los efectos."
      ],
      "metadata": {
        "id": "Bvt2zO7kZrdy"
      }
    },
    {
      "cell_type": "markdown",
      "source": [
        "###Parte A: Construcción y Entrenamiento Inicial\n",
        "### Cargar y prepara el dataset SVHN (Parte A, paso 1)"
      ],
      "metadata": {
        "id": "-fpijTO3SKVd"
      }
    },
    {
      "cell_type": "code",
      "source": [
        "def load_data():\n",
        "    (train_data, test_data), ds_info = tfds.load(\n",
        "        'svhn_cropped',\n",
        "        split=['train', 'test'],\n",
        "        as_supervised=True,\n",
        "        with_info=True,\n",
        "        batch_size=-1\n",
        "    )\n",
        "    return train_data, test_data, ds_info"
      ],
      "metadata": {
        "id": "MlemtOhTRvQg",
        "execution": {
          "iopub.status.busy": "2024-04-17T09:37:38.029101Z",
          "iopub.execute_input": "2024-04-17T09:37:38.029487Z",
          "iopub.status.idle": "2024-04-17T09:37:38.035336Z",
          "shell.execute_reply.started": "2024-04-17T09:37:38.029459Z",
          "shell.execute_reply": "2024-04-17T09:37:38.034401Z"
        },
        "trusted": true
      },
      "execution_count": 4,
      "outputs": []
    },
    {
      "cell_type": "markdown",
      "source": [
        "## Cargar y preparar datos"
      ],
      "metadata": {
        "id": "m1SDBDjhSakF"
      }
    },
    {
      "cell_type": "code",
      "source": [
        "train_data, test_data, ds_info = load_data()"
      ],
      "metadata": {
        "colab": {
          "base_uri": "https://localhost:8080/",
          "height": 116,
          "referenced_widgets": [
            "642cc215fe104bc2b9965104e0b4afe8",
            "f5180da90bf34663b55c394f96fa2335",
            "2c04b295bc144849ae1f16ae8a38e963",
            "2037ae173eb040098d33a9c1f25c4e16",
            "6be10004ef9946e89ec8d05f0c60a46e",
            "04988746b639414c90b1c3110ed29716",
            "40bec983644d48d9b72ccca079123f74",
            "f4995614f9e343caa3577964185bd0d9",
            "6f7d9ec2e22e4e8dbffc264fb43a27b6",
            "95fea39a108c455d9345f56264a3a6fe",
            "eef0ab669dad4061af02e0c0006a679a",
            "a53a89067a6943deb01863e42c838278",
            "c61de46a62074b3a9da28232f589eafc",
            "d96dc3b8ec884a899060612adc646937",
            "09d43b3ca95b43af9124b570b84557bf",
            "121c3b0eb59447de8bb078a23a966149",
            "022f571ab53c490390dd3fddd1b184cf",
            "49c403f763424349acc155e530b0f46c",
            "1a397fb76dce4704a0c8178358f10cb4",
            "931add97cee84217bd34c4aa867b790c",
            "f3cacd8054ad48b5b1c2608bd2590b75",
            "0d34b1d726e641ad869a75e6df466155",
            "efa9225a5bf74068bef04bca779fe47d",
            "b088839e6cab4e9297f4441bb5f11e09",
            "1d8ce5bf23564d90beeb76073a9aba0b",
            "d19e57a1d4404af4a62e31de335ec479",
            "7bda43593f174572bb5276a646edaeac",
            "231ce0223a0d44ebac127fa488654728",
            "c06c77ddef0a4c53be6db4501678071b",
            "a3de59cac23e4d66a6c70c398a0a453f",
            "567995ac63d64ae8af369183de21a555",
            "432bebf14aea4c69816795bf84dba562",
            "a2378f1682924abbafa32a11c98801c0",
            "9d91e6c735414f2c87f6e756520ef517",
            "64ee3c8bed7944a6bf665fc7c265f8a3",
            "76b091e703d84186b75fc100e87a3fc5",
            "6176713ec6d946c597155d4998fd232d",
            "c4cb4fc61c95443baddaa0b30b087aa7",
            "be139038da4f4697af725dbe255630b6",
            "447056875d1d4b998788996cbf63422d",
            "e4371e0524d7401aa5972fb317bce7e2",
            "eea79104412247e3943a6cf395376247",
            "dc4430fe6c364782a302d6834fb181ca",
            "22fbb69748414a7c9d5814b72781ed25",
            "fecb558aa453497c9c9b8e08c2d9d96c",
            "058332301e5d4d078a1881db09657757",
            "a3f20a6ef4f84489bf8f097820e44be3",
            "f800854dd3bc4c6c94c42c4af3ad2841",
            "c6d4a46270354933a2431614618fac03",
            "aef275663d40461ca52246fb1c35b64d",
            "7440b03ecf1542a1bd730d7affd364e0",
            "d82708e827dd4d128fe336b56c70e8ed",
            "cfd6998342f1497c8b0f3a8229bc43c5",
            "70ba055be5f943f6a6ab24f0635a2fbb",
            "3f9c5630a1e745a5b982c13c45b59588",
            "9a12d3daaa724cd48e93d82c7c7c2ebf",
            "8d357aafd699433aa7b72d597d0b8f40",
            "0b67460906354295aab388dfd353d551",
            "7d932c4f54f547f18a56093b067da0bc",
            "95928b0a8ced4550bb23d04026ad885b",
            "1741b433cfd349cdae854da63162c975",
            "e6349a2754a34b2eb28d4ea0162d38b6",
            "7f91a276535a4570bc33929335a4e1a1",
            "dc4304a40e1e4d6caec1f17ddb05115b",
            "fdec659b583b4b91b8f80d1d6cde00b3",
            "4cd864261dcc4105af45cc155e2e9051",
            "52afd5ee321f4edd8bbd6a117980af8f",
            "623d648401dd4ba88960ad199f29c6eb",
            "4c0afb944739453599e52fc197367541",
            "f77f3f3677b342898c04ab0b73d4ea98",
            "6a4003c8547d4c9799f0ecc470282589",
            "b24a75062ca5458fb4fc5930ee61d1ef",
            "008a7d5a9c5e42dfbade8bdc3837fb13",
            "8538b1af71f24d5bacd00a76b99b1248",
            "53807bf771684a568110ec6dac259342",
            "c4b74622ac9a4289a8ddfa2702ff060c",
            "86afa20faabb4126903bb96c0746310b",
            "73a898a5c58244b5aed52db30b8a096e",
            "ca608e03e0f94e8e970ce31b075b383a",
            "189f47a17c534cbf93adcc23eb887062",
            "c1504969670c4b67a6c9bbf5ea1f00d1",
            "872e3c9f58dc4cb8b002ebb63966998b",
            "492f799642b4457cbdb5eedb2a886628",
            "f7adc49159ab44f8a845ac608745db09",
            "a30f6b2450ac442d88bcb6e208c28172",
            "461cd57fb7734fe0929f1ee0896f3e0f",
            "6700cf948d2145d290b5039d221ff990",
            "d136141de19348f88e94012b1009fa86",
            "f1e7d5785423408a88cda7d9b28ae86b",
            "8da06c06c5b84c37ba641bfbd68f84a1",
            "8cfa4515fb5a4af087c154972a25e016",
            "4a3fdc12d2ff4955bec6158b30553571",
            "dff919bc525f4572a24a6f6065cd58eb",
            "79974f1a84a24bce81783147a0165aaf",
            "a731af56ab7a4d328a365eae10b92e96",
            "85ea6aab2fab43a1b1206546fc2f91d6",
            "05f483e4dca4444c91519d378c1ac5b2",
            "b25285c539b14976b0be91a3874e9529",
            "b00ac6713d42415b9c3d7f4778bf8c8c"
          ]
        },
        "id": "KrrYEUaSRvTX",
        "outputId": "5df08c0d-c7d8-410e-e7f1-02d76e7b2831",
        "execution": {
          "iopub.status.busy": "2024-04-17T09:47:34.428692Z",
          "iopub.execute_input": "2024-04-17T09:47:34.429142Z",
          "iopub.status.idle": "2024-04-17T09:55:20.368537Z",
          "shell.execute_reply.started": "2024-04-17T09:47:34.429113Z",
          "shell.execute_reply": "2024-04-17T09:55:20.36505Z"
        },
        "trusted": true
      },
      "execution_count": 5,
      "outputs": [
        {
          "output_type": "stream",
          "name": "stdout",
          "text": [
            "Downloading and preparing dataset 1.47 GiB (download: 1.47 GiB, generated: Unknown size, total: 1.47 GiB) to /root/tensorflow_datasets/svhn_cropped/3.0.0...\n"
          ]
        },
        {
          "output_type": "display_data",
          "data": {
            "text/plain": [
              "Dl Completed...: 0 url [00:00, ? url/s]"
            ],
            "application/vnd.jupyter.widget-view+json": {
              "version_major": 2,
              "version_minor": 0,
              "model_id": "642cc215fe104bc2b9965104e0b4afe8"
            }
          },
          "metadata": {}
        },
        {
          "output_type": "display_data",
          "data": {
            "text/plain": [
              "Dl Size...: 0 MiB [00:00, ? MiB/s]"
            ],
            "application/vnd.jupyter.widget-view+json": {
              "version_major": 2,
              "version_minor": 0,
              "model_id": "a53a89067a6943deb01863e42c838278"
            }
          },
          "metadata": {}
        },
        {
          "output_type": "display_data",
          "data": {
            "text/plain": [
              "Generating splits...:   0%|          | 0/3 [00:00<?, ? splits/s]"
            ],
            "application/vnd.jupyter.widget-view+json": {
              "version_major": 2,
              "version_minor": 0,
              "model_id": "efa9225a5bf74068bef04bca779fe47d"
            }
          },
          "metadata": {}
        },
        {
          "output_type": "display_data",
          "data": {
            "text/plain": [
              "Generating train examples...:   0%|          | 0/73257 [00:00<?, ? examples/s]"
            ],
            "application/vnd.jupyter.widget-view+json": {
              "version_major": 2,
              "version_minor": 0,
              "model_id": "9d91e6c735414f2c87f6e756520ef517"
            }
          },
          "metadata": {}
        },
        {
          "output_type": "display_data",
          "data": {
            "text/plain": [
              "Shuffling /root/tensorflow_datasets/svhn_cropped/3.0.0.incompleteV9U3Y1/svhn_cropped-train.tfrecord*...:   0%|…"
            ],
            "application/vnd.jupyter.widget-view+json": {
              "version_major": 2,
              "version_minor": 0,
              "model_id": "fecb558aa453497c9c9b8e08c2d9d96c"
            }
          },
          "metadata": {}
        },
        {
          "output_type": "display_data",
          "data": {
            "text/plain": [
              "Generating test examples...:   0%|          | 0/26032 [00:00<?, ? examples/s]"
            ],
            "application/vnd.jupyter.widget-view+json": {
              "version_major": 2,
              "version_minor": 0,
              "model_id": "9a12d3daaa724cd48e93d82c7c7c2ebf"
            }
          },
          "metadata": {}
        },
        {
          "output_type": "display_data",
          "data": {
            "text/plain": [
              "Shuffling /root/tensorflow_datasets/svhn_cropped/3.0.0.incompleteV9U3Y1/svhn_cropped-test.tfrecord*...:   0%| …"
            ],
            "application/vnd.jupyter.widget-view+json": {
              "version_major": 2,
              "version_minor": 0,
              "model_id": "52afd5ee321f4edd8bbd6a117980af8f"
            }
          },
          "metadata": {}
        },
        {
          "output_type": "display_data",
          "data": {
            "text/plain": [
              "Generating extra examples...:   0%|          | 0/531131 [00:00<?, ? examples/s]"
            ],
            "application/vnd.jupyter.widget-view+json": {
              "version_major": 2,
              "version_minor": 0,
              "model_id": "73a898a5c58244b5aed52db30b8a096e"
            }
          },
          "metadata": {}
        },
        {
          "output_type": "display_data",
          "data": {
            "text/plain": [
              "Shuffling /root/tensorflow_datasets/svhn_cropped/3.0.0.incompleteV9U3Y1/svhn_cropped-extra.tfrecord*...:   0%|…"
            ],
            "application/vnd.jupyter.widget-view+json": {
              "version_major": 2,
              "version_minor": 0,
              "model_id": "f1e7d5785423408a88cda7d9b28ae86b"
            }
          },
          "metadata": {}
        },
        {
          "output_type": "stream",
          "name": "stdout",
          "text": [
            "Dataset svhn_cropped downloaded and prepared to /root/tensorflow_datasets/svhn_cropped/3.0.0. Subsequent calls will reuse this data.\n"
          ]
        }
      ]
    },
    {
      "cell_type": "markdown",
      "source": [
        "### Preprocesar los datos (Parte A, paso 1)"
      ],
      "metadata": {
        "id": "VddmjMh_XgSf"
      }
    },
    {
      "cell_type": "code",
      "source": [
        "def preprocess(data, info):\n",
        "    x, y = data\n",
        "    x = tf.image.convert_image_dtype(x, tf.float32)\n",
        "    y = tf.one_hot(y, depth=info.features['label'].num_classes)\n",
        "    return x, y"
      ],
      "metadata": {
        "id": "4Z5aK0nlRvYo",
        "execution": {
          "iopub.status.busy": "2024-04-17T09:45:46.524115Z",
          "iopub.status.idle": "2024-04-17T09:45:46.524507Z",
          "shell.execute_reply.started": "2024-04-17T09:45:46.524307Z",
          "shell.execute_reply": "2024-04-17T09:45:46.524321Z"
        },
        "trusted": true
      },
      "execution_count": 6,
      "outputs": []
    },
    {
      "cell_type": "code",
      "source": [
        "train_data = preprocess(train_data, ds_info)\n",
        "test_data = preprocess(test_data, ds_info)"
      ],
      "metadata": {
        "id": "HFEuVhQ0RvbL",
        "execution": {
          "iopub.status.busy": "2024-04-17T09:45:46.525647Z",
          "iopub.status.idle": "2024-04-17T09:45:46.526019Z",
          "shell.execute_reply.started": "2024-04-17T09:45:46.525839Z",
          "shell.execute_reply": "2024-04-17T09:45:46.525854Z"
        },
        "trusted": true
      },
      "execution_count": 7,
      "outputs": []
    },
    {
      "cell_type": "markdown",
      "source": [
        "### Construir el modelo inicial con Xavier/Glorot y ELU (Parte A, paso 1 y 2)\n",
        "### 20 capas ocultas, cada una con 100 neuronas"
      ],
      "metadata": {
        "id": "ydeurZucXqtC"
      }
    },
    {
      "cell_type": "code",
      "source": [
        "def build_model(input_shape, num_classes):\n",
        "    model = Sequential()\n",
        "    model.add(Flatten(input_shape=input_shape))\n",
        "    for _ in range(20):\n",
        "        model.add(Dense(100, activation=elu, kernel_initializer=GlorotUniform()))\n",
        "    model.add(Dense(num_classes, activation='softmax'))\n",
        "    return model"
      ],
      "metadata": {
        "id": "HkRqvEz9Rvd7",
        "execution": {
          "iopub.status.busy": "2024-04-17T09:45:46.527617Z",
          "iopub.status.idle": "2024-04-17T09:45:46.527982Z",
          "shell.execute_reply.started": "2024-04-17T09:45:46.527805Z",
          "shell.execute_reply": "2024-04-17T09:45:46.52782Z"
        },
        "trusted": true
      },
      "execution_count": 8,
      "outputs": []
    },
    {
      "cell_type": "markdown",
      "source": [
        "### Construir y entrenar el modelo inicial, y  entrenamiento inicial (Parte A)\n"
      ],
      "metadata": {
        "id": "wF4ibv2QX9it"
      }
    },
    {
      "cell_type": "code",
      "source": [
        "model = build_model(train_data[0].shape[1:], ds_info.features['label'].num_classes)"
      ],
      "metadata": {
        "id": "ZJ2HZ1dsRvi4",
        "execution": {
          "iopub.status.busy": "2024-04-17T09:45:46.529214Z",
          "iopub.status.idle": "2024-04-17T09:45:46.529578Z",
          "shell.execute_reply.started": "2024-04-17T09:45:46.529402Z",
          "shell.execute_reply": "2024-04-17T09:45:46.529416Z"
        },
        "trusted": true
      },
      "execution_count": 9,
      "outputs": []
    },
    {
      "cell_type": "markdown",
      "source": [
        " # Compilar y entrenar el modelo (Parte A, paso 2)"
      ],
      "metadata": {
        "id": "DR7_0AafYNFN"
      }
    },
    {
      "cell_type": "code",
      "source": [
        "def compile_and_train(model, train_data, val_data, epochs=50):\n",
        "    model.compile(optimizer=Adam(),\n",
        "                  loss='categorical_crossentropy',\n",
        "                  metrics=['accuracy'])\n",
        "    early_stopping = EarlyStopping(monitor='val_loss', patience=5, restore_best_weights=True)\n",
        "    history = model.fit(train_data[0], train_data[1], epochs=epochs,\n",
        "                        validation_data=val_data, callbacks=[early_stopping])\n",
        "    return history"
      ],
      "metadata": {
        "id": "Gca84POqRvnz",
        "execution": {
          "iopub.status.busy": "2024-04-17T09:45:46.530813Z",
          "iopub.status.idle": "2024-04-17T09:45:46.531167Z",
          "shell.execute_reply.started": "2024-04-17T09:45:46.530991Z",
          "shell.execute_reply": "2024-04-17T09:45:46.531005Z"
        },
        "trusted": true
      },
      "execution_count": 10,
      "outputs": []
    },
    {
      "cell_type": "code",
      "source": [
        "history = compile_and_train(model, train_data, test_data)"
      ],
      "metadata": {
        "colab": {
          "base_uri": "https://localhost:8080/"
        },
        "id": "6rvgvQ2GYJ-7",
        "outputId": "2194f63c-0a16-4909-ea3a-5116ce861311",
        "execution": {
          "iopub.status.busy": "2024-04-17T09:45:46.532465Z",
          "iopub.status.idle": "2024-04-17T09:45:46.532821Z",
          "shell.execute_reply.started": "2024-04-17T09:45:46.53264Z",
          "shell.execute_reply": "2024-04-17T09:45:46.532654Z"
        },
        "trusted": true
      },
      "execution_count": 11,
      "outputs": [
        {
          "output_type": "stream",
          "name": "stdout",
          "text": [
            "Epoch 1/50\n",
            "2290/2290 [==============================] - 33s 13ms/step - loss: 2.2499 - accuracy: 0.1834 - val_loss: 2.2312 - val_accuracy: 0.1594\n",
            "Epoch 2/50\n",
            "2290/2290 [==============================] - 27s 12ms/step - loss: 2.2406 - accuracy: 0.1875 - val_loss: 2.2304 - val_accuracy: 0.1959\n",
            "Epoch 3/50\n",
            "2290/2290 [==============================] - 27s 12ms/step - loss: 2.2393 - accuracy: 0.1885 - val_loss: 2.2247 - val_accuracy: 0.1959\n",
            "Epoch 4/50\n",
            "2290/2290 [==============================] - 31s 14ms/step - loss: 2.2388 - accuracy: 0.1891 - val_loss: 2.2254 - val_accuracy: 0.1959\n",
            "Epoch 5/50\n",
            "2290/2290 [==============================] - 27s 12ms/step - loss: 2.2378 - accuracy: 0.1892 - val_loss: 2.2256 - val_accuracy: 0.1959\n",
            "Epoch 6/50\n",
            "2290/2290 [==============================] - 27s 12ms/step - loss: 2.2378 - accuracy: 0.1892 - val_loss: 2.2254 - val_accuracy: 0.1959\n",
            "Epoch 7/50\n",
            "2290/2290 [==============================] - 26s 12ms/step - loss: 2.2374 - accuracy: 0.1892 - val_loss: 2.2250 - val_accuracy: 0.1959\n",
            "Epoch 8/50\n",
            "2290/2290 [==============================] - 27s 12ms/step - loss: 2.2374 - accuracy: 0.1891 - val_loss: 2.2244 - val_accuracy: 0.1959\n",
            "Epoch 9/50\n",
            "2290/2290 [==============================] - 27s 12ms/step - loss: 2.2374 - accuracy: 0.1892 - val_loss: 2.2255 - val_accuracy: 0.1959\n",
            "Epoch 10/50\n",
            "2290/2290 [==============================] - 27s 12ms/step - loss: 2.2372 - accuracy: 0.1892 - val_loss: 2.2242 - val_accuracy: 0.1959\n",
            "Epoch 11/50\n",
            "2290/2290 [==============================] - 28s 12ms/step - loss: 2.2373 - accuracy: 0.1892 - val_loss: 2.2241 - val_accuracy: 0.1959\n",
            "Epoch 12/50\n",
            "2290/2290 [==============================] - 27s 12ms/step - loss: 2.2370 - accuracy: 0.1892 - val_loss: 2.2241 - val_accuracy: 0.1959\n",
            "Epoch 13/50\n",
            "2290/2290 [==============================] - 27s 12ms/step - loss: 2.2376 - accuracy: 0.1890 - val_loss: 2.2248 - val_accuracy: 0.1959\n",
            "Epoch 14/50\n",
            "2290/2290 [==============================] - 27s 12ms/step - loss: 2.2370 - accuracy: 0.1892 - val_loss: 2.2237 - val_accuracy: 0.1959\n",
            "Epoch 15/50\n",
            "2290/2290 [==============================] - 26s 12ms/step - loss: 2.2369 - accuracy: 0.1892 - val_loss: 2.3590 - val_accuracy: 0.0776\n",
            "Epoch 16/50\n",
            "2290/2290 [==============================] - 27s 12ms/step - loss: 2.2373 - accuracy: 0.1891 - val_loss: 2.2252 - val_accuracy: 0.1959\n",
            "Epoch 17/50\n",
            "2290/2290 [==============================] - 30s 13ms/step - loss: 2.2369 - accuracy: 0.1892 - val_loss: 2.2238 - val_accuracy: 0.1959\n",
            "Epoch 18/50\n",
            "2290/2290 [==============================] - 29s 13ms/step - loss: 2.2372 - accuracy: 0.1891 - val_loss: 2.2263 - val_accuracy: 0.1959\n",
            "Epoch 19/50\n",
            "2290/2290 [==============================] - 27s 12ms/step - loss: 2.2372 - accuracy: 0.1891 - val_loss: 2.2246 - val_accuracy: 0.1959\n"
          ]
        }
      ]
    },
    {
      "cell_type": "markdown",
      "source": [
        "### Construir y entrenar el modelo con normalización por lotes\n",
        "### Función para construir el modelo con normalización por lotes (Parte B, paso 1)"
      ],
      "metadata": {
        "id": "CqUeLYVYYdu0"
      }
    },
    {
      "cell_type": "code",
      "source": [
        "def build_model_with_batchnorm(input_shape, num_classes):\n",
        "    model = Sequential()\n",
        "    model.add(Flatten(input_shape=input_shape))\n",
        "    for _ in range(20):\n",
        "        model.add(Dense(100, kernel_initializer=GlorotUniform()))\n",
        "        model.add(BatchNormalization())\n",
        "        model.add(Activation('elu'))\n",
        "    model.add(Dense(num_classes, activation='softmax'))\n",
        "    return model"
      ],
      "metadata": {
        "id": "sexcPl-nYli5",
        "execution": {
          "iopub.status.busy": "2024-04-17T09:45:46.533994Z",
          "iopub.status.idle": "2024-04-17T09:45:46.534557Z",
          "shell.execute_reply.started": "2024-04-17T09:45:46.53437Z",
          "shell.execute_reply": "2024-04-17T09:45:46.534386Z"
        },
        "trusted": true
      },
      "execution_count": 12,
      "outputs": []
    },
    {
      "cell_type": "code",
      "source": [
        "model_bn = build_model_with_batchnorm(train_data[0].shape[1:], ds_info.features['label'].num_classes)"
      ],
      "metadata": {
        "id": "ry3MYqRhYd9G",
        "execution": {
          "iopub.status.busy": "2024-04-17T09:45:46.535663Z",
          "iopub.status.idle": "2024-04-17T09:45:46.536023Z",
          "shell.execute_reply.started": "2024-04-17T09:45:46.535848Z",
          "shell.execute_reply": "2024-04-17T09:45:46.535862Z"
        },
        "trusted": true
      },
      "execution_count": 13,
      "outputs": []
    },
    {
      "cell_type": "markdown",
      "source": [
        "### Mejora con batch normalization (Parte B, paso 1)"
      ],
      "metadata": {
        "id": "Lvgk0Q6EY0FH"
      }
    },
    {
      "cell_type": "code",
      "source": [
        "history_bn = compile_and_train(model_bn, train_data, test_data)"
      ],
      "metadata": {
        "colab": {
          "base_uri": "https://localhost:8080/"
        },
        "id": "9PzPS5f8YyP0",
        "outputId": "12101fd8-e123-4a07-f125-783dfacbbc64",
        "execution": {
          "iopub.status.busy": "2024-04-17T09:45:46.537296Z",
          "iopub.status.idle": "2024-04-17T09:45:46.537658Z",
          "shell.execute_reply.started": "2024-04-17T09:45:46.537486Z",
          "shell.execute_reply": "2024-04-17T09:45:46.5375Z"
        },
        "trusted": true
      },
      "execution_count": 14,
      "outputs": [
        {
          "output_type": "stream",
          "name": "stdout",
          "text": [
            "Epoch 1/50\n",
            "2290/2290 [==============================] - 62s 19ms/step - loss: 1.5734 - accuracy: 0.4773 - val_loss: 1.7075 - val_accuracy: 0.4465\n",
            "Epoch 2/50\n",
            "2290/2290 [==============================] - 46s 20ms/step - loss: 1.2817 - accuracy: 0.5964 - val_loss: 1.3583 - val_accuracy: 0.5853\n",
            "Epoch 3/50\n",
            "2290/2290 [==============================] - 39s 17ms/step - loss: 1.1824 - accuracy: 0.6329 - val_loss: 1.7063 - val_accuracy: 0.4457\n",
            "Epoch 4/50\n",
            "2290/2290 [==============================] - 44s 19ms/step - loss: 1.1043 - accuracy: 0.6588 - val_loss: 1.0973 - val_accuracy: 0.6618\n",
            "Epoch 5/50\n",
            "2290/2290 [==============================] - 40s 17ms/step - loss: 1.0410 - accuracy: 0.6778 - val_loss: 1.2700 - val_accuracy: 0.6083\n",
            "Epoch 6/50\n",
            "2290/2290 [==============================] - 40s 17ms/step - loss: 0.9952 - accuracy: 0.6926 - val_loss: 1.2512 - val_accuracy: 0.6065\n",
            "Epoch 7/50\n",
            "2290/2290 [==============================] - 41s 18ms/step - loss: 0.9459 - accuracy: 0.7097 - val_loss: 0.9962 - val_accuracy: 0.6878\n",
            "Epoch 8/50\n",
            "2290/2290 [==============================] - 42s 18ms/step - loss: 0.9132 - accuracy: 0.7178 - val_loss: 1.1285 - val_accuracy: 0.6555\n",
            "Epoch 9/50\n",
            "2290/2290 [==============================] - 41s 18ms/step - loss: 0.8766 - accuracy: 0.7298 - val_loss: 1.0774 - val_accuracy: 0.6658\n",
            "Epoch 10/50\n",
            "2290/2290 [==============================] - 39s 17ms/step - loss: 0.8458 - accuracy: 0.7394 - val_loss: 1.0807 - val_accuracy: 0.6556\n",
            "Epoch 11/50\n",
            "2290/2290 [==============================] - 41s 18ms/step - loss: 0.8231 - accuracy: 0.7468 - val_loss: 1.0905 - val_accuracy: 0.6469\n",
            "Epoch 12/50\n",
            "2290/2290 [==============================] - 39s 17ms/step - loss: 0.7979 - accuracy: 0.7535 - val_loss: 1.0870 - val_accuracy: 0.6614\n"
          ]
        }
      ]
    },
    {
      "cell_type": "markdown",
      "source": [
        "### Función para construir el modelo con ReLU y He (Parte B, paso 2)\n",
        "### 20 capas ocultas, cada una con 100 neuronas"
      ],
      "metadata": {
        "id": "1Ww-GTuRYeNP"
      }
    },
    {
      "cell_type": "code",
      "source": [
        "def build_model_with_relu_he(input_shape, num_classes):\n",
        "    model = Sequential()\n",
        "    model.add(Flatten(input_shape=input_shape))\n",
        "    for _ in range(20):\n",
        "        model.add(Dense(100, kernel_initializer=HeNormal()))\n",
        "        model.add(Activation('relu'))\n",
        "    model.add(Dense(num_classes, activation='softmax'))\n",
        "    return model"
      ],
      "metadata": {
        "id": "LDXF0zO0YeXS",
        "trusted": true
      },
      "execution_count": 15,
      "outputs": []
    },
    {
      "cell_type": "markdown",
      "source": [
        "### Construir y entrenar el modelo con ReLU y He"
      ],
      "metadata": {
        "id": "n_jcgzjvYeiV"
      }
    },
    {
      "cell_type": "code",
      "source": [
        "model_relu_he = build_model_with_relu_he(train_data[0].shape[1:], ds_info.features['label'].num_classes)"
      ],
      "metadata": {
        "id": "8_I-XpfZYes7",
        "trusted": true
      },
      "execution_count": 16,
      "outputs": []
    },
    {
      "cell_type": "code",
      "source": [
        "history_relu_he = compile_and_train(model_relu_he, train_data, test_data)"
      ],
      "metadata": {
        "colab": {
          "base_uri": "https://localhost:8080/"
        },
        "id": "ic-V1darYfCi",
        "outputId": "794959ee-ab7c-47c6-938e-79eed156cf54",
        "trusted": true
      },
      "execution_count": 17,
      "outputs": [
        {
          "output_type": "stream",
          "name": "stdout",
          "text": [
            "Epoch 1/50\n",
            "2290/2290 [==============================] - 33s 13ms/step - loss: 2.2421 - accuracy: 0.1881 - val_loss: 2.2259 - val_accuracy: 0.1959\n",
            "Epoch 2/50\n",
            "2290/2290 [==============================] - 27s 12ms/step - loss: 2.2376 - accuracy: 0.1892 - val_loss: 2.2252 - val_accuracy: 0.1959\n",
            "Epoch 3/50\n",
            "2290/2290 [==============================] - 27s 12ms/step - loss: 2.2372 - accuracy: 0.1892 - val_loss: 2.2235 - val_accuracy: 0.1959\n",
            "Epoch 4/50\n",
            "2290/2290 [==============================] - 26s 11ms/step - loss: 2.2371 - accuracy: 0.1892 - val_loss: 2.2245 - val_accuracy: 0.1959\n",
            "Epoch 5/50\n",
            "2290/2290 [==============================] - 26s 12ms/step - loss: 2.2372 - accuracy: 0.1892 - val_loss: 2.2242 - val_accuracy: 0.1959\n",
            "Epoch 6/50\n",
            "2290/2290 [==============================] - 27s 12ms/step - loss: 2.2369 - accuracy: 0.1892 - val_loss: 2.2242 - val_accuracy: 0.1959\n",
            "Epoch 7/50\n",
            "2290/2290 [==============================] - 26s 12ms/step - loss: 2.2370 - accuracy: 0.1892 - val_loss: 2.2248 - val_accuracy: 0.1959\n",
            "Epoch 8/50\n",
            "2290/2290 [==============================] - 29s 13ms/step - loss: 2.2369 - accuracy: 0.1892 - val_loss: 2.2252 - val_accuracy: 0.1959\n"
          ]
        }
      ]
    },
    {
      "cell_type": "markdown",
      "source": [
        "### Imprimir las métricas del entrenamiento para comparación"
      ],
      "metadata": {
        "id": "TedGSEUjYfNH"
      }
    },
    {
      "cell_type": "code",
      "source": [
        "print(\"Historial inicial:\", history.history)\n",
        "print(\"Historial con Normalización por Lotes:\", history_bn.history)\n",
        "print(\"Historial con ReLU y He:\", history_relu_he.history)"
      ],
      "metadata": {
        "colab": {
          "base_uri": "https://localhost:8080/"
        },
        "id": "MaBEoXOSYfW0",
        "outputId": "4824dfca-1022-4d2b-a26f-8df79c843e95",
        "trusted": true
      },
      "execution_count": 18,
      "outputs": [
        {
          "output_type": "stream",
          "name": "stdout",
          "text": [
            "Historial inicial: {'loss': [2.2498555183410645, 2.2406461238861084, 2.239272117614746, 2.238835096359253, 2.2377989292144775, 2.237816572189331, 2.2373952865600586, 2.2374372482299805, 2.2374353408813477, 2.237171173095703, 2.2372777462005615, 2.2370245456695557, 2.237596273422241, 2.2369723320007324, 2.2369275093078613, 2.2372894287109375, 2.236874580383301, 2.2371840476989746, 2.237182378768921], 'accuracy': [0.18335449695587158, 0.1874769628047943, 0.18847346305847168, 0.18906043469905853, 0.18921059370040894, 0.18923789262771606, 0.18921059370040894, 0.18912868201732635, 0.1891832798719406, 0.18921059370040894, 0.18921059370040894, 0.18921059370040894, 0.18895122408866882, 0.18921059370040894, 0.18921059370040894, 0.1891150325536728, 0.18921059370040894, 0.18914233148097992, 0.1891150325536728], 'val_loss': [2.2311558723449707, 2.2303543090820312, 2.2247049808502197, 2.2254481315612793, 2.2255859375, 2.225372314453125, 2.22499680519104, 2.224379062652588, 2.2255194187164307, 2.224165678024292, 2.2241382598876953, 2.224062919616699, 2.2247965335845947, 2.223690986633301, 2.359029769897461, 2.2251999378204346, 2.2238430976867676, 2.2262942790985107, 2.224628210067749], 'val_accuracy': [0.15938076376914978, 0.19587430357933044, 0.19587430357933044, 0.19587430357933044, 0.19587430357933044, 0.19587430357933044, 0.19587430357933044, 0.19587430357933044, 0.19587430357933044, 0.19587430357933044, 0.19587430357933044, 0.19587430357933044, 0.19587430357933044, 0.19587430357933044, 0.07755839079618454, 0.19587430357933044, 0.19587430357933044, 0.19587430357933044, 0.19587430357933044]}\n",
            "Historial con Normalización por Lotes: {'loss': [1.5734144449234009, 1.281727910041809, 1.182394027709961, 1.104273796081543, 1.041030764579773, 0.995229959487915, 0.9459408521652222, 0.9132139086723328, 0.8765823841094971, 0.8457943797111511, 0.8231085538864136, 0.7978973984718323], 'accuracy': [0.47730591893196106, 0.5963662266731262, 0.6328815221786499, 0.6587629914283752, 0.6777918934822083, 0.6926027536392212, 0.709652304649353, 0.7178426384925842, 0.7297869324684143, 0.7394242286682129, 0.746809184551239, 0.7535389065742493], 'val_loss': [1.7075414657592773, 1.3583495616912842, 1.7063343524932861, 1.097327470779419, 1.2699915170669556, 1.2512001991271973, 0.9962341785430908, 1.1284745931625366, 1.0774123668670654, 1.0807236433029175, 1.0904786586761475, 1.0869781970977783], 'val_accuracy': [0.446527361869812, 0.5853180885314941, 0.44568222761154175, 0.6618008613586426, 0.6082897782325745, 0.6064843535423279, 0.6877688765525818, 0.6554625034332275, 0.6657959222793579, 0.6555777788162231, 0.646857738494873, 0.6614167094230652]}\n",
            "Historial con ReLU y He: {'loss': [2.242068290710449, 2.237581253051758, 2.2372303009033203, 2.2371160984039307, 2.237215042114258, 2.2369375228881836, 2.2369582653045654, 2.2368531227111816], 'accuracy': [0.18807758390903473, 0.18921059370040894, 0.18921059370040894, 0.18921059370040894, 0.18921059370040894, 0.18921059370040894, 0.18921059370040894, 0.18921059370040894], 'val_loss': [2.225949764251709, 2.22519588470459, 2.223477363586426, 2.2245445251464844, 2.2241835594177246, 2.2242424488067627, 2.2248096466064453, 2.2252285480499268], 'val_accuracy': [0.19587430357933044, 0.19587430357933044, 0.19587430357933044, 0.19587430357933044, 0.19587430357933044, 0.19587430357933044, 0.19587430357933044, 0.19587430357933044]}\n"
          ]
        }
      ]
    },
    {
      "cell_type": "markdown",
      "source": [
        "## Parte C: Avanzando en Regularización y Optimización\n",
        "* Introducir Dropout"
      ],
      "metadata": {
        "id": "so6L5ZTCde8Z"
      }
    },
    {
      "cell_type": "code",
      "source": [
        "from tensorflow.keras.layers import Dropout"
      ],
      "metadata": {
        "id": "XvqogNnGdfJL",
        "trusted": true
      },
      "execution_count": 19,
      "outputs": []
    },
    {
      "cell_type": "markdown",
      "source": [
        "### Función para construir el modelo con dropout (Parte C, paso 1)"
      ],
      "metadata": {
        "id": "r_vCJyS6dfTb"
      }
    },
    {
      "cell_type": "code",
      "source": [
        "def build_model_with_dropout(input_shape, num_classes, dropout_rate=0.5):\n",
        "    model = Sequential()\n",
        "    model.add(Flatten(input_shape=input_shape))\n",
        "    for _ in range(20):\n",
        "        model.add(Dense(100, activation='elu', kernel_initializer=GlorotUniform()))\n",
        "        model.add(Dropout(dropout_rate))\n",
        "    model.add(Dense(num_classes, activation='softmax'))\n",
        "    return model"
      ],
      "metadata": {
        "id": "PXeio0cUdfck",
        "trusted": true
      },
      "execution_count": 20,
      "outputs": []
    },
    {
      "cell_type": "markdown",
      "source": [
        "### Función para realizar predicciones utilizando MC Dropout (Parte C, paso 2)"
      ],
      "metadata": {
        "id": "QvsOMVE9dfk_"
      }
    },
    {
      "cell_type": "code",
      "source": [
        "def mc_dropout_predict(model, data, num_samples=100):\n",
        "    predictions = [model(data, training=True) for _ in range(num_samples)]\n",
        "    return tf.reduce_mean(predictions, axis=0)"
      ],
      "metadata": {
        "id": "fbVrwM_xdftb",
        "trusted": true
      },
      "execution_count": 21,
      "outputs": []
    },
    {
      "cell_type": "markdown",
      "source": [
        "### Construir y entrenar el modelo con dropout\n",
        "\n"
      ],
      "metadata": {
        "id": "ol2hEFdCdf3K"
      }
    },
    {
      "cell_type": "code",
      "source": [
        "model_dropout = build_model_with_dropout(train_data[0].shape[1:], ds_info.features['label'].num_classes)\n",
        "history_dropout = compile_and_train(model_dropout, train_data, test_data)"
      ],
      "metadata": {
        "colab": {
          "base_uri": "https://localhost:8080/"
        },
        "id": "nLsS1oKRdf-7",
        "outputId": "17942b77-f84f-40f2-a61c-5fc3b3b24575",
        "trusted": true
      },
      "execution_count": 22,
      "outputs": [
        {
          "output_type": "stream",
          "name": "stdout",
          "text": [
            "Epoch 1/50\n",
            "2290/2290 [==============================] - 37s 14ms/step - loss: 2.4941 - accuracy: 0.1512 - val_loss: 2.2258 - val_accuracy: 0.1959\n",
            "Epoch 2/50\n",
            "2290/2290 [==============================] - 30s 13ms/step - loss: 2.2502 - accuracy: 0.1836 - val_loss: 2.2266 - val_accuracy: 0.1959\n",
            "Epoch 3/50\n",
            "2290/2290 [==============================] - 33s 15ms/step - loss: 2.2489 - accuracy: 0.1842 - val_loss: 2.2280 - val_accuracy: 0.1959\n",
            "Epoch 4/50\n",
            "2290/2290 [==============================] - 31s 14ms/step - loss: 2.2512 - accuracy: 0.1839 - val_loss: 2.2244 - val_accuracy: 0.1959\n",
            "Epoch 5/50\n",
            "2290/2290 [==============================] - 34s 15ms/step - loss: 2.2498 - accuracy: 0.1838 - val_loss: 2.2266 - val_accuracy: 0.1959\n",
            "Epoch 6/50\n",
            "2290/2290 [==============================] - 31s 13ms/step - loss: 2.2499 - accuracy: 0.1841 - val_loss: 2.2257 - val_accuracy: 0.1959\n",
            "Epoch 7/50\n",
            "2290/2290 [==============================] - 32s 14ms/step - loss: 2.2506 - accuracy: 0.1829 - val_loss: 2.2249 - val_accuracy: 0.1959\n",
            "Epoch 8/50\n",
            "2290/2290 [==============================] - 31s 13ms/step - loss: 2.2512 - accuracy: 0.1837 - val_loss: 2.2274 - val_accuracy: 0.1959\n",
            "Epoch 9/50\n",
            "2290/2290 [==============================] - 34s 15ms/step - loss: 2.2507 - accuracy: 0.1839 - val_loss: 2.2301 - val_accuracy: 0.1959\n"
          ]
        }
      ]
    },
    {
      "cell_type": "markdown",
      "source": [
        "### Utilizar MC Dropout para evaluar el modelo en el conjunto de test,  Evluación con MC Dropout (Parte C, paso 2)"
      ],
      "metadata": {
        "id": "pZbwfn5adgHu"
      }
    },
    {
      "cell_type": "code",
      "source": [
        "mc_predictions = mc_dropout_predict(model_dropout, test_data[0])"
      ],
      "metadata": {
        "id": "a6uy8U4HdgP9",
        "trusted": true
      },
      "execution_count": 23,
      "outputs": []
    },
    {
      "cell_type": "markdown",
      "source": [
        "\n",
        "###  Calcular la precisión final con MC Dropout"
      ],
      "metadata": {
        "id": "PsE0XMnHdgY0"
      }
    },
    {
      "cell_type": "code",
      "source": [
        "mc_accuracy = tf.metrics.categorical_accuracy(test_data[1], mc_predictions)\n",
        "mc_accuracy_mean = tf.reduce_mean(mc_accuracy)"
      ],
      "metadata": {
        "id": "2NUDtPJPdggh",
        "trusted": true
      },
      "execution_count": 24,
      "outputs": []
    },
    {
      "cell_type": "markdown",
      "source": [
        "### Imprimir las métricas"
      ],
      "metadata": {
        "id": "rfhSGwTCgqpQ"
      }
    },
    {
      "cell_type": "code",
      "source": [
        "print(\"Historial con Dropout:\", history_dropout.history)\n",
        "print(\"Precisión media con MC Dropout:\", mc_accuracy_mean.numpy())"
      ],
      "metadata": {
        "colab": {
          "base_uri": "https://localhost:8080/"
        },
        "id": "1LcVwpIBgqx3",
        "outputId": "68701ad3-29dc-4a10-c28a-7ac7d938c2a2",
        "trusted": true
      },
      "execution_count": 25,
      "outputs": [
        {
          "output_type": "stream",
          "name": "stdout",
          "text": [
            "Historial con Dropout: {'loss': [2.494129180908203, 2.2501778602600098, 2.2488741874694824, 2.251193046569824, 2.2498066425323486, 2.2499442100524902, 2.250640392303467, 2.2511844635009766, 2.2507412433624268], 'accuracy': [0.15116643905639648, 0.1836138516664505, 0.18422812223434448, 0.18387320637702942, 0.18379130959510803, 0.18405066430568695, 0.1828903704881668, 0.18373671174049377, 0.18390052020549774], 'val_loss': [2.2257986068725586, 2.2265751361846924, 2.2280306816101074, 2.224374294281006, 2.226576328277588, 2.2257444858551025, 2.224923610687256, 2.227400064468384, 2.230138063430786], 'val_accuracy': [0.19587430357933044, 0.19587430357933044, 0.19587430357933044, 0.19587430357933044, 0.19587430357933044, 0.19587430357933044, 0.19587430357933044, 0.19587430357933044, 0.19587430357933044]}\n",
            "Precisión media con MC Dropout: 0.1958743\n"
          ]
        }
      ]
    },
    {
      "cell_type": "markdown",
      "source": [
        "## Gráficos de las Curvas de Entrenamiento y Validación"
      ],
      "metadata": {
        "id": "WTxINz0khRXr"
      }
    },
    {
      "cell_type": "code",
      "source": [
        "%matplotlib inline\n",
        "import matplotlib.pyplot as plt\n",
        "import warnings\n",
        "warnings.filterwarnings('ignore')   # Suppress Matplotlib warnings"
      ],
      "metadata": {
        "id": "GFmio4wGkIjx",
        "trusted": true
      },
      "execution_count": 26,
      "outputs": []
    },
    {
      "cell_type": "code",
      "source": [
        "def plot_history(histories, titles):\n",
        "    plt.figure(figsize=(14, 5))\n",
        "    for i, (history, title) in enumerate(zip(histories, titles)):\n",
        "        plt.subplot(1, len(histories), i+1)\n",
        "        plt.plot(history.history['accuracy'], label='train_accuracy')\n",
        "        plt.plot(history.history['val_accuracy'], label='val_accuracy')\n",
        "        plt.title('Model Accuracy - ' + title)\n",
        "        plt.ylabel('Accuracy')\n",
        "        plt.xlabel('Epoch')\n",
        "        plt.legend(loc='upper left')\n",
        "    plt.tight_layout()\n",
        "    plt.show()"
      ],
      "metadata": {
        "id": "5rYMd_BUhRf_",
        "trusted": true
      },
      "execution_count": 27,
      "outputs": []
    },
    {
      "cell_type": "markdown",
      "source": [
        "### Suponiendo que history, history_bn, history_relu_he, history_dropout son los históricos obtenidos de cada modelo"
      ],
      "metadata": {
        "id": "QBgBP6rNhUqR"
      }
    },
    {
      "cell_type": "code",
      "source": [
        "plot_history([history, history_bn, history_relu_he, history_dropout],\n",
        "             ['Inicial', 'BatchNorm', 'ReLU+He', 'Dropout'])"
      ],
      "metadata": {
        "colab": {
          "base_uri": "https://localhost:8080/",
          "height": 507
        },
        "id": "cIAYZjlhhU09",
        "outputId": "da26a9b2-7eb8-49c8-b01e-7bc18fa47787",
        "trusted": true
      },
      "execution_count": 28,
      "outputs": [
        {
          "output_type": "display_data",
          "data": {
            "text/plain": [
              "<Figure size 1400x500 with 4 Axes>"
            ],
            "image/png": "[encoded data removed]"
          },
          "metadata": {}
        }
      ]
    },
    {
      "cell_type": "markdown",
      "source": [
        "### Optimización de Hiperparámetros"
      ],
      "metadata": {
        "id": "cGcTQ9T8hU_n"
      }
    },
    {
      "cell_type": "code",
      "source": [
        "import tensorflow as tf\n",
        "from tensorflow import keras\n",
        "from kerastuner.tuners import RandomSearch"
      ],
      "metadata": {
        "id": "VRm09rrfWkJ1",
        "trusted": true,
        "outputId": "f6e65de5-e577-4c9e-a667-5e5decc4015f",
        "colab": {
          "base_uri": "https://localhost:8080/",
          "height": 349
        }
      },
      "execution_count": 29,
      "outputs": [
        {
          "output_type": "error",
          "ename": "ModuleNotFoundError",
          "evalue": "No module named 'kerastuner'",
          "traceback": [
            "\u001b[0;31m---------------------------------------------------------------------------\u001b[0m",
            "\u001b[0;31mModuleNotFoundError\u001b[0m                       Traceback (most recent call last)",
            "\u001b[0;32m<ipython-input-29-b420bea64af7>\u001b[0m in \u001b[0;36m<cell line: 3>\u001b[0;34m()\u001b[0m\n\u001b[1;32m      1\u001b[0m \u001b[0;32mimport\u001b[0m \u001b[0mtensorflow\u001b[0m \u001b[0;32mas\u001b[0m \u001b[0mtf\u001b[0m\u001b[0;34m\u001b[0m\u001b[0;34m\u001b[0m\u001b[0m\n\u001b[1;32m      2\u001b[0m \u001b[0;32mfrom\u001b[0m \u001b[0mtensorflow\u001b[0m \u001b[0;32mimport\u001b[0m \u001b[0mkeras\u001b[0m\u001b[0;34m\u001b[0m\u001b[0;34m\u001b[0m\u001b[0m\n\u001b[0;32m----> 3\u001b[0;31m \u001b[0;32mfrom\u001b[0m \u001b[0mkerastuner\u001b[0m\u001b[0;34m.\u001b[0m\u001b[0mtuners\u001b[0m \u001b[0;32mimport\u001b[0m \u001b[0mRandomSearch\u001b[0m\u001b[0;34m\u001b[0m\u001b[0;34m\u001b[0m\u001b[0m\n\u001b[0m",
            "\u001b[0;31mModuleNotFoundError\u001b[0m: No module named 'kerastuner'",
            "",
            "\u001b[0;31m---------------------------------------------------------------------------\u001b[0;32m\nNOTE: If your import is failing due to a missing package, you can\nmanually install dependencies using either !pip or !apt.\n\nTo view examples of installing some common dependencies, click the\n\"Open Examples\" button below.\n\u001b[0;31m---------------------------------------------------------------------------\u001b[0m\n"
          ],
          "errorDetails": {
            "actions": [
              {
                "action": "open_url",
                "actionText": "Open Examples",
                "url": "/notebooks/snippets/importing_libraries.ipynb"
              }
            ]
          }
        }
      ]
    },
    {
      "cell_type": "markdown",
      "source": [],
      "metadata": {
        "id": "zOyCu-VfWweW"
      }
    },
    {
      "cell_type": "markdown",
      "source": [
        "### funcion"
      ],
      "metadata": {
        "id": "wA-DG2SGWpqZ"
      }
    },
    {
      "cell_type": "code",
      "source": [
        "def build_model(hp):\n",
        "    model = keras.Sequential()\n",
        "    model.add(keras.layers.Flatten(input_shape=(28, 28)))  # Ajusta según la forma de tus datos de entrada\n",
        "\n",
        "    # Permite a Keras Tuner decidir el número de neuronas en las primeras dos capas Dense\n",
        "    for i in range(2):  # Dos capas densas\n",
        "        model.add(keras.layers.Dense(\n",
        "            units=hp.Int('units_' + str(i), min_value=32, max_value=512, step=32),\n",
        "            activation='relu'))\n",
        "\n",
        "    model.add(keras.layers.Dense(10, activation='softmax'))  # Ajusta según el número de clases\n",
        "\n",
        "    # Permite a Keras Tuner decidir la tasa de aprendizaje\n",
        "    hp_learning_rate = hp.Choice('learning_rate', values=[1e-2, 1e-3, 1e-4])\n",
        "\n",
        "    model.compile(\n",
        "        optimizer=keras.optimizers.Adam(learning_rate=hp_learning_rate),\n",
        "        loss=keras.losses.SparseCategoricalCrossentropy(),\n",
        "        metrics=['accuracy'])\n",
        "\n",
        "    return model\n"
      ],
      "metadata": {
        "id": "dSGY9_uTWp6f",
        "trusted": true
      },
      "execution_count": null,
      "outputs": []
    },
    {
      "cell_type": "markdown",
      "source": [
        "### # Crear el tuner y realizar la búsqueda de hiperparámetros"
      ],
      "metadata": {
        "id": "zttKj1MKWyAz"
      }
    },
    {
      "cell_type": "code",
      "source": [
        "tunner = RandomSearch(\n",
        "    build_model,\n",
        "    objective='val_accuracy',\n",
        "    max_trials=10,  # Número máximo de configuraciones de prueba\n",
        "    executions_per_trial=3,  # Número de modelos que se entrenan por prueba\n",
        "    directory='logs',  # Directorio para almacenar logs\n",
        "    project_name='keras_tuner_demo')"
      ],
      "metadata": {
        "id": "KtcoYqnnWyJD",
        "trusted": true
      },
      "execution_count": null,
      "outputs": []
    },
    {
      "cell_type": "markdown",
      "source": [
        "### Obtener el mejor modelo"
      ],
      "metadata": {
        "id": "_WR40msmW7s-"
      }
    },
    {
      "cell_type": "code",
      "source": [
        "tuner.search(x_train, y_train, epochs=10, validation_split=0.2)\n",
        "best_model = tuner.get_best_models(num_models=1)[0]"
      ],
      "metadata": {
        "id": "85iBggiyW74A",
        "trusted": true
      },
      "execution_count": null,
      "outputs": []
    },
    {
      "cell_type": "markdown",
      "source": [
        "# Evaluar el mejor modelo"
      ],
      "metadata": {
        "id": "5t5Xjj11W8CK"
      }
    },
    {
      "cell_type": "code",
      "source": [
        "loss, accuracy = best_model.evaluate(x_test, y_test)\n",
        "print(f\"Loss: {loss}, Accuracy: {accuracy}\")"
      ],
      "metadata": {
        "id": "QRySncYVW8Lz",
        "trusted": true
      },
      "execution_count": null,
      "outputs": []
    }
  ]
}