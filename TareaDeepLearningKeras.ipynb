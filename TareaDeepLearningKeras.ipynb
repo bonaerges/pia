{
  "metadata": {
    "colab": {
      "provenance": [],
      "gpuType": "T4",
      "name": "notebooke06822448d",
      "include_colab_link": true
    },
    "kernelspec": {
      "name": "python3",
      "display_name": "Python 3",
      "language": "python"
    },
    "language_info": {
      "name": "python",
      "version": "3.10.13",
      "mimetype": "text/x-python",
      "codemirror_mode": {
        "name": "ipython",
        "version": 3
      },
      "pygments_lexer": "ipython3",
      "nbconvert_exporter": "python",
      "file_extension": ".py"
    },
    "accelerator": "GPU",
    "widgets": {
      "application/vnd.jupyter.widget-state+json": {
        "9850476777984d7995469c2e81849262": {
          "model_module": "@jupyter-widgets/controls",
          "model_name": "HBoxModel",
          "model_module_version": "1.5.0",
          "state": {
            "_dom_classes": [],
            "_model_module": "@jupyter-widgets/controls",
            "_model_module_version": "1.5.0",
            "_model_name": "HBoxModel",
            "_view_count": null,
            "_view_module": "@jupyter-widgets/controls",
            "_view_module_version": "1.5.0",
            "_view_name": "HBoxView",
            "box_style": "",
            "children": [
              "IPY_MODEL_9ee446e6ffc1413d8f38c3c47e3f4481",
              "IPY_MODEL_4ff2df78fb724efb96d1d76859ec45ca",
              "IPY_MODEL_654e376455c2471186d963968c9ba4f7"
            ],
            "layout": "IPY_MODEL_9e0b188ba1034c538dbd4c1c86c26d34"
          }
        },
        "9ee446e6ffc1413d8f38c3c47e3f4481": {
          "model_module": "@jupyter-widgets/controls",
          "model_name": "HTMLModel",
          "model_module_version": "1.5.0",
          "state": {
            "_dom_classes": [],
            "_model_module": "@jupyter-widgets/controls",
            "_model_module_version": "1.5.0",
            "_model_name": "HTMLModel",
            "_view_count": null,
            "_view_module": "@jupyter-widgets/controls",
            "_view_module_version": "1.5.0",
            "_view_name": "HTMLView",
            "description": "",
            "description_tooltip": null,
            "layout": "IPY_MODEL_fc9a87bde8264b8086b7b7c858670b65",
            "placeholder": "​",
            "style": "IPY_MODEL_02d31a8f6e374a76ac1896b4a9085969",
            "value": "Dl Completed...: 100%"
          }
        },
        "4ff2df78fb724efb96d1d76859ec45ca": {
          "model_module": "@jupyter-widgets/controls",
          "model_name": "FloatProgressModel",
          "model_module_version": "1.5.0",
          "state": {
            "_dom_classes": [],
            "_model_module": "@jupyter-widgets/controls",
            "_model_module_version": "1.5.0",
            "_model_name": "FloatProgressModel",
            "_view_count": null,
            "_view_module": "@jupyter-widgets/controls",
            "_view_module_version": "1.5.0",
            "_view_name": "ProgressView",
            "bar_style": "success",
            "description": "",
            "description_tooltip": null,
            "layout": "IPY_MODEL_c359e3798e4f461f8bd0697bd5983be6",
            "max": 1,
            "min": 0,
            "orientation": "horizontal",
            "style": "IPY_MODEL_e889726d8a2f484199a2079e7f301119",
            "value": 1
          }
        },
        "654e376455c2471186d963968c9ba4f7": {
          "model_module": "@jupyter-widgets/controls",
          "model_name": "HTMLModel",
          "model_module_version": "1.5.0",
          "state": {
            "_dom_classes": [],
            "_model_module": "@jupyter-widgets/controls",
            "_model_module_version": "1.5.0",
            "_model_name": "HTMLModel",
            "_view_count": null,
            "_view_module": "@jupyter-widgets/controls",
            "_view_module_version": "1.5.0",
            "_view_name": "HTMLView",
            "description": "",
            "description_tooltip": null,
            "layout": "IPY_MODEL_bfe8ea9a2afa4fe8891c168e8cce55be",
            "placeholder": "​",
            "style": "IPY_MODEL_797a0dc8fd434e98b300243fb7b1e21f",
            "value": " 3/3 [01:15&lt;00:00, 31.75s/ url]"
          }
        },
        "9e0b188ba1034c538dbd4c1c86c26d34": {
          "model_module": "@jupyter-widgets/base",
          "model_name": "LayoutModel",
          "model_module_version": "1.2.0",
          "state": {
            "_model_module": "@jupyter-widgets/base",
            "_model_module_version": "1.2.0",
            "_model_name": "LayoutModel",
            "_view_count": null,
            "_view_module": "@jupyter-widgets/base",
            "_view_module_version": "1.2.0",
            "_view_name": "LayoutView",
            "align_content": null,
            "align_items": null,
            "align_self": null,
            "border": null,
            "bottom": null,
            "display": null,
            "flex": null,
            "flex_flow": null,
            "grid_area": null,
            "grid_auto_columns": null,
            "grid_auto_flow": null,
            "grid_auto_rows": null,
            "grid_column": null,
            "grid_gap": null,
            "grid_row": null,
            "grid_template_areas": null,
            "grid_template_columns": null,
            "grid_template_rows": null,
            "height": null,
            "justify_content": null,
            "justify_items": null,
            "left": null,
            "margin": null,
            "max_height": null,
            "max_width": null,
            "min_height": null,
            "min_width": null,
            "object_fit": null,
            "object_position": null,
            "order": null,
            "overflow": null,
            "overflow_x": null,
            "overflow_y": null,
            "padding": null,
            "right": null,
            "top": null,
            "visibility": null,
            "width": null
          }
        },
        "fc9a87bde8264b8086b7b7c858670b65": {
          "model_module": "@jupyter-widgets/base",
          "model_name": "LayoutModel",
          "model_module_version": "1.2.0",
          "state": {
            "_model_module": "@jupyter-widgets/base",
            "_model_module_version": "1.2.0",
            "_model_name": "LayoutModel",
            "_view_count": null,
            "_view_module": "@jupyter-widgets/base",
            "_view_module_version": "1.2.0",
            "_view_name": "LayoutView",
            "align_content": null,
            "align_items": null,
            "align_self": null,
            "border": null,
            "bottom": null,
            "display": null,
            "flex": null,
            "flex_flow": null,
            "grid_area": null,
            "grid_auto_columns": null,
            "grid_auto_flow": null,
            "grid_auto_rows": null,
            "grid_column": null,
            "grid_gap": null,
            "grid_row": null,
            "grid_template_areas": null,
            "grid_template_columns": null,
            "grid_template_rows": null,
            "height": null,
            "justify_content": null,
            "justify_items": null,
            "left": null,
            "margin": null,
            "max_height": null,
            "max_width": null,
            "min_height": null,
            "min_width": null,
            "object_fit": null,
            "object_position": null,
            "order": null,
            "overflow": null,
            "overflow_x": null,
            "overflow_y": null,
            "padding": null,
            "right": null,
            "top": null,
            "visibility": null,
            "width": null
          }
        },
        "02d31a8f6e374a76ac1896b4a9085969": {
          "model_module": "@jupyter-widgets/controls",
          "model_name": "DescriptionStyleModel",
          "model_module_version": "1.5.0",
          "state": {
            "_model_module": "@jupyter-widgets/controls",
            "_model_module_version": "1.5.0",
            "_model_name": "DescriptionStyleModel",
            "_view_count": null,
            "_view_module": "@jupyter-widgets/base",
            "_view_module_version": "1.2.0",
            "_view_name": "StyleView",
            "description_width": ""
          }
        },
        "c359e3798e4f461f8bd0697bd5983be6": {
          "model_module": "@jupyter-widgets/base",
          "model_name": "LayoutModel",
          "model_module_version": "1.2.0",
          "state": {
            "_model_module": "@jupyter-widgets/base",
            "_model_module_version": "1.2.0",
            "_model_name": "LayoutModel",
            "_view_count": null,
            "_view_module": "@jupyter-widgets/base",
            "_view_module_version": "1.2.0",
            "_view_name": "LayoutView",
            "align_content": null,
            "align_items": null,
            "align_self": null,
            "border": null,
            "bottom": null,
            "display": null,
            "flex": null,
            "flex_flow": null,
            "grid_area": null,
            "grid_auto_columns": null,
            "grid_auto_flow": null,
            "grid_auto_rows": null,
            "grid_column": null,
            "grid_gap": null,
            "grid_row": null,
            "grid_template_areas": null,
            "grid_template_columns": null,
            "grid_template_rows": null,
            "height": null,
            "justify_content": null,
            "justify_items": null,
            "left": null,
            "margin": null,
            "max_height": null,
            "max_width": null,
            "min_height": null,
            "min_width": null,
            "object_fit": null,
            "object_position": null,
            "order": null,
            "overflow": null,
            "overflow_x": null,
            "overflow_y": null,
            "padding": null,
            "right": null,
            "top": null,
            "visibility": null,
            "width": "20px"
          }
        },
        "e889726d8a2f484199a2079e7f301119": {
          "model_module": "@jupyter-widgets/controls",
          "model_name": "ProgressStyleModel",
          "model_module_version": "1.5.0",
          "state": {
            "_model_module": "@jupyter-widgets/controls",
            "_model_module_version": "1.5.0",
            "_model_name": "ProgressStyleModel",
            "_view_count": null,
            "_view_module": "@jupyter-widgets/base",
            "_view_module_version": "1.2.0",
            "_view_name": "StyleView",
            "bar_color": null,
            "description_width": ""
          }
        },
        "bfe8ea9a2afa4fe8891c168e8cce55be": {
          "model_module": "@jupyter-widgets/base",
          "model_name": "LayoutModel",
          "model_module_version": "1.2.0",
          "state": {
            "_model_module": "@jupyter-widgets/base",
            "_model_module_version": "1.2.0",
            "_model_name": "LayoutModel",
            "_view_count": null,
            "_view_module": "@jupyter-widgets/base",
            "_view_module_version": "1.2.0",
            "_view_name": "LayoutView",
            "align_content": null,
            "align_items": null,
            "align_self": null,
            "border": null,
            "bottom": null,
            "display": null,
            "flex": null,
            "flex_flow": null,
            "grid_area": null,
            "grid_auto_columns": null,
            "grid_auto_flow": null,
            "grid_auto_rows": null,
            "grid_column": null,
            "grid_gap": null,
            "grid_row": null,
            "grid_template_areas": null,
            "grid_template_columns": null,
            "grid_template_rows": null,
            "height": null,
            "justify_content": null,
            "justify_items": null,
            "left": null,
            "margin": null,
            "max_height": null,
            "max_width": null,
            "min_height": null,
            "min_width": null,
            "object_fit": null,
            "object_position": null,
            "order": null,
            "overflow": null,
            "overflow_x": null,
            "overflow_y": null,
            "padding": null,
            "right": null,
            "top": null,
            "visibility": null,
            "width": null
          }
        },
        "797a0dc8fd434e98b300243fb7b1e21f": {
          "model_module": "@jupyter-widgets/controls",
          "model_name": "DescriptionStyleModel",
          "model_module_version": "1.5.0",
          "state": {
            "_model_module": "@jupyter-widgets/controls",
            "_model_module_version": "1.5.0",
            "_model_name": "DescriptionStyleModel",
            "_view_count": null,
            "_view_module": "@jupyter-widgets/base",
            "_view_module_version": "1.2.0",
            "_view_name": "StyleView",
            "description_width": ""
          }
        },
        "68336c36eae0401393c15a92c48aff2f": {
          "model_module": "@jupyter-widgets/controls",
          "model_name": "HBoxModel",
          "model_module_version": "1.5.0",
          "state": {
            "_dom_classes": [],
            "_model_module": "@jupyter-widgets/controls",
            "_model_module_version": "1.5.0",
            "_model_name": "HBoxModel",
            "_view_count": null,
            "_view_module": "@jupyter-widgets/controls",
            "_view_module_version": "1.5.0",
            "_view_name": "HBoxView",
            "box_style": "",
            "children": [
              "IPY_MODEL_ce5669dc367549f6ba70329edf97e46f",
              "IPY_MODEL_834d89db1b134f64b2fe9c8353541e3b",
              "IPY_MODEL_a6b1db6ed12c4994ad04ef29f91b9eae"
            ],
            "layout": "IPY_MODEL_69c9aeae7a9d4d16ba6bda2b9e308fcb"
          }
        },
        "ce5669dc367549f6ba70329edf97e46f": {
          "model_module": "@jupyter-widgets/controls",
          "model_name": "HTMLModel",
          "model_module_version": "1.5.0",
          "state": {
            "_dom_classes": [],
            "_model_module": "@jupyter-widgets/controls",
            "_model_module_version": "1.5.0",
            "_model_name": "HTMLModel",
            "_view_count": null,
            "_view_module": "@jupyter-widgets/controls",
            "_view_module_version": "1.5.0",
            "_view_name": "HTMLView",
            "description": "",
            "description_tooltip": null,
            "layout": "IPY_MODEL_c590d011b4fe44bba527383bb9d12061",
            "placeholder": "​",
            "style": "IPY_MODEL_2e39fd1115db4112a99beb13f56cd0db",
            "value": "Dl Size...: 100%"
          }
        },
        "834d89db1b134f64b2fe9c8353541e3b": {
          "model_module": "@jupyter-widgets/controls",
          "model_name": "FloatProgressModel",
          "model_module_version": "1.5.0",
          "state": {
            "_dom_classes": [],
            "_model_module": "@jupyter-widgets/controls",
            "_model_module_version": "1.5.0",
            "_model_name": "FloatProgressModel",
            "_view_count": null,
            "_view_module": "@jupyter-widgets/controls",
            "_view_module_version": "1.5.0",
            "_view_name": "ProgressView",
            "bar_style": "success",
            "description": "",
            "description_tooltip": null,
            "layout": "IPY_MODEL_ea871087e80b4dd4a60e195877b0f71b",
            "max": 1,
            "min": 0,
            "orientation": "horizontal",
            "style": "IPY_MODEL_8dae8d53f35942bb8ab71827aa9b7770",
            "value": 1
          }
        },
        "a6b1db6ed12c4994ad04ef29f91b9eae": {
          "model_module": "@jupyter-widgets/controls",
          "model_name": "HTMLModel",
          "model_module_version": "1.5.0",
          "state": {
            "_dom_classes": [],
            "_model_module": "@jupyter-widgets/controls",
            "_model_module_version": "1.5.0",
            "_model_name": "HTMLModel",
            "_view_count": null,
            "_view_module": "@jupyter-widgets/controls",
            "_view_module_version": "1.5.0",
            "_view_name": "HTMLView",
            "description": "",
            "description_tooltip": null,
            "layout": "IPY_MODEL_d3e3e14d7c0d4db483449e8498bf1064",
            "placeholder": "​",
            "style": "IPY_MODEL_5a5fc864d2b44f5080771fa4b661ab88",
            "value": " 1501/1501 [01:15&lt;00:00, 21.49 MiB/s]"
          }
        },
        "69c9aeae7a9d4d16ba6bda2b9e308fcb": {
          "model_module": "@jupyter-widgets/base",
          "model_name": "LayoutModel",
          "model_module_version": "1.2.0",
          "state": {
            "_model_module": "@jupyter-widgets/base",
            "_model_module_version": "1.2.0",
            "_model_name": "LayoutModel",
            "_view_count": null,
            "_view_module": "@jupyter-widgets/base",
            "_view_module_version": "1.2.0",
            "_view_name": "LayoutView",
            "align_content": null,
            "align_items": null,
            "align_self": null,
            "border": null,
            "bottom": null,
            "display": null,
            "flex": null,
            "flex_flow": null,
            "grid_area": null,
            "grid_auto_columns": null,
            "grid_auto_flow": null,
            "grid_auto_rows": null,
            "grid_column": null,
            "grid_gap": null,
            "grid_row": null,
            "grid_template_areas": null,
            "grid_template_columns": null,
            "grid_template_rows": null,
            "height": null,
            "justify_content": null,
            "justify_items": null,
            "left": null,
            "margin": null,
            "max_height": null,
            "max_width": null,
            "min_height": null,
            "min_width": null,
            "object_fit": null,
            "object_position": null,
            "order": null,
            "overflow": null,
            "overflow_x": null,
            "overflow_y": null,
            "padding": null,
            "right": null,
            "top": null,
            "visibility": null,
            "width": null
          }
        },
        "c590d011b4fe44bba527383bb9d12061": {
          "model_module": "@jupyter-widgets/base",
          "model_name": "LayoutModel",
          "model_module_version": "1.2.0",
          "state": {
            "_model_module": "@jupyter-widgets/base",
            "_model_module_version": "1.2.0",
            "_model_name": "LayoutModel",
            "_view_count": null,
            "_view_module": "@jupyter-widgets/base",
            "_view_module_version": "1.2.0",
            "_view_name": "LayoutView",
            "align_content": null,
            "align_items": null,
            "align_self": null,
            "border": null,
            "bottom": null,
            "display": null,
            "flex": null,
            "flex_flow": null,
            "grid_area": null,
            "grid_auto_columns": null,
            "grid_auto_flow": null,
            "grid_auto_rows": null,
            "grid_column": null,
            "grid_gap": null,
            "grid_row": null,
            "grid_template_areas": null,
            "grid_template_columns": null,
            "grid_template_rows": null,
            "height": null,
            "justify_content": null,
            "justify_items": null,
            "left": null,
            "margin": null,
            "max_height": null,
            "max_width": null,
            "min_height": null,
            "min_width": null,
            "object_fit": null,
            "object_position": null,
            "order": null,
            "overflow": null,
            "overflow_x": null,
            "overflow_y": null,
            "padding": null,
            "right": null,
            "top": null,
            "visibility": null,
            "width": null
          }
        },
        "2e39fd1115db4112a99beb13f56cd0db": {
          "model_module": "@jupyter-widgets/controls",
          "model_name": "DescriptionStyleModel",
          "model_module_version": "1.5.0",
          "state": {
            "_model_module": "@jupyter-widgets/controls",
            "_model_module_version": "1.5.0",
            "_model_name": "DescriptionStyleModel",
            "_view_count": null,
            "_view_module": "@jupyter-widgets/base",
            "_view_module_version": "1.2.0",
            "_view_name": "StyleView",
            "description_width": ""
          }
        },
        "ea871087e80b4dd4a60e195877b0f71b": {
          "model_module": "@jupyter-widgets/base",
          "model_name": "LayoutModel",
          "model_module_version": "1.2.0",
          "state": {
            "_model_module": "@jupyter-widgets/base",
            "_model_module_version": "1.2.0",
            "_model_name": "LayoutModel",
            "_view_count": null,
            "_view_module": "@jupyter-widgets/base",
            "_view_module_version": "1.2.0",
            "_view_name": "LayoutView",
            "align_content": null,
            "align_items": null,
            "align_self": null,
            "border": null,
            "bottom": null,
            "display": null,
            "flex": null,
            "flex_flow": null,
            "grid_area": null,
            "grid_auto_columns": null,
            "grid_auto_flow": null,
            "grid_auto_rows": null,
            "grid_column": null,
            "grid_gap": null,
            "grid_row": null,
            "grid_template_areas": null,
            "grid_template_columns": null,
            "grid_template_rows": null,
            "height": null,
            "justify_content": null,
            "justify_items": null,
            "left": null,
            "margin": null,
            "max_height": null,
            "max_width": null,
            "min_height": null,
            "min_width": null,
            "object_fit": null,
            "object_position": null,
            "order": null,
            "overflow": null,
            "overflow_x": null,
            "overflow_y": null,
            "padding": null,
            "right": null,
            "top": null,
            "visibility": null,
            "width": "20px"
          }
        },
        "8dae8d53f35942bb8ab71827aa9b7770": {
          "model_module": "@jupyter-widgets/controls",
          "model_name": "ProgressStyleModel",
          "model_module_version": "1.5.0",
          "state": {
            "_model_module": "@jupyter-widgets/controls",
            "_model_module_version": "1.5.0",
            "_model_name": "ProgressStyleModel",
            "_view_count": null,
            "_view_module": "@jupyter-widgets/base",
            "_view_module_version": "1.2.0",
            "_view_name": "StyleView",
            "bar_color": null,
            "description_width": ""
          }
        },
        "d3e3e14d7c0d4db483449e8498bf1064": {
          "model_module": "@jupyter-widgets/base",
          "model_name": "LayoutModel",
          "model_module_version": "1.2.0",
          "state": {
            "_model_module": "@jupyter-widgets/base",
            "_model_module_version": "1.2.0",
            "_model_name": "LayoutModel",
            "_view_count": null,
            "_view_module": "@jupyter-widgets/base",
            "_view_module_version": "1.2.0",
            "_view_name": "LayoutView",
            "align_content": null,
            "align_items": null,
            "align_self": null,
            "border": null,
            "bottom": null,
            "display": null,
            "flex": null,
            "flex_flow": null,
            "grid_area": null,
            "grid_auto_columns": null,
            "grid_auto_flow": null,
            "grid_auto_rows": null,
            "grid_column": null,
            "grid_gap": null,
            "grid_row": null,
            "grid_template_areas": null,
            "grid_template_columns": null,
            "grid_template_rows": null,
            "height": null,
            "justify_content": null,
            "justify_items": null,
            "left": null,
            "margin": null,
            "max_height": null,
            "max_width": null,
            "min_height": null,
            "min_width": null,
            "object_fit": null,
            "object_position": null,
            "order": null,
            "overflow": null,
            "overflow_x": null,
            "overflow_y": null,
            "padding": null,
            "right": null,
            "top": null,
            "visibility": null,
            "width": null
          }
        },
        "5a5fc864d2b44f5080771fa4b661ab88": {
          "model_module": "@jupyter-widgets/controls",
          "model_name": "DescriptionStyleModel",
          "model_module_version": "1.5.0",
          "state": {
            "_model_module": "@jupyter-widgets/controls",
            "_model_module_version": "1.5.0",
            "_model_name": "DescriptionStyleModel",
            "_view_count": null,
            "_view_module": "@jupyter-widgets/base",
            "_view_module_version": "1.2.0",
            "_view_name": "StyleView",
            "description_width": ""
          }
        },
        "b407c0dc8e99472ea7875ff10a18b79b": {
          "model_module": "@jupyter-widgets/controls",
          "model_name": "HBoxModel",
          "model_module_version": "1.5.0",
          "state": {
            "_dom_classes": [],
            "_model_module": "@jupyter-widgets/controls",
            "_model_module_version": "1.5.0",
            "_model_name": "HBoxModel",
            "_view_count": null,
            "_view_module": "@jupyter-widgets/controls",
            "_view_module_version": "1.5.0",
            "_view_name": "HBoxView",
            "box_style": "",
            "children": [
              "IPY_MODEL_ec0e471cc1584b9b8fbde95eff9b8c97",
              "IPY_MODEL_942f75f4895f4d8ca790b515aa3f4b68",
              "IPY_MODEL_92ef6f9f550f45a7932a5319cf9d4664"
            ],
            "layout": "IPY_MODEL_f1a651973ed14911875e2d897c00062d"
          }
        },
        "ec0e471cc1584b9b8fbde95eff9b8c97": {
          "model_module": "@jupyter-widgets/controls",
          "model_name": "HTMLModel",
          "model_module_version": "1.5.0",
          "state": {
            "_dom_classes": [],
            "_model_module": "@jupyter-widgets/controls",
            "_model_module_version": "1.5.0",
            "_model_name": "HTMLModel",
            "_view_count": null,
            "_view_module": "@jupyter-widgets/controls",
            "_view_module_version": "1.5.0",
            "_view_name": "HTMLView",
            "description": "",
            "description_tooltip": null,
            "layout": "IPY_MODEL_ace45f4fbeee4d318b702667291247ac",
            "placeholder": "​",
            "style": "IPY_MODEL_3969a23e8fbb40b98da5a95640f32d99",
            "value": "Generating splits...: 100%"
          }
        },
        "942f75f4895f4d8ca790b515aa3f4b68": {
          "model_module": "@jupyter-widgets/controls",
          "model_name": "FloatProgressModel",
          "model_module_version": "1.5.0",
          "state": {
            "_dom_classes": [],
            "_model_module": "@jupyter-widgets/controls",
            "_model_module_version": "1.5.0",
            "_model_name": "FloatProgressModel",
            "_view_count": null,
            "_view_module": "@jupyter-widgets/controls",
            "_view_module_version": "1.5.0",
            "_view_name": "ProgressView",
            "bar_style": "",
            "description": "",
            "description_tooltip": null,
            "layout": "IPY_MODEL_15208353701b468486f8a76866b62584",
            "max": 3,
            "min": 0,
            "orientation": "horizontal",
            "style": "IPY_MODEL_d00c8755a35b49c9888928cc4f8346a2",
            "value": 3
          }
        },
        "92ef6f9f550f45a7932a5319cf9d4664": {
          "model_module": "@jupyter-widgets/controls",
          "model_name": "HTMLModel",
          "model_module_version": "1.5.0",
          "state": {
            "_dom_classes": [],
            "_model_module": "@jupyter-widgets/controls",
            "_model_module_version": "1.5.0",
            "_model_name": "HTMLModel",
            "_view_count": null,
            "_view_module": "@jupyter-widgets/controls",
            "_view_module_version": "1.5.0",
            "_view_name": "HTMLView",
            "description": "",
            "description_tooltip": null,
            "layout": "IPY_MODEL_fa95855d4d2e42c186c3f444274f2281",
            "placeholder": "​",
            "style": "IPY_MODEL_5cf6428721ff4528aa8a574f2c656b45",
            "value": " 3/3 [07:05&lt;00:00, 180.08s/ splits]"
          }
        },
        "f1a651973ed14911875e2d897c00062d": {
          "model_module": "@jupyter-widgets/base",
          "model_name": "LayoutModel",
          "model_module_version": "1.2.0",
          "state": {
            "_model_module": "@jupyter-widgets/base",
            "_model_module_version": "1.2.0",
            "_model_name": "LayoutModel",
            "_view_count": null,
            "_view_module": "@jupyter-widgets/base",
            "_view_module_version": "1.2.0",
            "_view_name": "LayoutView",
            "align_content": null,
            "align_items": null,
            "align_self": null,
            "border": null,
            "bottom": null,
            "display": null,
            "flex": null,
            "flex_flow": null,
            "grid_area": null,
            "grid_auto_columns": null,
            "grid_auto_flow": null,
            "grid_auto_rows": null,
            "grid_column": null,
            "grid_gap": null,
            "grid_row": null,
            "grid_template_areas": null,
            "grid_template_columns": null,
            "grid_template_rows": null,
            "height": null,
            "justify_content": null,
            "justify_items": null,
            "left": null,
            "margin": null,
            "max_height": null,
            "max_width": null,
            "min_height": null,
            "min_width": null,
            "object_fit": null,
            "object_position": null,
            "order": null,
            "overflow": null,
            "overflow_x": null,
            "overflow_y": null,
            "padding": null,
            "right": null,
            "top": null,
            "visibility": "hidden",
            "width": null
          }
        },
        "ace45f4fbeee4d318b702667291247ac": {
          "model_module": "@jupyter-widgets/base",
          "model_name": "LayoutModel",
          "model_module_version": "1.2.0",
          "state": {
            "_model_module": "@jupyter-widgets/base",
            "_model_module_version": "1.2.0",
            "_model_name": "LayoutModel",
            "_view_count": null,
            "_view_module": "@jupyter-widgets/base",
            "_view_module_version": "1.2.0",
            "_view_name": "LayoutView",
            "align_content": null,
            "align_items": null,
            "align_self": null,
            "border": null,
            "bottom": null,
            "display": null,
            "flex": null,
            "flex_flow": null,
            "grid_area": null,
            "grid_auto_columns": null,
            "grid_auto_flow": null,
            "grid_auto_rows": null,
            "grid_column": null,
            "grid_gap": null,
            "grid_row": null,
            "grid_template_areas": null,
            "grid_template_columns": null,
            "grid_template_rows": null,
            "height": null,
            "justify_content": null,
            "justify_items": null,
            "left": null,
            "margin": null,
            "max_height": null,
            "max_width": null,
            "min_height": null,
            "min_width": null,
            "object_fit": null,
            "object_position": null,
            "order": null,
            "overflow": null,
            "overflow_x": null,
            "overflow_y": null,
            "padding": null,
            "right": null,
            "top": null,
            "visibility": null,
            "width": null
          }
        },
        "3969a23e8fbb40b98da5a95640f32d99": {
          "model_module": "@jupyter-widgets/controls",
          "model_name": "DescriptionStyleModel",
          "model_module_version": "1.5.0",
          "state": {
            "_model_module": "@jupyter-widgets/controls",
            "_model_module_version": "1.5.0",
            "_model_name": "DescriptionStyleModel",
            "_view_count": null,
            "_view_module": "@jupyter-widgets/base",
            "_view_module_version": "1.2.0",
            "_view_name": "StyleView",
            "description_width": ""
          }
        },
        "15208353701b468486f8a76866b62584": {
          "model_module": "@jupyter-widgets/base",
          "model_name": "LayoutModel",
          "model_module_version": "1.2.0",
          "state": {
            "_model_module": "@jupyter-widgets/base",
            "_model_module_version": "1.2.0",
            "_model_name": "LayoutModel",
            "_view_count": null,
            "_view_module": "@jupyter-widgets/base",
            "_view_module_version": "1.2.0",
            "_view_name": "LayoutView",
            "align_content": null,
            "align_items": null,
            "align_self": null,
            "border": null,
            "bottom": null,
            "display": null,
            "flex": null,
            "flex_flow": null,
            "grid_area": null,
            "grid_auto_columns": null,
            "grid_auto_flow": null,
            "grid_auto_rows": null,
            "grid_column": null,
            "grid_gap": null,
            "grid_row": null,
            "grid_template_areas": null,
            "grid_template_columns": null,
            "grid_template_rows": null,
            "height": null,
            "justify_content": null,
            "justify_items": null,
            "left": null,
            "margin": null,
            "max_height": null,
            "max_width": null,
            "min_height": null,
            "min_width": null,
            "object_fit": null,
            "object_position": null,
            "order": null,
            "overflow": null,
            "overflow_x": null,
            "overflow_y": null,
            "padding": null,
            "right": null,
            "top": null,
            "visibility": null,
            "width": null
          }
        },
        "d00c8755a35b49c9888928cc4f8346a2": {
          "model_module": "@jupyter-widgets/controls",
          "model_name": "ProgressStyleModel",
          "model_module_version": "1.5.0",
          "state": {
            "_model_module": "@jupyter-widgets/controls",
            "_model_module_version": "1.5.0",
            "_model_name": "ProgressStyleModel",
            "_view_count": null,
            "_view_module": "@jupyter-widgets/base",
            "_view_module_version": "1.2.0",
            "_view_name": "StyleView",
            "bar_color": null,
            "description_width": ""
          }
        },
        "fa95855d4d2e42c186c3f444274f2281": {
          "model_module": "@jupyter-widgets/base",
          "model_name": "LayoutModel",
          "model_module_version": "1.2.0",
          "state": {
            "_model_module": "@jupyter-widgets/base",
            "_model_module_version": "1.2.0",
            "_model_name": "LayoutModel",
            "_view_count": null,
            "_view_module": "@jupyter-widgets/base",
            "_view_module_version": "1.2.0",
            "_view_name": "LayoutView",
            "align_content": null,
            "align_items": null,
            "align_self": null,
            "border": null,
            "bottom": null,
            "display": null,
            "flex": null,
            "flex_flow": null,
            "grid_area": null,
            "grid_auto_columns": null,
            "grid_auto_flow": null,
            "grid_auto_rows": null,
            "grid_column": null,
            "grid_gap": null,
            "grid_row": null,
            "grid_template_areas": null,
            "grid_template_columns": null,
            "grid_template_rows": null,
            "height": null,
            "justify_content": null,
            "justify_items": null,
            "left": null,
            "margin": null,
            "max_height": null,
            "max_width": null,
            "min_height": null,
            "min_width": null,
            "object_fit": null,
            "object_position": null,
            "order": null,
            "overflow": null,
            "overflow_x": null,
            "overflow_y": null,
            "padding": null,
            "right": null,
            "top": null,
            "visibility": null,
            "width": null
          }
        },
        "5cf6428721ff4528aa8a574f2c656b45": {
          "model_module": "@jupyter-widgets/controls",
          "model_name": "DescriptionStyleModel",
          "model_module_version": "1.5.0",
          "state": {
            "_model_module": "@jupyter-widgets/controls",
            "_model_module_version": "1.5.0",
            "_model_name": "DescriptionStyleModel",
            "_view_count": null,
            "_view_module": "@jupyter-widgets/base",
            "_view_module_version": "1.2.0",
            "_view_name": "StyleView",
            "description_width": ""
          }
        },
        "338fb3c10c2a4e0c8faaa416d1dd2d6c": {
          "model_module": "@jupyter-widgets/controls",
          "model_name": "HBoxModel",
          "model_module_version": "1.5.0",
          "state": {
            "_dom_classes": [],
            "_model_module": "@jupyter-widgets/controls",
            "_model_module_version": "1.5.0",
            "_model_name": "HBoxModel",
            "_view_count": null,
            "_view_module": "@jupyter-widgets/controls",
            "_view_module_version": "1.5.0",
            "_view_name": "HBoxView",
            "box_style": "",
            "children": [
              "IPY_MODEL_7b20d09bc7db45b799d21e864acae3dc",
              "IPY_MODEL_f8bf467d9e894e99b9dab1a9b8912c4f",
              "IPY_MODEL_b44ef293d42e408c89eb40b1184e7434"
            ],
            "layout": "IPY_MODEL_110b699d849041bdbe2e7d72ecfd7f2a"
          }
        },
        "7b20d09bc7db45b799d21e864acae3dc": {
          "model_module": "@jupyter-widgets/controls",
          "model_name": "HTMLModel",
          "model_module_version": "1.5.0",
          "state": {
            "_dom_classes": [],
            "_model_module": "@jupyter-widgets/controls",
            "_model_module_version": "1.5.0",
            "_model_name": "HTMLModel",
            "_view_count": null,
            "_view_module": "@jupyter-widgets/controls",
            "_view_module_version": "1.5.0",
            "_view_name": "HTMLView",
            "description": "",
            "description_tooltip": null,
            "layout": "IPY_MODEL_05004a4a131e42edbc079c3c8a6f8356",
            "placeholder": "​",
            "style": "IPY_MODEL_a8efe777393742ac93015e639201f9e6",
            "value": "Generating train examples...:  98%"
          }
        },
        "f8bf467d9e894e99b9dab1a9b8912c4f": {
          "model_module": "@jupyter-widgets/controls",
          "model_name": "FloatProgressModel",
          "model_module_version": "1.5.0",
          "state": {
            "_dom_classes": [],
            "_model_module": "@jupyter-widgets/controls",
            "_model_module_version": "1.5.0",
            "_model_name": "FloatProgressModel",
            "_view_count": null,
            "_view_module": "@jupyter-widgets/controls",
            "_view_module_version": "1.5.0",
            "_view_name": "ProgressView",
            "bar_style": "",
            "description": "",
            "description_tooltip": null,
            "layout": "IPY_MODEL_2ab8c0eeab7548b59f91fdaf568c3f85",
            "max": 73257,
            "min": 0,
            "orientation": "horizontal",
            "style": "IPY_MODEL_3da4f549945847bb90f8ce4b982fa350",
            "value": 73257
          }
        },
        "b44ef293d42e408c89eb40b1184e7434": {
          "model_module": "@jupyter-widgets/controls",
          "model_name": "HTMLModel",
          "model_module_version": "1.5.0",
          "state": {
            "_dom_classes": [],
            "_model_module": "@jupyter-widgets/controls",
            "_model_module_version": "1.5.0",
            "_model_name": "HTMLModel",
            "_view_count": null,
            "_view_module": "@jupyter-widgets/controls",
            "_view_module_version": "1.5.0",
            "_view_name": "HTMLView",
            "description": "",
            "description_tooltip": null,
            "layout": "IPY_MODEL_a8ee4fd112c3451db80845258ce75eae",
            "placeholder": "​",
            "style": "IPY_MODEL_db81d42b175f45a2af6c080332145198",
            "value": " 71753/73257 [00:48&lt;00:00, 1657.42 examples/s]"
          }
        },
        "110b699d849041bdbe2e7d72ecfd7f2a": {
          "model_module": "@jupyter-widgets/base",
          "model_name": "LayoutModel",
          "model_module_version": "1.2.0",
          "state": {
            "_model_module": "@jupyter-widgets/base",
            "_model_module_version": "1.2.0",
            "_model_name": "LayoutModel",
            "_view_count": null,
            "_view_module": "@jupyter-widgets/base",
            "_view_module_version": "1.2.0",
            "_view_name": "LayoutView",
            "align_content": null,
            "align_items": null,
            "align_self": null,
            "border": null,
            "bottom": null,
            "display": null,
            "flex": null,
            "flex_flow": null,
            "grid_area": null,
            "grid_auto_columns": null,
            "grid_auto_flow": null,
            "grid_auto_rows": null,
            "grid_column": null,
            "grid_gap": null,
            "grid_row": null,
            "grid_template_areas": null,
            "grid_template_columns": null,
            "grid_template_rows": null,
            "height": null,
            "justify_content": null,
            "justify_items": null,
            "left": null,
            "margin": null,
            "max_height": null,
            "max_width": null,
            "min_height": null,
            "min_width": null,
            "object_fit": null,
            "object_position": null,
            "order": null,
            "overflow": null,
            "overflow_x": null,
            "overflow_y": null,
            "padding": null,
            "right": null,
            "top": null,
            "visibility": "hidden",
            "width": null
          }
        },
        "05004a4a131e42edbc079c3c8a6f8356": {
          "model_module": "@jupyter-widgets/base",
          "model_name": "LayoutModel",
          "model_module_version": "1.2.0",
          "state": {
            "_model_module": "@jupyter-widgets/base",
            "_model_module_version": "1.2.0",
            "_model_name": "LayoutModel",
            "_view_count": null,
            "_view_module": "@jupyter-widgets/base",
            "_view_module_version": "1.2.0",
            "_view_name": "LayoutView",
            "align_content": null,
            "align_items": null,
            "align_self": null,
            "border": null,
            "bottom": null,
            "display": null,
            "flex": null,
            "flex_flow": null,
            "grid_area": null,
            "grid_auto_columns": null,
            "grid_auto_flow": null,
            "grid_auto_rows": null,
            "grid_column": null,
            "grid_gap": null,
            "grid_row": null,
            "grid_template_areas": null,
            "grid_template_columns": null,
            "grid_template_rows": null,
            "height": null,
            "justify_content": null,
            "justify_items": null,
            "left": null,
            "margin": null,
            "max_height": null,
            "max_width": null,
            "min_height": null,
            "min_width": null,
            "object_fit": null,
            "object_position": null,
            "order": null,
            "overflow": null,
            "overflow_x": null,
            "overflow_y": null,
            "padding": null,
            "right": null,
            "top": null,
            "visibility": null,
            "width": null
          }
        },
        "a8efe777393742ac93015e639201f9e6": {
          "model_module": "@jupyter-widgets/controls",
          "model_name": "DescriptionStyleModel",
          "model_module_version": "1.5.0",
          "state": {
            "_model_module": "@jupyter-widgets/controls",
            "_model_module_version": "1.5.0",
            "_model_name": "DescriptionStyleModel",
            "_view_count": null,
            "_view_module": "@jupyter-widgets/base",
            "_view_module_version": "1.2.0",
            "_view_name": "StyleView",
            "description_width": ""
          }
        },
        "2ab8c0eeab7548b59f91fdaf568c3f85": {
          "model_module": "@jupyter-widgets/base",
          "model_name": "LayoutModel",
          "model_module_version": "1.2.0",
          "state": {
            "_model_module": "@jupyter-widgets/base",
            "_model_module_version": "1.2.0",
            "_model_name": "LayoutModel",
            "_view_count": null,
            "_view_module": "@jupyter-widgets/base",
            "_view_module_version": "1.2.0",
            "_view_name": "LayoutView",
            "align_content": null,
            "align_items": null,
            "align_self": null,
            "border": null,
            "bottom": null,
            "display": null,
            "flex": null,
            "flex_flow": null,
            "grid_area": null,
            "grid_auto_columns": null,
            "grid_auto_flow": null,
            "grid_auto_rows": null,
            "grid_column": null,
            "grid_gap": null,
            "grid_row": null,
            "grid_template_areas": null,
            "grid_template_columns": null,
            "grid_template_rows": null,
            "height": null,
            "justify_content": null,
            "justify_items": null,
            "left": null,
            "margin": null,
            "max_height": null,
            "max_width": null,
            "min_height": null,
            "min_width": null,
            "object_fit": null,
            "object_position": null,
            "order": null,
            "overflow": null,
            "overflow_x": null,
            "overflow_y": null,
            "padding": null,
            "right": null,
            "top": null,
            "visibility": null,
            "width": null
          }
        },
        "3da4f549945847bb90f8ce4b982fa350": {
          "model_module": "@jupyter-widgets/controls",
          "model_name": "ProgressStyleModel",
          "model_module_version": "1.5.0",
          "state": {
            "_model_module": "@jupyter-widgets/controls",
            "_model_module_version": "1.5.0",
            "_model_name": "ProgressStyleModel",
            "_view_count": null,
            "_view_module": "@jupyter-widgets/base",
            "_view_module_version": "1.2.0",
            "_view_name": "StyleView",
            "bar_color": null,
            "description_width": ""
          }
        },
        "a8ee4fd112c3451db80845258ce75eae": {
          "model_module": "@jupyter-widgets/base",
          "model_name": "LayoutModel",
          "model_module_version": "1.2.0",
          "state": {
            "_model_module": "@jupyter-widgets/base",
            "_model_module_version": "1.2.0",
            "_model_name": "LayoutModel",
            "_view_count": null,
            "_view_module": "@jupyter-widgets/base",
            "_view_module_version": "1.2.0",
            "_view_name": "LayoutView",
            "align_content": null,
            "align_items": null,
            "align_self": null,
            "border": null,
            "bottom": null,
            "display": null,
            "flex": null,
            "flex_flow": null,
            "grid_area": null,
            "grid_auto_columns": null,
            "grid_auto_flow": null,
            "grid_auto_rows": null,
            "grid_column": null,
            "grid_gap": null,
            "grid_row": null,
            "grid_template_areas": null,
            "grid_template_columns": null,
            "grid_template_rows": null,
            "height": null,
            "justify_content": null,
            "justify_items": null,
            "left": null,
            "margin": null,
            "max_height": null,
            "max_width": null,
            "min_height": null,
            "min_width": null,
            "object_fit": null,
            "object_position": null,
            "order": null,
            "overflow": null,
            "overflow_x": null,
            "overflow_y": null,
            "padding": null,
            "right": null,
            "top": null,
            "visibility": null,
            "width": null
          }
        },
        "db81d42b175f45a2af6c080332145198": {
          "model_module": "@jupyter-widgets/controls",
          "model_name": "DescriptionStyleModel",
          "model_module_version": "1.5.0",
          "state": {
            "_model_module": "@jupyter-widgets/controls",
            "_model_module_version": "1.5.0",
            "_model_name": "DescriptionStyleModel",
            "_view_count": null,
            "_view_module": "@jupyter-widgets/base",
            "_view_module_version": "1.2.0",
            "_view_name": "StyleView",
            "description_width": ""
          }
        },
        "fc5be70ff6b04b68a243ea8ad375d268": {
          "model_module": "@jupyter-widgets/controls",
          "model_name": "HBoxModel",
          "model_module_version": "1.5.0",
          "state": {
            "_dom_classes": [],
            "_model_module": "@jupyter-widgets/controls",
            "_model_module_version": "1.5.0",
            "_model_name": "HBoxModel",
            "_view_count": null,
            "_view_module": "@jupyter-widgets/controls",
            "_view_module_version": "1.5.0",
            "_view_name": "HBoxView",
            "box_style": "",
            "children": [
              "IPY_MODEL_c552cf63fe82409fbc40fc0c6523ff8b",
              "IPY_MODEL_1bba0c859ab34c5897da833a1039601c",
              "IPY_MODEL_93e40492d4994611bfcc9fe3d46dbb89"
            ],
            "layout": "IPY_MODEL_4829e2250d31459389e821c2ddb9502b"
          }
        },
        "c552cf63fe82409fbc40fc0c6523ff8b": {
          "model_module": "@jupyter-widgets/controls",
          "model_name": "HTMLModel",
          "model_module_version": "1.5.0",
          "state": {
            "_dom_classes": [],
            "_model_module": "@jupyter-widgets/controls",
            "_model_module_version": "1.5.0",
            "_model_name": "HTMLModel",
            "_view_count": null,
            "_view_module": "@jupyter-widgets/controls",
            "_view_module_version": "1.5.0",
            "_view_name": "HTMLView",
            "description": "",
            "description_tooltip": null,
            "layout": "IPY_MODEL_a15715cbc5c04a778d0acba7ffbd8afa",
            "placeholder": "​",
            "style": "IPY_MODEL_b6ca0a4b17964afea228f0f89c23e75d",
            "value": "Shuffling /root/tensorflow_datasets/svhn_cropped/3.0.0.incompleteDXD3WF/svhn_cropped-train.tfrecord*...:  79%"
          }
        },
        "1bba0c859ab34c5897da833a1039601c": {
          "model_module": "@jupyter-widgets/controls",
          "model_name": "FloatProgressModel",
          "model_module_version": "1.5.0",
          "state": {
            "_dom_classes": [],
            "_model_module": "@jupyter-widgets/controls",
            "_model_module_version": "1.5.0",
            "_model_name": "FloatProgressModel",
            "_view_count": null,
            "_view_module": "@jupyter-widgets/controls",
            "_view_module_version": "1.5.0",
            "_view_name": "ProgressView",
            "bar_style": "",
            "description": "",
            "description_tooltip": null,
            "layout": "IPY_MODEL_60ff97a4e78648349e674e64d70fa3ff",
            "max": 73257,
            "min": 0,
            "orientation": "horizontal",
            "style": "IPY_MODEL_47b32a0cf434463698812c7b6cf00853",
            "value": 73257
          }
        },
        "93e40492d4994611bfcc9fe3d46dbb89": {
          "model_module": "@jupyter-widgets/controls",
          "model_name": "HTMLModel",
          "model_module_version": "1.5.0",
          "state": {
            "_dom_classes": [],
            "_model_module": "@jupyter-widgets/controls",
            "_model_module_version": "1.5.0",
            "_model_name": "HTMLModel",
            "_view_count": null,
            "_view_module": "@jupyter-widgets/controls",
            "_view_module_version": "1.5.0",
            "_view_name": "HTMLView",
            "description": "",
            "description_tooltip": null,
            "layout": "IPY_MODEL_541688e370bd4b838d1d31b560dc5aab",
            "placeholder": "​",
            "style": "IPY_MODEL_c9709d6925ac43f095e89d132d57f579",
            "value": " 57924/73257 [00:00&lt;00:00, 165962.67 examples/s]"
          }
        },
        "4829e2250d31459389e821c2ddb9502b": {
          "model_module": "@jupyter-widgets/base",
          "model_name": "LayoutModel",
          "model_module_version": "1.2.0",
          "state": {
            "_model_module": "@jupyter-widgets/base",
            "_model_module_version": "1.2.0",
            "_model_name": "LayoutModel",
            "_view_count": null,
            "_view_module": "@jupyter-widgets/base",
            "_view_module_version": "1.2.0",
            "_view_name": "LayoutView",
            "align_content": null,
            "align_items": null,
            "align_self": null,
            "border": null,
            "bottom": null,
            "display": null,
            "flex": null,
            "flex_flow": null,
            "grid_area": null,
            "grid_auto_columns": null,
            "grid_auto_flow": null,
            "grid_auto_rows": null,
            "grid_column": null,
            "grid_gap": null,
            "grid_row": null,
            "grid_template_areas": null,
            "grid_template_columns": null,
            "grid_template_rows": null,
            "height": null,
            "justify_content": null,
            "justify_items": null,
            "left": null,
            "margin": null,
            "max_height": null,
            "max_width": null,
            "min_height": null,
            "min_width": null,
            "object_fit": null,
            "object_position": null,
            "order": null,
            "overflow": null,
            "overflow_x": null,
            "overflow_y": null,
            "padding": null,
            "right": null,
            "top": null,
            "visibility": "hidden",
            "width": null
          }
        },
        "a15715cbc5c04a778d0acba7ffbd8afa": {
          "model_module": "@jupyter-widgets/base",
          "model_name": "LayoutModel",
          "model_module_version": "1.2.0",
          "state": {
            "_model_module": "@jupyter-widgets/base",
            "_model_module_version": "1.2.0",
            "_model_name": "LayoutModel",
            "_view_count": null,
            "_view_module": "@jupyter-widgets/base",
            "_view_module_version": "1.2.0",
            "_view_name": "LayoutView",
            "align_content": null,
            "align_items": null,
            "align_self": null,
            "border": null,
            "bottom": null,
            "display": null,
            "flex": null,
            "flex_flow": null,
            "grid_area": null,
            "grid_auto_columns": null,
            "grid_auto_flow": null,
            "grid_auto_rows": null,
            "grid_column": null,
            "grid_gap": null,
            "grid_row": null,
            "grid_template_areas": null,
            "grid_template_columns": null,
            "grid_template_rows": null,
            "height": null,
            "justify_content": null,
            "justify_items": null,
            "left": null,
            "margin": null,
            "max_height": null,
            "max_width": null,
            "min_height": null,
            "min_width": null,
            "object_fit": null,
            "object_position": null,
            "order": null,
            "overflow": null,
            "overflow_x": null,
            "overflow_y": null,
            "padding": null,
            "right": null,
            "top": null,
            "visibility": null,
            "width": null
          }
        },
        "b6ca0a4b17964afea228f0f89c23e75d": {
          "model_module": "@jupyter-widgets/controls",
          "model_name": "DescriptionStyleModel",
          "model_module_version": "1.5.0",
          "state": {
            "_model_module": "@jupyter-widgets/controls",
            "_model_module_version": "1.5.0",
            "_model_name": "DescriptionStyleModel",
            "_view_count": null,
            "_view_module": "@jupyter-widgets/base",
            "_view_module_version": "1.2.0",
            "_view_name": "StyleView",
            "description_width": ""
          }
        },
        "60ff97a4e78648349e674e64d70fa3ff": {
          "model_module": "@jupyter-widgets/base",
          "model_name": "LayoutModel",
          "model_module_version": "1.2.0",
          "state": {
            "_model_module": "@jupyter-widgets/base",
            "_model_module_version": "1.2.0",
            "_model_name": "LayoutModel",
            "_view_count": null,
            "_view_module": "@jupyter-widgets/base",
            "_view_module_version": "1.2.0",
            "_view_name": "LayoutView",
            "align_content": null,
            "align_items": null,
            "align_self": null,
            "border": null,
            "bottom": null,
            "display": null,
            "flex": null,
            "flex_flow": null,
            "grid_area": null,
            "grid_auto_columns": null,
            "grid_auto_flow": null,
            "grid_auto_rows": null,
            "grid_column": null,
            "grid_gap": null,
            "grid_row": null,
            "grid_template_areas": null,
            "grid_template_columns": null,
            "grid_template_rows": null,
            "height": null,
            "justify_content": null,
            "justify_items": null,
            "left": null,
            "margin": null,
            "max_height": null,
            "max_width": null,
            "min_height": null,
            "min_width": null,
            "object_fit": null,
            "object_position": null,
            "order": null,
            "overflow": null,
            "overflow_x": null,
            "overflow_y": null,
            "padding": null,
            "right": null,
            "top": null,
            "visibility": null,
            "width": null
          }
        },
        "47b32a0cf434463698812c7b6cf00853": {
          "model_module": "@jupyter-widgets/controls",
          "model_name": "ProgressStyleModel",
          "model_module_version": "1.5.0",
          "state": {
            "_model_module": "@jupyter-widgets/controls",
            "_model_module_version": "1.5.0",
            "_model_name": "ProgressStyleModel",
            "_view_count": null,
            "_view_module": "@jupyter-widgets/base",
            "_view_module_version": "1.2.0",
            "_view_name": "StyleView",
            "bar_color": null,
            "description_width": ""
          }
        },
        "541688e370bd4b838d1d31b560dc5aab": {
          "model_module": "@jupyter-widgets/base",
          "model_name": "LayoutModel",
          "model_module_version": "1.2.0",
          "state": {
            "_model_module": "@jupyter-widgets/base",
            "_model_module_version": "1.2.0",
            "_model_name": "LayoutModel",
            "_view_count": null,
            "_view_module": "@jupyter-widgets/base",
            "_view_module_version": "1.2.0",
            "_view_name": "LayoutView",
            "align_content": null,
            "align_items": null,
            "align_self": null,
            "border": null,
            "bottom": null,
            "display": null,
            "flex": null,
            "flex_flow": null,
            "grid_area": null,
            "grid_auto_columns": null,
            "grid_auto_flow": null,
            "grid_auto_rows": null,
            "grid_column": null,
            "grid_gap": null,
            "grid_row": null,
            "grid_template_areas": null,
            "grid_template_columns": null,
            "grid_template_rows": null,
            "height": null,
            "justify_content": null,
            "justify_items": null,
            "left": null,
            "margin": null,
            "max_height": null,
            "max_width": null,
            "min_height": null,
            "min_width": null,
            "object_fit": null,
            "object_position": null,
            "order": null,
            "overflow": null,
            "overflow_x": null,
            "overflow_y": null,
            "padding": null,
            "right": null,
            "top": null,
            "visibility": null,
            "width": null
          }
        },
        "c9709d6925ac43f095e89d132d57f579": {
          "model_module": "@jupyter-widgets/controls",
          "model_name": "DescriptionStyleModel",
          "model_module_version": "1.5.0",
          "state": {
            "_model_module": "@jupyter-widgets/controls",
            "_model_module_version": "1.5.0",
            "_model_name": "DescriptionStyleModel",
            "_view_count": null,
            "_view_module": "@jupyter-widgets/base",
            "_view_module_version": "1.2.0",
            "_view_name": "StyleView",
            "description_width": ""
          }
        },
        "05ebf9d9730441e2b0d458d79147369c": {
          "model_module": "@jupyter-widgets/controls",
          "model_name": "HBoxModel",
          "model_module_version": "1.5.0",
          "state": {
            "_dom_classes": [],
            "_model_module": "@jupyter-widgets/controls",
            "_model_module_version": "1.5.0",
            "_model_name": "HBoxModel",
            "_view_count": null,
            "_view_module": "@jupyter-widgets/controls",
            "_view_module_version": "1.5.0",
            "_view_name": "HBoxView",
            "box_style": "",
            "children": [
              "IPY_MODEL_39206408c0494bd092652db5f43710ca",
              "IPY_MODEL_74dc3c0b7acc47dc9e09fb1d07071757",
              "IPY_MODEL_95a06127ef50411db60b097e8b8e3944"
            ],
            "layout": "IPY_MODEL_296a33227b26401daac133749bdcdd32"
          }
        },
        "39206408c0494bd092652db5f43710ca": {
          "model_module": "@jupyter-widgets/controls",
          "model_name": "HTMLModel",
          "model_module_version": "1.5.0",
          "state": {
            "_dom_classes": [],
            "_model_module": "@jupyter-widgets/controls",
            "_model_module_version": "1.5.0",
            "_model_name": "HTMLModel",
            "_view_count": null,
            "_view_module": "@jupyter-widgets/controls",
            "_view_module_version": "1.5.0",
            "_view_name": "HTMLView",
            "description": "",
            "description_tooltip": null,
            "layout": "IPY_MODEL_7110da16980049188802bb4ee100c318",
            "placeholder": "​",
            "style": "IPY_MODEL_ff7bd3fcf9d44d65b13870604fe6e783",
            "value": "Generating test examples...:  96%"
          }
        },
        "74dc3c0b7acc47dc9e09fb1d07071757": {
          "model_module": "@jupyter-widgets/controls",
          "model_name": "FloatProgressModel",
          "model_module_version": "1.5.0",
          "state": {
            "_dom_classes": [],
            "_model_module": "@jupyter-widgets/controls",
            "_model_module_version": "1.5.0",
            "_model_name": "FloatProgressModel",
            "_view_count": null,
            "_view_module": "@jupyter-widgets/controls",
            "_view_module_version": "1.5.0",
            "_view_name": "ProgressView",
            "bar_style": "",
            "description": "",
            "description_tooltip": null,
            "layout": "IPY_MODEL_b213e7ff06d2453ebe121fe569ea0c8a",
            "max": 26032,
            "min": 0,
            "orientation": "horizontal",
            "style": "IPY_MODEL_be5b7fafe32148a7a03a4a176b128163",
            "value": 26032
          }
        },
        "95a06127ef50411db60b097e8b8e3944": {
          "model_module": "@jupyter-widgets/controls",
          "model_name": "HTMLModel",
          "model_module_version": "1.5.0",
          "state": {
            "_dom_classes": [],
            "_model_module": "@jupyter-widgets/controls",
            "_model_module_version": "1.5.0",
            "_model_name": "HTMLModel",
            "_view_count": null,
            "_view_module": "@jupyter-widgets/controls",
            "_view_module_version": "1.5.0",
            "_view_name": "HTMLView",
            "description": "",
            "description_tooltip": null,
            "layout": "IPY_MODEL_90f6a865db7545008d44eb387ff43fcd",
            "placeholder": "​",
            "style": "IPY_MODEL_e5f77d0949ff41699ae220111332044e",
            "value": " 24954/26032 [00:16&lt;00:00, 1573.34 examples/s]"
          }
        },
        "296a33227b26401daac133749bdcdd32": {
          "model_module": "@jupyter-widgets/base",
          "model_name": "LayoutModel",
          "model_module_version": "1.2.0",
          "state": {
            "_model_module": "@jupyter-widgets/base",
            "_model_module_version": "1.2.0",
            "_model_name": "LayoutModel",
            "_view_count": null,
            "_view_module": "@jupyter-widgets/base",
            "_view_module_version": "1.2.0",
            "_view_name": "LayoutView",
            "align_content": null,
            "align_items": null,
            "align_self": null,
            "border": null,
            "bottom": null,
            "display": null,
            "flex": null,
            "flex_flow": null,
            "grid_area": null,
            "grid_auto_columns": null,
            "grid_auto_flow": null,
            "grid_auto_rows": null,
            "grid_column": null,
            "grid_gap": null,
            "grid_row": null,
            "grid_template_areas": null,
            "grid_template_columns": null,
            "grid_template_rows": null,
            "height": null,
            "justify_content": null,
            "justify_items": null,
            "left": null,
            "margin": null,
            "max_height": null,
            "max_width": null,
            "min_height": null,
            "min_width": null,
            "object_fit": null,
            "object_position": null,
            "order": null,
            "overflow": null,
            "overflow_x": null,
            "overflow_y": null,
            "padding": null,
            "right": null,
            "top": null,
            "visibility": "hidden",
            "width": null
          }
        },
        "7110da16980049188802bb4ee100c318": {
          "model_module": "@jupyter-widgets/base",
          "model_name": "LayoutModel",
          "model_module_version": "1.2.0",
          "state": {
            "_model_module": "@jupyter-widgets/base",
            "_model_module_version": "1.2.0",
            "_model_name": "LayoutModel",
            "_view_count": null,
            "_view_module": "@jupyter-widgets/base",
            "_view_module_version": "1.2.0",
            "_view_name": "LayoutView",
            "align_content": null,
            "align_items": null,
            "align_self": null,
            "border": null,
            "bottom": null,
            "display": null,
            "flex": null,
            "flex_flow": null,
            "grid_area": null,
            "grid_auto_columns": null,
            "grid_auto_flow": null,
            "grid_auto_rows": null,
            "grid_column": null,
            "grid_gap": null,
            "grid_row": null,
            "grid_template_areas": null,
            "grid_template_columns": null,
            "grid_template_rows": null,
            "height": null,
            "justify_content": null,
            "justify_items": null,
            "left": null,
            "margin": null,
            "max_height": null,
            "max_width": null,
            "min_height": null,
            "min_width": null,
            "object_fit": null,
            "object_position": null,
            "order": null,
            "overflow": null,
            "overflow_x": null,
            "overflow_y": null,
            "padding": null,
            "right": null,
            "top": null,
            "visibility": null,
            "width": null
          }
        },
        "ff7bd3fcf9d44d65b13870604fe6e783": {
          "model_module": "@jupyter-widgets/controls",
          "model_name": "DescriptionStyleModel",
          "model_module_version": "1.5.0",
          "state": {
            "_model_module": "@jupyter-widgets/controls",
            "_model_module_version": "1.5.0",
            "_model_name": "DescriptionStyleModel",
            "_view_count": null,
            "_view_module": "@jupyter-widgets/base",
            "_view_module_version": "1.2.0",
            "_view_name": "StyleView",
            "description_width": ""
          }
        },
        "b213e7ff06d2453ebe121fe569ea0c8a": {
          "model_module": "@jupyter-widgets/base",
          "model_name": "LayoutModel",
          "model_module_version": "1.2.0",
          "state": {
            "_model_module": "@jupyter-widgets/base",
            "_model_module_version": "1.2.0",
            "_model_name": "LayoutModel",
            "_view_count": null,
            "_view_module": "@jupyter-widgets/base",
            "_view_module_version": "1.2.0",
            "_view_name": "LayoutView",
            "align_content": null,
            "align_items": null,
            "align_self": null,
            "border": null,
            "bottom": null,
            "display": null,
            "flex": null,
            "flex_flow": null,
            "grid_area": null,
            "grid_auto_columns": null,
            "grid_auto_flow": null,
            "grid_auto_rows": null,
            "grid_column": null,
            "grid_gap": null,
            "grid_row": null,
            "grid_template_areas": null,
            "grid_template_columns": null,
            "grid_template_rows": null,
            "height": null,
            "justify_content": null,
            "justify_items": null,
            "left": null,
            "margin": null,
            "max_height": null,
            "max_width": null,
            "min_height": null,
            "min_width": null,
            "object_fit": null,
            "object_position": null,
            "order": null,
            "overflow": null,
            "overflow_x": null,
            "overflow_y": null,
            "padding": null,
            "right": null,
            "top": null,
            "visibility": null,
            "width": null
          }
        },
        "be5b7fafe32148a7a03a4a176b128163": {
          "model_module": "@jupyter-widgets/controls",
          "model_name": "ProgressStyleModel",
          "model_module_version": "1.5.0",
          "state": {
            "_model_module": "@jupyter-widgets/controls",
            "_model_module_version": "1.5.0",
            "_model_name": "ProgressStyleModel",
            "_view_count": null,
            "_view_module": "@jupyter-widgets/base",
            "_view_module_version": "1.2.0",
            "_view_name": "StyleView",
            "bar_color": null,
            "description_width": ""
          }
        },
        "90f6a865db7545008d44eb387ff43fcd": {
          "model_module": "@jupyter-widgets/base",
          "model_name": "LayoutModel",
          "model_module_version": "1.2.0",
          "state": {
            "_model_module": "@jupyter-widgets/base",
            "_model_module_version": "1.2.0",
            "_model_name": "LayoutModel",
            "_view_count": null,
            "_view_module": "@jupyter-widgets/base",
            "_view_module_version": "1.2.0",
            "_view_name": "LayoutView",
            "align_content": null,
            "align_items": null,
            "align_self": null,
            "border": null,
            "bottom": null,
            "display": null,
            "flex": null,
            "flex_flow": null,
            "grid_area": null,
            "grid_auto_columns": null,
            "grid_auto_flow": null,
            "grid_auto_rows": null,
            "grid_column": null,
            "grid_gap": null,
            "grid_row": null,
            "grid_template_areas": null,
            "grid_template_columns": null,
            "grid_template_rows": null,
            "height": null,
            "justify_content": null,
            "justify_items": null,
            "left": null,
            "margin": null,
            "max_height": null,
            "max_width": null,
            "min_height": null,
            "min_width": null,
            "object_fit": null,
            "object_position": null,
            "order": null,
            "overflow": null,
            "overflow_x": null,
            "overflow_y": null,
            "padding": null,
            "right": null,
            "top": null,
            "visibility": null,
            "width": null
          }
        },
        "e5f77d0949ff41699ae220111332044e": {
          "model_module": "@jupyter-widgets/controls",
          "model_name": "DescriptionStyleModel",
          "model_module_version": "1.5.0",
          "state": {
            "_model_module": "@jupyter-widgets/controls",
            "_model_module_version": "1.5.0",
            "_model_name": "DescriptionStyleModel",
            "_view_count": null,
            "_view_module": "@jupyter-widgets/base",
            "_view_module_version": "1.2.0",
            "_view_name": "StyleView",
            "description_width": ""
          }
        },
        "fbc1fb2c49f44e079a9550ef86bb3a3b": {
          "model_module": "@jupyter-widgets/controls",
          "model_name": "HBoxModel",
          "model_module_version": "1.5.0",
          "state": {
            "_dom_classes": [],
            "_model_module": "@jupyter-widgets/controls",
            "_model_module_version": "1.5.0",
            "_model_name": "HBoxModel",
            "_view_count": null,
            "_view_module": "@jupyter-widgets/controls",
            "_view_module_version": "1.5.0",
            "_view_name": "HBoxView",
            "box_style": "",
            "children": [
              "IPY_MODEL_ee75b1b8bb2643c8b41d522a99a75e19",
              "IPY_MODEL_6e5cac8369a04690aedfd6ece6b1271d",
              "IPY_MODEL_c8f14d84788d40df98b1fac35d7b30ec"
            ],
            "layout": "IPY_MODEL_f4701c42c5874d218d7b0f47cb816d8c"
          }
        },
        "ee75b1b8bb2643c8b41d522a99a75e19": {
          "model_module": "@jupyter-widgets/controls",
          "model_name": "HTMLModel",
          "model_module_version": "1.5.0",
          "state": {
            "_dom_classes": [],
            "_model_module": "@jupyter-widgets/controls",
            "_model_module_version": "1.5.0",
            "_model_name": "HTMLModel",
            "_view_count": null,
            "_view_module": "@jupyter-widgets/controls",
            "_view_module_version": "1.5.0",
            "_view_name": "HTMLView",
            "description": "",
            "description_tooltip": null,
            "layout": "IPY_MODEL_40a6deb6b66b474e9c9218be69935213",
            "placeholder": "​",
            "style": "IPY_MODEL_425a3c99cbcd42a9b12015987d9c96a1",
            "value": "Shuffling /root/tensorflow_datasets/svhn_cropped/3.0.0.incompleteDXD3WF/svhn_cropped-test.tfrecord*...:  63%"
          }
        },
        "6e5cac8369a04690aedfd6ece6b1271d": {
          "model_module": "@jupyter-widgets/controls",
          "model_name": "FloatProgressModel",
          "model_module_version": "1.5.0",
          "state": {
            "_dom_classes": [],
            "_model_module": "@jupyter-widgets/controls",
            "_model_module_version": "1.5.0",
            "_model_name": "FloatProgressModel",
            "_view_count": null,
            "_view_module": "@jupyter-widgets/controls",
            "_view_module_version": "1.5.0",
            "_view_name": "ProgressView",
            "bar_style": "",
            "description": "",
            "description_tooltip": null,
            "layout": "IPY_MODEL_e190fbd484ac48f3ba60b72fc5829d35",
            "max": 26032,
            "min": 0,
            "orientation": "horizontal",
            "style": "IPY_MODEL_2c5fcce91be9496095758425b0d212cd",
            "value": 26032
          }
        },
        "c8f14d84788d40df98b1fac35d7b30ec": {
          "model_module": "@jupyter-widgets/controls",
          "model_name": "HTMLModel",
          "model_module_version": "1.5.0",
          "state": {
            "_dom_classes": [],
            "_model_module": "@jupyter-widgets/controls",
            "_model_module_version": "1.5.0",
            "_model_name": "HTMLModel",
            "_view_count": null,
            "_view_module": "@jupyter-widgets/controls",
            "_view_module_version": "1.5.0",
            "_view_name": "HTMLView",
            "description": "",
            "description_tooltip": null,
            "layout": "IPY_MODEL_11100d1bdd524d8faec7bbcaaab51175",
            "placeholder": "​",
            "style": "IPY_MODEL_7c1025a500d94a74ac80b4c69e1a9578",
            "value": " 16479/26032 [00:00&lt;00:00, 88876.05 examples/s]"
          }
        },
        "f4701c42c5874d218d7b0f47cb816d8c": {
          "model_module": "@jupyter-widgets/base",
          "model_name": "LayoutModel",
          "model_module_version": "1.2.0",
          "state": {
            "_model_module": "@jupyter-widgets/base",
            "_model_module_version": "1.2.0",
            "_model_name": "LayoutModel",
            "_view_count": null,
            "_view_module": "@jupyter-widgets/base",
            "_view_module_version": "1.2.0",
            "_view_name": "LayoutView",
            "align_content": null,
            "align_items": null,
            "align_self": null,
            "border": null,
            "bottom": null,
            "display": null,
            "flex": null,
            "flex_flow": null,
            "grid_area": null,
            "grid_auto_columns": null,
            "grid_auto_flow": null,
            "grid_auto_rows": null,
            "grid_column": null,
            "grid_gap": null,
            "grid_row": null,
            "grid_template_areas": null,
            "grid_template_columns": null,
            "grid_template_rows": null,
            "height": null,
            "justify_content": null,
            "justify_items": null,
            "left": null,
            "margin": null,
            "max_height": null,
            "max_width": null,
            "min_height": null,
            "min_width": null,
            "object_fit": null,
            "object_position": null,
            "order": null,
            "overflow": null,
            "overflow_x": null,
            "overflow_y": null,
            "padding": null,
            "right": null,
            "top": null,
            "visibility": "hidden",
            "width": null
          }
        },
        "40a6deb6b66b474e9c9218be69935213": {
          "model_module": "@jupyter-widgets/base",
          "model_name": "LayoutModel",
          "model_module_version": "1.2.0",
          "state": {
            "_model_module": "@jupyter-widgets/base",
            "_model_module_version": "1.2.0",
            "_model_name": "LayoutModel",
            "_view_count": null,
            "_view_module": "@jupyter-widgets/base",
            "_view_module_version": "1.2.0",
            "_view_name": "LayoutView",
            "align_content": null,
            "align_items": null,
            "align_self": null,
            "border": null,
            "bottom": null,
            "display": null,
            "flex": null,
            "flex_flow": null,
            "grid_area": null,
            "grid_auto_columns": null,
            "grid_auto_flow": null,
            "grid_auto_rows": null,
            "grid_column": null,
            "grid_gap": null,
            "grid_row": null,
            "grid_template_areas": null,
            "grid_template_columns": null,
            "grid_template_rows": null,
            "height": null,
            "justify_content": null,
            "justify_items": null,
            "left": null,
            "margin": null,
            "max_height": null,
            "max_width": null,
            "min_height": null,
            "min_width": null,
            "object_fit": null,
            "object_position": null,
            "order": null,
            "overflow": null,
            "overflow_x": null,
            "overflow_y": null,
            "padding": null,
            "right": null,
            "top": null,
            "visibility": null,
            "width": null
          }
        },
        "425a3c99cbcd42a9b12015987d9c96a1": {
          "model_module": "@jupyter-widgets/controls",
          "model_name": "DescriptionStyleModel",
          "model_module_version": "1.5.0",
          "state": {
            "_model_module": "@jupyter-widgets/controls",
            "_model_module_version": "1.5.0",
            "_model_name": "DescriptionStyleModel",
            "_view_count": null,
            "_view_module": "@jupyter-widgets/base",
            "_view_module_version": "1.2.0",
            "_view_name": "StyleView",
            "description_width": ""
          }
        },
        "e190fbd484ac48f3ba60b72fc5829d35": {
          "model_module": "@jupyter-widgets/base",
          "model_name": "LayoutModel",
          "model_module_version": "1.2.0",
          "state": {
            "_model_module": "@jupyter-widgets/base",
            "_model_module_version": "1.2.0",
            "_model_name": "LayoutModel",
            "_view_count": null,
            "_view_module": "@jupyter-widgets/base",
            "_view_module_version": "1.2.0",
            "_view_name": "LayoutView",
            "align_content": null,
            "align_items": null,
            "align_self": null,
            "border": null,
            "bottom": null,
            "display": null,
            "flex": null,
            "flex_flow": null,
            "grid_area": null,
            "grid_auto_columns": null,
            "grid_auto_flow": null,
            "grid_auto_rows": null,
            "grid_column": null,
            "grid_gap": null,
            "grid_row": null,
            "grid_template_areas": null,
            "grid_template_columns": null,
            "grid_template_rows": null,
            "height": null,
            "justify_content": null,
            "justify_items": null,
            "left": null,
            "margin": null,
            "max_height": null,
            "max_width": null,
            "min_height": null,
            "min_width": null,
            "object_fit": null,
            "object_position": null,
            "order": null,
            "overflow": null,
            "overflow_x": null,
            "overflow_y": null,
            "padding": null,
            "right": null,
            "top": null,
            "visibility": null,
            "width": null
          }
        },
        "2c5fcce91be9496095758425b0d212cd": {
          "model_module": "@jupyter-widgets/controls",
          "model_name": "ProgressStyleModel",
          "model_module_version": "1.5.0",
          "state": {
            "_model_module": "@jupyter-widgets/controls",
            "_model_module_version": "1.5.0",
            "_model_name": "ProgressStyleModel",
            "_view_count": null,
            "_view_module": "@jupyter-widgets/base",
            "_view_module_version": "1.2.0",
            "_view_name": "StyleView",
            "bar_color": null,
            "description_width": ""
          }
        },
        "11100d1bdd524d8faec7bbcaaab51175": {
          "model_module": "@jupyter-widgets/base",
          "model_name": "LayoutModel",
          "model_module_version": "1.2.0",
          "state": {
            "_model_module": "@jupyter-widgets/base",
            "_model_module_version": "1.2.0",
            "_model_name": "LayoutModel",
            "_view_count": null,
            "_view_module": "@jupyter-widgets/base",
            "_view_module_version": "1.2.0",
            "_view_name": "LayoutView",
            "align_content": null,
            "align_items": null,
            "align_self": null,
            "border": null,
            "bottom": null,
            "display": null,
            "flex": null,
            "flex_flow": null,
            "grid_area": null,
            "grid_auto_columns": null,
            "grid_auto_flow": null,
            "grid_auto_rows": null,
            "grid_column": null,
            "grid_gap": null,
            "grid_row": null,
            "grid_template_areas": null,
            "grid_template_columns": null,
            "grid_template_rows": null,
            "height": null,
            "justify_content": null,
            "justify_items": null,
            "left": null,
            "margin": null,
            "max_height": null,
            "max_width": null,
            "min_height": null,
            "min_width": null,
            "object_fit": null,
            "object_position": null,
            "order": null,
            "overflow": null,
            "overflow_x": null,
            "overflow_y": null,
            "padding": null,
            "right": null,
            "top": null,
            "visibility": null,
            "width": null
          }
        },
        "7c1025a500d94a74ac80b4c69e1a9578": {
          "model_module": "@jupyter-widgets/controls",
          "model_name": "DescriptionStyleModel",
          "model_module_version": "1.5.0",
          "state": {
            "_model_module": "@jupyter-widgets/controls",
            "_model_module_version": "1.5.0",
            "_model_name": "DescriptionStyleModel",
            "_view_count": null,
            "_view_module": "@jupyter-widgets/base",
            "_view_module_version": "1.2.0",
            "_view_name": "StyleView",
            "description_width": ""
          }
        },
        "367a14c551734a8994e4be2e5a556a1f": {
          "model_module": "@jupyter-widgets/controls",
          "model_name": "HBoxModel",
          "model_module_version": "1.5.0",
          "state": {
            "_dom_classes": [],
            "_model_module": "@jupyter-widgets/controls",
            "_model_module_version": "1.5.0",
            "_model_name": "HBoxModel",
            "_view_count": null,
            "_view_module": "@jupyter-widgets/controls",
            "_view_module_version": "1.5.0",
            "_view_name": "HBoxView",
            "box_style": "",
            "children": [
              "IPY_MODEL_b2d574e21e5347f28f89b3b0ecfe7e2b",
              "IPY_MODEL_928c5d9940dd438e86f86c0a29788d37",
              "IPY_MODEL_381344c735d84c1d93190138bd0bbdc2"
            ],
            "layout": "IPY_MODEL_9e87a68e8128489e85ce543ddaf28a86"
          }
        },
        "b2d574e21e5347f28f89b3b0ecfe7e2b": {
          "model_module": "@jupyter-widgets/controls",
          "model_name": "HTMLModel",
          "model_module_version": "1.5.0",
          "state": {
            "_dom_classes": [],
            "_model_module": "@jupyter-widgets/controls",
            "_model_module_version": "1.5.0",
            "_model_name": "HTMLModel",
            "_view_count": null,
            "_view_module": "@jupyter-widgets/controls",
            "_view_module_version": "1.5.0",
            "_view_name": "HTMLView",
            "description": "",
            "description_tooltip": null,
            "layout": "IPY_MODEL_b3f2bcdd4d2147cf97712194418e4a2e",
            "placeholder": "​",
            "style": "IPY_MODEL_2c6bff7af3094cb2936b9b4a742d3c84",
            "value": "Generating extra examples...: 100%"
          }
        },
        "928c5d9940dd438e86f86c0a29788d37": {
          "model_module": "@jupyter-widgets/controls",
          "model_name": "FloatProgressModel",
          "model_module_version": "1.5.0",
          "state": {
            "_dom_classes": [],
            "_model_module": "@jupyter-widgets/controls",
            "_model_module_version": "1.5.0",
            "_model_name": "FloatProgressModel",
            "_view_count": null,
            "_view_module": "@jupyter-widgets/controls",
            "_view_module_version": "1.5.0",
            "_view_name": "ProgressView",
            "bar_style": "",
            "description": "",
            "description_tooltip": null,
            "layout": "IPY_MODEL_0c8f73a7e2894a138ee73d76dc30cca4",
            "max": 531131,
            "min": 0,
            "orientation": "horizontal",
            "style": "IPY_MODEL_450e5b3363f64c48b2fe9e2c372dd6b4",
            "value": 531131
          }
        },
        "381344c735d84c1d93190138bd0bbdc2": {
          "model_module": "@jupyter-widgets/controls",
          "model_name": "HTMLModel",
          "model_module_version": "1.5.0",
          "state": {
            "_dom_classes": [],
            "_model_module": "@jupyter-widgets/controls",
            "_model_module_version": "1.5.0",
            "_model_name": "HTMLModel",
            "_view_count": null,
            "_view_module": "@jupyter-widgets/controls",
            "_view_module_version": "1.5.0",
            "_view_name": "HTMLView",
            "description": "",
            "description_tooltip": null,
            "layout": "IPY_MODEL_80fedfb7e9644180ad17bc82d84c57c8",
            "placeholder": "​",
            "style": "IPY_MODEL_4cbeeaeeb03448a98778faa0a1816ce1",
            "value": " 530248/531131 [05:45&lt;00:00, 1614.13 examples/s]"
          }
        },
        "9e87a68e8128489e85ce543ddaf28a86": {
          "model_module": "@jupyter-widgets/base",
          "model_name": "LayoutModel",
          "model_module_version": "1.2.0",
          "state": {
            "_model_module": "@jupyter-widgets/base",
            "_model_module_version": "1.2.0",
            "_model_name": "LayoutModel",
            "_view_count": null,
            "_view_module": "@jupyter-widgets/base",
            "_view_module_version": "1.2.0",
            "_view_name": "LayoutView",
            "align_content": null,
            "align_items": null,
            "align_self": null,
            "border": null,
            "bottom": null,
            "display": null,
            "flex": null,
            "flex_flow": null,
            "grid_area": null,
            "grid_auto_columns": null,
            "grid_auto_flow": null,
            "grid_auto_rows": null,
            "grid_column": null,
            "grid_gap": null,
            "grid_row": null,
            "grid_template_areas": null,
            "grid_template_columns": null,
            "grid_template_rows": null,
            "height": null,
            "justify_content": null,
            "justify_items": null,
            "left": null,
            "margin": null,
            "max_height": null,
            "max_width": null,
            "min_height": null,
            "min_width": null,
            "object_fit": null,
            "object_position": null,
            "order": null,
            "overflow": null,
            "overflow_x": null,
            "overflow_y": null,
            "padding": null,
            "right": null,
            "top": null,
            "visibility": "hidden",
            "width": null
          }
        },
        "b3f2bcdd4d2147cf97712194418e4a2e": {
          "model_module": "@jupyter-widgets/base",
          "model_name": "LayoutModel",
          "model_module_version": "1.2.0",
          "state": {
            "_model_module": "@jupyter-widgets/base",
            "_model_module_version": "1.2.0",
            "_model_name": "LayoutModel",
            "_view_count": null,
            "_view_module": "@jupyter-widgets/base",
            "_view_module_version": "1.2.0",
            "_view_name": "LayoutView",
            "align_content": null,
            "align_items": null,
            "align_self": null,
            "border": null,
            "bottom": null,
            "display": null,
            "flex": null,
            "flex_flow": null,
            "grid_area": null,
            "grid_auto_columns": null,
            "grid_auto_flow": null,
            "grid_auto_rows": null,
            "grid_column": null,
            "grid_gap": null,
            "grid_row": null,
            "grid_template_areas": null,
            "grid_template_columns": null,
            "grid_template_rows": null,
            "height": null,
            "justify_content": null,
            "justify_items": null,
            "left": null,
            "margin": null,
            "max_height": null,
            "max_width": null,
            "min_height": null,
            "min_width": null,
            "object_fit": null,
            "object_position": null,
            "order": null,
            "overflow": null,
            "overflow_x": null,
            "overflow_y": null,
            "padding": null,
            "right": null,
            "top": null,
            "visibility": null,
            "width": null
          }
        },
        "2c6bff7af3094cb2936b9b4a742d3c84": {
          "model_module": "@jupyter-widgets/controls",
          "model_name": "DescriptionStyleModel",
          "model_module_version": "1.5.0",
          "state": {
            "_model_module": "@jupyter-widgets/controls",
            "_model_module_version": "1.5.0",
            "_model_name": "DescriptionStyleModel",
            "_view_count": null,
            "_view_module": "@jupyter-widgets/base",
            "_view_module_version": "1.2.0",
            "_view_name": "StyleView",
            "description_width": ""
          }
        },
        "0c8f73a7e2894a138ee73d76dc30cca4": {
          "model_module": "@jupyter-widgets/base",
          "model_name": "LayoutModel",
          "model_module_version": "1.2.0",
          "state": {
            "_model_module": "@jupyter-widgets/base",
            "_model_module_version": "1.2.0",
            "_model_name": "LayoutModel",
            "_view_count": null,
            "_view_module": "@jupyter-widgets/base",
            "_view_module_version": "1.2.0",
            "_view_name": "LayoutView",
            "align_content": null,
            "align_items": null,
            "align_self": null,
            "border": null,
            "bottom": null,
            "display": null,
            "flex": null,
            "flex_flow": null,
            "grid_area": null,
            "grid_auto_columns": null,
            "grid_auto_flow": null,
            "grid_auto_rows": null,
            "grid_column": null,
            "grid_gap": null,
            "grid_row": null,
            "grid_template_areas": null,
            "grid_template_columns": null,
            "grid_template_rows": null,
            "height": null,
            "justify_content": null,
            "justify_items": null,
            "left": null,
            "margin": null,
            "max_height": null,
            "max_width": null,
            "min_height": null,
            "min_width": null,
            "object_fit": null,
            "object_position": null,
            "order": null,
            "overflow": null,
            "overflow_x": null,
            "overflow_y": null,
            "padding": null,
            "right": null,
            "top": null,
            "visibility": null,
            "width": null
          }
        },
        "450e5b3363f64c48b2fe9e2c372dd6b4": {
          "model_module": "@jupyter-widgets/controls",
          "model_name": "ProgressStyleModel",
          "model_module_version": "1.5.0",
          "state": {
            "_model_module": "@jupyter-widgets/controls",
            "_model_module_version": "1.5.0",
            "_model_name": "ProgressStyleModel",
            "_view_count": null,
            "_view_module": "@jupyter-widgets/base",
            "_view_module_version": "1.2.0",
            "_view_name": "StyleView",
            "bar_color": null,
            "description_width": ""
          }
        },
        "80fedfb7e9644180ad17bc82d84c57c8": {
          "model_module": "@jupyter-widgets/base",
          "model_name": "LayoutModel",
          "model_module_version": "1.2.0",
          "state": {
            "_model_module": "@jupyter-widgets/base",
            "_model_module_version": "1.2.0",
            "_model_name": "LayoutModel",
            "_view_count": null,
            "_view_module": "@jupyter-widgets/base",
            "_view_module_version": "1.2.0",
            "_view_name": "LayoutView",
            "align_content": null,
            "align_items": null,
            "align_self": null,
            "border": null,
            "bottom": null,
            "display": null,
            "flex": null,
            "flex_flow": null,
            "grid_area": null,
            "grid_auto_columns": null,
            "grid_auto_flow": null,
            "grid_auto_rows": null,
            "grid_column": null,
            "grid_gap": null,
            "grid_row": null,
            "grid_template_areas": null,
            "grid_template_columns": null,
            "grid_template_rows": null,
            "height": null,
            "justify_content": null,
            "justify_items": null,
            "left": null,
            "margin": null,
            "max_height": null,
            "max_width": null,
            "min_height": null,
            "min_width": null,
            "object_fit": null,
            "object_position": null,
            "order": null,
            "overflow": null,
            "overflow_x": null,
            "overflow_y": null,
            "padding": null,
            "right": null,
            "top": null,
            "visibility": null,
            "width": null
          }
        },
        "4cbeeaeeb03448a98778faa0a1816ce1": {
          "model_module": "@jupyter-widgets/controls",
          "model_name": "DescriptionStyleModel",
          "model_module_version": "1.5.0",
          "state": {
            "_model_module": "@jupyter-widgets/controls",
            "_model_module_version": "1.5.0",
            "_model_name": "DescriptionStyleModel",
            "_view_count": null,
            "_view_module": "@jupyter-widgets/base",
            "_view_module_version": "1.2.0",
            "_view_name": "StyleView",
            "description_width": ""
          }
        },
        "9f876f7ecec14f7a8614342b9bc21ec2": {
          "model_module": "@jupyter-widgets/controls",
          "model_name": "HBoxModel",
          "model_module_version": "1.5.0",
          "state": {
            "_dom_classes": [],
            "_model_module": "@jupyter-widgets/controls",
            "_model_module_version": "1.5.0",
            "_model_name": "HBoxModel",
            "_view_count": null,
            "_view_module": "@jupyter-widgets/controls",
            "_view_module_version": "1.5.0",
            "_view_name": "HBoxView",
            "box_style": "",
            "children": [
              "IPY_MODEL_d45fdfc50d81448098d38ec6a691168c",
              "IPY_MODEL_649f0e6e2c504ea7aedb845b5ac6227c",
              "IPY_MODEL_863cdab9553e4a10b18b431527dc2f18"
            ],
            "layout": "IPY_MODEL_a2ef8e337dee4f729d746111f0d634dc"
          }
        },
        "d45fdfc50d81448098d38ec6a691168c": {
          "model_module": "@jupyter-widgets/controls",
          "model_name": "HTMLModel",
          "model_module_version": "1.5.0",
          "state": {
            "_dom_classes": [],
            "_model_module": "@jupyter-widgets/controls",
            "_model_module_version": "1.5.0",
            "_model_name": "HTMLModel",
            "_view_count": null,
            "_view_module": "@jupyter-widgets/controls",
            "_view_module_version": "1.5.0",
            "_view_name": "HTMLView",
            "description": "",
            "description_tooltip": null,
            "layout": "IPY_MODEL_ac6641b7800c43f7a619678aa5e95dab",
            "placeholder": "​",
            "style": "IPY_MODEL_6ab1ee207a29488cb48b5dafb05859eb",
            "value": "Shuffling /root/tensorflow_datasets/svhn_cropped/3.0.0.incompleteDXD3WF/svhn_cropped-extra.tfrecord*...:  99%"
          }
        },
        "649f0e6e2c504ea7aedb845b5ac6227c": {
          "model_module": "@jupyter-widgets/controls",
          "model_name": "FloatProgressModel",
          "model_module_version": "1.5.0",
          "state": {
            "_dom_classes": [],
            "_model_module": "@jupyter-widgets/controls",
            "_model_module_version": "1.5.0",
            "_model_name": "FloatProgressModel",
            "_view_count": null,
            "_view_module": "@jupyter-widgets/controls",
            "_view_module_version": "1.5.0",
            "_view_name": "ProgressView",
            "bar_style": "",
            "description": "",
            "description_tooltip": null,
            "layout": "IPY_MODEL_2f24a617c33c4dd1bfce9344e284e735",
            "max": 531131,
            "min": 0,
            "orientation": "horizontal",
            "style": "IPY_MODEL_77650431a8454eb3a18adcbdcac040c5",
            "value": 531131
          }
        },
        "863cdab9553e4a10b18b431527dc2f18": {
          "model_module": "@jupyter-widgets/controls",
          "model_name": "HTMLModel",
          "model_module_version": "1.5.0",
          "state": {
            "_dom_classes": [],
            "_model_module": "@jupyter-widgets/controls",
            "_model_module_version": "1.5.0",
            "_model_name": "HTMLModel",
            "_view_count": null,
            "_view_module": "@jupyter-widgets/controls",
            "_view_module_version": "1.5.0",
            "_view_name": "HTMLView",
            "description": "",
            "description_tooltip": null,
            "layout": "IPY_MODEL_cda19d99cafd46cb8e11f07f65ba8651",
            "placeholder": "​",
            "style": "IPY_MODEL_cd269a0d39814681beaa9497bd39fe71",
            "value": " 524442/531131 [00:11&lt;00:00, 107466.89 examples/s]"
          }
        },
        "a2ef8e337dee4f729d746111f0d634dc": {
          "model_module": "@jupyter-widgets/base",
          "model_name": "LayoutModel",
          "model_module_version": "1.2.0",
          "state": {
            "_model_module": "@jupyter-widgets/base",
            "_model_module_version": "1.2.0",
            "_model_name": "LayoutModel",
            "_view_count": null,
            "_view_module": "@jupyter-widgets/base",
            "_view_module_version": "1.2.0",
            "_view_name": "LayoutView",
            "align_content": null,
            "align_items": null,
            "align_self": null,
            "border": null,
            "bottom": null,
            "display": null,
            "flex": null,
            "flex_flow": null,
            "grid_area": null,
            "grid_auto_columns": null,
            "grid_auto_flow": null,
            "grid_auto_rows": null,
            "grid_column": null,
            "grid_gap": null,
            "grid_row": null,
            "grid_template_areas": null,
            "grid_template_columns": null,
            "grid_template_rows": null,
            "height": null,
            "justify_content": null,
            "justify_items": null,
            "left": null,
            "margin": null,
            "max_height": null,
            "max_width": null,
            "min_height": null,
            "min_width": null,
            "object_fit": null,
            "object_position": null,
            "order": null,
            "overflow": null,
            "overflow_x": null,
            "overflow_y": null,
            "padding": null,
            "right": null,
            "top": null,
            "visibility": "hidden",
            "width": null
          }
        },
        "ac6641b7800c43f7a619678aa5e95dab": {
          "model_module": "@jupyter-widgets/base",
          "model_name": "LayoutModel",
          "model_module_version": "1.2.0",
          "state": {
            "_model_module": "@jupyter-widgets/base",
            "_model_module_version": "1.2.0",
            "_model_name": "LayoutModel",
            "_view_count": null,
            "_view_module": "@jupyter-widgets/base",
            "_view_module_version": "1.2.0",
            "_view_name": "LayoutView",
            "align_content": null,
            "align_items": null,
            "align_self": null,
            "border": null,
            "bottom": null,
            "display": null,
            "flex": null,
            "flex_flow": null,
            "grid_area": null,
            "grid_auto_columns": null,
            "grid_auto_flow": null,
            "grid_auto_rows": null,
            "grid_column": null,
            "grid_gap": null,
            "grid_row": null,
            "grid_template_areas": null,
            "grid_template_columns": null,
            "grid_template_rows": null,
            "height": null,
            "justify_content": null,
            "justify_items": null,
            "left": null,
            "margin": null,
            "max_height": null,
            "max_width": null,
            "min_height": null,
            "min_width": null,
            "object_fit": null,
            "object_position": null,
            "order": null,
            "overflow": null,
            "overflow_x": null,
            "overflow_y": null,
            "padding": null,
            "right": null,
            "top": null,
            "visibility": null,
            "width": null
          }
        },
        "6ab1ee207a29488cb48b5dafb05859eb": {
          "model_module": "@jupyter-widgets/controls",
          "model_name": "DescriptionStyleModel",
          "model_module_version": "1.5.0",
          "state": {
            "_model_module": "@jupyter-widgets/controls",
            "_model_module_version": "1.5.0",
            "_model_name": "DescriptionStyleModel",
            "_view_count": null,
            "_view_module": "@jupyter-widgets/base",
            "_view_module_version": "1.2.0",
            "_view_name": "StyleView",
            "description_width": ""
          }
        },
        "2f24a617c33c4dd1bfce9344e284e735": {
          "model_module": "@jupyter-widgets/base",
          "model_name": "LayoutModel",
          "model_module_version": "1.2.0",
          "state": {
            "_model_module": "@jupyter-widgets/base",
            "_model_module_version": "1.2.0",
            "_model_name": "LayoutModel",
            "_view_count": null,
            "_view_module": "@jupyter-widgets/base",
            "_view_module_version": "1.2.0",
            "_view_name": "LayoutView",
            "align_content": null,
            "align_items": null,
            "align_self": null,
            "border": null,
            "bottom": null,
            "display": null,
            "flex": null,
            "flex_flow": null,
            "grid_area": null,
            "grid_auto_columns": null,
            "grid_auto_flow": null,
            "grid_auto_rows": null,
            "grid_column": null,
            "grid_gap": null,
            "grid_row": null,
            "grid_template_areas": null,
            "grid_template_columns": null,
            "grid_template_rows": null,
            "height": null,
            "justify_content": null,
            "justify_items": null,
            "left": null,
            "margin": null,
            "max_height": null,
            "max_width": null,
            "min_height": null,
            "min_width": null,
            "object_fit": null,
            "object_position": null,
            "order": null,
            "overflow": null,
            "overflow_x": null,
            "overflow_y": null,
            "padding": null,
            "right": null,
            "top": null,
            "visibility": null,
            "width": null
          }
        },
        "77650431a8454eb3a18adcbdcac040c5": {
          "model_module": "@jupyter-widgets/controls",
          "model_name": "ProgressStyleModel",
          "model_module_version": "1.5.0",
          "state": {
            "_model_module": "@jupyter-widgets/controls",
            "_model_module_version": "1.5.0",
            "_model_name": "ProgressStyleModel",
            "_view_count": null,
            "_view_module": "@jupyter-widgets/base",
            "_view_module_version": "1.2.0",
            "_view_name": "StyleView",
            "bar_color": null,
            "description_width": ""
          }
        },
        "cda19d99cafd46cb8e11f07f65ba8651": {
          "model_module": "@jupyter-widgets/base",
          "model_name": "LayoutModel",
          "model_module_version": "1.2.0",
          "state": {
            "_model_module": "@jupyter-widgets/base",
            "_model_module_version": "1.2.0",
            "_model_name": "LayoutModel",
            "_view_count": null,
            "_view_module": "@jupyter-widgets/base",
            "_view_module_version": "1.2.0",
            "_view_name": "LayoutView",
            "align_content": null,
            "align_items": null,
            "align_self": null,
            "border": null,
            "bottom": null,
            "display": null,
            "flex": null,
            "flex_flow": null,
            "grid_area": null,
            "grid_auto_columns": null,
            "grid_auto_flow": null,
            "grid_auto_rows": null,
            "grid_column": null,
            "grid_gap": null,
            "grid_row": null,
            "grid_template_areas": null,
            "grid_template_columns": null,
            "grid_template_rows": null,
            "height": null,
            "justify_content": null,
            "justify_items": null,
            "left": null,
            "margin": null,
            "max_height": null,
            "max_width": null,
            "min_height": null,
            "min_width": null,
            "object_fit": null,
            "object_position": null,
            "order": null,
            "overflow": null,
            "overflow_x": null,
            "overflow_y": null,
            "padding": null,
            "right": null,
            "top": null,
            "visibility": null,
            "width": null
          }
        },
        "cd269a0d39814681beaa9497bd39fe71": {
          "model_module": "@jupyter-widgets/controls",
          "model_name": "DescriptionStyleModel",
          "model_module_version": "1.5.0",
          "state": {
            "_model_module": "@jupyter-widgets/controls",
            "_model_module_version": "1.5.0",
            "_model_name": "DescriptionStyleModel",
            "_view_count": null,
            "_view_module": "@jupyter-widgets/base",
            "_view_module_version": "1.2.0",
            "_view_name": "StyleView",
            "description_width": ""
          }
        }
      }
    },
    "kaggle": {
      "accelerator": "none",
      "dataSources": [],
      "dockerImageVersionId": 30684,
      "isInternetEnabled": false,
      "language": "python",
      "sourceType": "notebook",
      "isGpuEnabled": false
    }
  },
  "nbformat_minor": 0,
  "nbformat": 4,
  "cells": [
    {
      "cell_type": "markdown",
      "metadata": {
        "id": "view-in-github",
        "colab_type": "text"
      },
      "source": [
        "<a href=\"https://colab.research.google.com/github/bonaerges/pia/blob/main/TareaDeepLearningKeras.ipynb\" target=\"_parent\"><img src=\"https://colab.research.google.com/assets/colab-badge.svg\" alt=\"Open In Colab\"/></a>"
      ]
    },
    {
      "cell_type": "code",
      "source": [
        "import sys\n",
        "\n",
        "assert sys.version_info >= (3, 7)"
      ],
      "metadata": {
        "id": "moEzmf2LRtWe",
        "execution": {
          "iopub.status.busy": "2024-04-17T09:37:20.597053Z",
          "iopub.execute_input": "2024-04-17T09:37:20.597466Z",
          "iopub.status.idle": "2024-04-17T09:37:20.637136Z",
          "shell.execute_reply.started": "2024-04-17T09:37:20.597427Z",
          "shell.execute_reply": "2024-04-17T09:37:20.635975Z"
        },
        "trusted": true
      },
      "execution_count": 1,
      "outputs": []
    },
    {
      "cell_type": "code",
      "source": [
        "from packaging import version\n",
        "import tensorflow as tf\n",
        "import tensorflow_datasets as tfds"
      ],
      "metadata": {
        "id": "nlPTmHeqRvKr",
        "execution": {
          "iopub.status.busy": "2024-04-17T09:37:20.639433Z",
          "iopub.execute_input": "2024-04-17T09:37:20.639755Z",
          "iopub.status.idle": "2024-04-17T09:37:38.004193Z",
          "shell.execute_reply.started": "2024-04-17T09:37:20.639727Z",
          "shell.execute_reply": "2024-04-17T09:37:38.003036Z"
        },
        "trusted": true
      },
      "execution_count": 2,
      "outputs": []
    },
    {
      "cell_type": "code",
      "source": [
        "from tensorflow.keras.models import Sequential\n",
        "from tensorflow.keras.layers import Dense, Flatten\n",
        "from tensorflow.keras.initializers import GlorotUniform\n",
        "from tensorflow.keras.activations import elu\n",
        "from tensorflow.keras.optimizers import Adam\n",
        "from tensorflow.keras.callbacks import EarlyStopping\n",
        "from tensorflow.keras.layers import BatchNormalization, Activation\n",
        "from tensorflow.keras.initializers import HeNormal\n",
        "assert version.parse(tf.__version__) >= version.parse(\"2.8.0\")"
      ],
      "metadata": {
        "id": "mqAMAJHcmjNp",
        "execution": {
          "iopub.status.busy": "2024-04-17T09:37:38.00559Z",
          "iopub.execute_input": "2024-04-17T09:37:38.006164Z",
          "iopub.status.idle": "2024-04-17T09:37:38.027482Z",
          "shell.execute_reply.started": "2024-04-17T09:37:38.006133Z",
          "shell.execute_reply": "2024-04-17T09:37:38.026409Z"
        },
        "trusted": true
      },
      "execution_count": 3,
      "outputs": []
    },
    {
      "cell_type": "markdown",
      "source": [
        "# Parte A: Construcción y Entrenamiento Inicial\n",
        "\n",
        "\n",
        "## Construcción de la Red Neuronal:\n",
        "\n",
        "  ## 20 capas ocultas, cada una con 100 neuronas.\n",
        "\n",
        "*   20 capas ocultas, cada una con 100 neuronas\n",
        "\n",
        "*   Inicialización de Xavier/Glorot.\n",
        "\n",
        "*   Función de activación ELU.\n",
        "*   Entrenamiento de la Red:\n",
        "**   Uso del optimizador Adam.\n",
        "**   Implementación de la detención temprana.\n",
        "\n",
        "# Parte B: Integración de Mejoras y Comparación\n",
        "\n",
        "*   Normalización por Lotes\n",
        " Implementación y comparación de la velocidad de convergencia y el impacto en\n",
        "el tiempo de entrenamiento.\n",
        "\n",
        "\n",
        "## Implementación y comparación de la velocidad de convergencia y el impacto en el tiempo de entrenamiento.\n",
        "##Sustitución de Normalización por Lotes con ReLU:\n",
        "\n",
        "## Uso de la inicialización He.\n",
        "## Comparación de rendimiento entre configuraciones.\n",
        "\n",
        "# Parte C: Avanzando en Regularización y Optimización\n",
        "## Dropout y MC Dropout:\n",
        "## Implementación de dropout.\n",
        "## Evaluación con MC dropout sin reentrenamiento.\n",
        "## Análisis de los efectos."
      ],
      "metadata": {
        "id": "Bvt2zO7kZrdy"
      }
    },
    {
      "cell_type": "markdown",
      "source": [
        "###Parte A: Construcción y Entrenamiento Inicial\n",
        "### Cargar y prepara el dataset SVHN (Parte A, paso 1)"
      ],
      "metadata": {
        "id": "-fpijTO3SKVd"
      }
    },
    {
      "cell_type": "code",
      "source": [
        "def load_data():\n",
        "    (train_data, test_data), ds_info = tfds.load(\n",
        "        'svhn_cropped',\n",
        "        split=['train', 'test'],\n",
        "        as_supervised=True,\n",
        "        with_info=True,\n",
        "        batch_size=-1\n",
        "    )\n",
        "    return train_data, test_data, ds_info"
      ],
      "metadata": {
        "id": "MlemtOhTRvQg",
        "execution": {
          "iopub.status.busy": "2024-04-17T09:37:38.029101Z",
          "iopub.execute_input": "2024-04-17T09:37:38.029487Z",
          "iopub.status.idle": "2024-04-17T09:37:38.035336Z",
          "shell.execute_reply.started": "2024-04-17T09:37:38.029459Z",
          "shell.execute_reply": "2024-04-17T09:37:38.034401Z"
        },
        "trusted": true
      },
      "execution_count": 4,
      "outputs": []
    },
    {
      "cell_type": "markdown",
      "source": [
        "## Cargar y preparar datos"
      ],
      "metadata": {
        "id": "m1SDBDjhSakF"
      }
    },
    {
      "cell_type": "code",
      "source": [
        "train_data, test_data, ds_info = load_data()"
      ],
      "metadata": {
        "colab": {
          "base_uri": "https://localhost:8080/",
          "height": 116,
          "referenced_widgets": [
            "9850476777984d7995469c2e81849262",
            "9ee446e6ffc1413d8f38c3c47e3f4481",
            "4ff2df78fb724efb96d1d76859ec45ca",
            "654e376455c2471186d963968c9ba4f7",
            "9e0b188ba1034c538dbd4c1c86c26d34",
            "fc9a87bde8264b8086b7b7c858670b65",
            "02d31a8f6e374a76ac1896b4a9085969",
            "c359e3798e4f461f8bd0697bd5983be6",
            "e889726d8a2f484199a2079e7f301119",
            "bfe8ea9a2afa4fe8891c168e8cce55be",
            "797a0dc8fd434e98b300243fb7b1e21f",
            "68336c36eae0401393c15a92c48aff2f",
            "ce5669dc367549f6ba70329edf97e46f",
            "834d89db1b134f64b2fe9c8353541e3b",
            "a6b1db6ed12c4994ad04ef29f91b9eae",
            "69c9aeae7a9d4d16ba6bda2b9e308fcb",
            "c590d011b4fe44bba527383bb9d12061",
            "2e39fd1115db4112a99beb13f56cd0db",
            "ea871087e80b4dd4a60e195877b0f71b",
            "8dae8d53f35942bb8ab71827aa9b7770",
            "d3e3e14d7c0d4db483449e8498bf1064",
            "5a5fc864d2b44f5080771fa4b661ab88",
            "b407c0dc8e99472ea7875ff10a18b79b",
            "ec0e471cc1584b9b8fbde95eff9b8c97",
            "942f75f4895f4d8ca790b515aa3f4b68",
            "92ef6f9f550f45a7932a5319cf9d4664",
            "f1a651973ed14911875e2d897c00062d",
            "ace45f4fbeee4d318b702667291247ac",
            "3969a23e8fbb40b98da5a95640f32d99",
            "15208353701b468486f8a76866b62584",
            "d00c8755a35b49c9888928cc4f8346a2",
            "fa95855d4d2e42c186c3f444274f2281",
            "5cf6428721ff4528aa8a574f2c656b45",
            "338fb3c10c2a4e0c8faaa416d1dd2d6c",
            "7b20d09bc7db45b799d21e864acae3dc",
            "f8bf467d9e894e99b9dab1a9b8912c4f",
            "b44ef293d42e408c89eb40b1184e7434",
            "110b699d849041bdbe2e7d72ecfd7f2a",
            "05004a4a131e42edbc079c3c8a6f8356",
            "a8efe777393742ac93015e639201f9e6",
            "2ab8c0eeab7548b59f91fdaf568c3f85",
            "3da4f549945847bb90f8ce4b982fa350",
            "a8ee4fd112c3451db80845258ce75eae",
            "db81d42b175f45a2af6c080332145198",
            "fc5be70ff6b04b68a243ea8ad375d268",
            "c552cf63fe82409fbc40fc0c6523ff8b",
            "1bba0c859ab34c5897da833a1039601c",
            "93e40492d4994611bfcc9fe3d46dbb89",
            "4829e2250d31459389e821c2ddb9502b",
            "a15715cbc5c04a778d0acba7ffbd8afa",
            "b6ca0a4b17964afea228f0f89c23e75d",
            "60ff97a4e78648349e674e64d70fa3ff",
            "47b32a0cf434463698812c7b6cf00853",
            "541688e370bd4b838d1d31b560dc5aab",
            "c9709d6925ac43f095e89d132d57f579",
            "05ebf9d9730441e2b0d458d79147369c",
            "39206408c0494bd092652db5f43710ca",
            "74dc3c0b7acc47dc9e09fb1d07071757",
            "95a06127ef50411db60b097e8b8e3944",
            "296a33227b26401daac133749bdcdd32",
            "7110da16980049188802bb4ee100c318",
            "ff7bd3fcf9d44d65b13870604fe6e783",
            "b213e7ff06d2453ebe121fe569ea0c8a",
            "be5b7fafe32148a7a03a4a176b128163",
            "90f6a865db7545008d44eb387ff43fcd",
            "e5f77d0949ff41699ae220111332044e",
            "fbc1fb2c49f44e079a9550ef86bb3a3b",
            "ee75b1b8bb2643c8b41d522a99a75e19",
            "6e5cac8369a04690aedfd6ece6b1271d",
            "c8f14d84788d40df98b1fac35d7b30ec",
            "f4701c42c5874d218d7b0f47cb816d8c",
            "40a6deb6b66b474e9c9218be69935213",
            "425a3c99cbcd42a9b12015987d9c96a1",
            "e190fbd484ac48f3ba60b72fc5829d35",
            "2c5fcce91be9496095758425b0d212cd",
            "11100d1bdd524d8faec7bbcaaab51175",
            "7c1025a500d94a74ac80b4c69e1a9578",
            "367a14c551734a8994e4be2e5a556a1f",
            "b2d574e21e5347f28f89b3b0ecfe7e2b",
            "928c5d9940dd438e86f86c0a29788d37",
            "381344c735d84c1d93190138bd0bbdc2",
            "9e87a68e8128489e85ce543ddaf28a86",
            "b3f2bcdd4d2147cf97712194418e4a2e",
            "2c6bff7af3094cb2936b9b4a742d3c84",
            "0c8f73a7e2894a138ee73d76dc30cca4",
            "450e5b3363f64c48b2fe9e2c372dd6b4",
            "80fedfb7e9644180ad17bc82d84c57c8",
            "4cbeeaeeb03448a98778faa0a1816ce1",
            "9f876f7ecec14f7a8614342b9bc21ec2",
            "d45fdfc50d81448098d38ec6a691168c",
            "649f0e6e2c504ea7aedb845b5ac6227c",
            "863cdab9553e4a10b18b431527dc2f18",
            "a2ef8e337dee4f729d746111f0d634dc",
            "ac6641b7800c43f7a619678aa5e95dab",
            "6ab1ee207a29488cb48b5dafb05859eb",
            "2f24a617c33c4dd1bfce9344e284e735",
            "77650431a8454eb3a18adcbdcac040c5",
            "cda19d99cafd46cb8e11f07f65ba8651",
            "cd269a0d39814681beaa9497bd39fe71"
          ]
        },
        "id": "KrrYEUaSRvTX",
        "outputId": "c56b5894-851a-4f09-cb52-83501aaab486",
        "execution": {
          "iopub.status.busy": "2024-04-17T09:47:34.428692Z",
          "iopub.execute_input": "2024-04-17T09:47:34.429142Z",
          "iopub.status.idle": "2024-04-17T09:55:20.368537Z",
          "shell.execute_reply.started": "2024-04-17T09:47:34.429113Z",
          "shell.execute_reply": "2024-04-17T09:55:20.36505Z"
        },
        "trusted": true
      },
      "execution_count": 5,
      "outputs": [
        {
          "output_type": "stream",
          "name": "stdout",
          "text": [
            "Downloading and preparing dataset 1.47 GiB (download: 1.47 GiB, generated: Unknown size, total: 1.47 GiB) to /root/tensorflow_datasets/svhn_cropped/3.0.0...\n"
          ]
        },
        {
          "output_type": "display_data",
          "data": {
            "text/plain": [
              "Dl Completed...: 0 url [00:00, ? url/s]"
            ],
            "application/vnd.jupyter.widget-view+json": {
              "version_major": 2,
              "version_minor": 0,
              "model_id": "9850476777984d7995469c2e81849262"
            }
          },
          "metadata": {}
        },
        {
          "output_type": "display_data",
          "data": {
            "text/plain": [
              "Dl Size...: 0 MiB [00:00, ? MiB/s]"
            ],
            "application/vnd.jupyter.widget-view+json": {
              "version_major": 2,
              "version_minor": 0,
              "model_id": "68336c36eae0401393c15a92c48aff2f"
            }
          },
          "metadata": {}
        },
        {
          "output_type": "display_data",
          "data": {
            "text/plain": [
              "Generating splits...:   0%|          | 0/3 [00:00<?, ? splits/s]"
            ],
            "application/vnd.jupyter.widget-view+json": {
              "version_major": 2,
              "version_minor": 0,
              "model_id": "b407c0dc8e99472ea7875ff10a18b79b"
            }
          },
          "metadata": {}
        },
        {
          "output_type": "display_data",
          "data": {
            "text/plain": [
              "Generating train examples...:   0%|          | 0/73257 [00:00<?, ? examples/s]"
            ],
            "application/vnd.jupyter.widget-view+json": {
              "version_major": 2,
              "version_minor": 0,
              "model_id": "338fb3c10c2a4e0c8faaa416d1dd2d6c"
            }
          },
          "metadata": {}
        },
        {
          "output_type": "display_data",
          "data": {
            "text/plain": [
              "Shuffling /root/tensorflow_datasets/svhn_cropped/3.0.0.incompleteDXD3WF/svhn_cropped-train.tfrecord*...:   0%|…"
            ],
            "application/vnd.jupyter.widget-view+json": {
              "version_major": 2,
              "version_minor": 0,
              "model_id": "fc5be70ff6b04b68a243ea8ad375d268"
            }
          },
          "metadata": {}
        },
        {
          "output_type": "display_data",
          "data": {
            "text/plain": [
              "Generating test examples...:   0%|          | 0/26032 [00:00<?, ? examples/s]"
            ],
            "application/vnd.jupyter.widget-view+json": {
              "version_major": 2,
              "version_minor": 0,
              "model_id": "05ebf9d9730441e2b0d458d79147369c"
            }
          },
          "metadata": {}
        },
        {
          "output_type": "display_data",
          "data": {
            "text/plain": [
              "Shuffling /root/tensorflow_datasets/svhn_cropped/3.0.0.incompleteDXD3WF/svhn_cropped-test.tfrecord*...:   0%| …"
            ],
            "application/vnd.jupyter.widget-view+json": {
              "version_major": 2,
              "version_minor": 0,
              "model_id": "fbc1fb2c49f44e079a9550ef86bb3a3b"
            }
          },
          "metadata": {}
        },
        {
          "output_type": "display_data",
          "data": {
            "text/plain": [
              "Generating extra examples...:   0%|          | 0/531131 [00:00<?, ? examples/s]"
            ],
            "application/vnd.jupyter.widget-view+json": {
              "version_major": 2,
              "version_minor": 0,
              "model_id": "367a14c551734a8994e4be2e5a556a1f"
            }
          },
          "metadata": {}
        },
        {
          "output_type": "display_data",
          "data": {
            "text/plain": [
              "Shuffling /root/tensorflow_datasets/svhn_cropped/3.0.0.incompleteDXD3WF/svhn_cropped-extra.tfrecord*...:   0%|…"
            ],
            "application/vnd.jupyter.widget-view+json": {
              "version_major": 2,
              "version_minor": 0,
              "model_id": "9f876f7ecec14f7a8614342b9bc21ec2"
            }
          },
          "metadata": {}
        },
        {
          "output_type": "stream",
          "name": "stdout",
          "text": [
            "Dataset svhn_cropped downloaded and prepared to /root/tensorflow_datasets/svhn_cropped/3.0.0. Subsequent calls will reuse this data.\n"
          ]
        }
      ]
    },
    {
      "cell_type": "markdown",
      "source": [
        "### Preprocesar los datos (Parte A, paso 1)"
      ],
      "metadata": {
        "id": "VddmjMh_XgSf"
      }
    },
    {
      "cell_type": "code",
      "source": [
        "def preprocess(data, info):\n",
        "    x, y = data\n",
        "    x = tf.image.convert_image_dtype(x, tf.float32)\n",
        "    y = tf.one_hot(y, depth=info.features['label'].num_classes)\n",
        "    return x, y"
      ],
      "metadata": {
        "id": "4Z5aK0nlRvYo",
        "execution": {
          "iopub.status.busy": "2024-04-17T09:45:46.524115Z",
          "iopub.status.idle": "2024-04-17T09:45:46.524507Z",
          "shell.execute_reply.started": "2024-04-17T09:45:46.524307Z",
          "shell.execute_reply": "2024-04-17T09:45:46.524321Z"
        },
        "trusted": true
      },
      "execution_count": 6,
      "outputs": []
    },
    {
      "cell_type": "code",
      "source": [
        "train_data = preprocess(train_data, ds_info)\n",
        "test_data = preprocess(test_data, ds_info)"
      ],
      "metadata": {
        "id": "HFEuVhQ0RvbL",
        "execution": {
          "iopub.status.busy": "2024-04-17T09:45:46.525647Z",
          "iopub.status.idle": "2024-04-17T09:45:46.526019Z",
          "shell.execute_reply.started": "2024-04-17T09:45:46.525839Z",
          "shell.execute_reply": "2024-04-17T09:45:46.525854Z"
        },
        "trusted": true
      },
      "execution_count": 7,
      "outputs": []
    },
    {
      "cell_type": "markdown",
      "source": [
        "### Construir el modelo inicial con Xavier/Glorot y ELU (Parte A, paso 1 y 2)\n",
        "### 20 capas ocultas, cada una con 100 neuronas"
      ],
      "metadata": {
        "id": "ydeurZucXqtC"
      }
    },
    {
      "cell_type": "code",
      "source": [
        "def build_model(input_shape, num_classes):\n",
        "    model = Sequential()\n",
        "    model.add(Flatten(input_shape=input_shape))\n",
        "    for _ in range(20):\n",
        "        model.add(Dense(100, activation=elu, kernel_initializer=GlorotUniform()))\n",
        "    model.add(Dense(num_classes, activation='softmax'))\n",
        "    return model"
      ],
      "metadata": {
        "id": "HkRqvEz9Rvd7",
        "execution": {
          "iopub.status.busy": "2024-04-17T09:45:46.527617Z",
          "iopub.status.idle": "2024-04-17T09:45:46.527982Z",
          "shell.execute_reply.started": "2024-04-17T09:45:46.527805Z",
          "shell.execute_reply": "2024-04-17T09:45:46.52782Z"
        },
        "trusted": true
      },
      "execution_count": 8,
      "outputs": []
    },
    {
      "cell_type": "markdown",
      "source": [
        "### Construir y entrenar el modelo inicial, y  entrenamiento inicial (Parte A)\n"
      ],
      "metadata": {
        "id": "wF4ibv2QX9it"
      }
    },
    {
      "cell_type": "code",
      "source": [
        "model = build_model(train_data[0].shape[1:], ds_info.features['label'].num_classes)"
      ],
      "metadata": {
        "id": "ZJ2HZ1dsRvi4",
        "execution": {
          "iopub.status.busy": "2024-04-17T09:45:46.529214Z",
          "iopub.status.idle": "2024-04-17T09:45:46.529578Z",
          "shell.execute_reply.started": "2024-04-17T09:45:46.529402Z",
          "shell.execute_reply": "2024-04-17T09:45:46.529416Z"
        },
        "trusted": true
      },
      "execution_count": 9,
      "outputs": []
    },
    {
      "cell_type": "markdown",
      "source": [
        " # Compilar y entrenar el modelo (Parte A, paso 2)"
      ],
      "metadata": {
        "id": "DR7_0AafYNFN"
      }
    },
    {
      "cell_type": "code",
      "source": [
        "def compile_and_train(model, train_data, val_data, epochs=50):\n",
        "    model.compile(optimizer=Adam(),\n",
        "                  loss='categorical_crossentropy',\n",
        "                  metrics=['accuracy'])\n",
        "    early_stopping = EarlyStopping(monitor='val_loss', patience=5, restore_best_weights=True)\n",
        "    history = model.fit(train_data[0], train_data[1], epochs=epochs,\n",
        "                        validation_data=val_data, callbacks=[early_stopping])\n",
        "    return history"
      ],
      "metadata": {
        "id": "Gca84POqRvnz",
        "execution": {
          "iopub.status.busy": "2024-04-17T09:45:46.530813Z",
          "iopub.status.idle": "2024-04-17T09:45:46.531167Z",
          "shell.execute_reply.started": "2024-04-17T09:45:46.530991Z",
          "shell.execute_reply": "2024-04-17T09:45:46.531005Z"
        },
        "trusted": true
      },
      "execution_count": 10,
      "outputs": []
    },
    {
      "cell_type": "code",
      "source": [
        "history = compile_and_train(model, train_data, test_data)"
      ],
      "metadata": {
        "colab": {
          "base_uri": "https://localhost:8080/"
        },
        "id": "6rvgvQ2GYJ-7",
        "outputId": "2d9ff04e-8f31-48e5-89fc-159a509c6b77",
        "execution": {
          "iopub.status.busy": "2024-04-17T09:45:46.532465Z",
          "iopub.status.idle": "2024-04-17T09:45:46.532821Z",
          "shell.execute_reply.started": "2024-04-17T09:45:46.53264Z",
          "shell.execute_reply": "2024-04-17T09:45:46.532654Z"
        },
        "trusted": true
      },
      "execution_count": 11,
      "outputs": [
        {
          "output_type": "stream",
          "name": "stdout",
          "text": [
            "Epoch 1/50\n",
            "2290/2290 [==============================] - 34s 13ms/step - loss: 2.2479 - accuracy: 0.1845 - val_loss: 2.2258 - val_accuracy: 0.1959\n",
            "Epoch 2/50\n",
            "2290/2290 [==============================] - 29s 13ms/step - loss: 2.2394 - accuracy: 0.1888 - val_loss: 2.2255 - val_accuracy: 0.1959\n",
            "Epoch 3/50\n",
            "2290/2290 [==============================] - 31s 14ms/step - loss: 2.2384 - accuracy: 0.1889 - val_loss: 2.2256 - val_accuracy: 0.1959\n",
            "Epoch 4/50\n",
            "2290/2290 [==============================] - 28s 12ms/step - loss: 2.2383 - accuracy: 0.1889 - val_loss: 2.2696 - val_accuracy: 0.1959\n",
            "Epoch 5/50\n",
            "2290/2290 [==============================] - 31s 14ms/step - loss: 2.2377 - accuracy: 0.1892 - val_loss: 2.2235 - val_accuracy: 0.1959\n",
            "Epoch 6/50\n",
            "2290/2290 [==============================] - 30s 13ms/step - loss: 2.2373 - accuracy: 0.1892 - val_loss: 2.2251 - val_accuracy: 0.1959\n",
            "Epoch 7/50\n",
            "2290/2290 [==============================] - 29s 13ms/step - loss: 2.2386 - accuracy: 0.1885 - val_loss: 2.2246 - val_accuracy: 0.1959\n",
            "Epoch 8/50\n",
            "2290/2290 [==============================] - 29s 13ms/step - loss: 2.2371 - accuracy: 0.1892 - val_loss: 2.2242 - val_accuracy: 0.1959\n",
            "Epoch 9/50\n",
            "2290/2290 [==============================] - 29s 12ms/step - loss: 2.2373 - accuracy: 0.1892 - val_loss: 2.2256 - val_accuracy: 0.1959\n",
            "Epoch 10/50\n",
            "2290/2290 [==============================] - 31s 14ms/step - loss: 2.2373 - accuracy: 0.1892 - val_loss: 2.2246 - val_accuracy: 0.1959\n"
          ]
        }
      ]
    },
    {
      "cell_type": "markdown",
      "source": [
        "### Construir y entrenar el modelo con normalización por lotes\n",
        "### Función para construir el modelo con normalización por lotes (Parte B, paso 1)"
      ],
      "metadata": {
        "id": "CqUeLYVYYdu0"
      }
    },
    {
      "cell_type": "code",
      "source": [
        "def build_model_with_batchnorm(input_shape, num_classes):\n",
        "    model = Sequential()\n",
        "    model.add(Flatten(input_shape=input_shape))\n",
        "    for _ in range(20):\n",
        "        model.add(Dense(100, kernel_initializer=GlorotUniform()))\n",
        "        model.add(BatchNormalization())\n",
        "        model.add(Activation('elu'))\n",
        "    model.add(Dense(num_classes, activation='softmax'))\n",
        "    return model"
      ],
      "metadata": {
        "id": "sexcPl-nYli5",
        "execution": {
          "iopub.status.busy": "2024-04-17T09:45:46.533994Z",
          "iopub.status.idle": "2024-04-17T09:45:46.534557Z",
          "shell.execute_reply.started": "2024-04-17T09:45:46.53437Z",
          "shell.execute_reply": "2024-04-17T09:45:46.534386Z"
        },
        "trusted": true
      },
      "execution_count": 12,
      "outputs": []
    },
    {
      "cell_type": "code",
      "source": [
        "model_bn = build_model_with_batchnorm(train_data[0].shape[1:], ds_info.features['label'].num_classes)"
      ],
      "metadata": {
        "id": "ry3MYqRhYd9G",
        "execution": {
          "iopub.status.busy": "2024-04-17T09:45:46.535663Z",
          "iopub.status.idle": "2024-04-17T09:45:46.536023Z",
          "shell.execute_reply.started": "2024-04-17T09:45:46.535848Z",
          "shell.execute_reply": "2024-04-17T09:45:46.535862Z"
        },
        "trusted": true
      },
      "execution_count": 13,
      "outputs": []
    },
    {
      "cell_type": "markdown",
      "source": [
        "### Mejora con batch normalization (Parte B, paso 1)"
      ],
      "metadata": {
        "id": "Lvgk0Q6EY0FH"
      }
    },
    {
      "cell_type": "code",
      "source": [
        "history_bn = compile_and_train(model_bn, train_data, test_data)"
      ],
      "metadata": {
        "colab": {
          "base_uri": "https://localhost:8080/"
        },
        "id": "9PzPS5f8YyP0",
        "outputId": "f6f6166d-82b9-4458-a642-a81b0db40bd4",
        "execution": {
          "iopub.status.busy": "2024-04-17T09:45:46.537296Z",
          "iopub.status.idle": "2024-04-17T09:45:46.537658Z",
          "shell.execute_reply.started": "2024-04-17T09:45:46.537486Z",
          "shell.execute_reply": "2024-04-17T09:45:46.5375Z"
        },
        "trusted": true
      },
      "execution_count": 14,
      "outputs": [
        {
          "output_type": "stream",
          "name": "stdout",
          "text": [
            "Epoch 1/50\n",
            "2290/2290 [==============================] - 54s 19ms/step - loss: 1.5986 - accuracy: 0.4605 - val_loss: 1.9301 - val_accuracy: 0.4354\n",
            "Epoch 2/50\n",
            "2290/2290 [==============================] - 43s 19ms/step - loss: 1.2922 - accuracy: 0.5936 - val_loss: 1.5925 - val_accuracy: 0.5169\n",
            "Epoch 3/50\n",
            "2290/2290 [==============================] - 43s 19ms/step - loss: 1.1797 - accuracy: 0.6337 - val_loss: 1.3973 - val_accuracy: 0.5582\n",
            "Epoch 4/50\n",
            "2290/2290 [==============================] - 43s 19ms/step - loss: 1.1036 - accuracy: 0.6580 - val_loss: 1.3350 - val_accuracy: 0.5945\n",
            "Epoch 5/50\n",
            "2290/2290 [==============================] - 43s 19ms/step - loss: 1.0409 - accuracy: 0.6788 - val_loss: 1.2187 - val_accuracy: 0.6239\n",
            "Epoch 6/50\n",
            "2290/2290 [==============================] - 41s 18ms/step - loss: 0.9984 - accuracy: 0.6927 - val_loss: 1.3105 - val_accuracy: 0.5889\n",
            "Epoch 7/50\n",
            "2290/2290 [==============================] - 45s 20ms/step - loss: 0.9503 - accuracy: 0.7061 - val_loss: 1.1642 - val_accuracy: 0.6376\n",
            "Epoch 8/50\n",
            "2290/2290 [==============================] - 42s 18ms/step - loss: 0.9183 - accuracy: 0.7171 - val_loss: 0.9973 - val_accuracy: 0.6922\n",
            "Epoch 9/50\n",
            "2290/2290 [==============================] - 43s 19ms/step - loss: 0.8918 - accuracy: 0.7268 - val_loss: 1.0047 - val_accuracy: 0.6835\n",
            "Epoch 10/50\n",
            "2290/2290 [==============================] - 42s 18ms/step - loss: 0.8623 - accuracy: 0.7354 - val_loss: 1.0553 - val_accuracy: 0.6752\n",
            "Epoch 11/50\n",
            "2290/2290 [==============================] - 42s 18ms/step - loss: 0.8346 - accuracy: 0.7438 - val_loss: 1.0181 - val_accuracy: 0.6779\n",
            "Epoch 12/50\n",
            "2290/2290 [==============================] - 41s 18ms/step - loss: 0.8112 - accuracy: 0.7511 - val_loss: 0.8641 - val_accuracy: 0.7341\n",
            "Epoch 13/50\n",
            "2290/2290 [==============================] - 41s 18ms/step - loss: 0.7850 - accuracy: 0.7584 - val_loss: 0.9486 - val_accuracy: 0.7073\n",
            "Epoch 14/50\n",
            "2290/2290 [==============================] - 43s 19ms/step - loss: 0.7626 - accuracy: 0.7660 - val_loss: 0.8337 - val_accuracy: 0.7403\n",
            "Epoch 15/50\n",
            "2290/2290 [==============================] - 42s 18ms/step - loss: 0.7441 - accuracy: 0.7709 - val_loss: 1.0400 - val_accuracy: 0.6575\n",
            "Epoch 16/50\n",
            "2290/2290 [==============================] - 43s 19ms/step - loss: 0.7270 - accuracy: 0.7770 - val_loss: 0.8713 - val_accuracy: 0.7346\n",
            "Epoch 17/50\n",
            "2290/2290 [==============================] - 41s 18ms/step - loss: 0.7093 - accuracy: 0.7809 - val_loss: 0.9688 - val_accuracy: 0.7006\n",
            "Epoch 18/50\n",
            "2290/2290 [==============================] - 41s 18ms/step - loss: 0.6978 - accuracy: 0.7837 - val_loss: 0.8228 - val_accuracy: 0.7442\n",
            "Epoch 19/50\n",
            "2290/2290 [==============================] - 43s 19ms/step - loss: 0.6835 - accuracy: 0.7899 - val_loss: 0.9815 - val_accuracy: 0.6991\n",
            "Epoch 20/50\n",
            "2290/2290 [==============================] - 41s 18ms/step - loss: 0.6656 - accuracy: 0.7946 - val_loss: 0.8024 - val_accuracy: 0.7585\n",
            "Epoch 21/50\n",
            "2290/2290 [==============================] - 44s 19ms/step - loss: 0.6564 - accuracy: 0.7975 - val_loss: 1.0845 - val_accuracy: 0.6859\n",
            "Epoch 22/50\n",
            "2290/2290 [==============================] - 42s 18ms/step - loss: 0.6440 - accuracy: 0.8014 - val_loss: 0.8260 - val_accuracy: 0.7462\n",
            "Epoch 23/50\n",
            "2290/2290 [==============================] - 43s 19ms/step - loss: 0.6342 - accuracy: 0.8045 - val_loss: 0.9920 - val_accuracy: 0.6869\n",
            "Epoch 24/50\n",
            "2290/2290 [==============================] - 41s 18ms/step - loss: 0.6240 - accuracy: 0.8080 - val_loss: 0.7283 - val_accuracy: 0.7770\n",
            "Epoch 25/50\n",
            "2290/2290 [==============================] - 43s 19ms/step - loss: 0.6120 - accuracy: 0.8117 - val_loss: 0.7531 - val_accuracy: 0.7697\n",
            "Epoch 26/50\n",
            "2290/2290 [==============================] - 41s 18ms/step - loss: 0.6104 - accuracy: 0.8116 - val_loss: 0.9220 - val_accuracy: 0.7111\n",
            "Epoch 27/50\n",
            "2290/2290 [==============================] - 43s 19ms/step - loss: 0.5934 - accuracy: 0.8178 - val_loss: 0.7043 - val_accuracy: 0.7867\n",
            "Epoch 28/50\n",
            "2290/2290 [==============================] - 42s 18ms/step - loss: 0.5854 - accuracy: 0.8181 - val_loss: 0.7567 - val_accuracy: 0.7599\n",
            "Epoch 29/50\n",
            "2290/2290 [==============================] - 44s 19ms/step - loss: 0.5705 - accuracy: 0.8256 - val_loss: 0.7003 - val_accuracy: 0.7875\n",
            "Epoch 30/50\n",
            "2290/2290 [==============================] - 44s 19ms/step - loss: 0.5752 - accuracy: 0.8239 - val_loss: 0.7625 - val_accuracy: 0.7618\n",
            "Epoch 31/50\n",
            "2290/2290 [==============================] - 41s 18ms/step - loss: 0.5648 - accuracy: 0.8251 - val_loss: 0.8062 - val_accuracy: 0.7475\n",
            "Epoch 32/50\n",
            "2290/2290 [==============================] - 42s 18ms/step - loss: 0.5595 - accuracy: 0.8274 - val_loss: 0.7374 - val_accuracy: 0.7729\n",
            "Epoch 33/50\n",
            "2290/2290 [==============================] - 41s 18ms/step - loss: 0.5515 - accuracy: 0.8295 - val_loss: 0.7832 - val_accuracy: 0.7608\n",
            "Epoch 34/50\n",
            "2290/2290 [==============================] - 42s 18ms/step - loss: 0.5441 - accuracy: 0.8324 - val_loss: 0.6975 - val_accuracy: 0.7876\n",
            "Epoch 35/50\n",
            "2290/2290 [==============================] - 43s 19ms/step - loss: 0.5337 - accuracy: 0.8360 - val_loss: 0.7314 - val_accuracy: 0.7750\n",
            "Epoch 36/50\n",
            "2290/2290 [==============================] - 41s 18ms/step - loss: 0.5327 - accuracy: 0.8360 - val_loss: 0.7585 - val_accuracy: 0.7743\n",
            "Epoch 37/50\n",
            "2290/2290 [==============================] - 42s 18ms/step - loss: 0.5220 - accuracy: 0.8388 - val_loss: 0.6485 - val_accuracy: 0.8016\n",
            "Epoch 38/50\n",
            "2290/2290 [==============================] - 44s 19ms/step - loss: 0.5199 - accuracy: 0.8398 - val_loss: 0.7745 - val_accuracy: 0.7641\n",
            "Epoch 39/50\n",
            "2290/2290 [==============================] - 43s 19ms/step - loss: 0.5149 - accuracy: 0.8405 - val_loss: 0.7294 - val_accuracy: 0.7738\n",
            "Epoch 40/50\n",
            "2290/2290 [==============================] - 42s 18ms/step - loss: 0.5038 - accuracy: 0.8454 - val_loss: 0.6993 - val_accuracy: 0.7890\n",
            "Epoch 41/50\n",
            "2290/2290 [==============================] - 42s 18ms/step - loss: 0.5026 - accuracy: 0.8449 - val_loss: 0.6995 - val_accuracy: 0.7855\n",
            "Epoch 42/50\n",
            "2290/2290 [==============================] - 44s 19ms/step - loss: 0.4990 - accuracy: 0.8470 - val_loss: 0.8253 - val_accuracy: 0.7387\n"
          ]
        }
      ]
    },
    {
      "cell_type": "markdown",
      "source": [
        "### Función para construir el modelo con ReLU y He (Parte B, paso 2)\n",
        "### 20 capas ocultas, cada una con 100 neuronas"
      ],
      "metadata": {
        "id": "1Ww-GTuRYeNP"
      }
    },
    {
      "cell_type": "code",
      "source": [
        "def build_model_with_relu_he(input_shape, num_classes):\n",
        "    model = Sequential()\n",
        "    model.add(Flatten(input_shape=input_shape))\n",
        "    for _ in range(20):\n",
        "        model.add(Dense(100, kernel_initializer=HeNormal()))\n",
        "        model.add(Activation('relu'))\n",
        "    model.add(Dense(num_classes, activation='softmax'))\n",
        "    return model"
      ],
      "metadata": {
        "id": "LDXF0zO0YeXS",
        "trusted": true
      },
      "execution_count": 15,
      "outputs": []
    },
    {
      "cell_type": "markdown",
      "source": [
        "### Construir y entrenar el modelo con ReLU y He"
      ],
      "metadata": {
        "id": "n_jcgzjvYeiV"
      }
    },
    {
      "cell_type": "code",
      "source": [
        "model_relu_he = build_model_with_relu_he(train_data[0].shape[1:], ds_info.features['label'].num_classes)"
      ],
      "metadata": {
        "id": "8_I-XpfZYes7",
        "trusted": true
      },
      "execution_count": 16,
      "outputs": []
    },
    {
      "cell_type": "code",
      "source": [
        "history_relu_he = compile_and_train(model_relu_he, train_data, test_data)"
      ],
      "metadata": {
        "colab": {
          "base_uri": "https://localhost:8080/"
        },
        "id": "ic-V1darYfCi",
        "outputId": "b2a45796-a293-467c-a30a-771863055e4c",
        "trusted": true
      },
      "execution_count": 17,
      "outputs": [
        {
          "output_type": "stream",
          "name": "stdout",
          "text": [
            "Epoch 1/50\n",
            "2290/2290 [==============================] - 35s 14ms/step - loss: 2.2413 - accuracy: 0.1882 - val_loss: 2.2266 - val_accuracy: 0.1959\n",
            "Epoch 2/50\n",
            "2290/2290 [==============================] - 34s 15ms/step - loss: 2.2376 - accuracy: 0.1892 - val_loss: 2.2246 - val_accuracy: 0.1959\n",
            "Epoch 3/50\n",
            "2290/2290 [==============================] - 36s 16ms/step - loss: 2.2372 - accuracy: 0.1892 - val_loss: 2.2248 - val_accuracy: 0.1959\n",
            "Epoch 4/50\n",
            "2290/2290 [==============================] - 28s 12ms/step - loss: 2.2370 - accuracy: 0.1892 - val_loss: 2.2234 - val_accuracy: 0.1959\n",
            "Epoch 5/50\n",
            "2290/2290 [==============================] - 31s 13ms/step - loss: 2.2370 - accuracy: 0.1892 - val_loss: 2.2252 - val_accuracy: 0.1959\n",
            "Epoch 6/50\n",
            "2290/2290 [==============================] - 29s 13ms/step - loss: 2.2370 - accuracy: 0.1892 - val_loss: 2.2234 - val_accuracy: 0.1959\n",
            "Epoch 7/50\n",
            "2290/2290 [==============================] - 28s 12ms/step - loss: 2.2368 - accuracy: 0.1892 - val_loss: 2.2246 - val_accuracy: 0.1959\n",
            "Epoch 8/50\n",
            "2290/2290 [==============================] - 29s 13ms/step - loss: 2.2368 - accuracy: 0.1892 - val_loss: 2.2262 - val_accuracy: 0.1959\n",
            "Epoch 9/50\n",
            "2290/2290 [==============================] - 36s 16ms/step - loss: 2.2368 - accuracy: 0.1892 - val_loss: 2.2235 - val_accuracy: 0.1959\n"
          ]
        }
      ]
    },
    {
      "cell_type": "markdown",
      "source": [
        "### Imprimir las métricas del entrenamiento para comparación"
      ],
      "metadata": {
        "id": "TedGSEUjYfNH"
      }
    },
    {
      "cell_type": "code",
      "source": [
        "print(\"Historial inicial:\", history.history)\n",
        "print(\"Historial con Normalización por Lotes:\", history_bn.history)\n",
        "print(\"Historial con ReLU y He:\", history_relu_he.history)"
      ],
      "metadata": {
        "colab": {
          "base_uri": "https://localhost:8080/"
        },
        "id": "MaBEoXOSYfW0",
        "outputId": "e215df81-29b5-43fd-b276-e6bcbe26737b",
        "trusted": true
      },
      "execution_count": 18,
      "outputs": [
        {
          "output_type": "stream",
          "name": "stdout",
          "text": [
            "Historial inicial: {'loss': [2.2479381561279297, 2.2394027709960938, 2.238417387008667, 2.2382583618164062, 2.2377123832702637, 2.237339735031128, 2.2386093139648438, 2.2371065616607666, 2.237265110015869, 2.237257719039917], 'accuracy': [0.18454208970069885, 0.18881471455097198, 0.18885567784309387, 0.18891027569770813, 0.18921059370040894, 0.18921059370040894, 0.18845979869365692, 0.18921059370040894, 0.18921059370040894, 0.18921059370040894], 'val_loss': [2.225811004638672, 2.225520133972168, 2.2255735397338867, 2.2695679664611816, 2.2235350608825684, 2.225123405456543, 2.224644899368286, 2.224170207977295, 2.2255823612213135, 2.2245771884918213], 'val_accuracy': [0.19587430357933044, 0.19587430357933044, 0.19587430357933044, 0.19587430357933044, 0.19587430357933044, 0.19587430357933044, 0.19587430357933044, 0.19587430357933044, 0.19587430357933044, 0.19587430357933044]}\n",
            "Historial con Normalización por Lotes: {'loss': [1.598588466644287, 1.2922428846359253, 1.1797224283218384, 1.103644609451294, 1.0409473180770874, 0.998408317565918, 0.9503231048583984, 0.9183386564254761, 0.8917564749717712, 0.8623470067977905, 0.8345752954483032, 0.8111886382102966, 0.7849920988082886, 0.7626317143440247, 0.7440876960754395, 0.7270191311836243, 0.7092744708061218, 0.6978116631507874, 0.6834897398948669, 0.6655711531639099, 0.6563753485679626, 0.6440109610557556, 0.6341577768325806, 0.6240090131759644, 0.6120099425315857, 0.6103798747062683, 0.5934476256370544, 0.5853651165962219, 0.5704786777496338, 0.5751931667327881, 0.5647851824760437, 0.5594751238822937, 0.5514779686927795, 0.5440906882286072, 0.5336970686912537, 0.5326994061470032, 0.5219643115997314, 0.5199145078659058, 0.5149083733558655, 0.5037516951560974, 0.5026426911354065, 0.4990202486515045], 'accuracy': [0.4605020582675934, 0.5936360955238342, 0.6337278485298157, 0.6579849123954773, 0.6788156628608704, 0.6926982998847961, 0.7060894966125488, 0.7171464562416077, 0.7267974615097046, 0.735356330871582, 0.7438197135925293, 0.7510681748390198, 0.7583848834037781, 0.7660291790962219, 0.7709161043167114, 0.7770315408706665, 0.7809219360351562, 0.7836520671844482, 0.7899177074432373, 0.7946407794952393, 0.7974801063537598, 0.801356852054596, 0.8044555187225342, 0.8080456256866455, 0.8116766810417175, 0.8116220831871033, 0.8177785277366638, 0.8180515170097351, 0.8256275653839111, 0.8238530158996582, 0.8250815868377686, 0.827429473400116, 0.829477071762085, 0.8323982954025269, 0.836001992225647, 0.8359746932983398, 0.8388140201568604, 0.8397696018218994, 0.8404794335365295, 0.8453799486160278, 0.8448885679244995, 0.8470043540000916], 'val_loss': [1.9300870895385742, 1.5925096273422241, 1.3972923755645752, 1.3349612951278687, 1.2187280654907227, 1.31050443649292, 1.1641907691955566, 0.9973112940788269, 1.0047271251678467, 1.0553069114685059, 1.0180797576904297, 0.8640798330307007, 0.9485631585121155, 0.8337280750274658, 1.0400406122207642, 0.8712888360023499, 0.9688204526901245, 0.8228006362915039, 0.9815430045127869, 0.8023891448974609, 1.084485411643982, 0.8259924054145813, 0.9920428991317749, 0.7283332347869873, 0.7531301379203796, 0.922021210193634, 0.7042891383171082, 0.7567411065101624, 0.7003472447395325, 0.7625436782836914, 0.8062173128128052, 0.7373841404914856, 0.7832256555557251, 0.6974947452545166, 0.7314345240592957, 0.7584885954856873, 0.6484779119491577, 0.7744978666305542, 0.729380190372467, 0.6993416547775269, 0.6995441317558289, 0.8252972960472107], 'val_accuracy': [0.4353872239589691, 0.5168638825416565, 0.5582360029220581, 0.594460666179657, 0.6239243745803833, 0.5889289975166321, 0.63763827085495, 0.6921865344047546, 0.6834664940834045, 0.6752074360847473, 0.6778579950332642, 0.7340964674949646, 0.7073217630386353, 0.7402811646461487, 0.6575368642807007, 0.734634280204773, 0.7005992531776428, 0.7441994547843933, 0.6991395354270935, 0.7584511637687683, 0.6858866214752197, 0.7461585998535156, 0.6869238018989563, 0.7769668102264404, 0.7697064876556396, 0.7110863327980042, 0.7867240309715271, 0.7598724365234375, 0.7875307202339172, 0.7617547512054443, 0.7475414872169495, 0.7728564739227295, 0.7607944011688232, 0.7876075506210327, 0.7750461101531982, 0.7742778062820435, 0.8016287684440613, 0.764098048210144, 0.7738168239593506, 0.7890288829803467, 0.7855331897735596, 0.7387446165084839]}\n",
            "Historial con ReLU y He: {'loss': [2.241340398788452, 2.237550973892212, 2.237230062484741, 2.2370221614837646, 2.2370336055755615, 2.236985445022583, 2.236837863922119, 2.2368478775024414, 2.236778736114502], 'accuracy': [0.18821409344673157, 0.18921059370040894, 0.18921059370040894, 0.18921059370040894, 0.18921059370040894, 0.18921059370040894, 0.18921059370040894, 0.18921059370040894, 0.18921059370040894], 'val_loss': [2.226567268371582, 2.224562883377075, 2.2248404026031494, 2.2234134674072266, 2.2252249717712402, 2.223423719406128, 2.2245941162109375, 2.226228713989258, 2.2235496044158936], 'val_accuracy': [0.19587430357933044, 0.19587430357933044, 0.19587430357933044, 0.19587430357933044, 0.19587430357933044, 0.19587430357933044, 0.19587430357933044, 0.19587430357933044, 0.19587430357933044]}\n"
          ]
        }
      ]
    },
    {
      "cell_type": "markdown",
      "source": [
        "## Parte C: Avanzando en Regularización y Optimización\n",
        "* Introducir Dropout"
      ],
      "metadata": {
        "id": "so6L5ZTCde8Z"
      }
    },
    {
      "cell_type": "code",
      "source": [
        "from tensorflow.keras.layers import Dropout"
      ],
      "metadata": {
        "id": "XvqogNnGdfJL",
        "trusted": true
      },
      "execution_count": 19,
      "outputs": []
    },
    {
      "cell_type": "markdown",
      "source": [
        "### Función para construir el modelo con dropout (Parte C, paso 1)"
      ],
      "metadata": {
        "id": "r_vCJyS6dfTb"
      }
    },
    {
      "cell_type": "code",
      "source": [
        "def build_model_with_dropout(input_shape, num_classes, dropout_rate=0.5):\n",
        "    model = Sequential()\n",
        "    model.add(Flatten(input_shape=input_shape))\n",
        "    for _ in range(20):\n",
        "        model.add(Dense(100, activation='elu', kernel_initializer=GlorotUniform()))\n",
        "        model.add(Dropout(dropout_rate))\n",
        "    model.add(Dense(num_classes, activation='softmax'))\n",
        "    return model"
      ],
      "metadata": {
        "id": "PXeio0cUdfck",
        "trusted": true
      },
      "execution_count": 20,
      "outputs": []
    },
    {
      "cell_type": "markdown",
      "source": [
        "### Función para realizar predicciones utilizando MC Dropout (Parte C, paso 2)"
      ],
      "metadata": {
        "id": "QvsOMVE9dfk_"
      }
    },
    {
      "cell_type": "code",
      "source": [
        "def mc_dropout_predict(model, data, num_samples=100):\n",
        "    predictions = [model(data, training=True) for _ in range(num_samples)]\n",
        "    return tf.reduce_mean(predictions, axis=0)"
      ],
      "metadata": {
        "id": "fbVrwM_xdftb",
        "trusted": true
      },
      "execution_count": 21,
      "outputs": []
    },
    {
      "cell_type": "markdown",
      "source": [
        "### Construir y entrenar el modelo con dropout\n",
        "\n"
      ],
      "metadata": {
        "id": "ol2hEFdCdf3K"
      }
    },
    {
      "cell_type": "code",
      "source": [
        "model_dropout = build_model_with_dropout(train_data[0].shape[1:], ds_info.features['label'].num_classes)\n",
        "history_dropout = compile_and_train(model_dropout, train_data, test_data)"
      ],
      "metadata": {
        "colab": {
          "base_uri": "https://localhost:8080/"
        },
        "id": "nLsS1oKRdf-7",
        "outputId": "8c065c5e-6eab-4c7a-ccc5-8b0d0af139c5",
        "trusted": true
      },
      "execution_count": 22,
      "outputs": [
        {
          "output_type": "stream",
          "name": "stdout",
          "text": [
            "Epoch 1/50\n",
            "2290/2290 [==============================] - 39s 15ms/step - loss: 2.4757 - accuracy: 0.1529 - val_loss: 2.2285 - val_accuracy: 0.1959\n",
            "Epoch 2/50\n",
            "2290/2290 [==============================] - 34s 15ms/step - loss: 2.2497 - accuracy: 0.1835 - val_loss: 2.2270 - val_accuracy: 0.1959\n",
            "Epoch 3/50\n",
            "2290/2290 [==============================] - 35s 15ms/step - loss: 2.2495 - accuracy: 0.1837 - val_loss: 2.2263 - val_accuracy: 0.1959\n",
            "Epoch 4/50\n",
            "2290/2290 [==============================] - 36s 16ms/step - loss: 2.2502 - accuracy: 0.1828 - val_loss: 2.2290 - val_accuracy: 0.1959\n",
            "Epoch 5/50\n",
            "2290/2290 [==============================] - 46s 20ms/step - loss: 2.2504 - accuracy: 0.1841 - val_loss: 2.2279 - val_accuracy: 0.1959\n",
            "Epoch 6/50\n",
            "2290/2290 [==============================] - 33s 15ms/step - loss: 2.2506 - accuracy: 0.1836 - val_loss: 2.2266 - val_accuracy: 0.1959\n",
            "Epoch 7/50\n",
            "2290/2290 [==============================] - 33s 14ms/step - loss: 2.2503 - accuracy: 0.1835 - val_loss: 2.2267 - val_accuracy: 0.1959\n",
            "Epoch 8/50\n",
            "2290/2290 [==============================] - 34s 15ms/step - loss: 2.2501 - accuracy: 0.1836 - val_loss: 2.2283 - val_accuracy: 0.1959\n"
          ]
        }
      ]
    },
    {
      "cell_type": "markdown",
      "source": [
        "### Utilizar MC Dropout para evaluar el modelo en el conjunto de test,  Evluación con MC Dropout (Parte C, paso 2)"
      ],
      "metadata": {
        "id": "pZbwfn5adgHu"
      }
    },
    {
      "cell_type": "code",
      "source": [
        "mc_predictions = mc_dropout_predict(model_dropout, test_data[0])"
      ],
      "metadata": {
        "id": "a6uy8U4HdgP9",
        "trusted": true
      },
      "execution_count": 23,
      "outputs": []
    },
    {
      "cell_type": "markdown",
      "source": [
        "\n",
        "###  Calcular la precisión final con MC Dropout"
      ],
      "metadata": {
        "id": "PsE0XMnHdgY0"
      }
    },
    {
      "cell_type": "code",
      "source": [
        "mc_accuracy = tf.metrics.categorical_accuracy(test_data[1], mc_predictions)\n",
        "mc_accuracy_mean = tf.reduce_mean(mc_accuracy)"
      ],
      "metadata": {
        "id": "2NUDtPJPdggh",
        "trusted": true
      },
      "execution_count": 24,
      "outputs": []
    },
    {
      "cell_type": "markdown",
      "source": [
        "### Imprimir las métricas"
      ],
      "metadata": {
        "id": "rfhSGwTCgqpQ"
      }
    },
    {
      "cell_type": "code",
      "source": [
        "print(\"Historial con Dropout:\", history_dropout.history)\n",
        "print(\"Precisión media con MC Dropout:\", mc_accuracy_mean.numpy())"
      ],
      "metadata": {
        "colab": {
          "base_uri": "https://localhost:8080/"
        },
        "id": "1LcVwpIBgqx3",
        "outputId": "49717670-e758-4fcf-8603-8620fbdea6c3",
        "trusted": true
      },
      "execution_count": 25,
      "outputs": [
        {
          "output_type": "stream",
          "name": "stdout",
          "text": [
            "Historial con Dropout: {'loss': [2.4756579399108887, 2.249683141708374, 2.24945068359375, 2.250225067138672, 2.250419855117798, 2.2506327629089355, 2.2502596378326416, 2.250119924545288], 'accuracy': [0.15285910665988922, 0.1834636926651001, 0.1837230622768402, 0.18276751041412354, 0.18407797813415527, 0.1835729032754898, 0.18345004320144653, 0.18358655273914337], 'val_loss': [2.2284598350524902, 2.2269582748413086, 2.2262632846832275, 2.2290384769439697, 2.2279186248779297, 2.226609706878662, 2.2266573905944824, 2.228342294692993], 'val_accuracy': [0.19587430357933044, 0.19587430357933044, 0.19587430357933044, 0.19587430357933044, 0.19587430357933044, 0.19587430357933044, 0.19587430357933044, 0.19587430357933044]}\n",
            "Precisión media con MC Dropout: 0.1958743\n"
          ]
        }
      ]
    },
    {
      "cell_type": "markdown",
      "source": [
        "## Gráficos de las Curvas de Entrenamiento y Validación"
      ],
      "metadata": {
        "id": "WTxINz0khRXr"
      }
    },
    {
      "cell_type": "code",
      "source": [
        "%matplotlib inline\n",
        "import matplotlib.pyplot as plt\n",
        "import warnings\n",
        "warnings.filterwarnings('ignore')   # Suppress Matplotlib warnings"
      ],
      "metadata": {
        "id": "GFmio4wGkIjx",
        "trusted": true
      },
      "execution_count": 26,
      "outputs": []
    },
    {
      "cell_type": "code",
      "source": [
        "def plot_history(histories, titles):\n",
        "    plt.figure(figsize=(14, 5))\n",
        "    for i, (history, title) in enumerate(zip(histories, titles)):\n",
        "        plt.subplot(1, len(histories), i+1)\n",
        "        plt.plot(history.history['accuracy'], label='train_accuracy')\n",
        "        plt.plot(history.history['val_accuracy'], label='val_accuracy')\n",
        "        plt.title('Model Accuracy - ' + title)\n",
        "        plt.ylabel('Accuracy')\n",
        "        plt.xlabel('Epoch')\n",
        "        plt.legend(loc='upper left')\n",
        "    plt.tight_layout()\n",
        "    plt.show()"
      ],
      "metadata": {
        "id": "5rYMd_BUhRf_",
        "trusted": true
      },
      "execution_count": 27,
      "outputs": []
    },
    {
      "cell_type": "markdown",
      "source": [
        "### Suponiendo que history, history_bn, history_relu_he, history_dropout son los históricos obtenidos de cada modelo"
      ],
      "metadata": {
        "id": "QBgBP6rNhUqR"
      }
    },
    {
      "cell_type": "code",
      "source": [
        "plot_history([history, history_bn, history_relu_he, history_dropout],\n",
        "             ['Inicial', 'BatchNorm', 'ReLU+He', 'Dropout'])"
      ],
      "metadata": {
        "colab": {
          "base_uri": "https://localhost:8080/",
          "height": 507
        },
        "id": "cIAYZjlhhU09",
        "outputId": "426fef2b-4b7c-4380-e81a-0840b1ebf7c6",
        "trusted": true
      },
      "execution_count": 28,
      "outputs": [
        {
          "output_type": "display_data",
          "data": {
            "text/plain": [
              "<Figure size 1400x500 with 4 Axes>"
            ],
            "image/png": "[encoded data removed]"
          },
          "metadata": {}
        }
      ]
    },
    {
      "cell_type": "markdown",
      "source": [
        "### Sugerencias para Futuras Exploraciones:\n",
        "### Optimización de Hiperparámetros"
      ],
      "metadata": {
        "id": "cGcTQ9T8hU_n"
      }
    },
    {
      "cell_type": "code",
      "source": [
        "!pip install keras-tuner --upgrade"
      ],
      "metadata": {
        "id": "NioikNpghzSI",
        "outputId": "e2415f32-3a24-4ef2-cdfa-b42174427aa4",
        "colab": {
          "base_uri": "https://localhost:8080/"
        }
      },
      "execution_count": 30,
      "outputs": [
        {
          "output_type": "stream",
          "name": "stdout",
          "text": [
            "Collecting keras-tuner\n",
            "  Downloading keras_tuner-1.4.7-py3-none-any.whl (129 kB)\n",
            "\u001b[?25l     \u001b[90m━━━━━━━━━━━━━━━━━━━━━━━━━━━━━━━━━━━━━━━━\u001b[0m \u001b[32m0.0/129.1 kB\u001b[0m \u001b[31m?\u001b[0m eta \u001b[36m-:--:--\u001b[0m\r\u001b[2K     \u001b[90m━━━━━━━━━━━━━━━━━━━━━━━━━━━━━━━━━━━━━━━━\u001b[0m \u001b[32m129.1/129.1 kB\u001b[0m \u001b[31m3.6 MB/s\u001b[0m eta \u001b[36m0:00:00\u001b[0m\n",
            "\u001b[?25hRequirement already satisfied: keras in /usr/local/lib/python3.10/dist-packages (from keras-tuner) (2.15.0)\n",
            "Requirement already satisfied: packaging in /usr/local/lib/python3.10/dist-packages (from keras-tuner) (24.0)\n",
            "Requirement already satisfied: requests in /usr/local/lib/python3.10/dist-packages (from keras-tuner) (2.31.0)\n",
            "Collecting kt-legacy (from keras-tuner)\n",
            "  Downloading kt_legacy-1.0.5-py3-none-any.whl (9.6 kB)\n",
            "Requirement already satisfied: charset-normalizer<4,>=2 in /usr/local/lib/python3.10/dist-packages (from requests->keras-tuner) (3.3.2)\n",
            "Requirement already satisfied: idna<4,>=2.5 in /usr/local/lib/python3.10/dist-packages (from requests->keras-tuner) (3.6)\n",
            "Requirement already satisfied: urllib3<3,>=1.21.1 in /usr/local/lib/python3.10/dist-packages (from requests->keras-tuner) (2.0.7)\n",
            "Requirement already satisfied: certifi>=2017.4.17 in /usr/local/lib/python3.10/dist-packages (from requests->keras-tuner) (2024.2.2)\n",
            "Installing collected packages: kt-legacy, keras-tuner\n",
            "Successfully installed keras-tuner-1.4.7 kt-legacy-1.0.5\n"
          ]
        }
      ]
    },
    {
      "cell_type": "code",
      "source": [
        "import tensorflow as tf\n",
        "from tensorflow import keras\n",
        "from kerastuner.tuners import RandomSearch"
      ],
      "metadata": {
        "id": "VRm09rrfWkJ1",
        "trusted": true
      },
      "execution_count": 31,
      "outputs": []
    },
    {
      "cell_type": "markdown",
      "source": [],
      "metadata": {
        "id": "zOyCu-VfWweW"
      }
    },
    {
      "cell_type": "markdown",
      "source": [
        "### Funcion"
      ],
      "metadata": {
        "id": "wA-DG2SGWpqZ"
      }
    },
    {
      "cell_type": "code",
      "source": [
        "def build_model(hp):\n",
        "    model = keras.Sequential()\n",
        "    model.add(keras.layers.Flatten(input_shape=(28, 28)))  # Ajusta según la forma de tus datos de entrada\n",
        "\n",
        "    # Permite a Keras Tuner decidir el número de neuronas en las primeras dos capas Dense\n",
        "    for i in range(2):  # Dos capas densas\n",
        "        model.add(keras.layers.Dense(\n",
        "            units=hp.Int('units_' + str(i), min_value=32, max_value=512, step=32),\n",
        "            activation='relu'))\n",
        "\n",
        "    model.add(keras.layers.Dense(10, activation='softmax'))  # Ajusta según el número de clases\n",
        "\n",
        "    # Permite a Keras Tuner decidir la tasa de aprendizaje\n",
        "    hp_learning_rate = hp.Choice('learning_rate', values=[1e-2, 1e-3, 1e-4])\n",
        "\n",
        "    model.compile(\n",
        "        optimizer=keras.optimizers.Adam(learning_rate=hp_learning_rate),\n",
        "        loss=keras.losses.SparseCategoricalCrossentropy(),\n",
        "        metrics=['accuracy'])\n",
        "\n",
        "    return model"
      ],
      "metadata": {
        "id": "dSGY9_uTWp6f",
        "trusted": true
      },
      "execution_count": 32,
      "outputs": []
    },
    {
      "cell_type": "markdown",
      "source": [
        "### # Crear el tuner y realizar la búsqueda de hiperparámetros"
      ],
      "metadata": {
        "id": "zttKj1MKWyAz"
      }
    },
    {
      "cell_type": "code",
      "source": [
        "tuner = RandomSearch(\n",
        "    build_model,\n",
        "    objective='val_accuracy',\n",
        "    max_trials=10,  # Número máximo de configuraciones de prueba\n",
        "    executions_per_trial=2,  # Número de modelos que se entrenan por prueba\n",
        "    directory='logs',  # Directorio para almacenar logs\n",
        "    project_name='keras_tuner_demo')"
      ],
      "metadata": {
        "id": "KtcoYqnnWyJD",
        "trusted": true,
        "outputId": "848c1992-467d-40a5-bff8-7fefd0d026c3",
        "colab": {
          "base_uri": "https://localhost:8080/"
        }
      },
      "execution_count": 41,
      "outputs": [
        {
          "output_type": "stream",
          "name": "stdout",
          "text": [
            "Reloading Tuner from logs/keras_tuner_demo/tuner0.json\n"
          ]
        }
      ]
    },
    {
      "cell_type": "markdown",
      "source": [
        "### SVHN con CNN ver fichero SVHN_CNN.ipynb"
      ],
      "metadata": {
        "id": "_WR40msmW7s-"
      }
    },
    {
      "cell_type": "code",
      "source": [],
      "metadata": {
        "id": "Ll61q_WZrNct"
      },
      "execution_count": null,
      "outputs": []
    }
  ]
}