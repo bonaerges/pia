{
  "nbformat": 4,
  "nbformat_minor": 0,
  "metadata": {
    "colab": {
      "provenance": [],
      "gpuType": "T4",
      "authorship_tag": "ABX9TyNaA/rXBFan+0l8oxQQ4gjw",
      "include_colab_link": true
    },
    "kernelspec": {
      "name": "python3",
      "display_name": "Python 3"
    },
    "language_info": {
      "name": "python"
    },
    "accelerator": "GPU",
    "widgets": {
      "application/vnd.jupyter.widget-state+json": {
        "8f438314cafd41de84ed880e40151dd1": {
          "model_module": "@jupyter-widgets/controls",
          "model_name": "HBoxModel",
          "model_module_version": "1.5.0",
          "state": {
            "_dom_classes": [],
            "_model_module": "@jupyter-widgets/controls",
            "_model_module_version": "1.5.0",
            "_model_name": "HBoxModel",
            "_view_count": null,
            "_view_module": "@jupyter-widgets/controls",
            "_view_module_version": "1.5.0",
            "_view_name": "HBoxView",
            "box_style": "",
            "children": [
              "IPY_MODEL_325df7f76406482f9f739da0e3de19d0",
              "IPY_MODEL_3f4e932614b64322882c0e5edcfed8ed",
              "IPY_MODEL_f41939b940414406abf0a0fe534e0395"
            ],
            "layout": "IPY_MODEL_82d61672e94b4390adade0c7da8689b6"
          }
        },
        "325df7f76406482f9f739da0e3de19d0": {
          "model_module": "@jupyter-widgets/controls",
          "model_name": "HTMLModel",
          "model_module_version": "1.5.0",
          "state": {
            "_dom_classes": [],
            "_model_module": "@jupyter-widgets/controls",
            "_model_module_version": "1.5.0",
            "_model_name": "HTMLModel",
            "_view_count": null,
            "_view_module": "@jupyter-widgets/controls",
            "_view_module_version": "1.5.0",
            "_view_name": "HTMLView",
            "description": "",
            "description_tooltip": null,
            "layout": "IPY_MODEL_506b3c539d724ffe86f0eecd779afb89",
            "placeholder": "​",
            "style": "IPY_MODEL_0dca0c4356e74520af94deb2a576be35",
            "value": "Dl Completed...: 100%"
          }
        },
        "3f4e932614b64322882c0e5edcfed8ed": {
          "model_module": "@jupyter-widgets/controls",
          "model_name": "FloatProgressModel",
          "model_module_version": "1.5.0",
          "state": {
            "_dom_classes": [],
            "_model_module": "@jupyter-widgets/controls",
            "_model_module_version": "1.5.0",
            "_model_name": "FloatProgressModel",
            "_view_count": null,
            "_view_module": "@jupyter-widgets/controls",
            "_view_module_version": "1.5.0",
            "_view_name": "ProgressView",
            "bar_style": "success",
            "description": "",
            "description_tooltip": null,
            "layout": "IPY_MODEL_a4cff25a48fd451aadcc662549607649",
            "max": 1,
            "min": 0,
            "orientation": "horizontal",
            "style": "IPY_MODEL_7d1d19bb713a469a92d2917a8243df76",
            "value": 1
          }
        },
        "f41939b940414406abf0a0fe534e0395": {
          "model_module": "@jupyter-widgets/controls",
          "model_name": "HTMLModel",
          "model_module_version": "1.5.0",
          "state": {
            "_dom_classes": [],
            "_model_module": "@jupyter-widgets/controls",
            "_model_module_version": "1.5.0",
            "_model_name": "HTMLModel",
            "_view_count": null,
            "_view_module": "@jupyter-widgets/controls",
            "_view_module_version": "1.5.0",
            "_view_name": "HTMLView",
            "description": "",
            "description_tooltip": null,
            "layout": "IPY_MODEL_2fd245d4e6fb45439f61a300e4a1d849",
            "placeholder": "​",
            "style": "IPY_MODEL_001641e5b1044bebaedc68d157ab17e2",
            "value": " 3/3 [02:31&lt;00:00, 63.51s/ url]"
          }
        },
        "82d61672e94b4390adade0c7da8689b6": {
          "model_module": "@jupyter-widgets/base",
          "model_name": "LayoutModel",
          "model_module_version": "1.2.0",
          "state": {
            "_model_module": "@jupyter-widgets/base",
            "_model_module_version": "1.2.0",
            "_model_name": "LayoutModel",
            "_view_count": null,
            "_view_module": "@jupyter-widgets/base",
            "_view_module_version": "1.2.0",
            "_view_name": "LayoutView",
            "align_content": null,
            "align_items": null,
            "align_self": null,
            "border": null,
            "bottom": null,
            "display": null,
            "flex": null,
            "flex_flow": null,
            "grid_area": null,
            "grid_auto_columns": null,
            "grid_auto_flow": null,
            "grid_auto_rows": null,
            "grid_column": null,
            "grid_gap": null,
            "grid_row": null,
            "grid_template_areas": null,
            "grid_template_columns": null,
            "grid_template_rows": null,
            "height": null,
            "justify_content": null,
            "justify_items": null,
            "left": null,
            "margin": null,
            "max_height": null,
            "max_width": null,
            "min_height": null,
            "min_width": null,
            "object_fit": null,
            "object_position": null,
            "order": null,
            "overflow": null,
            "overflow_x": null,
            "overflow_y": null,
            "padding": null,
            "right": null,
            "top": null,
            "visibility": null,
            "width": null
          }
        },
        "506b3c539d724ffe86f0eecd779afb89": {
          "model_module": "@jupyter-widgets/base",
          "model_name": "LayoutModel",
          "model_module_version": "1.2.0",
          "state": {
            "_model_module": "@jupyter-widgets/base",
            "_model_module_version": "1.2.0",
            "_model_name": "LayoutModel",
            "_view_count": null,
            "_view_module": "@jupyter-widgets/base",
            "_view_module_version": "1.2.0",
            "_view_name": "LayoutView",
            "align_content": null,
            "align_items": null,
            "align_self": null,
            "border": null,
            "bottom": null,
            "display": null,
            "flex": null,
            "flex_flow": null,
            "grid_area": null,
            "grid_auto_columns": null,
            "grid_auto_flow": null,
            "grid_auto_rows": null,
            "grid_column": null,
            "grid_gap": null,
            "grid_row": null,
            "grid_template_areas": null,
            "grid_template_columns": null,
            "grid_template_rows": null,
            "height": null,
            "justify_content": null,
            "justify_items": null,
            "left": null,
            "margin": null,
            "max_height": null,
            "max_width": null,
            "min_height": null,
            "min_width": null,
            "object_fit": null,
            "object_position": null,
            "order": null,
            "overflow": null,
            "overflow_x": null,
            "overflow_y": null,
            "padding": null,
            "right": null,
            "top": null,
            "visibility": null,
            "width": null
          }
        },
        "0dca0c4356e74520af94deb2a576be35": {
          "model_module": "@jupyter-widgets/controls",
          "model_name": "DescriptionStyleModel",
          "model_module_version": "1.5.0",
          "state": {
            "_model_module": "@jupyter-widgets/controls",
            "_model_module_version": "1.5.0",
            "_model_name": "DescriptionStyleModel",
            "_view_count": null,
            "_view_module": "@jupyter-widgets/base",
            "_view_module_version": "1.2.0",
            "_view_name": "StyleView",
            "description_width": ""
          }
        },
        "a4cff25a48fd451aadcc662549607649": {
          "model_module": "@jupyter-widgets/base",
          "model_name": "LayoutModel",
          "model_module_version": "1.2.0",
          "state": {
            "_model_module": "@jupyter-widgets/base",
            "_model_module_version": "1.2.0",
            "_model_name": "LayoutModel",
            "_view_count": null,
            "_view_module": "@jupyter-widgets/base",
            "_view_module_version": "1.2.0",
            "_view_name": "LayoutView",
            "align_content": null,
            "align_items": null,
            "align_self": null,
            "border": null,
            "bottom": null,
            "display": null,
            "flex": null,
            "flex_flow": null,
            "grid_area": null,
            "grid_auto_columns": null,
            "grid_auto_flow": null,
            "grid_auto_rows": null,
            "grid_column": null,
            "grid_gap": null,
            "grid_row": null,
            "grid_template_areas": null,
            "grid_template_columns": null,
            "grid_template_rows": null,
            "height": null,
            "justify_content": null,
            "justify_items": null,
            "left": null,
            "margin": null,
            "max_height": null,
            "max_width": null,
            "min_height": null,
            "min_width": null,
            "object_fit": null,
            "object_position": null,
            "order": null,
            "overflow": null,
            "overflow_x": null,
            "overflow_y": null,
            "padding": null,
            "right": null,
            "top": null,
            "visibility": null,
            "width": "20px"
          }
        },
        "7d1d19bb713a469a92d2917a8243df76": {
          "model_module": "@jupyter-widgets/controls",
          "model_name": "ProgressStyleModel",
          "model_module_version": "1.5.0",
          "state": {
            "_model_module": "@jupyter-widgets/controls",
            "_model_module_version": "1.5.0",
            "_model_name": "ProgressStyleModel",
            "_view_count": null,
            "_view_module": "@jupyter-widgets/base",
            "_view_module_version": "1.2.0",
            "_view_name": "StyleView",
            "bar_color": null,
            "description_width": ""
          }
        },
        "2fd245d4e6fb45439f61a300e4a1d849": {
          "model_module": "@jupyter-widgets/base",
          "model_name": "LayoutModel",
          "model_module_version": "1.2.0",
          "state": {
            "_model_module": "@jupyter-widgets/base",
            "_model_module_version": "1.2.0",
            "_model_name": "LayoutModel",
            "_view_count": null,
            "_view_module": "@jupyter-widgets/base",
            "_view_module_version": "1.2.0",
            "_view_name": "LayoutView",
            "align_content": null,
            "align_items": null,
            "align_self": null,
            "border": null,
            "bottom": null,
            "display": null,
            "flex": null,
            "flex_flow": null,
            "grid_area": null,
            "grid_auto_columns": null,
            "grid_auto_flow": null,
            "grid_auto_rows": null,
            "grid_column": null,
            "grid_gap": null,
            "grid_row": null,
            "grid_template_areas": null,
            "grid_template_columns": null,
            "grid_template_rows": null,
            "height": null,
            "justify_content": null,
            "justify_items": null,
            "left": null,
            "margin": null,
            "max_height": null,
            "max_width": null,
            "min_height": null,
            "min_width": null,
            "object_fit": null,
            "object_position": null,
            "order": null,
            "overflow": null,
            "overflow_x": null,
            "overflow_y": null,
            "padding": null,
            "right": null,
            "top": null,
            "visibility": null,
            "width": null
          }
        },
        "001641e5b1044bebaedc68d157ab17e2": {
          "model_module": "@jupyter-widgets/controls",
          "model_name": "DescriptionStyleModel",
          "model_module_version": "1.5.0",
          "state": {
            "_model_module": "@jupyter-widgets/controls",
            "_model_module_version": "1.5.0",
            "_model_name": "DescriptionStyleModel",
            "_view_count": null,
            "_view_module": "@jupyter-widgets/base",
            "_view_module_version": "1.2.0",
            "_view_name": "StyleView",
            "description_width": ""
          }
        },
        "0893b19fef5b4c388164b08d4440bdbc": {
          "model_module": "@jupyter-widgets/controls",
          "model_name": "HBoxModel",
          "model_module_version": "1.5.0",
          "state": {
            "_dom_classes": [],
            "_model_module": "@jupyter-widgets/controls",
            "_model_module_version": "1.5.0",
            "_model_name": "HBoxModel",
            "_view_count": null,
            "_view_module": "@jupyter-widgets/controls",
            "_view_module_version": "1.5.0",
            "_view_name": "HBoxView",
            "box_style": "",
            "children": [
              "IPY_MODEL_8614f1c891484584ba119212751549eb",
              "IPY_MODEL_9540e94ecffc4eaca41797371b9ed5b9",
              "IPY_MODEL_71acf32464604a3cab5b1203443cbbcf"
            ],
            "layout": "IPY_MODEL_1081c326fa914af09523c9f8261e3d43"
          }
        },
        "8614f1c891484584ba119212751549eb": {
          "model_module": "@jupyter-widgets/controls",
          "model_name": "HTMLModel",
          "model_module_version": "1.5.0",
          "state": {
            "_dom_classes": [],
            "_model_module": "@jupyter-widgets/controls",
            "_model_module_version": "1.5.0",
            "_model_name": "HTMLModel",
            "_view_count": null,
            "_view_module": "@jupyter-widgets/controls",
            "_view_module_version": "1.5.0",
            "_view_name": "HTMLView",
            "description": "",
            "description_tooltip": null,
            "layout": "IPY_MODEL_74934ba68c714d9daae6714a447fec3b",
            "placeholder": "​",
            "style": "IPY_MODEL_abcbd5309eeb4a08a2e429525f778ee7",
            "value": "Dl Size...: 100%"
          }
        },
        "9540e94ecffc4eaca41797371b9ed5b9": {
          "model_module": "@jupyter-widgets/controls",
          "model_name": "FloatProgressModel",
          "model_module_version": "1.5.0",
          "state": {
            "_dom_classes": [],
            "_model_module": "@jupyter-widgets/controls",
            "_model_module_version": "1.5.0",
            "_model_name": "FloatProgressModel",
            "_view_count": null,
            "_view_module": "@jupyter-widgets/controls",
            "_view_module_version": "1.5.0",
            "_view_name": "ProgressView",
            "bar_style": "success",
            "description": "",
            "description_tooltip": null,
            "layout": "IPY_MODEL_27aded2300944eb28662c1c7efafe141",
            "max": 1,
            "min": 0,
            "orientation": "horizontal",
            "style": "IPY_MODEL_5075a197fa5e4f6fa92b0a6b930b9fae",
            "value": 1
          }
        },
        "71acf32464604a3cab5b1203443cbbcf": {
          "model_module": "@jupyter-widgets/controls",
          "model_name": "HTMLModel",
          "model_module_version": "1.5.0",
          "state": {
            "_dom_classes": [],
            "_model_module": "@jupyter-widgets/controls",
            "_model_module_version": "1.5.0",
            "_model_name": "HTMLModel",
            "_view_count": null,
            "_view_module": "@jupyter-widgets/controls",
            "_view_module_version": "1.5.0",
            "_view_name": "HTMLView",
            "description": "",
            "description_tooltip": null,
            "layout": "IPY_MODEL_1684274e4bbf40ae9694d304f01124a2",
            "placeholder": "​",
            "style": "IPY_MODEL_55f0917e06a9446fa61b6f1c9901affb",
            "value": " 1501/1501 [02:31&lt;00:00,  8.97 MiB/s]"
          }
        },
        "1081c326fa914af09523c9f8261e3d43": {
          "model_module": "@jupyter-widgets/base",
          "model_name": "LayoutModel",
          "model_module_version": "1.2.0",
          "state": {
            "_model_module": "@jupyter-widgets/base",
            "_model_module_version": "1.2.0",
            "_model_name": "LayoutModel",
            "_view_count": null,
            "_view_module": "@jupyter-widgets/base",
            "_view_module_version": "1.2.0",
            "_view_name": "LayoutView",
            "align_content": null,
            "align_items": null,
            "align_self": null,
            "border": null,
            "bottom": null,
            "display": null,
            "flex": null,
            "flex_flow": null,
            "grid_area": null,
            "grid_auto_columns": null,
            "grid_auto_flow": null,
            "grid_auto_rows": null,
            "grid_column": null,
            "grid_gap": null,
            "grid_row": null,
            "grid_template_areas": null,
            "grid_template_columns": null,
            "grid_template_rows": null,
            "height": null,
            "justify_content": null,
            "justify_items": null,
            "left": null,
            "margin": null,
            "max_height": null,
            "max_width": null,
            "min_height": null,
            "min_width": null,
            "object_fit": null,
            "object_position": null,
            "order": null,
            "overflow": null,
            "overflow_x": null,
            "overflow_y": null,
            "padding": null,
            "right": null,
            "top": null,
            "visibility": null,
            "width": null
          }
        },
        "74934ba68c714d9daae6714a447fec3b": {
          "model_module": "@jupyter-widgets/base",
          "model_name": "LayoutModel",
          "model_module_version": "1.2.0",
          "state": {
            "_model_module": "@jupyter-widgets/base",
            "_model_module_version": "1.2.0",
            "_model_name": "LayoutModel",
            "_view_count": null,
            "_view_module": "@jupyter-widgets/base",
            "_view_module_version": "1.2.0",
            "_view_name": "LayoutView",
            "align_content": null,
            "align_items": null,
            "align_self": null,
            "border": null,
            "bottom": null,
            "display": null,
            "flex": null,
            "flex_flow": null,
            "grid_area": null,
            "grid_auto_columns": null,
            "grid_auto_flow": null,
            "grid_auto_rows": null,
            "grid_column": null,
            "grid_gap": null,
            "grid_row": null,
            "grid_template_areas": null,
            "grid_template_columns": null,
            "grid_template_rows": null,
            "height": null,
            "justify_content": null,
            "justify_items": null,
            "left": null,
            "margin": null,
            "max_height": null,
            "max_width": null,
            "min_height": null,
            "min_width": null,
            "object_fit": null,
            "object_position": null,
            "order": null,
            "overflow": null,
            "overflow_x": null,
            "overflow_y": null,
            "padding": null,
            "right": null,
            "top": null,
            "visibility": null,
            "width": null
          }
        },
        "abcbd5309eeb4a08a2e429525f778ee7": {
          "model_module": "@jupyter-widgets/controls",
          "model_name": "DescriptionStyleModel",
          "model_module_version": "1.5.0",
          "state": {
            "_model_module": "@jupyter-widgets/controls",
            "_model_module_version": "1.5.0",
            "_model_name": "DescriptionStyleModel",
            "_view_count": null,
            "_view_module": "@jupyter-widgets/base",
            "_view_module_version": "1.2.0",
            "_view_name": "StyleView",
            "description_width": ""
          }
        },
        "27aded2300944eb28662c1c7efafe141": {
          "model_module": "@jupyter-widgets/base",
          "model_name": "LayoutModel",
          "model_module_version": "1.2.0",
          "state": {
            "_model_module": "@jupyter-widgets/base",
            "_model_module_version": "1.2.0",
            "_model_name": "LayoutModel",
            "_view_count": null,
            "_view_module": "@jupyter-widgets/base",
            "_view_module_version": "1.2.0",
            "_view_name": "LayoutView",
            "align_content": null,
            "align_items": null,
            "align_self": null,
            "border": null,
            "bottom": null,
            "display": null,
            "flex": null,
            "flex_flow": null,
            "grid_area": null,
            "grid_auto_columns": null,
            "grid_auto_flow": null,
            "grid_auto_rows": null,
            "grid_column": null,
            "grid_gap": null,
            "grid_row": null,
            "grid_template_areas": null,
            "grid_template_columns": null,
            "grid_template_rows": null,
            "height": null,
            "justify_content": null,
            "justify_items": null,
            "left": null,
            "margin": null,
            "max_height": null,
            "max_width": null,
            "min_height": null,
            "min_width": null,
            "object_fit": null,
            "object_position": null,
            "order": null,
            "overflow": null,
            "overflow_x": null,
            "overflow_y": null,
            "padding": null,
            "right": null,
            "top": null,
            "visibility": null,
            "width": "20px"
          }
        },
        "5075a197fa5e4f6fa92b0a6b930b9fae": {
          "model_module": "@jupyter-widgets/controls",
          "model_name": "ProgressStyleModel",
          "model_module_version": "1.5.0",
          "state": {
            "_model_module": "@jupyter-widgets/controls",
            "_model_module_version": "1.5.0",
            "_model_name": "ProgressStyleModel",
            "_view_count": null,
            "_view_module": "@jupyter-widgets/base",
            "_view_module_version": "1.2.0",
            "_view_name": "StyleView",
            "bar_color": null,
            "description_width": ""
          }
        },
        "1684274e4bbf40ae9694d304f01124a2": {
          "model_module": "@jupyter-widgets/base",
          "model_name": "LayoutModel",
          "model_module_version": "1.2.0",
          "state": {
            "_model_module": "@jupyter-widgets/base",
            "_model_module_version": "1.2.0",
            "_model_name": "LayoutModel",
            "_view_count": null,
            "_view_module": "@jupyter-widgets/base",
            "_view_module_version": "1.2.0",
            "_view_name": "LayoutView",
            "align_content": null,
            "align_items": null,
            "align_self": null,
            "border": null,
            "bottom": null,
            "display": null,
            "flex": null,
            "flex_flow": null,
            "grid_area": null,
            "grid_auto_columns": null,
            "grid_auto_flow": null,
            "grid_auto_rows": null,
            "grid_column": null,
            "grid_gap": null,
            "grid_row": null,
            "grid_template_areas": null,
            "grid_template_columns": null,
            "grid_template_rows": null,
            "height": null,
            "justify_content": null,
            "justify_items": null,
            "left": null,
            "margin": null,
            "max_height": null,
            "max_width": null,
            "min_height": null,
            "min_width": null,
            "object_fit": null,
            "object_position": null,
            "order": null,
            "overflow": null,
            "overflow_x": null,
            "overflow_y": null,
            "padding": null,
            "right": null,
            "top": null,
            "visibility": null,
            "width": null
          }
        },
        "55f0917e06a9446fa61b6f1c9901affb": {
          "model_module": "@jupyter-widgets/controls",
          "model_name": "DescriptionStyleModel",
          "model_module_version": "1.5.0",
          "state": {
            "_model_module": "@jupyter-widgets/controls",
            "_model_module_version": "1.5.0",
            "_model_name": "DescriptionStyleModel",
            "_view_count": null,
            "_view_module": "@jupyter-widgets/base",
            "_view_module_version": "1.2.0",
            "_view_name": "StyleView",
            "description_width": ""
          }
        },
        "405e7a1eb1b64be3905848ad7e51d2f1": {
          "model_module": "@jupyter-widgets/controls",
          "model_name": "HBoxModel",
          "model_module_version": "1.5.0",
          "state": {
            "_dom_classes": [],
            "_model_module": "@jupyter-widgets/controls",
            "_model_module_version": "1.5.0",
            "_model_name": "HBoxModel",
            "_view_count": null,
            "_view_module": "@jupyter-widgets/controls",
            "_view_module_version": "1.5.0",
            "_view_name": "HBoxView",
            "box_style": "",
            "children": [
              "IPY_MODEL_6b95e46ecfec4a76a8ca4e7ea5f750ac",
              "IPY_MODEL_739ca4a87bde48c5808588c017b9fe28",
              "IPY_MODEL_4750380f02e64761988ff66beda5d3d6"
            ],
            "layout": "IPY_MODEL_1a0a96b902a14acc9295daa0aad24b07"
          }
        },
        "6b95e46ecfec4a76a8ca4e7ea5f750ac": {
          "model_module": "@jupyter-widgets/controls",
          "model_name": "HTMLModel",
          "model_module_version": "1.5.0",
          "state": {
            "_dom_classes": [],
            "_model_module": "@jupyter-widgets/controls",
            "_model_module_version": "1.5.0",
            "_model_name": "HTMLModel",
            "_view_count": null,
            "_view_module": "@jupyter-widgets/controls",
            "_view_module_version": "1.5.0",
            "_view_name": "HTMLView",
            "description": "",
            "description_tooltip": null,
            "layout": "IPY_MODEL_888354c4e8b54087800e2fd0c398985d",
            "placeholder": "​",
            "style": "IPY_MODEL_19a12d155ecb4296b626c19120cb7614",
            "value": "Generating splits...: 100%"
          }
        },
        "739ca4a87bde48c5808588c017b9fe28": {
          "model_module": "@jupyter-widgets/controls",
          "model_name": "FloatProgressModel",
          "model_module_version": "1.5.0",
          "state": {
            "_dom_classes": [],
            "_model_module": "@jupyter-widgets/controls",
            "_model_module_version": "1.5.0",
            "_model_name": "FloatProgressModel",
            "_view_count": null,
            "_view_module": "@jupyter-widgets/controls",
            "_view_module_version": "1.5.0",
            "_view_name": "ProgressView",
            "bar_style": "",
            "description": "",
            "description_tooltip": null,
            "layout": "IPY_MODEL_b9bd4e4e84444acdbb919905499ff35f",
            "max": 3,
            "min": 0,
            "orientation": "horizontal",
            "style": "IPY_MODEL_c3bb5ca22c2f4157832c2c68d54f3d5e",
            "value": 3
          }
        },
        "4750380f02e64761988ff66beda5d3d6": {
          "model_module": "@jupyter-widgets/controls",
          "model_name": "HTMLModel",
          "model_module_version": "1.5.0",
          "state": {
            "_dom_classes": [],
            "_model_module": "@jupyter-widgets/controls",
            "_model_module_version": "1.5.0",
            "_model_name": "HTMLModel",
            "_view_count": null,
            "_view_module": "@jupyter-widgets/controls",
            "_view_module_version": "1.5.0",
            "_view_name": "HTMLView",
            "description": "",
            "description_tooltip": null,
            "layout": "IPY_MODEL_18781f1855d1417cb9749fbe0224376b",
            "placeholder": "​",
            "style": "IPY_MODEL_6446443a09af499289e452f14dd18e17",
            "value": " 3/3 [09:13&lt;00:00, 234.27s/ splits]"
          }
        },
        "1a0a96b902a14acc9295daa0aad24b07": {
          "model_module": "@jupyter-widgets/base",
          "model_name": "LayoutModel",
          "model_module_version": "1.2.0",
          "state": {
            "_model_module": "@jupyter-widgets/base",
            "_model_module_version": "1.2.0",
            "_model_name": "LayoutModel",
            "_view_count": null,
            "_view_module": "@jupyter-widgets/base",
            "_view_module_version": "1.2.0",
            "_view_name": "LayoutView",
            "align_content": null,
            "align_items": null,
            "align_self": null,
            "border": null,
            "bottom": null,
            "display": null,
            "flex": null,
            "flex_flow": null,
            "grid_area": null,
            "grid_auto_columns": null,
            "grid_auto_flow": null,
            "grid_auto_rows": null,
            "grid_column": null,
            "grid_gap": null,
            "grid_row": null,
            "grid_template_areas": null,
            "grid_template_columns": null,
            "grid_template_rows": null,
            "height": null,
            "justify_content": null,
            "justify_items": null,
            "left": null,
            "margin": null,
            "max_height": null,
            "max_width": null,
            "min_height": null,
            "min_width": null,
            "object_fit": null,
            "object_position": null,
            "order": null,
            "overflow": null,
            "overflow_x": null,
            "overflow_y": null,
            "padding": null,
            "right": null,
            "top": null,
            "visibility": "hidden",
            "width": null
          }
        },
        "888354c4e8b54087800e2fd0c398985d": {
          "model_module": "@jupyter-widgets/base",
          "model_name": "LayoutModel",
          "model_module_version": "1.2.0",
          "state": {
            "_model_module": "@jupyter-widgets/base",
            "_model_module_version": "1.2.0",
            "_model_name": "LayoutModel",
            "_view_count": null,
            "_view_module": "@jupyter-widgets/base",
            "_view_module_version": "1.2.0",
            "_view_name": "LayoutView",
            "align_content": null,
            "align_items": null,
            "align_self": null,
            "border": null,
            "bottom": null,
            "display": null,
            "flex": null,
            "flex_flow": null,
            "grid_area": null,
            "grid_auto_columns": null,
            "grid_auto_flow": null,
            "grid_auto_rows": null,
            "grid_column": null,
            "grid_gap": null,
            "grid_row": null,
            "grid_template_areas": null,
            "grid_template_columns": null,
            "grid_template_rows": null,
            "height": null,
            "justify_content": null,
            "justify_items": null,
            "left": null,
            "margin": null,
            "max_height": null,
            "max_width": null,
            "min_height": null,
            "min_width": null,
            "object_fit": null,
            "object_position": null,
            "order": null,
            "overflow": null,
            "overflow_x": null,
            "overflow_y": null,
            "padding": null,
            "right": null,
            "top": null,
            "visibility": null,
            "width": null
          }
        },
        "19a12d155ecb4296b626c19120cb7614": {
          "model_module": "@jupyter-widgets/controls",
          "model_name": "DescriptionStyleModel",
          "model_module_version": "1.5.0",
          "state": {
            "_model_module": "@jupyter-widgets/controls",
            "_model_module_version": "1.5.0",
            "_model_name": "DescriptionStyleModel",
            "_view_count": null,
            "_view_module": "@jupyter-widgets/base",
            "_view_module_version": "1.2.0",
            "_view_name": "StyleView",
            "description_width": ""
          }
        },
        "b9bd4e4e84444acdbb919905499ff35f": {
          "model_module": "@jupyter-widgets/base",
          "model_name": "LayoutModel",
          "model_module_version": "1.2.0",
          "state": {
            "_model_module": "@jupyter-widgets/base",
            "_model_module_version": "1.2.0",
            "_model_name": "LayoutModel",
            "_view_count": null,
            "_view_module": "@jupyter-widgets/base",
            "_view_module_version": "1.2.0",
            "_view_name": "LayoutView",
            "align_content": null,
            "align_items": null,
            "align_self": null,
            "border": null,
            "bottom": null,
            "display": null,
            "flex": null,
            "flex_flow": null,
            "grid_area": null,
            "grid_auto_columns": null,
            "grid_auto_flow": null,
            "grid_auto_rows": null,
            "grid_column": null,
            "grid_gap": null,
            "grid_row": null,
            "grid_template_areas": null,
            "grid_template_columns": null,
            "grid_template_rows": null,
            "height": null,
            "justify_content": null,
            "justify_items": null,
            "left": null,
            "margin": null,
            "max_height": null,
            "max_width": null,
            "min_height": null,
            "min_width": null,
            "object_fit": null,
            "object_position": null,
            "order": null,
            "overflow": null,
            "overflow_x": null,
            "overflow_y": null,
            "padding": null,
            "right": null,
            "top": null,
            "visibility": null,
            "width": null
          }
        },
        "c3bb5ca22c2f4157832c2c68d54f3d5e": {
          "model_module": "@jupyter-widgets/controls",
          "model_name": "ProgressStyleModel",
          "model_module_version": "1.5.0",
          "state": {
            "_model_module": "@jupyter-widgets/controls",
            "_model_module_version": "1.5.0",
            "_model_name": "ProgressStyleModel",
            "_view_count": null,
            "_view_module": "@jupyter-widgets/base",
            "_view_module_version": "1.2.0",
            "_view_name": "StyleView",
            "bar_color": null,
            "description_width": ""
          }
        },
        "18781f1855d1417cb9749fbe0224376b": {
          "model_module": "@jupyter-widgets/base",
          "model_name": "LayoutModel",
          "model_module_version": "1.2.0",
          "state": {
            "_model_module": "@jupyter-widgets/base",
            "_model_module_version": "1.2.0",
            "_model_name": "LayoutModel",
            "_view_count": null,
            "_view_module": "@jupyter-widgets/base",
            "_view_module_version": "1.2.0",
            "_view_name": "LayoutView",
            "align_content": null,
            "align_items": null,
            "align_self": null,
            "border": null,
            "bottom": null,
            "display": null,
            "flex": null,
            "flex_flow": null,
            "grid_area": null,
            "grid_auto_columns": null,
            "grid_auto_flow": null,
            "grid_auto_rows": null,
            "grid_column": null,
            "grid_gap": null,
            "grid_row": null,
            "grid_template_areas": null,
            "grid_template_columns": null,
            "grid_template_rows": null,
            "height": null,
            "justify_content": null,
            "justify_items": null,
            "left": null,
            "margin": null,
            "max_height": null,
            "max_width": null,
            "min_height": null,
            "min_width": null,
            "object_fit": null,
            "object_position": null,
            "order": null,
            "overflow": null,
            "overflow_x": null,
            "overflow_y": null,
            "padding": null,
            "right": null,
            "top": null,
            "visibility": null,
            "width": null
          }
        },
        "6446443a09af499289e452f14dd18e17": {
          "model_module": "@jupyter-widgets/controls",
          "model_name": "DescriptionStyleModel",
          "model_module_version": "1.5.0",
          "state": {
            "_model_module": "@jupyter-widgets/controls",
            "_model_module_version": "1.5.0",
            "_model_name": "DescriptionStyleModel",
            "_view_count": null,
            "_view_module": "@jupyter-widgets/base",
            "_view_module_version": "1.2.0",
            "_view_name": "StyleView",
            "description_width": ""
          }
        },
        "c328cc02e77b484295a0f117225fc3fe": {
          "model_module": "@jupyter-widgets/controls",
          "model_name": "HBoxModel",
          "model_module_version": "1.5.0",
          "state": {
            "_dom_classes": [],
            "_model_module": "@jupyter-widgets/controls",
            "_model_module_version": "1.5.0",
            "_model_name": "HBoxModel",
            "_view_count": null,
            "_view_module": "@jupyter-widgets/controls",
            "_view_module_version": "1.5.0",
            "_view_name": "HBoxView",
            "box_style": "",
            "children": [
              "IPY_MODEL_8b2f37a1d10744cebadbe0db13230eb6",
              "IPY_MODEL_bf4dc1c64fda491288bebe17c04eacde",
              "IPY_MODEL_29cf252f1c1444ac83417af3f211fbfe"
            ],
            "layout": "IPY_MODEL_58df0f5740db4f80aeda3c02c3bf2eec"
          }
        },
        "8b2f37a1d10744cebadbe0db13230eb6": {
          "model_module": "@jupyter-widgets/controls",
          "model_name": "HTMLModel",
          "model_module_version": "1.5.0",
          "state": {
            "_dom_classes": [],
            "_model_module": "@jupyter-widgets/controls",
            "_model_module_version": "1.5.0",
            "_model_name": "HTMLModel",
            "_view_count": null,
            "_view_module": "@jupyter-widgets/controls",
            "_view_module_version": "1.5.0",
            "_view_name": "HTMLView",
            "description": "",
            "description_tooltip": null,
            "layout": "IPY_MODEL_ca9b76629baa4844b5bcca0ad6abc8a4",
            "placeholder": "​",
            "style": "IPY_MODEL_d79256d6fe384531bff553fe852fcc9a",
            "value": "Generating train examples...: 100%"
          }
        },
        "bf4dc1c64fda491288bebe17c04eacde": {
          "model_module": "@jupyter-widgets/controls",
          "model_name": "FloatProgressModel",
          "model_module_version": "1.5.0",
          "state": {
            "_dom_classes": [],
            "_model_module": "@jupyter-widgets/controls",
            "_model_module_version": "1.5.0",
            "_model_name": "FloatProgressModel",
            "_view_count": null,
            "_view_module": "@jupyter-widgets/controls",
            "_view_module_version": "1.5.0",
            "_view_name": "ProgressView",
            "bar_style": "",
            "description": "",
            "description_tooltip": null,
            "layout": "IPY_MODEL_36aa75d0527043f299c273eae7ee7f72",
            "max": 73257,
            "min": 0,
            "orientation": "horizontal",
            "style": "IPY_MODEL_3191c1f315634b6f8e8e954267532d75",
            "value": 73257
          }
        },
        "29cf252f1c1444ac83417af3f211fbfe": {
          "model_module": "@jupyter-widgets/controls",
          "model_name": "HTMLModel",
          "model_module_version": "1.5.0",
          "state": {
            "_dom_classes": [],
            "_model_module": "@jupyter-widgets/controls",
            "_model_module_version": "1.5.0",
            "_model_name": "HTMLModel",
            "_view_count": null,
            "_view_module": "@jupyter-widgets/controls",
            "_view_module_version": "1.5.0",
            "_view_name": "HTMLView",
            "description": "",
            "description_tooltip": null,
            "layout": "IPY_MODEL_a6a156d67d974312b9c757ef1c32156d",
            "placeholder": "​",
            "style": "IPY_MODEL_aec92bd13fc245b7ab52f4ea2e3af652",
            "value": " 73152/73257 [01:04&lt;00:00, 1144.80 examples/s]"
          }
        },
        "58df0f5740db4f80aeda3c02c3bf2eec": {
          "model_module": "@jupyter-widgets/base",
          "model_name": "LayoutModel",
          "model_module_version": "1.2.0",
          "state": {
            "_model_module": "@jupyter-widgets/base",
            "_model_module_version": "1.2.0",
            "_model_name": "LayoutModel",
            "_view_count": null,
            "_view_module": "@jupyter-widgets/base",
            "_view_module_version": "1.2.0",
            "_view_name": "LayoutView",
            "align_content": null,
            "align_items": null,
            "align_self": null,
            "border": null,
            "bottom": null,
            "display": null,
            "flex": null,
            "flex_flow": null,
            "grid_area": null,
            "grid_auto_columns": null,
            "grid_auto_flow": null,
            "grid_auto_rows": null,
            "grid_column": null,
            "grid_gap": null,
            "grid_row": null,
            "grid_template_areas": null,
            "grid_template_columns": null,
            "grid_template_rows": null,
            "height": null,
            "justify_content": null,
            "justify_items": null,
            "left": null,
            "margin": null,
            "max_height": null,
            "max_width": null,
            "min_height": null,
            "min_width": null,
            "object_fit": null,
            "object_position": null,
            "order": null,
            "overflow": null,
            "overflow_x": null,
            "overflow_y": null,
            "padding": null,
            "right": null,
            "top": null,
            "visibility": "hidden",
            "width": null
          }
        },
        "ca9b76629baa4844b5bcca0ad6abc8a4": {
          "model_module": "@jupyter-widgets/base",
          "model_name": "LayoutModel",
          "model_module_version": "1.2.0",
          "state": {
            "_model_module": "@jupyter-widgets/base",
            "_model_module_version": "1.2.0",
            "_model_name": "LayoutModel",
            "_view_count": null,
            "_view_module": "@jupyter-widgets/base",
            "_view_module_version": "1.2.0",
            "_view_name": "LayoutView",
            "align_content": null,
            "align_items": null,
            "align_self": null,
            "border": null,
            "bottom": null,
            "display": null,
            "flex": null,
            "flex_flow": null,
            "grid_area": null,
            "grid_auto_columns": null,
            "grid_auto_flow": null,
            "grid_auto_rows": null,
            "grid_column": null,
            "grid_gap": null,
            "grid_row": null,
            "grid_template_areas": null,
            "grid_template_columns": null,
            "grid_template_rows": null,
            "height": null,
            "justify_content": null,
            "justify_items": null,
            "left": null,
            "margin": null,
            "max_height": null,
            "max_width": null,
            "min_height": null,
            "min_width": null,
            "object_fit": null,
            "object_position": null,
            "order": null,
            "overflow": null,
            "overflow_x": null,
            "overflow_y": null,
            "padding": null,
            "right": null,
            "top": null,
            "visibility": null,
            "width": null
          }
        },
        "d79256d6fe384531bff553fe852fcc9a": {
          "model_module": "@jupyter-widgets/controls",
          "model_name": "DescriptionStyleModel",
          "model_module_version": "1.5.0",
          "state": {
            "_model_module": "@jupyter-widgets/controls",
            "_model_module_version": "1.5.0",
            "_model_name": "DescriptionStyleModel",
            "_view_count": null,
            "_view_module": "@jupyter-widgets/base",
            "_view_module_version": "1.2.0",
            "_view_name": "StyleView",
            "description_width": ""
          }
        },
        "36aa75d0527043f299c273eae7ee7f72": {
          "model_module": "@jupyter-widgets/base",
          "model_name": "LayoutModel",
          "model_module_version": "1.2.0",
          "state": {
            "_model_module": "@jupyter-widgets/base",
            "_model_module_version": "1.2.0",
            "_model_name": "LayoutModel",
            "_view_count": null,
            "_view_module": "@jupyter-widgets/base",
            "_view_module_version": "1.2.0",
            "_view_name": "LayoutView",
            "align_content": null,
            "align_items": null,
            "align_self": null,
            "border": null,
            "bottom": null,
            "display": null,
            "flex": null,
            "flex_flow": null,
            "grid_area": null,
            "grid_auto_columns": null,
            "grid_auto_flow": null,
            "grid_auto_rows": null,
            "grid_column": null,
            "grid_gap": null,
            "grid_row": null,
            "grid_template_areas": null,
            "grid_template_columns": null,
            "grid_template_rows": null,
            "height": null,
            "justify_content": null,
            "justify_items": null,
            "left": null,
            "margin": null,
            "max_height": null,
            "max_width": null,
            "min_height": null,
            "min_width": null,
            "object_fit": null,
            "object_position": null,
            "order": null,
            "overflow": null,
            "overflow_x": null,
            "overflow_y": null,
            "padding": null,
            "right": null,
            "top": null,
            "visibility": null,
            "width": null
          }
        },
        "3191c1f315634b6f8e8e954267532d75": {
          "model_module": "@jupyter-widgets/controls",
          "model_name": "ProgressStyleModel",
          "model_module_version": "1.5.0",
          "state": {
            "_model_module": "@jupyter-widgets/controls",
            "_model_module_version": "1.5.0",
            "_model_name": "ProgressStyleModel",
            "_view_count": null,
            "_view_module": "@jupyter-widgets/base",
            "_view_module_version": "1.2.0",
            "_view_name": "StyleView",
            "bar_color": null,
            "description_width": ""
          }
        },
        "a6a156d67d974312b9c757ef1c32156d": {
          "model_module": "@jupyter-widgets/base",
          "model_name": "LayoutModel",
          "model_module_version": "1.2.0",
          "state": {
            "_model_module": "@jupyter-widgets/base",
            "_model_module_version": "1.2.0",
            "_model_name": "LayoutModel",
            "_view_count": null,
            "_view_module": "@jupyter-widgets/base",
            "_view_module_version": "1.2.0",
            "_view_name": "LayoutView",
            "align_content": null,
            "align_items": null,
            "align_self": null,
            "border": null,
            "bottom": null,
            "display": null,
            "flex": null,
            "flex_flow": null,
            "grid_area": null,
            "grid_auto_columns": null,
            "grid_auto_flow": null,
            "grid_auto_rows": null,
            "grid_column": null,
            "grid_gap": null,
            "grid_row": null,
            "grid_template_areas": null,
            "grid_template_columns": null,
            "grid_template_rows": null,
            "height": null,
            "justify_content": null,
            "justify_items": null,
            "left": null,
            "margin": null,
            "max_height": null,
            "max_width": null,
            "min_height": null,
            "min_width": null,
            "object_fit": null,
            "object_position": null,
            "order": null,
            "overflow": null,
            "overflow_x": null,
            "overflow_y": null,
            "padding": null,
            "right": null,
            "top": null,
            "visibility": null,
            "width": null
          }
        },
        "aec92bd13fc245b7ab52f4ea2e3af652": {
          "model_module": "@jupyter-widgets/controls",
          "model_name": "DescriptionStyleModel",
          "model_module_version": "1.5.0",
          "state": {
            "_model_module": "@jupyter-widgets/controls",
            "_model_module_version": "1.5.0",
            "_model_name": "DescriptionStyleModel",
            "_view_count": null,
            "_view_module": "@jupyter-widgets/base",
            "_view_module_version": "1.2.0",
            "_view_name": "StyleView",
            "description_width": ""
          }
        },
        "4cd36faf6774437a8d63c936165dcb92": {
          "model_module": "@jupyter-widgets/controls",
          "model_name": "HBoxModel",
          "model_module_version": "1.5.0",
          "state": {
            "_dom_classes": [],
            "_model_module": "@jupyter-widgets/controls",
            "_model_module_version": "1.5.0",
            "_model_name": "HBoxModel",
            "_view_count": null,
            "_view_module": "@jupyter-widgets/controls",
            "_view_module_version": "1.5.0",
            "_view_name": "HBoxView",
            "box_style": "",
            "children": [
              "IPY_MODEL_9972a28dca8147d8895d342c07d2239f",
              "IPY_MODEL_480119688e654c67b4bd3246b5225d62",
              "IPY_MODEL_3352f5638553489d8a6e5eb193780d6f"
            ],
            "layout": "IPY_MODEL_5f6ee7db394d483eacb0a52518f79002"
          }
        },
        "9972a28dca8147d8895d342c07d2239f": {
          "model_module": "@jupyter-widgets/controls",
          "model_name": "HTMLModel",
          "model_module_version": "1.5.0",
          "state": {
            "_dom_classes": [],
            "_model_module": "@jupyter-widgets/controls",
            "_model_module_version": "1.5.0",
            "_model_name": "HTMLModel",
            "_view_count": null,
            "_view_module": "@jupyter-widgets/controls",
            "_view_module_version": "1.5.0",
            "_view_name": "HTMLView",
            "description": "",
            "description_tooltip": null,
            "layout": "IPY_MODEL_73144625d18c4f5aa9bf1fb2fd134101",
            "placeholder": "​",
            "style": "IPY_MODEL_14d6efd75b2443a59897a4f14826e381",
            "value": "Shuffling /root/tensorflow_datasets/svhn_cropped/3.0.0.incomplete3DKYO5/svhn_cropped-train.tfrecord*...:  97%"
          }
        },
        "480119688e654c67b4bd3246b5225d62": {
          "model_module": "@jupyter-widgets/controls",
          "model_name": "FloatProgressModel",
          "model_module_version": "1.5.0",
          "state": {
            "_dom_classes": [],
            "_model_module": "@jupyter-widgets/controls",
            "_model_module_version": "1.5.0",
            "_model_name": "FloatProgressModel",
            "_view_count": null,
            "_view_module": "@jupyter-widgets/controls",
            "_view_module_version": "1.5.0",
            "_view_name": "ProgressView",
            "bar_style": "",
            "description": "",
            "description_tooltip": null,
            "layout": "IPY_MODEL_d128721e32804f0ab4248a3acb6a4f66",
            "max": 73257,
            "min": 0,
            "orientation": "horizontal",
            "style": "IPY_MODEL_7034d0ffdbe1421aac063b4b1607c1de",
            "value": 73257
          }
        },
        "3352f5638553489d8a6e5eb193780d6f": {
          "model_module": "@jupyter-widgets/controls",
          "model_name": "HTMLModel",
          "model_module_version": "1.5.0",
          "state": {
            "_dom_classes": [],
            "_model_module": "@jupyter-widgets/controls",
            "_model_module_version": "1.5.0",
            "_model_name": "HTMLModel",
            "_view_count": null,
            "_view_module": "@jupyter-widgets/controls",
            "_view_module_version": "1.5.0",
            "_view_name": "HTMLView",
            "description": "",
            "description_tooltip": null,
            "layout": "IPY_MODEL_1a2f7317ea3b4de1a7d3a51f3a6034cd",
            "placeholder": "​",
            "style": "IPY_MODEL_28cc1b9f38cf492790d2ba39cf39f069",
            "value": " 70817/73257 [00:00&lt;00:00, 184314.78 examples/s]"
          }
        },
        "5f6ee7db394d483eacb0a52518f79002": {
          "model_module": "@jupyter-widgets/base",
          "model_name": "LayoutModel",
          "model_module_version": "1.2.0",
          "state": {
            "_model_module": "@jupyter-widgets/base",
            "_model_module_version": "1.2.0",
            "_model_name": "LayoutModel",
            "_view_count": null,
            "_view_module": "@jupyter-widgets/base",
            "_view_module_version": "1.2.0",
            "_view_name": "LayoutView",
            "align_content": null,
            "align_items": null,
            "align_self": null,
            "border": null,
            "bottom": null,
            "display": null,
            "flex": null,
            "flex_flow": null,
            "grid_area": null,
            "grid_auto_columns": null,
            "grid_auto_flow": null,
            "grid_auto_rows": null,
            "grid_column": null,
            "grid_gap": null,
            "grid_row": null,
            "grid_template_areas": null,
            "grid_template_columns": null,
            "grid_template_rows": null,
            "height": null,
            "justify_content": null,
            "justify_items": null,
            "left": null,
            "margin": null,
            "max_height": null,
            "max_width": null,
            "min_height": null,
            "min_width": null,
            "object_fit": null,
            "object_position": null,
            "order": null,
            "overflow": null,
            "overflow_x": null,
            "overflow_y": null,
            "padding": null,
            "right": null,
            "top": null,
            "visibility": "hidden",
            "width": null
          }
        },
        "73144625d18c4f5aa9bf1fb2fd134101": {
          "model_module": "@jupyter-widgets/base",
          "model_name": "LayoutModel",
          "model_module_version": "1.2.0",
          "state": {
            "_model_module": "@jupyter-widgets/base",
            "_model_module_version": "1.2.0",
            "_model_name": "LayoutModel",
            "_view_count": null,
            "_view_module": "@jupyter-widgets/base",
            "_view_module_version": "1.2.0",
            "_view_name": "LayoutView",
            "align_content": null,
            "align_items": null,
            "align_self": null,
            "border": null,
            "bottom": null,
            "display": null,
            "flex": null,
            "flex_flow": null,
            "grid_area": null,
            "grid_auto_columns": null,
            "grid_auto_flow": null,
            "grid_auto_rows": null,
            "grid_column": null,
            "grid_gap": null,
            "grid_row": null,
            "grid_template_areas": null,
            "grid_template_columns": null,
            "grid_template_rows": null,
            "height": null,
            "justify_content": null,
            "justify_items": null,
            "left": null,
            "margin": null,
            "max_height": null,
            "max_width": null,
            "min_height": null,
            "min_width": null,
            "object_fit": null,
            "object_position": null,
            "order": null,
            "overflow": null,
            "overflow_x": null,
            "overflow_y": null,
            "padding": null,
            "right": null,
            "top": null,
            "visibility": null,
            "width": null
          }
        },
        "14d6efd75b2443a59897a4f14826e381": {
          "model_module": "@jupyter-widgets/controls",
          "model_name": "DescriptionStyleModel",
          "model_module_version": "1.5.0",
          "state": {
            "_model_module": "@jupyter-widgets/controls",
            "_model_module_version": "1.5.0",
            "_model_name": "DescriptionStyleModel",
            "_view_count": null,
            "_view_module": "@jupyter-widgets/base",
            "_view_module_version": "1.2.0",
            "_view_name": "StyleView",
            "description_width": ""
          }
        },
        "d128721e32804f0ab4248a3acb6a4f66": {
          "model_module": "@jupyter-widgets/base",
          "model_name": "LayoutModel",
          "model_module_version": "1.2.0",
          "state": {
            "_model_module": "@jupyter-widgets/base",
            "_model_module_version": "1.2.0",
            "_model_name": "LayoutModel",
            "_view_count": null,
            "_view_module": "@jupyter-widgets/base",
            "_view_module_version": "1.2.0",
            "_view_name": "LayoutView",
            "align_content": null,
            "align_items": null,
            "align_self": null,
            "border": null,
            "bottom": null,
            "display": null,
            "flex": null,
            "flex_flow": null,
            "grid_area": null,
            "grid_auto_columns": null,
            "grid_auto_flow": null,
            "grid_auto_rows": null,
            "grid_column": null,
            "grid_gap": null,
            "grid_row": null,
            "grid_template_areas": null,
            "grid_template_columns": null,
            "grid_template_rows": null,
            "height": null,
            "justify_content": null,
            "justify_items": null,
            "left": null,
            "margin": null,
            "max_height": null,
            "max_width": null,
            "min_height": null,
            "min_width": null,
            "object_fit": null,
            "object_position": null,
            "order": null,
            "overflow": null,
            "overflow_x": null,
            "overflow_y": null,
            "padding": null,
            "right": null,
            "top": null,
            "visibility": null,
            "width": null
          }
        },
        "7034d0ffdbe1421aac063b4b1607c1de": {
          "model_module": "@jupyter-widgets/controls",
          "model_name": "ProgressStyleModel",
          "model_module_version": "1.5.0",
          "state": {
            "_model_module": "@jupyter-widgets/controls",
            "_model_module_version": "1.5.0",
            "_model_name": "ProgressStyleModel",
            "_view_count": null,
            "_view_module": "@jupyter-widgets/base",
            "_view_module_version": "1.2.0",
            "_view_name": "StyleView",
            "bar_color": null,
            "description_width": ""
          }
        },
        "1a2f7317ea3b4de1a7d3a51f3a6034cd": {
          "model_module": "@jupyter-widgets/base",
          "model_name": "LayoutModel",
          "model_module_version": "1.2.0",
          "state": {
            "_model_module": "@jupyter-widgets/base",
            "_model_module_version": "1.2.0",
            "_model_name": "LayoutModel",
            "_view_count": null,
            "_view_module": "@jupyter-widgets/base",
            "_view_module_version": "1.2.0",
            "_view_name": "LayoutView",
            "align_content": null,
            "align_items": null,
            "align_self": null,
            "border": null,
            "bottom": null,
            "display": null,
            "flex": null,
            "flex_flow": null,
            "grid_area": null,
            "grid_auto_columns": null,
            "grid_auto_flow": null,
            "grid_auto_rows": null,
            "grid_column": null,
            "grid_gap": null,
            "grid_row": null,
            "grid_template_areas": null,
            "grid_template_columns": null,
            "grid_template_rows": null,
            "height": null,
            "justify_content": null,
            "justify_items": null,
            "left": null,
            "margin": null,
            "max_height": null,
            "max_width": null,
            "min_height": null,
            "min_width": null,
            "object_fit": null,
            "object_position": null,
            "order": null,
            "overflow": null,
            "overflow_x": null,
            "overflow_y": null,
            "padding": null,
            "right": null,
            "top": null,
            "visibility": null,
            "width": null
          }
        },
        "28cc1b9f38cf492790d2ba39cf39f069": {
          "model_module": "@jupyter-widgets/controls",
          "model_name": "DescriptionStyleModel",
          "model_module_version": "1.5.0",
          "state": {
            "_model_module": "@jupyter-widgets/controls",
            "_model_module_version": "1.5.0",
            "_model_name": "DescriptionStyleModel",
            "_view_count": null,
            "_view_module": "@jupyter-widgets/base",
            "_view_module_version": "1.2.0",
            "_view_name": "StyleView",
            "description_width": ""
          }
        },
        "d8e3add71ce947a2ba3eab7c13d305a7": {
          "model_module": "@jupyter-widgets/controls",
          "model_name": "HBoxModel",
          "model_module_version": "1.5.0",
          "state": {
            "_dom_classes": [],
            "_model_module": "@jupyter-widgets/controls",
            "_model_module_version": "1.5.0",
            "_model_name": "HBoxModel",
            "_view_count": null,
            "_view_module": "@jupyter-widgets/controls",
            "_view_module_version": "1.5.0",
            "_view_name": "HBoxView",
            "box_style": "",
            "children": [
              "IPY_MODEL_f635263bfbf4467583af85092c2d4b7d",
              "IPY_MODEL_e2c029092c9a499c92f5c972f1267895",
              "IPY_MODEL_bace159f918a49e58ee5c4874778f13e"
            ],
            "layout": "IPY_MODEL_0b12f58fd69c4c76b77645790f0c1efe"
          }
        },
        "f635263bfbf4467583af85092c2d4b7d": {
          "model_module": "@jupyter-widgets/controls",
          "model_name": "HTMLModel",
          "model_module_version": "1.5.0",
          "state": {
            "_dom_classes": [],
            "_model_module": "@jupyter-widgets/controls",
            "_model_module_version": "1.5.0",
            "_model_name": "HTMLModel",
            "_view_count": null,
            "_view_module": "@jupyter-widgets/controls",
            "_view_module_version": "1.5.0",
            "_view_name": "HTMLView",
            "description": "",
            "description_tooltip": null,
            "layout": "IPY_MODEL_50174a4105794e9685de241e3d1ff2be",
            "placeholder": "​",
            "style": "IPY_MODEL_8a405e9b04f64ad7a3594658b0a167e4",
            "value": "Generating test examples...:  97%"
          }
        },
        "e2c029092c9a499c92f5c972f1267895": {
          "model_module": "@jupyter-widgets/controls",
          "model_name": "FloatProgressModel",
          "model_module_version": "1.5.0",
          "state": {
            "_dom_classes": [],
            "_model_module": "@jupyter-widgets/controls",
            "_model_module_version": "1.5.0",
            "_model_name": "FloatProgressModel",
            "_view_count": null,
            "_view_module": "@jupyter-widgets/controls",
            "_view_module_version": "1.5.0",
            "_view_name": "ProgressView",
            "bar_style": "",
            "description": "",
            "description_tooltip": null,
            "layout": "IPY_MODEL_002dab6535bb438cbbde928640348167",
            "max": 26032,
            "min": 0,
            "orientation": "horizontal",
            "style": "IPY_MODEL_58d35133818d4938a9310b82f4334b4d",
            "value": 26032
          }
        },
        "bace159f918a49e58ee5c4874778f13e": {
          "model_module": "@jupyter-widgets/controls",
          "model_name": "HTMLModel",
          "model_module_version": "1.5.0",
          "state": {
            "_dom_classes": [],
            "_model_module": "@jupyter-widgets/controls",
            "_model_module_version": "1.5.0",
            "_model_name": "HTMLModel",
            "_view_count": null,
            "_view_module": "@jupyter-widgets/controls",
            "_view_module_version": "1.5.0",
            "_view_name": "HTMLView",
            "description": "",
            "description_tooltip": null,
            "layout": "IPY_MODEL_0d83f8769bc248118a857fd64404c2bf",
            "placeholder": "​",
            "style": "IPY_MODEL_ea83c2495254408e827e93d972761788",
            "value": " 25190/26032 [00:21&lt;00:00, 1209.48 examples/s]"
          }
        },
        "0b12f58fd69c4c76b77645790f0c1efe": {
          "model_module": "@jupyter-widgets/base",
          "model_name": "LayoutModel",
          "model_module_version": "1.2.0",
          "state": {
            "_model_module": "@jupyter-widgets/base",
            "_model_module_version": "1.2.0",
            "_model_name": "LayoutModel",
            "_view_count": null,
            "_view_module": "@jupyter-widgets/base",
            "_view_module_version": "1.2.0",
            "_view_name": "LayoutView",
            "align_content": null,
            "align_items": null,
            "align_self": null,
            "border": null,
            "bottom": null,
            "display": null,
            "flex": null,
            "flex_flow": null,
            "grid_area": null,
            "grid_auto_columns": null,
            "grid_auto_flow": null,
            "grid_auto_rows": null,
            "grid_column": null,
            "grid_gap": null,
            "grid_row": null,
            "grid_template_areas": null,
            "grid_template_columns": null,
            "grid_template_rows": null,
            "height": null,
            "justify_content": null,
            "justify_items": null,
            "left": null,
            "margin": null,
            "max_height": null,
            "max_width": null,
            "min_height": null,
            "min_width": null,
            "object_fit": null,
            "object_position": null,
            "order": null,
            "overflow": null,
            "overflow_x": null,
            "overflow_y": null,
            "padding": null,
            "right": null,
            "top": null,
            "visibility": "hidden",
            "width": null
          }
        },
        "50174a4105794e9685de241e3d1ff2be": {
          "model_module": "@jupyter-widgets/base",
          "model_name": "LayoutModel",
          "model_module_version": "1.2.0",
          "state": {
            "_model_module": "@jupyter-widgets/base",
            "_model_module_version": "1.2.0",
            "_model_name": "LayoutModel",
            "_view_count": null,
            "_view_module": "@jupyter-widgets/base",
            "_view_module_version": "1.2.0",
            "_view_name": "LayoutView",
            "align_content": null,
            "align_items": null,
            "align_self": null,
            "border": null,
            "bottom": null,
            "display": null,
            "flex": null,
            "flex_flow": null,
            "grid_area": null,
            "grid_auto_columns": null,
            "grid_auto_flow": null,
            "grid_auto_rows": null,
            "grid_column": null,
            "grid_gap": null,
            "grid_row": null,
            "grid_template_areas": null,
            "grid_template_columns": null,
            "grid_template_rows": null,
            "height": null,
            "justify_content": null,
            "justify_items": null,
            "left": null,
            "margin": null,
            "max_height": null,
            "max_width": null,
            "min_height": null,
            "min_width": null,
            "object_fit": null,
            "object_position": null,
            "order": null,
            "overflow": null,
            "overflow_x": null,
            "overflow_y": null,
            "padding": null,
            "right": null,
            "top": null,
            "visibility": null,
            "width": null
          }
        },
        "8a405e9b04f64ad7a3594658b0a167e4": {
          "model_module": "@jupyter-widgets/controls",
          "model_name": "DescriptionStyleModel",
          "model_module_version": "1.5.0",
          "state": {
            "_model_module": "@jupyter-widgets/controls",
            "_model_module_version": "1.5.0",
            "_model_name": "DescriptionStyleModel",
            "_view_count": null,
            "_view_module": "@jupyter-widgets/base",
            "_view_module_version": "1.2.0",
            "_view_name": "StyleView",
            "description_width": ""
          }
        },
        "002dab6535bb438cbbde928640348167": {
          "model_module": "@jupyter-widgets/base",
          "model_name": "LayoutModel",
          "model_module_version": "1.2.0",
          "state": {
            "_model_module": "@jupyter-widgets/base",
            "_model_module_version": "1.2.0",
            "_model_name": "LayoutModel",
            "_view_count": null,
            "_view_module": "@jupyter-widgets/base",
            "_view_module_version": "1.2.0",
            "_view_name": "LayoutView",
            "align_content": null,
            "align_items": null,
            "align_self": null,
            "border": null,
            "bottom": null,
            "display": null,
            "flex": null,
            "flex_flow": null,
            "grid_area": null,
            "grid_auto_columns": null,
            "grid_auto_flow": null,
            "grid_auto_rows": null,
            "grid_column": null,
            "grid_gap": null,
            "grid_row": null,
            "grid_template_areas": null,
            "grid_template_columns": null,
            "grid_template_rows": null,
            "height": null,
            "justify_content": null,
            "justify_items": null,
            "left": null,
            "margin": null,
            "max_height": null,
            "max_width": null,
            "min_height": null,
            "min_width": null,
            "object_fit": null,
            "object_position": null,
            "order": null,
            "overflow": null,
            "overflow_x": null,
            "overflow_y": null,
            "padding": null,
            "right": null,
            "top": null,
            "visibility": null,
            "width": null
          }
        },
        "58d35133818d4938a9310b82f4334b4d": {
          "model_module": "@jupyter-widgets/controls",
          "model_name": "ProgressStyleModel",
          "model_module_version": "1.5.0",
          "state": {
            "_model_module": "@jupyter-widgets/controls",
            "_model_module_version": "1.5.0",
            "_model_name": "ProgressStyleModel",
            "_view_count": null,
            "_view_module": "@jupyter-widgets/base",
            "_view_module_version": "1.2.0",
            "_view_name": "StyleView",
            "bar_color": null,
            "description_width": ""
          }
        },
        "0d83f8769bc248118a857fd64404c2bf": {
          "model_module": "@jupyter-widgets/base",
          "model_name": "LayoutModel",
          "model_module_version": "1.2.0",
          "state": {
            "_model_module": "@jupyter-widgets/base",
            "_model_module_version": "1.2.0",
            "_model_name": "LayoutModel",
            "_view_count": null,
            "_view_module": "@jupyter-widgets/base",
            "_view_module_version": "1.2.0",
            "_view_name": "LayoutView",
            "align_content": null,
            "align_items": null,
            "align_self": null,
            "border": null,
            "bottom": null,
            "display": null,
            "flex": null,
            "flex_flow": null,
            "grid_area": null,
            "grid_auto_columns": null,
            "grid_auto_flow": null,
            "grid_auto_rows": null,
            "grid_column": null,
            "grid_gap": null,
            "grid_row": null,
            "grid_template_areas": null,
            "grid_template_columns": null,
            "grid_template_rows": null,
            "height": null,
            "justify_content": null,
            "justify_items": null,
            "left": null,
            "margin": null,
            "max_height": null,
            "max_width": null,
            "min_height": null,
            "min_width": null,
            "object_fit": null,
            "object_position": null,
            "order": null,
            "overflow": null,
            "overflow_x": null,
            "overflow_y": null,
            "padding": null,
            "right": null,
            "top": null,
            "visibility": null,
            "width": null
          }
        },
        "ea83c2495254408e827e93d972761788": {
          "model_module": "@jupyter-widgets/controls",
          "model_name": "DescriptionStyleModel",
          "model_module_version": "1.5.0",
          "state": {
            "_model_module": "@jupyter-widgets/controls",
            "_model_module_version": "1.5.0",
            "_model_name": "DescriptionStyleModel",
            "_view_count": null,
            "_view_module": "@jupyter-widgets/base",
            "_view_module_version": "1.2.0",
            "_view_name": "StyleView",
            "description_width": ""
          }
        },
        "70bb7d4c013343da9ed675bf6ed86394": {
          "model_module": "@jupyter-widgets/controls",
          "model_name": "HBoxModel",
          "model_module_version": "1.5.0",
          "state": {
            "_dom_classes": [],
            "_model_module": "@jupyter-widgets/controls",
            "_model_module_version": "1.5.0",
            "_model_name": "HBoxModel",
            "_view_count": null,
            "_view_module": "@jupyter-widgets/controls",
            "_view_module_version": "1.5.0",
            "_view_name": "HBoxView",
            "box_style": "",
            "children": [
              "IPY_MODEL_eb0bbda48851455cb8c9709a86deb78e",
              "IPY_MODEL_6bcc81c1ea1342a0b3b3376aa45a6b3a",
              "IPY_MODEL_e34b9901987649e48bdbf4676024055d"
            ],
            "layout": "IPY_MODEL_522884c516d7418faefae6999176c208"
          }
        },
        "eb0bbda48851455cb8c9709a86deb78e": {
          "model_module": "@jupyter-widgets/controls",
          "model_name": "HTMLModel",
          "model_module_version": "1.5.0",
          "state": {
            "_dom_classes": [],
            "_model_module": "@jupyter-widgets/controls",
            "_model_module_version": "1.5.0",
            "_model_name": "HTMLModel",
            "_view_count": null,
            "_view_module": "@jupyter-widgets/controls",
            "_view_module_version": "1.5.0",
            "_view_name": "HTMLView",
            "description": "",
            "description_tooltip": null,
            "layout": "IPY_MODEL_18ffd90f7e8748b9a760128464dd6dcd",
            "placeholder": "​",
            "style": "IPY_MODEL_d6277d871e934bcdad52f8f30c8d7ac0",
            "value": "Shuffling /root/tensorflow_datasets/svhn_cropped/3.0.0.incomplete3DKYO5/svhn_cropped-test.tfrecord*...:  87%"
          }
        },
        "6bcc81c1ea1342a0b3b3376aa45a6b3a": {
          "model_module": "@jupyter-widgets/controls",
          "model_name": "FloatProgressModel",
          "model_module_version": "1.5.0",
          "state": {
            "_dom_classes": [],
            "_model_module": "@jupyter-widgets/controls",
            "_model_module_version": "1.5.0",
            "_model_name": "FloatProgressModel",
            "_view_count": null,
            "_view_module": "@jupyter-widgets/controls",
            "_view_module_version": "1.5.0",
            "_view_name": "ProgressView",
            "bar_style": "",
            "description": "",
            "description_tooltip": null,
            "layout": "IPY_MODEL_ccc47004a8db4deb89a59d12e1c1cf5f",
            "max": 26032,
            "min": 0,
            "orientation": "horizontal",
            "style": "IPY_MODEL_7e83af422b0544ef9654d04b06907141",
            "value": 26032
          }
        },
        "e34b9901987649e48bdbf4676024055d": {
          "model_module": "@jupyter-widgets/controls",
          "model_name": "HTMLModel",
          "model_module_version": "1.5.0",
          "state": {
            "_dom_classes": [],
            "_model_module": "@jupyter-widgets/controls",
            "_model_module_version": "1.5.0",
            "_model_name": "HTMLModel",
            "_view_count": null,
            "_view_module": "@jupyter-widgets/controls",
            "_view_module_version": "1.5.0",
            "_view_name": "HTMLView",
            "description": "",
            "description_tooltip": null,
            "layout": "IPY_MODEL_b9bc49a8a5144552b309172e1a7a5f16",
            "placeholder": "​",
            "style": "IPY_MODEL_87c73b37487541a29aa9fd68dd032b0f",
            "value": " 22733/26032 [00:00&lt;00:00, 121496.19 examples/s]"
          }
        },
        "522884c516d7418faefae6999176c208": {
          "model_module": "@jupyter-widgets/base",
          "model_name": "LayoutModel",
          "model_module_version": "1.2.0",
          "state": {
            "_model_module": "@jupyter-widgets/base",
            "_model_module_version": "1.2.0",
            "_model_name": "LayoutModel",
            "_view_count": null,
            "_view_module": "@jupyter-widgets/base",
            "_view_module_version": "1.2.0",
            "_view_name": "LayoutView",
            "align_content": null,
            "align_items": null,
            "align_self": null,
            "border": null,
            "bottom": null,
            "display": null,
            "flex": null,
            "flex_flow": null,
            "grid_area": null,
            "grid_auto_columns": null,
            "grid_auto_flow": null,
            "grid_auto_rows": null,
            "grid_column": null,
            "grid_gap": null,
            "grid_row": null,
            "grid_template_areas": null,
            "grid_template_columns": null,
            "grid_template_rows": null,
            "height": null,
            "justify_content": null,
            "justify_items": null,
            "left": null,
            "margin": null,
            "max_height": null,
            "max_width": null,
            "min_height": null,
            "min_width": null,
            "object_fit": null,
            "object_position": null,
            "order": null,
            "overflow": null,
            "overflow_x": null,
            "overflow_y": null,
            "padding": null,
            "right": null,
            "top": null,
            "visibility": "hidden",
            "width": null
          }
        },
        "18ffd90f7e8748b9a760128464dd6dcd": {
          "model_module": "@jupyter-widgets/base",
          "model_name": "LayoutModel",
          "model_module_version": "1.2.0",
          "state": {
            "_model_module": "@jupyter-widgets/base",
            "_model_module_version": "1.2.0",
            "_model_name": "LayoutModel",
            "_view_count": null,
            "_view_module": "@jupyter-widgets/base",
            "_view_module_version": "1.2.0",
            "_view_name": "LayoutView",
            "align_content": null,
            "align_items": null,
            "align_self": null,
            "border": null,
            "bottom": null,
            "display": null,
            "flex": null,
            "flex_flow": null,
            "grid_area": null,
            "grid_auto_columns": null,
            "grid_auto_flow": null,
            "grid_auto_rows": null,
            "grid_column": null,
            "grid_gap": null,
            "grid_row": null,
            "grid_template_areas": null,
            "grid_template_columns": null,
            "grid_template_rows": null,
            "height": null,
            "justify_content": null,
            "justify_items": null,
            "left": null,
            "margin": null,
            "max_height": null,
            "max_width": null,
            "min_height": null,
            "min_width": null,
            "object_fit": null,
            "object_position": null,
            "order": null,
            "overflow": null,
            "overflow_x": null,
            "overflow_y": null,
            "padding": null,
            "right": null,
            "top": null,
            "visibility": null,
            "width": null
          }
        },
        "d6277d871e934bcdad52f8f30c8d7ac0": {
          "model_module": "@jupyter-widgets/controls",
          "model_name": "DescriptionStyleModel",
          "model_module_version": "1.5.0",
          "state": {
            "_model_module": "@jupyter-widgets/controls",
            "_model_module_version": "1.5.0",
            "_model_name": "DescriptionStyleModel",
            "_view_count": null,
            "_view_module": "@jupyter-widgets/base",
            "_view_module_version": "1.2.0",
            "_view_name": "StyleView",
            "description_width": ""
          }
        },
        "ccc47004a8db4deb89a59d12e1c1cf5f": {
          "model_module": "@jupyter-widgets/base",
          "model_name": "LayoutModel",
          "model_module_version": "1.2.0",
          "state": {
            "_model_module": "@jupyter-widgets/base",
            "_model_module_version": "1.2.0",
            "_model_name": "LayoutModel",
            "_view_count": null,
            "_view_module": "@jupyter-widgets/base",
            "_view_module_version": "1.2.0",
            "_view_name": "LayoutView",
            "align_content": null,
            "align_items": null,
            "align_self": null,
            "border": null,
            "bottom": null,
            "display": null,
            "flex": null,
            "flex_flow": null,
            "grid_area": null,
            "grid_auto_columns": null,
            "grid_auto_flow": null,
            "grid_auto_rows": null,
            "grid_column": null,
            "grid_gap": null,
            "grid_row": null,
            "grid_template_areas": null,
            "grid_template_columns": null,
            "grid_template_rows": null,
            "height": null,
            "justify_content": null,
            "justify_items": null,
            "left": null,
            "margin": null,
            "max_height": null,
            "max_width": null,
            "min_height": null,
            "min_width": null,
            "object_fit": null,
            "object_position": null,
            "order": null,
            "overflow": null,
            "overflow_x": null,
            "overflow_y": null,
            "padding": null,
            "right": null,
            "top": null,
            "visibility": null,
            "width": null
          }
        },
        "7e83af422b0544ef9654d04b06907141": {
          "model_module": "@jupyter-widgets/controls",
          "model_name": "ProgressStyleModel",
          "model_module_version": "1.5.0",
          "state": {
            "_model_module": "@jupyter-widgets/controls",
            "_model_module_version": "1.5.0",
            "_model_name": "ProgressStyleModel",
            "_view_count": null,
            "_view_module": "@jupyter-widgets/base",
            "_view_module_version": "1.2.0",
            "_view_name": "StyleView",
            "bar_color": null,
            "description_width": ""
          }
        },
        "b9bc49a8a5144552b309172e1a7a5f16": {
          "model_module": "@jupyter-widgets/base",
          "model_name": "LayoutModel",
          "model_module_version": "1.2.0",
          "state": {
            "_model_module": "@jupyter-widgets/base",
            "_model_module_version": "1.2.0",
            "_model_name": "LayoutModel",
            "_view_count": null,
            "_view_module": "@jupyter-widgets/base",
            "_view_module_version": "1.2.0",
            "_view_name": "LayoutView",
            "align_content": null,
            "align_items": null,
            "align_self": null,
            "border": null,
            "bottom": null,
            "display": null,
            "flex": null,
            "flex_flow": null,
            "grid_area": null,
            "grid_auto_columns": null,
            "grid_auto_flow": null,
            "grid_auto_rows": null,
            "grid_column": null,
            "grid_gap": null,
            "grid_row": null,
            "grid_template_areas": null,
            "grid_template_columns": null,
            "grid_template_rows": null,
            "height": null,
            "justify_content": null,
            "justify_items": null,
            "left": null,
            "margin": null,
            "max_height": null,
            "max_width": null,
            "min_height": null,
            "min_width": null,
            "object_fit": null,
            "object_position": null,
            "order": null,
            "overflow": null,
            "overflow_x": null,
            "overflow_y": null,
            "padding": null,
            "right": null,
            "top": null,
            "visibility": null,
            "width": null
          }
        },
        "87c73b37487541a29aa9fd68dd032b0f": {
          "model_module": "@jupyter-widgets/controls",
          "model_name": "DescriptionStyleModel",
          "model_module_version": "1.5.0",
          "state": {
            "_model_module": "@jupyter-widgets/controls",
            "_model_module_version": "1.5.0",
            "_model_name": "DescriptionStyleModel",
            "_view_count": null,
            "_view_module": "@jupyter-widgets/base",
            "_view_module_version": "1.2.0",
            "_view_name": "StyleView",
            "description_width": ""
          }
        },
        "7ee75c5c2ad24e8b9af9c69b69ca9b38": {
          "model_module": "@jupyter-widgets/controls",
          "model_name": "HBoxModel",
          "model_module_version": "1.5.0",
          "state": {
            "_dom_classes": [],
            "_model_module": "@jupyter-widgets/controls",
            "_model_module_version": "1.5.0",
            "_model_name": "HBoxModel",
            "_view_count": null,
            "_view_module": "@jupyter-widgets/controls",
            "_view_module_version": "1.5.0",
            "_view_name": "HBoxView",
            "box_style": "",
            "children": [
              "IPY_MODEL_b90b3ca456fa46d7a8a4c3f2247c5845",
              "IPY_MODEL_4e86afca684f4b6f9df7bf3a35596ade",
              "IPY_MODEL_b99ed5ff38104363aece193cd73680bc"
            ],
            "layout": "IPY_MODEL_d05ef5195f75429d8ec4bdcb7d78a6ff"
          }
        },
        "b90b3ca456fa46d7a8a4c3f2247c5845": {
          "model_module": "@jupyter-widgets/controls",
          "model_name": "HTMLModel",
          "model_module_version": "1.5.0",
          "state": {
            "_dom_classes": [],
            "_model_module": "@jupyter-widgets/controls",
            "_model_module_version": "1.5.0",
            "_model_name": "HTMLModel",
            "_view_count": null,
            "_view_module": "@jupyter-widgets/controls",
            "_view_module_version": "1.5.0",
            "_view_name": "HTMLView",
            "description": "",
            "description_tooltip": null,
            "layout": "IPY_MODEL_3bd11d7c361a43e8ad485204607c6c6f",
            "placeholder": "​",
            "style": "IPY_MODEL_a3ab5de339ac48cf97a5aa0a76cd6453",
            "value": "Generating extra examples...: 100%"
          }
        },
        "4e86afca684f4b6f9df7bf3a35596ade": {
          "model_module": "@jupyter-widgets/controls",
          "model_name": "FloatProgressModel",
          "model_module_version": "1.5.0",
          "state": {
            "_dom_classes": [],
            "_model_module": "@jupyter-widgets/controls",
            "_model_module_version": "1.5.0",
            "_model_name": "FloatProgressModel",
            "_view_count": null,
            "_view_module": "@jupyter-widgets/controls",
            "_view_module_version": "1.5.0",
            "_view_name": "ProgressView",
            "bar_style": "",
            "description": "",
            "description_tooltip": null,
            "layout": "IPY_MODEL_f36a8e746dab4aae9946a148e3cb52fd",
            "max": 531131,
            "min": 0,
            "orientation": "horizontal",
            "style": "IPY_MODEL_5eb60f801d9c4fd498a118c0caabdcf6",
            "value": 531131
          }
        },
        "b99ed5ff38104363aece193cd73680bc": {
          "model_module": "@jupyter-widgets/controls",
          "model_name": "HTMLModel",
          "model_module_version": "1.5.0",
          "state": {
            "_dom_classes": [],
            "_model_module": "@jupyter-widgets/controls",
            "_model_module_version": "1.5.0",
            "_model_name": "HTMLModel",
            "_view_count": null,
            "_view_module": "@jupyter-widgets/controls",
            "_view_module_version": "1.5.0",
            "_view_name": "HTMLView",
            "description": "",
            "description_tooltip": null,
            "layout": "IPY_MODEL_4a39283d44784cd0a43d170d09d91130",
            "placeholder": "​",
            "style": "IPY_MODEL_332960b0b9fd44b49d8eef5b3bbf4eb5",
            "value": " 530697/531131 [07:36&lt;00:00, 1230.80 examples/s]"
          }
        },
        "d05ef5195f75429d8ec4bdcb7d78a6ff": {
          "model_module": "@jupyter-widgets/base",
          "model_name": "LayoutModel",
          "model_module_version": "1.2.0",
          "state": {
            "_model_module": "@jupyter-widgets/base",
            "_model_module_version": "1.2.0",
            "_model_name": "LayoutModel",
            "_view_count": null,
            "_view_module": "@jupyter-widgets/base",
            "_view_module_version": "1.2.0",
            "_view_name": "LayoutView",
            "align_content": null,
            "align_items": null,
            "align_self": null,
            "border": null,
            "bottom": null,
            "display": null,
            "flex": null,
            "flex_flow": null,
            "grid_area": null,
            "grid_auto_columns": null,
            "grid_auto_flow": null,
            "grid_auto_rows": null,
            "grid_column": null,
            "grid_gap": null,
            "grid_row": null,
            "grid_template_areas": null,
            "grid_template_columns": null,
            "grid_template_rows": null,
            "height": null,
            "justify_content": null,
            "justify_items": null,
            "left": null,
            "margin": null,
            "max_height": null,
            "max_width": null,
            "min_height": null,
            "min_width": null,
            "object_fit": null,
            "object_position": null,
            "order": null,
            "overflow": null,
            "overflow_x": null,
            "overflow_y": null,
            "padding": null,
            "right": null,
            "top": null,
            "visibility": "hidden",
            "width": null
          }
        },
        "3bd11d7c361a43e8ad485204607c6c6f": {
          "model_module": "@jupyter-widgets/base",
          "model_name": "LayoutModel",
          "model_module_version": "1.2.0",
          "state": {
            "_model_module": "@jupyter-widgets/base",
            "_model_module_version": "1.2.0",
            "_model_name": "LayoutModel",
            "_view_count": null,
            "_view_module": "@jupyter-widgets/base",
            "_view_module_version": "1.2.0",
            "_view_name": "LayoutView",
            "align_content": null,
            "align_items": null,
            "align_self": null,
            "border": null,
            "bottom": null,
            "display": null,
            "flex": null,
            "flex_flow": null,
            "grid_area": null,
            "grid_auto_columns": null,
            "grid_auto_flow": null,
            "grid_auto_rows": null,
            "grid_column": null,
            "grid_gap": null,
            "grid_row": null,
            "grid_template_areas": null,
            "grid_template_columns": null,
            "grid_template_rows": null,
            "height": null,
            "justify_content": null,
            "justify_items": null,
            "left": null,
            "margin": null,
            "max_height": null,
            "max_width": null,
            "min_height": null,
            "min_width": null,
            "object_fit": null,
            "object_position": null,
            "order": null,
            "overflow": null,
            "overflow_x": null,
            "overflow_y": null,
            "padding": null,
            "right": null,
            "top": null,
            "visibility": null,
            "width": null
          }
        },
        "a3ab5de339ac48cf97a5aa0a76cd6453": {
          "model_module": "@jupyter-widgets/controls",
          "model_name": "DescriptionStyleModel",
          "model_module_version": "1.5.0",
          "state": {
            "_model_module": "@jupyter-widgets/controls",
            "_model_module_version": "1.5.0",
            "_model_name": "DescriptionStyleModel",
            "_view_count": null,
            "_view_module": "@jupyter-widgets/base",
            "_view_module_version": "1.2.0",
            "_view_name": "StyleView",
            "description_width": ""
          }
        },
        "f36a8e746dab4aae9946a148e3cb52fd": {
          "model_module": "@jupyter-widgets/base",
          "model_name": "LayoutModel",
          "model_module_version": "1.2.0",
          "state": {
            "_model_module": "@jupyter-widgets/base",
            "_model_module_version": "1.2.0",
            "_model_name": "LayoutModel",
            "_view_count": null,
            "_view_module": "@jupyter-widgets/base",
            "_view_module_version": "1.2.0",
            "_view_name": "LayoutView",
            "align_content": null,
            "align_items": null,
            "align_self": null,
            "border": null,
            "bottom": null,
            "display": null,
            "flex": null,
            "flex_flow": null,
            "grid_area": null,
            "grid_auto_columns": null,
            "grid_auto_flow": null,
            "grid_auto_rows": null,
            "grid_column": null,
            "grid_gap": null,
            "grid_row": null,
            "grid_template_areas": null,
            "grid_template_columns": null,
            "grid_template_rows": null,
            "height": null,
            "justify_content": null,
            "justify_items": null,
            "left": null,
            "margin": null,
            "max_height": null,
            "max_width": null,
            "min_height": null,
            "min_width": null,
            "object_fit": null,
            "object_position": null,
            "order": null,
            "overflow": null,
            "overflow_x": null,
            "overflow_y": null,
            "padding": null,
            "right": null,
            "top": null,
            "visibility": null,
            "width": null
          }
        },
        "5eb60f801d9c4fd498a118c0caabdcf6": {
          "model_module": "@jupyter-widgets/controls",
          "model_name": "ProgressStyleModel",
          "model_module_version": "1.5.0",
          "state": {
            "_model_module": "@jupyter-widgets/controls",
            "_model_module_version": "1.5.0",
            "_model_name": "ProgressStyleModel",
            "_view_count": null,
            "_view_module": "@jupyter-widgets/base",
            "_view_module_version": "1.2.0",
            "_view_name": "StyleView",
            "bar_color": null,
            "description_width": ""
          }
        },
        "4a39283d44784cd0a43d170d09d91130": {
          "model_module": "@jupyter-widgets/base",
          "model_name": "LayoutModel",
          "model_module_version": "1.2.0",
          "state": {
            "_model_module": "@jupyter-widgets/base",
            "_model_module_version": "1.2.0",
            "_model_name": "LayoutModel",
            "_view_count": null,
            "_view_module": "@jupyter-widgets/base",
            "_view_module_version": "1.2.0",
            "_view_name": "LayoutView",
            "align_content": null,
            "align_items": null,
            "align_self": null,
            "border": null,
            "bottom": null,
            "display": null,
            "flex": null,
            "flex_flow": null,
            "grid_area": null,
            "grid_auto_columns": null,
            "grid_auto_flow": null,
            "grid_auto_rows": null,
            "grid_column": null,
            "grid_gap": null,
            "grid_row": null,
            "grid_template_areas": null,
            "grid_template_columns": null,
            "grid_template_rows": null,
            "height": null,
            "justify_content": null,
            "justify_items": null,
            "left": null,
            "margin": null,
            "max_height": null,
            "max_width": null,
            "min_height": null,
            "min_width": null,
            "object_fit": null,
            "object_position": null,
            "order": null,
            "overflow": null,
            "overflow_x": null,
            "overflow_y": null,
            "padding": null,
            "right": null,
            "top": null,
            "visibility": null,
            "width": null
          }
        },
        "332960b0b9fd44b49d8eef5b3bbf4eb5": {
          "model_module": "@jupyter-widgets/controls",
          "model_name": "DescriptionStyleModel",
          "model_module_version": "1.5.0",
          "state": {
            "_model_module": "@jupyter-widgets/controls",
            "_model_module_version": "1.5.0",
            "_model_name": "DescriptionStyleModel",
            "_view_count": null,
            "_view_module": "@jupyter-widgets/base",
            "_view_module_version": "1.2.0",
            "_view_name": "StyleView",
            "description_width": ""
          }
        },
        "76448427ba984eaba0496edc4a21c1ec": {
          "model_module": "@jupyter-widgets/controls",
          "model_name": "HBoxModel",
          "model_module_version": "1.5.0",
          "state": {
            "_dom_classes": [],
            "_model_module": "@jupyter-widgets/controls",
            "_model_module_version": "1.5.0",
            "_model_name": "HBoxModel",
            "_view_count": null,
            "_view_module": "@jupyter-widgets/controls",
            "_view_module_version": "1.5.0",
            "_view_name": "HBoxView",
            "box_style": "",
            "children": [
              "IPY_MODEL_36a47eb88a0b4d20be4204b01e1c71c2",
              "IPY_MODEL_1d225d2c9ad84cc0a2c2c2ab6157745c",
              "IPY_MODEL_ce5a05d8a6334f91a906eba96170e055"
            ],
            "layout": "IPY_MODEL_6ca06d8dd61a41ecb100cad9eb12c52f"
          }
        },
        "36a47eb88a0b4d20be4204b01e1c71c2": {
          "model_module": "@jupyter-widgets/controls",
          "model_name": "HTMLModel",
          "model_module_version": "1.5.0",
          "state": {
            "_dom_classes": [],
            "_model_module": "@jupyter-widgets/controls",
            "_model_module_version": "1.5.0",
            "_model_name": "HTMLModel",
            "_view_count": null,
            "_view_module": "@jupyter-widgets/controls",
            "_view_module_version": "1.5.0",
            "_view_name": "HTMLView",
            "description": "",
            "description_tooltip": null,
            "layout": "IPY_MODEL_ab83f02908784f7eabf4f8a1aa2d6065",
            "placeholder": "​",
            "style": "IPY_MODEL_a513851ed79b464cac261e2c3ec765c6",
            "value": "Shuffling /root/tensorflow_datasets/svhn_cropped/3.0.0.incomplete3DKYO5/svhn_cropped-extra.tfrecord*...:  99%"
          }
        },
        "1d225d2c9ad84cc0a2c2c2ab6157745c": {
          "model_module": "@jupyter-widgets/controls",
          "model_name": "FloatProgressModel",
          "model_module_version": "1.5.0",
          "state": {
            "_dom_classes": [],
            "_model_module": "@jupyter-widgets/controls",
            "_model_module_version": "1.5.0",
            "_model_name": "FloatProgressModel",
            "_view_count": null,
            "_view_module": "@jupyter-widgets/controls",
            "_view_module_version": "1.5.0",
            "_view_name": "ProgressView",
            "bar_style": "",
            "description": "",
            "description_tooltip": null,
            "layout": "IPY_MODEL_34fff204b0804393972a18e966708759",
            "max": 531131,
            "min": 0,
            "orientation": "horizontal",
            "style": "IPY_MODEL_b7398d0edc7d44f5b3f6a0e03702edab",
            "value": 531131
          }
        },
        "ce5a05d8a6334f91a906eba96170e055": {
          "model_module": "@jupyter-widgets/controls",
          "model_name": "HTMLModel",
          "model_module_version": "1.5.0",
          "state": {
            "_dom_classes": [],
            "_model_module": "@jupyter-widgets/controls",
            "_model_module_version": "1.5.0",
            "_model_name": "HTMLModel",
            "_view_count": null,
            "_view_module": "@jupyter-widgets/controls",
            "_view_module_version": "1.5.0",
            "_view_name": "HTMLView",
            "description": "",
            "description_tooltip": null,
            "layout": "IPY_MODEL_0b3d86a0e82d45fa9de7d6e0297b2186",
            "placeholder": "​",
            "style": "IPY_MODEL_4370d0e74ce04f3f954558c711dd03cc",
            "value": " 524239/531131 [00:08&lt;00:00, 136206.53 examples/s]"
          }
        },
        "6ca06d8dd61a41ecb100cad9eb12c52f": {
          "model_module": "@jupyter-widgets/base",
          "model_name": "LayoutModel",
          "model_module_version": "1.2.0",
          "state": {
            "_model_module": "@jupyter-widgets/base",
            "_model_module_version": "1.2.0",
            "_model_name": "LayoutModel",
            "_view_count": null,
            "_view_module": "@jupyter-widgets/base",
            "_view_module_version": "1.2.0",
            "_view_name": "LayoutView",
            "align_content": null,
            "align_items": null,
            "align_self": null,
            "border": null,
            "bottom": null,
            "display": null,
            "flex": null,
            "flex_flow": null,
            "grid_area": null,
            "grid_auto_columns": null,
            "grid_auto_flow": null,
            "grid_auto_rows": null,
            "grid_column": null,
            "grid_gap": null,
            "grid_row": null,
            "grid_template_areas": null,
            "grid_template_columns": null,
            "grid_template_rows": null,
            "height": null,
            "justify_content": null,
            "justify_items": null,
            "left": null,
            "margin": null,
            "max_height": null,
            "max_width": null,
            "min_height": null,
            "min_width": null,
            "object_fit": null,
            "object_position": null,
            "order": null,
            "overflow": null,
            "overflow_x": null,
            "overflow_y": null,
            "padding": null,
            "right": null,
            "top": null,
            "visibility": "hidden",
            "width": null
          }
        },
        "ab83f02908784f7eabf4f8a1aa2d6065": {
          "model_module": "@jupyter-widgets/base",
          "model_name": "LayoutModel",
          "model_module_version": "1.2.0",
          "state": {
            "_model_module": "@jupyter-widgets/base",
            "_model_module_version": "1.2.0",
            "_model_name": "LayoutModel",
            "_view_count": null,
            "_view_module": "@jupyter-widgets/base",
            "_view_module_version": "1.2.0",
            "_view_name": "LayoutView",
            "align_content": null,
            "align_items": null,
            "align_self": null,
            "border": null,
            "bottom": null,
            "display": null,
            "flex": null,
            "flex_flow": null,
            "grid_area": null,
            "grid_auto_columns": null,
            "grid_auto_flow": null,
            "grid_auto_rows": null,
            "grid_column": null,
            "grid_gap": null,
            "grid_row": null,
            "grid_template_areas": null,
            "grid_template_columns": null,
            "grid_template_rows": null,
            "height": null,
            "justify_content": null,
            "justify_items": null,
            "left": null,
            "margin": null,
            "max_height": null,
            "max_width": null,
            "min_height": null,
            "min_width": null,
            "object_fit": null,
            "object_position": null,
            "order": null,
            "overflow": null,
            "overflow_x": null,
            "overflow_y": null,
            "padding": null,
            "right": null,
            "top": null,
            "visibility": null,
            "width": null
          }
        },
        "a513851ed79b464cac261e2c3ec765c6": {
          "model_module": "@jupyter-widgets/controls",
          "model_name": "DescriptionStyleModel",
          "model_module_version": "1.5.0",
          "state": {
            "_model_module": "@jupyter-widgets/controls",
            "_model_module_version": "1.5.0",
            "_model_name": "DescriptionStyleModel",
            "_view_count": null,
            "_view_module": "@jupyter-widgets/base",
            "_view_module_version": "1.2.0",
            "_view_name": "StyleView",
            "description_width": ""
          }
        },
        "34fff204b0804393972a18e966708759": {
          "model_module": "@jupyter-widgets/base",
          "model_name": "LayoutModel",
          "model_module_version": "1.2.0",
          "state": {
            "_model_module": "@jupyter-widgets/base",
            "_model_module_version": "1.2.0",
            "_model_name": "LayoutModel",
            "_view_count": null,
            "_view_module": "@jupyter-widgets/base",
            "_view_module_version": "1.2.0",
            "_view_name": "LayoutView",
            "align_content": null,
            "align_items": null,
            "align_self": null,
            "border": null,
            "bottom": null,
            "display": null,
            "flex": null,
            "flex_flow": null,
            "grid_area": null,
            "grid_auto_columns": null,
            "grid_auto_flow": null,
            "grid_auto_rows": null,
            "grid_column": null,
            "grid_gap": null,
            "grid_row": null,
            "grid_template_areas": null,
            "grid_template_columns": null,
            "grid_template_rows": null,
            "height": null,
            "justify_content": null,
            "justify_items": null,
            "left": null,
            "margin": null,
            "max_height": null,
            "max_width": null,
            "min_height": null,
            "min_width": null,
            "object_fit": null,
            "object_position": null,
            "order": null,
            "overflow": null,
            "overflow_x": null,
            "overflow_y": null,
            "padding": null,
            "right": null,
            "top": null,
            "visibility": null,
            "width": null
          }
        },
        "b7398d0edc7d44f5b3f6a0e03702edab": {
          "model_module": "@jupyter-widgets/controls",
          "model_name": "ProgressStyleModel",
          "model_module_version": "1.5.0",
          "state": {
            "_model_module": "@jupyter-widgets/controls",
            "_model_module_version": "1.5.0",
            "_model_name": "ProgressStyleModel",
            "_view_count": null,
            "_view_module": "@jupyter-widgets/base",
            "_view_module_version": "1.2.0",
            "_view_name": "StyleView",
            "bar_color": null,
            "description_width": ""
          }
        },
        "0b3d86a0e82d45fa9de7d6e0297b2186": {
          "model_module": "@jupyter-widgets/base",
          "model_name": "LayoutModel",
          "model_module_version": "1.2.0",
          "state": {
            "_model_module": "@jupyter-widgets/base",
            "_model_module_version": "1.2.0",
            "_model_name": "LayoutModel",
            "_view_count": null,
            "_view_module": "@jupyter-widgets/base",
            "_view_module_version": "1.2.0",
            "_view_name": "LayoutView",
            "align_content": null,
            "align_items": null,
            "align_self": null,
            "border": null,
            "bottom": null,
            "display": null,
            "flex": null,
            "flex_flow": null,
            "grid_area": null,
            "grid_auto_columns": null,
            "grid_auto_flow": null,
            "grid_auto_rows": null,
            "grid_column": null,
            "grid_gap": null,
            "grid_row": null,
            "grid_template_areas": null,
            "grid_template_columns": null,
            "grid_template_rows": null,
            "height": null,
            "justify_content": null,
            "justify_items": null,
            "left": null,
            "margin": null,
            "max_height": null,
            "max_width": null,
            "min_height": null,
            "min_width": null,
            "object_fit": null,
            "object_position": null,
            "order": null,
            "overflow": null,
            "overflow_x": null,
            "overflow_y": null,
            "padding": null,
            "right": null,
            "top": null,
            "visibility": null,
            "width": null
          }
        },
        "4370d0e74ce04f3f954558c711dd03cc": {
          "model_module": "@jupyter-widgets/controls",
          "model_name": "DescriptionStyleModel",
          "model_module_version": "1.5.0",
          "state": {
            "_model_module": "@jupyter-widgets/controls",
            "_model_module_version": "1.5.0",
            "_model_name": "DescriptionStyleModel",
            "_view_count": null,
            "_view_module": "@jupyter-widgets/base",
            "_view_module_version": "1.2.0",
            "_view_name": "StyleView",
            "description_width": ""
          }
        }
      }
    }
  },
  "cells": [
    {
      "cell_type": "markdown",
      "metadata": {
        "id": "view-in-github",
        "colab_type": "text"
      },
      "source": [
        "<a href=\"https://colab.research.google.com/github/bonaerges/pia/blob/main/TareaDeepLearningKeras.ipynb\" target=\"_parent\"><img src=\"https://colab.research.google.com/assets/colab-badge.svg\" alt=\"Open In Colab\"/></a>"
      ]
    },
    {
      "cell_type": "code",
      "execution_count": null,
      "metadata": {
        "id": "moEzmf2LRtWe"
      },
      "outputs": [],
      "source": [
        "import sys\n",
        "\n",
        "assert sys.version_info >= (3, 7)"
      ]
    },
    {
      "cell_type": "code",
      "source": [
        "from packaging import version\n",
        "import tensorflow as tf\n",
        "import tensorflow_datasets as tfds"
      ],
      "metadata": {
        "id": "nlPTmHeqRvKr"
      },
      "execution_count": null,
      "outputs": []
    },
    {
      "cell_type": "code",
      "source": [
        "from tensorflow.keras.models import Sequential\n",
        "from tensorflow.keras.layers import Dense, Flatten\n",
        "from tensorflow.keras.initializers import GlorotUniform\n",
        "from tensorflow.keras.activations import elu\n",
        "from tensorflow.keras.optimizers import Adam\n",
        "from tensorflow.keras.callbacks import EarlyStopping\n",
        "from tensorflow.keras.layers import BatchNormalization, Activation\n",
        "from tensorflow.keras.initializers import HeNormal\n",
        "assert version.parse(tf.__version__) >= version.parse(\"2.8.0\")"
      ],
      "metadata": {
        "id": "mqAMAJHcmjNp"
      },
      "execution_count": null,
      "outputs": []
    },
    {
      "cell_type": "markdown",
      "source": [
        "# Parte A: Construcción y Entrenamiento Inicial\n",
        "\n",
        "\n",
        "## Construcción de la Red Neuronal:\n",
        "\n",
        "  ## 20 capas ocultas, cada una con 100 neuronas.\n",
        "\n",
        "*   20 capas ocultas, cada una con 100 neuronas\n",
        "\n",
        "*   Inicialización de Xavier/Glorot.\n",
        "\n",
        "*   Función de activación ELU.\n",
        "*   Entrenamiento de la Red:\n",
        "**   Uso del optimizador Adam.\n",
        "**   Implementación de la detención temprana.\n",
        "\n",
        "# Parte B: Integración de Mejoras y Comparación\n",
        "\n",
        "*   Normalización por Lotes\n",
        " Implementación y comparación de la velocidad de convergencia y el impacto en\n",
        "el tiempo de entrenamiento.\n",
        "\n",
        "\n",
        "## Implementación y comparación de la velocidad de convergencia y el impacto en el tiempo de entrenamiento.\n",
        "##Sustitución de Normalización por Lotes con ReLU:\n",
        "\n",
        "## Uso de la inicialización He.\n",
        "## Comparación de rendimiento entre configuraciones.\n",
        "\n",
        "# Parte C: Avanzando en Regularización y Optimización\n",
        "## Dropout y MC Dropout:\n",
        "## Implementación de dropout.\n",
        "## Evaluación con MC dropout sin reentrenamiento.\n",
        "## Análisis de los efectos."
      ],
      "metadata": {
        "id": "Bvt2zO7kZrdy"
      }
    },
    {
      "cell_type": "markdown",
      "source": [
        "###Parte A: Construcción y Entrenamiento Inicial\n",
        "### Cargar y prepara el dataset SVHN (Parte A, paso 1)"
      ],
      "metadata": {
        "id": "-fpijTO3SKVd"
      }
    },
    {
      "cell_type": "code",
      "source": [
        "def load_data():\n",
        "    (train_data, test_data), ds_info = tfds.load(\n",
        "        'svhn_cropped',\n",
        "        split=['train', 'test'],\n",
        "        as_supervised=True,\n",
        "        with_info=True,\n",
        "        batch_size=-1\n",
        "    )\n",
        "    return train_data, test_data, ds_info"
      ],
      "metadata": {
        "id": "MlemtOhTRvQg"
      },
      "execution_count": null,
      "outputs": []
    },
    {
      "cell_type": "markdown",
      "source": [
        "## Cargar y preparar datos"
      ],
      "metadata": {
        "id": "m1SDBDjhSakF"
      }
    },
    {
      "cell_type": "code",
      "source": [
        "train_data, test_data, ds_info = load_data()"
      ],
      "metadata": {
        "colab": {
          "base_uri": "https://localhost:8080/",
          "height": 116,
          "referenced_widgets": [
            "8f438314cafd41de84ed880e40151dd1",
            "325df7f76406482f9f739da0e3de19d0",
            "3f4e932614b64322882c0e5edcfed8ed",
            "f41939b940414406abf0a0fe534e0395",
            "82d61672e94b4390adade0c7da8689b6",
            "506b3c539d724ffe86f0eecd779afb89",
            "0dca0c4356e74520af94deb2a576be35",
            "a4cff25a48fd451aadcc662549607649",
            "7d1d19bb713a469a92d2917a8243df76",
            "2fd245d4e6fb45439f61a300e4a1d849",
            "001641e5b1044bebaedc68d157ab17e2",
            "0893b19fef5b4c388164b08d4440bdbc",
            "8614f1c891484584ba119212751549eb",
            "9540e94ecffc4eaca41797371b9ed5b9",
            "71acf32464604a3cab5b1203443cbbcf",
            "1081c326fa914af09523c9f8261e3d43",
            "74934ba68c714d9daae6714a447fec3b",
            "abcbd5309eeb4a08a2e429525f778ee7",
            "27aded2300944eb28662c1c7efafe141",
            "5075a197fa5e4f6fa92b0a6b930b9fae",
            "1684274e4bbf40ae9694d304f01124a2",
            "55f0917e06a9446fa61b6f1c9901affb",
            "405e7a1eb1b64be3905848ad7e51d2f1",
            "6b95e46ecfec4a76a8ca4e7ea5f750ac",
            "739ca4a87bde48c5808588c017b9fe28",
            "4750380f02e64761988ff66beda5d3d6",
            "1a0a96b902a14acc9295daa0aad24b07",
            "888354c4e8b54087800e2fd0c398985d",
            "19a12d155ecb4296b626c19120cb7614",
            "b9bd4e4e84444acdbb919905499ff35f",
            "c3bb5ca22c2f4157832c2c68d54f3d5e",
            "18781f1855d1417cb9749fbe0224376b",
            "6446443a09af499289e452f14dd18e17",
            "c328cc02e77b484295a0f117225fc3fe",
            "8b2f37a1d10744cebadbe0db13230eb6",
            "bf4dc1c64fda491288bebe17c04eacde",
            "29cf252f1c1444ac83417af3f211fbfe",
            "58df0f5740db4f80aeda3c02c3bf2eec",
            "ca9b76629baa4844b5bcca0ad6abc8a4",
            "d79256d6fe384531bff553fe852fcc9a",
            "36aa75d0527043f299c273eae7ee7f72",
            "3191c1f315634b6f8e8e954267532d75",
            "a6a156d67d974312b9c757ef1c32156d",
            "aec92bd13fc245b7ab52f4ea2e3af652",
            "4cd36faf6774437a8d63c936165dcb92",
            "9972a28dca8147d8895d342c07d2239f",
            "480119688e654c67b4bd3246b5225d62",
            "3352f5638553489d8a6e5eb193780d6f",
            "5f6ee7db394d483eacb0a52518f79002",
            "73144625d18c4f5aa9bf1fb2fd134101",
            "14d6efd75b2443a59897a4f14826e381",
            "d128721e32804f0ab4248a3acb6a4f66",
            "7034d0ffdbe1421aac063b4b1607c1de",
            "1a2f7317ea3b4de1a7d3a51f3a6034cd",
            "28cc1b9f38cf492790d2ba39cf39f069",
            "d8e3add71ce947a2ba3eab7c13d305a7",
            "f635263bfbf4467583af85092c2d4b7d",
            "e2c029092c9a499c92f5c972f1267895",
            "bace159f918a49e58ee5c4874778f13e",
            "0b12f58fd69c4c76b77645790f0c1efe",
            "50174a4105794e9685de241e3d1ff2be",
            "8a405e9b04f64ad7a3594658b0a167e4",
            "002dab6535bb438cbbde928640348167",
            "58d35133818d4938a9310b82f4334b4d",
            "0d83f8769bc248118a857fd64404c2bf",
            "ea83c2495254408e827e93d972761788",
            "70bb7d4c013343da9ed675bf6ed86394",
            "eb0bbda48851455cb8c9709a86deb78e",
            "6bcc81c1ea1342a0b3b3376aa45a6b3a",
            "e34b9901987649e48bdbf4676024055d",
            "522884c516d7418faefae6999176c208",
            "18ffd90f7e8748b9a760128464dd6dcd",
            "d6277d871e934bcdad52f8f30c8d7ac0",
            "ccc47004a8db4deb89a59d12e1c1cf5f",
            "7e83af422b0544ef9654d04b06907141",
            "b9bc49a8a5144552b309172e1a7a5f16",
            "87c73b37487541a29aa9fd68dd032b0f",
            "7ee75c5c2ad24e8b9af9c69b69ca9b38",
            "b90b3ca456fa46d7a8a4c3f2247c5845",
            "4e86afca684f4b6f9df7bf3a35596ade",
            "b99ed5ff38104363aece193cd73680bc",
            "d05ef5195f75429d8ec4bdcb7d78a6ff",
            "3bd11d7c361a43e8ad485204607c6c6f",
            "a3ab5de339ac48cf97a5aa0a76cd6453",
            "f36a8e746dab4aae9946a148e3cb52fd",
            "5eb60f801d9c4fd498a118c0caabdcf6",
            "4a39283d44784cd0a43d170d09d91130",
            "332960b0b9fd44b49d8eef5b3bbf4eb5",
            "76448427ba984eaba0496edc4a21c1ec",
            "36a47eb88a0b4d20be4204b01e1c71c2",
            "1d225d2c9ad84cc0a2c2c2ab6157745c",
            "ce5a05d8a6334f91a906eba96170e055",
            "6ca06d8dd61a41ecb100cad9eb12c52f",
            "ab83f02908784f7eabf4f8a1aa2d6065",
            "a513851ed79b464cac261e2c3ec765c6",
            "34fff204b0804393972a18e966708759",
            "b7398d0edc7d44f5b3f6a0e03702edab",
            "0b3d86a0e82d45fa9de7d6e0297b2186",
            "4370d0e74ce04f3f954558c711dd03cc"
          ]
        },
        "id": "KrrYEUaSRvTX",
        "outputId": "e708edb4-1925-469d-f463-95717dee1f11"
      },
      "execution_count": null,
      "outputs": [
        {
          "output_type": "stream",
          "name": "stdout",
          "text": [
            "Downloading and preparing dataset 1.47 GiB (download: 1.47 GiB, generated: Unknown size, total: 1.47 GiB) to /root/tensorflow_datasets/svhn_cropped/3.0.0...\n"
          ]
        },
        {
          "output_type": "display_data",
          "data": {
            "text/plain": [
              "Dl Completed...: 0 url [00:00, ? url/s]"
            ],
            "application/vnd.jupyter.widget-view+json": {
              "version_major": 2,
              "version_minor": 0,
              "model_id": "8f438314cafd41de84ed880e40151dd1"
            }
          },
          "metadata": {}
        },
        {
          "output_type": "display_data",
          "data": {
            "text/plain": [
              "Dl Size...: 0 MiB [00:00, ? MiB/s]"
            ],
            "application/vnd.jupyter.widget-view+json": {
              "version_major": 2,
              "version_minor": 0,
              "model_id": "0893b19fef5b4c388164b08d4440bdbc"
            }
          },
          "metadata": {}
        },
        {
          "output_type": "display_data",
          "data": {
            "text/plain": [
              "Generating splits...:   0%|          | 0/3 [00:00<?, ? splits/s]"
            ],
            "application/vnd.jupyter.widget-view+json": {
              "version_major": 2,
              "version_minor": 0,
              "model_id": "405e7a1eb1b64be3905848ad7e51d2f1"
            }
          },
          "metadata": {}
        },
        {
          "output_type": "display_data",
          "data": {
            "text/plain": [
              "Generating train examples...:   0%|          | 0/73257 [00:00<?, ? examples/s]"
            ],
            "application/vnd.jupyter.widget-view+json": {
              "version_major": 2,
              "version_minor": 0,
              "model_id": "c328cc02e77b484295a0f117225fc3fe"
            }
          },
          "metadata": {}
        },
        {
          "output_type": "display_data",
          "data": {
            "text/plain": [
              "Shuffling /root/tensorflow_datasets/svhn_cropped/3.0.0.incomplete3DKYO5/svhn_cropped-train.tfrecord*...:   0%|…"
            ],
            "application/vnd.jupyter.widget-view+json": {
              "version_major": 2,
              "version_minor": 0,
              "model_id": "4cd36faf6774437a8d63c936165dcb92"
            }
          },
          "metadata": {}
        },
        {
          "output_type": "display_data",
          "data": {
            "text/plain": [
              "Generating test examples...:   0%|          | 0/26032 [00:00<?, ? examples/s]"
            ],
            "application/vnd.jupyter.widget-view+json": {
              "version_major": 2,
              "version_minor": 0,
              "model_id": "d8e3add71ce947a2ba3eab7c13d305a7"
            }
          },
          "metadata": {}
        },
        {
          "output_type": "display_data",
          "data": {
            "text/plain": [
              "Shuffling /root/tensorflow_datasets/svhn_cropped/3.0.0.incomplete3DKYO5/svhn_cropped-test.tfrecord*...:   0%| …"
            ],
            "application/vnd.jupyter.widget-view+json": {
              "version_major": 2,
              "version_minor": 0,
              "model_id": "70bb7d4c013343da9ed675bf6ed86394"
            }
          },
          "metadata": {}
        },
        {
          "output_type": "display_data",
          "data": {
            "text/plain": [
              "Generating extra examples...:   0%|          | 0/531131 [00:00<?, ? examples/s]"
            ],
            "application/vnd.jupyter.widget-view+json": {
              "version_major": 2,
              "version_minor": 0,
              "model_id": "7ee75c5c2ad24e8b9af9c69b69ca9b38"
            }
          },
          "metadata": {}
        },
        {
          "output_type": "display_data",
          "data": {
            "text/plain": [
              "Shuffling /root/tensorflow_datasets/svhn_cropped/3.0.0.incomplete3DKYO5/svhn_cropped-extra.tfrecord*...:   0%|…"
            ],
            "application/vnd.jupyter.widget-view+json": {
              "version_major": 2,
              "version_minor": 0,
              "model_id": "76448427ba984eaba0496edc4a21c1ec"
            }
          },
          "metadata": {}
        },
        {
          "output_type": "stream",
          "name": "stdout",
          "text": [
            "Dataset svhn_cropped downloaded and prepared to /root/tensorflow_datasets/svhn_cropped/3.0.0. Subsequent calls will reuse this data.\n"
          ]
        }
      ]
    },
    {
      "cell_type": "markdown",
      "source": [
        "### Preprocesar los datos (Parte A, paso 1)"
      ],
      "metadata": {
        "id": "VddmjMh_XgSf"
      }
    },
    {
      "cell_type": "code",
      "source": [
        "def preprocess(data, info):\n",
        "    x, y = data\n",
        "    x = tf.image.convert_image_dtype(x, tf.float32)\n",
        "    y = tf.one_hot(y, depth=info.features['label'].num_classes)\n",
        "    return x, y"
      ],
      "metadata": {
        "id": "4Z5aK0nlRvYo"
      },
      "execution_count": null,
      "outputs": []
    },
    {
      "cell_type": "code",
      "source": [
        "train_data = preprocess(train_data, ds_info)\n",
        "test_data = preprocess(test_data, ds_info)"
      ],
      "metadata": {
        "id": "HFEuVhQ0RvbL"
      },
      "execution_count": null,
      "outputs": []
    },
    {
      "cell_type": "markdown",
      "source": [
        "### Construir el modelo inicial con Xavier/Glorot y ELU (Parte A, paso 1 y 2)\n",
        "### 20 capas ocultas, cada una con 100 neuronas"
      ],
      "metadata": {
        "id": "ydeurZucXqtC"
      }
    },
    {
      "cell_type": "code",
      "source": [
        "def build_model(input_shape, num_classes):\n",
        "    model = Sequential()\n",
        "    model.add(Flatten(input_shape=input_shape))\n",
        "    for _ in range(20):\n",
        "        model.add(Dense(100, activation=elu, kernel_initializer=GlorotUniform()))\n",
        "    model.add(Dense(num_classes, activation='softmax'))\n",
        "    return model"
      ],
      "metadata": {
        "id": "HkRqvEz9Rvd7"
      },
      "execution_count": null,
      "outputs": []
    },
    {
      "cell_type": "markdown",
      "source": [
        "### Construir y entrenar el modelo inicial, y  entrenamiento inicial (Parte A)\n"
      ],
      "metadata": {
        "id": "wF4ibv2QX9it"
      }
    },
    {
      "cell_type": "code",
      "source": [
        "model = build_model(train_data[0].shape[1:], ds_info.features['label'].num_classes)"
      ],
      "metadata": {
        "id": "ZJ2HZ1dsRvi4"
      },
      "execution_count": null,
      "outputs": []
    },
    {
      "cell_type": "markdown",
      "source": [
        " # Compilar y entrenar el modelo (Parte A, paso 2)"
      ],
      "metadata": {
        "id": "DR7_0AafYNFN"
      }
    },
    {
      "cell_type": "code",
      "source": [
        "def compile_and_train(model, train_data, val_data, epochs=50):\n",
        "    model.compile(optimizer=Adam(),\n",
        "                  loss='categorical_crossentropy',\n",
        "                  metrics=['accuracy'])\n",
        "    early_stopping = EarlyStopping(monitor='val_loss', patience=5, restore_best_weights=True)\n",
        "    history = model.fit(train_data[0], train_data[1], epochs=epochs,\n",
        "                        validation_data=val_data, callbacks=[early_stopping])\n",
        "    return history"
      ],
      "metadata": {
        "id": "Gca84POqRvnz"
      },
      "execution_count": null,
      "outputs": []
    },
    {
      "cell_type": "code",
      "source": [
        "history = compile_and_train(model, train_data, test_data)"
      ],
      "metadata": {
        "colab": {
          "base_uri": "https://localhost:8080/"
        },
        "id": "6rvgvQ2GYJ-7",
        "outputId": "922f856c-5387-4094-effd-1eead6e35d27"
      },
      "execution_count": null,
      "outputs": [
        {
          "output_type": "stream",
          "name": "stdout",
          "text": [
            "Epoch 1/50\n",
            "2290/2290 [==============================] - 29s 9ms/step - loss: 2.2475 - accuracy: 0.1846 - val_loss: 2.2278 - val_accuracy: 0.1959\n",
            "Epoch 2/50\n",
            "2290/2290 [==============================] - 22s 10ms/step - loss: 2.2397 - accuracy: 0.1885 - val_loss: 2.2284 - val_accuracy: 0.1959\n",
            "Epoch 3/50\n",
            "2290/2290 [==============================] - 26s 11ms/step - loss: 2.2382 - accuracy: 0.1891 - val_loss: 2.2262 - val_accuracy: 0.1959\n",
            "Epoch 4/50\n",
            "2290/2290 [==============================] - 24s 11ms/step - loss: 2.2396 - accuracy: 0.1879 - val_loss: 2.2241 - val_accuracy: 0.1959\n",
            "Epoch 5/50\n",
            "2290/2290 [==============================] - 27s 12ms/step - loss: 2.2382 - accuracy: 0.1887 - val_loss: 2.2258 - val_accuracy: 0.1959\n",
            "Epoch 6/50\n",
            "2290/2290 [==============================] - 24s 10ms/step - loss: 2.2377 - accuracy: 0.1891 - val_loss: 2.2243 - val_accuracy: 0.1959\n",
            "Epoch 7/50\n",
            "2290/2290 [==============================] - 22s 9ms/step - loss: 2.2374 - accuracy: 0.1892 - val_loss: 2.2237 - val_accuracy: 0.1959\n",
            "Epoch 8/50\n",
            "2290/2290 [==============================] - 24s 11ms/step - loss: 2.2374 - accuracy: 0.1892 - val_loss: 2.2256 - val_accuracy: 0.1959\n",
            "Epoch 9/50\n",
            "2290/2290 [==============================] - 22s 10ms/step - loss: 2.2374 - accuracy: 0.1892 - val_loss: 2.2280 - val_accuracy: 0.1959\n",
            "Epoch 10/50\n",
            "2290/2290 [==============================] - 26s 11ms/step - loss: 2.2380 - accuracy: 0.1890 - val_loss: 2.2238 - val_accuracy: 0.1959\n",
            "Epoch 11/50\n",
            "2290/2290 [==============================] - 22s 10ms/step - loss: 2.2373 - accuracy: 0.1891 - val_loss: 2.2237 - val_accuracy: 0.1959\n",
            "Epoch 12/50\n",
            "2290/2290 [==============================] - 24s 11ms/step - loss: 2.2370 - accuracy: 0.1892 - val_loss: 2.2242 - val_accuracy: 0.1959\n"
          ]
        }
      ]
    },
    {
      "cell_type": "markdown",
      "source": [
        "### Construir y entrenar el modelo con normalización por lotes\n",
        "### Función para construir el modelo con normalización por lotes (Parte B, paso 1)"
      ],
      "metadata": {
        "id": "CqUeLYVYYdu0"
      }
    },
    {
      "cell_type": "code",
      "source": [
        "def build_model_with_batchnorm(input_shape, num_classes):\n",
        "    model = Sequential()\n",
        "    model.add(Flatten(input_shape=input_shape))\n",
        "    for _ in range(20):\n",
        "        model.add(Dense(100, kernel_initializer=GlorotUniform()))\n",
        "        model.add(BatchNormalization())\n",
        "        model.add(Activation('elu'))\n",
        "    model.add(Dense(num_classes, activation='softmax'))\n",
        "    return model"
      ],
      "metadata": {
        "id": "sexcPl-nYli5"
      },
      "execution_count": null,
      "outputs": []
    },
    {
      "cell_type": "code",
      "source": [
        "model_bn = build_model_with_batchnorm(train_data[0].shape[1:], ds_info.features['label'].num_classes)"
      ],
      "metadata": {
        "id": "ry3MYqRhYd9G"
      },
      "execution_count": null,
      "outputs": []
    },
    {
      "cell_type": "markdown",
      "source": [
        "### Mejora con batch normalization (Parte B, paso 1)"
      ],
      "metadata": {
        "id": "Lvgk0Q6EY0FH"
      }
    },
    {
      "cell_type": "code",
      "source": [
        "history_bn = compile_and_train(model_bn, train_data, test_data)"
      ],
      "metadata": {
        "colab": {
          "base_uri": "https://localhost:8080/"
        },
        "id": "9PzPS5f8YyP0",
        "outputId": "9e000ebf-e925-4324-89b0-567ec89f437a"
      },
      "execution_count": null,
      "outputs": [
        {
          "output_type": "stream",
          "name": "stdout",
          "text": [
            "Epoch 1/50\n",
            "2290/2290 [==============================] - 71s 25ms/step - loss: 1.6011 - accuracy: 0.4646 - val_loss: 1.5845 - val_accuracy: 0.5027\n",
            "Epoch 2/50\n",
            "2290/2290 [==============================] - 58s 25ms/step - loss: 1.2958 - accuracy: 0.5901 - val_loss: 1.4880 - val_accuracy: 0.5469\n",
            "Epoch 3/50\n",
            "2290/2290 [==============================] - 55s 24ms/step - loss: 1.1818 - accuracy: 0.6341 - val_loss: 1.3311 - val_accuracy: 0.5863\n",
            "Epoch 4/50\n",
            "2290/2290 [==============================] - 57s 25ms/step - loss: 1.1000 - accuracy: 0.6611 - val_loss: 1.3382 - val_accuracy: 0.5686\n",
            "Epoch 5/50\n",
            "2290/2290 [==============================] - 55s 24ms/step - loss: 1.0473 - accuracy: 0.6763 - val_loss: 1.4118 - val_accuracy: 0.5507\n",
            "Epoch 6/50\n",
            "2290/2290 [==============================] - 57s 25ms/step - loss: 1.0045 - accuracy: 0.6893 - val_loss: 1.0390 - val_accuracy: 0.6730\n",
            "Epoch 7/50\n",
            "2290/2290 [==============================] - 55s 24ms/step - loss: 0.9666 - accuracy: 0.7015 - val_loss: 1.1662 - val_accuracy: 0.6288\n",
            "Epoch 8/50\n",
            "2290/2290 [==============================] - 57s 25ms/step - loss: 0.9315 - accuracy: 0.7118 - val_loss: 1.1097 - val_accuracy: 0.6518\n",
            "Epoch 9/50\n",
            "2290/2290 [==============================] - 55s 24ms/step - loss: 0.8968 - accuracy: 0.7233 - val_loss: 0.9351 - val_accuracy: 0.7160\n",
            "Epoch 10/50\n",
            "2290/2290 [==============================] - 65s 28ms/step - loss: 0.8655 - accuracy: 0.7338 - val_loss: 1.0466 - val_accuracy: 0.6814\n",
            "Epoch 11/50\n",
            "2290/2290 [==============================] - 65s 28ms/step - loss: 0.8391 - accuracy: 0.7411 - val_loss: 0.9118 - val_accuracy: 0.7219\n",
            "Epoch 12/50\n",
            "2290/2290 [==============================] - 58s 25ms/step - loss: 0.8094 - accuracy: 0.7501 - val_loss: 1.1631 - val_accuracy: 0.6371\n",
            "Epoch 13/50\n",
            "2290/2290 [==============================] - 58s 25ms/step - loss: 0.7926 - accuracy: 0.7552 - val_loss: 0.8818 - val_accuracy: 0.7276\n",
            "Epoch 14/50\n",
            "2290/2290 [==============================] - 57s 25ms/step - loss: 0.7748 - accuracy: 0.7599 - val_loss: 0.8632 - val_accuracy: 0.7268\n",
            "Epoch 15/50\n",
            "2290/2290 [==============================] - 63s 27ms/step - loss: 0.7520 - accuracy: 0.7688 - val_loss: 0.9373 - val_accuracy: 0.7048\n",
            "Epoch 16/50\n",
            "2290/2290 [==============================] - 59s 26ms/step - loss: 0.7295 - accuracy: 0.7753 - val_loss: 0.7869 - val_accuracy: 0.7548\n",
            "Epoch 17/50\n",
            "2290/2290 [==============================] - 60s 26ms/step - loss: 0.7172 - accuracy: 0.7789 - val_loss: 0.9767 - val_accuracy: 0.6957\n",
            "Epoch 18/50\n",
            "2290/2290 [==============================] - 57s 25ms/step - loss: 0.7025 - accuracy: 0.7824 - val_loss: 0.8586 - val_accuracy: 0.7329\n",
            "Epoch 19/50\n",
            "2290/2290 [==============================] - 58s 25ms/step - loss: 0.6876 - accuracy: 0.7892 - val_loss: 0.7951 - val_accuracy: 0.7579\n",
            "Epoch 20/50\n",
            "2290/2290 [==============================] - 58s 25ms/step - loss: 0.6748 - accuracy: 0.7905 - val_loss: 0.8079 - val_accuracy: 0.7487\n",
            "Epoch 21/50\n",
            "2290/2290 [==============================] - 57s 25ms/step - loss: 0.6598 - accuracy: 0.7965 - val_loss: 0.7884 - val_accuracy: 0.7564\n"
          ]
        }
      ]
    },
    {
      "cell_type": "markdown",
      "source": [
        "### Función para construir el modelo con ReLU y He (Parte B, paso 2)\n",
        "### 20 capas ocultas, cada una con 100 neuronas"
      ],
      "metadata": {
        "id": "1Ww-GTuRYeNP"
      }
    },
    {
      "cell_type": "code",
      "source": [
        "def build_model_with_relu_he(input_shape, num_classes):\n",
        "    model = Sequential()\n",
        "    model.add(Flatten(input_shape=input_shape))\n",
        "    for _ in range(20):\n",
        "        model.add(Dense(100, kernel_initializer=HeNormal()))\n",
        "        model.add(Activation('relu'))\n",
        "    model.add(Dense(num_classes, activation='softmax'))\n",
        "    return model"
      ],
      "metadata": {
        "id": "LDXF0zO0YeXS"
      },
      "execution_count": null,
      "outputs": []
    },
    {
      "cell_type": "markdown",
      "source": [
        "### Construir y entrenar el modelo con ReLU y He"
      ],
      "metadata": {
        "id": "n_jcgzjvYeiV"
      }
    },
    {
      "cell_type": "code",
      "source": [
        "model_relu_he = build_model_with_relu_he(train_data[0].shape[1:], ds_info.features['label'].num_classes)"
      ],
      "metadata": {
        "id": "8_I-XpfZYes7"
      },
      "execution_count": null,
      "outputs": []
    },
    {
      "cell_type": "code",
      "source": [
        "history_relu_he = compile_and_train(model_relu_he, train_data, test_data)"
      ],
      "metadata": {
        "colab": {
          "base_uri": "https://localhost:8080/"
        },
        "id": "ic-V1darYfCi",
        "outputId": "4ce53bdb-58df-4f9a-f4f8-e104c5ff74f0"
      },
      "execution_count": null,
      "outputs": [
        {
          "output_type": "stream",
          "name": "stdout",
          "text": [
            "Epoch 1/50\n",
            "2290/2290 [==============================] - 28s 10ms/step - loss: 2.2412 - accuracy: 0.1880 - val_loss: 2.2247 - val_accuracy: 0.1959\n",
            "Epoch 2/50\n",
            "2290/2290 [==============================] - 21s 9ms/step - loss: 2.2372 - accuracy: 0.1892 - val_loss: 2.2279 - val_accuracy: 0.1959\n",
            "Epoch 3/50\n",
            "2290/2290 [==============================] - 20s 9ms/step - loss: 2.2382 - accuracy: 0.1892 - val_loss: 2.2236 - val_accuracy: 0.1959\n",
            "Epoch 4/50\n",
            "2290/2290 [==============================] - 21s 9ms/step - loss: 2.2371 - accuracy: 0.1892 - val_loss: 2.2236 - val_accuracy: 0.1959\n",
            "Epoch 5/50\n",
            "2290/2290 [==============================] - 21s 9ms/step - loss: 2.2371 - accuracy: 0.1892 - val_loss: 2.2252 - val_accuracy: 0.1959\n",
            "Epoch 6/50\n",
            "2290/2290 [==============================] - 24s 10ms/step - loss: 2.2321 - accuracy: 0.1891 - val_loss: 2.1590 - val_accuracy: 0.1959\n",
            "Epoch 7/50\n",
            "2290/2290 [==============================] - 21s 9ms/step - loss: 2.2165 - accuracy: 0.1949 - val_loss: 2.1707 - val_accuracy: 0.2004\n",
            "Epoch 8/50\n",
            "2290/2290 [==============================] - 21s 9ms/step - loss: 2.1794 - accuracy: 0.2016 - val_loss: 2.1438 - val_accuracy: 0.2228\n",
            "Epoch 9/50\n",
            "2290/2290 [==============================] - 22s 10ms/step - loss: 2.1377 - accuracy: 0.2182 - val_loss: 2.1418 - val_accuracy: 0.2303\n",
            "Epoch 10/50\n",
            "2290/2290 [==============================] - 32s 14ms/step - loss: 2.1139 - accuracy: 0.2291 - val_loss: 2.0889 - val_accuracy: 0.2412\n",
            "Epoch 11/50\n",
            "2290/2290 [==============================] - 22s 9ms/step - loss: 2.2330 - accuracy: 0.1909 - val_loss: 2.2245 - val_accuracy: 0.1959\n",
            "Epoch 12/50\n",
            "2290/2290 [==============================] - 22s 10ms/step - loss: 2.2373 - accuracy: 0.1892 - val_loss: 2.2261 - val_accuracy: 0.1958\n",
            "Epoch 13/50\n",
            "2290/2290 [==============================] - 26s 11ms/step - loss: 2.2370 - accuracy: 0.1892 - val_loss: 2.2252 - val_accuracy: 0.1960\n",
            "Epoch 14/50\n",
            "2290/2290 [==============================] - 23s 10ms/step - loss: 2.2370 - accuracy: 0.1892 - val_loss: 2.2240 - val_accuracy: 0.1960\n",
            "Epoch 15/50\n",
            "2290/2290 [==============================] - 21s 9ms/step - loss: 2.2370 - accuracy: 0.1892 - val_loss: 2.2240 - val_accuracy: 0.1960\n"
          ]
        }
      ]
    },
    {
      "cell_type": "markdown",
      "source": [
        "### Imprimir las métricas del entrenamiento para comparación"
      ],
      "metadata": {
        "id": "TedGSEUjYfNH"
      }
    },
    {
      "cell_type": "code",
      "source": [
        "print(\"Historial inicial:\", history.history)\n",
        "print(\"Historial con Normalización por Lotes:\", history_bn.history)\n",
        "print(\"Historial con ReLU y He:\", history_relu_he.history)"
      ],
      "metadata": {
        "colab": {
          "base_uri": "https://localhost:8080/"
        },
        "id": "MaBEoXOSYfW0",
        "outputId": "f815be56-0a5f-42a1-bd53-c2c40739daa9"
      },
      "execution_count": null,
      "outputs": [
        {
          "output_type": "stream",
          "name": "stdout",
          "text": [
            "Historial inicial: {'loss': [2.2475473880767822, 2.2396600246429443, 2.238152265548706, 2.2395808696746826, 2.2381582260131836, 2.237678289413452, 2.237359046936035, 2.237410545349121, 2.2373530864715576, 2.2380290031433105, 2.2373390197753906, 2.237027168273926], 'accuracy': [0.18458303809165955, 0.1885007619857788, 0.18908773362636566, 0.18791379034519196, 0.18874646723270416, 0.18912868201732635, 0.18921059370040894, 0.18921059370040894, 0.18916963040828705, 0.1889648735523224, 0.18912868201732635, 0.18921059370040894], 'val_loss': [2.227828025817871, 2.2284488677978516, 2.226219654083252, 2.224090576171875, 2.2257728576660156, 2.2243430614471436, 2.2237071990966797, 2.225564479827881, 2.2280385494232178, 2.2237918376922607, 2.2237355709075928, 2.2242136001586914], 'val_accuracy': [0.19587430357933044, 0.19587430357933044, 0.19587430357933044, 0.19587430357933044, 0.19587430357933044, 0.19587430357933044, 0.19587430357933044, 0.19587430357933044, 0.19587430357933044, 0.19587430357933044, 0.19587430357933044, 0.19587430357933044]}\n",
            "Historial con Normalización por Lotes: {'loss': [1.601055383682251, 1.2958201169967651, 1.181829571723938, 1.099989414215088, 1.0472991466522217, 1.0044504404067993, 0.9665768146514893, 0.9314602613449097, 0.8968032598495483, 0.865497350692749, 0.839118480682373, 0.8094221949577332, 0.7925986647605896, 0.7748150825500488, 0.7519948482513428, 0.7294644117355347, 0.7172282934188843, 0.7025414109230042, 0.6875518560409546, 0.6747695207595825, 0.6598113775253296], 'accuracy': [0.4646245539188385, 0.5901415348052979, 0.634123682975769, 0.6610562801361084, 0.6763039827346802, 0.6892719864845276, 0.701489269733429, 0.7117545008659363, 0.7233165502548218, 0.7338274717330933, 0.7411168813705444, 0.7501262426376343, 0.7552452087402344, 0.7598864436149597, 0.7688139081001282, 0.7753252387046814, 0.7789016962051392, 0.7824371457099915, 0.7892488241195679, 0.7904500365257263, 0.7964699864387512], 'val_loss': [1.5844753980636597, 1.488010048866272, 1.3311147689819336, 1.3382281064987183, 1.4117622375488281, 1.0389565229415894, 1.16619873046875, 1.109739899635315, 0.9351180791854858, 1.046579360961914, 0.911830484867096, 1.1630768775939941, 0.8817617297172546, 0.863162636756897, 0.9373417496681213, 0.786874532699585, 0.9767304062843323, 0.858565628528595, 0.7950758934020996, 0.8078536987304688, 0.7884421944618225], 'val_accuracy': [0.5027273893356323, 0.5468654036521912, 0.5862784385681152, 0.5686078667640686, 0.5507068037986755, 0.6729794144630432, 0.628803014755249, 0.6518131494522095, 0.7160033583641052, 0.681353747844696, 0.7218807339668274, 0.6370620727539062, 0.7276045083999634, 0.7268362045288086, 0.7047864198684692, 0.7548018097877502, 0.6957206726074219, 0.7328672409057617, 0.75791335105896, 0.7486939430236816, 0.7564151883125305]}\n",
            "Historial con ReLU y He: {'loss': [2.2411770820617676, 2.237151622772217, 2.2382171154022217, 2.237131357192993, 2.237149238586426, 2.2320730686187744, 2.216459274291992, 2.1794092655181885, 2.137674570083618, 2.1139094829559326, 2.2329702377319336, 2.2373194694519043, 2.2370471954345703, 2.236950159072876, 2.236980676651001], 'accuracy': [0.18802298605442047, 0.18921059370040894, 0.18921059370040894, 0.18921059370040894, 0.18921059370040894, 0.1891150325536728, 0.19493018090724945, 0.20163260400295258, 0.2181907594203949, 0.22909756004810333, 0.19087596237659454, 0.18919694423675537, 0.18919694423675537, 0.18921059370040894, 0.18921059370040894], 'val_loss': [2.224745512008667, 2.227903366088867, 2.223609209060669, 2.22355055809021, 2.225201368331909, 2.159013509750366, 2.1706807613372803, 2.143826723098755, 2.1417572498321533, 2.0888636112213135, 2.2245371341705322, 2.226123094558716, 2.225200653076172, 2.223959445953369, 2.223978281021118], 'val_accuracy': [0.19587430357933044, 0.19587430357933044, 0.19587430357933044, 0.19587430357933044, 0.19587430357933044, 0.19587430357933044, 0.20044560730457306, 0.22284111380577087, 0.2303318977355957, 0.24124154448509216, 0.19587430357933044, 0.1958358883857727, 0.19595113396644592, 0.19595113396644592, 0.19595113396644592]}\n"
          ]
        }
      ]
    },
    {
      "cell_type": "markdown",
      "source": [
        "## Parte C: Avanzando en Regularización y Optimización\n",
        "* Introducir Dropout"
      ],
      "metadata": {
        "id": "so6L5ZTCde8Z"
      }
    },
    {
      "cell_type": "code",
      "source": [
        "from tensorflow.keras.layers import Dropout"
      ],
      "metadata": {
        "id": "XvqogNnGdfJL"
      },
      "execution_count": null,
      "outputs": []
    },
    {
      "cell_type": "markdown",
      "source": [
        "### Función para construir el modelo con dropout (Parte C, paso 1)"
      ],
      "metadata": {
        "id": "r_vCJyS6dfTb"
      }
    },
    {
      "cell_type": "code",
      "source": [
        "def build_model_with_dropout(input_shape, num_classes, dropout_rate=0.5):\n",
        "    model = Sequential()\n",
        "    model.add(Flatten(input_shape=input_shape))\n",
        "    for _ in range(20):\n",
        "        model.add(Dense(100, activation='elu', kernel_initializer=GlorotUniform()))\n",
        "        model.add(Dropout(dropout_rate))\n",
        "    model.add(Dense(num_classes, activation='softmax'))\n",
        "    return model"
      ],
      "metadata": {
        "id": "PXeio0cUdfck"
      },
      "execution_count": null,
      "outputs": []
    },
    {
      "cell_type": "markdown",
      "source": [
        "### Función para realizar predicciones utilizando MC Dropout (Parte C, paso 2)"
      ],
      "metadata": {
        "id": "QvsOMVE9dfk_"
      }
    },
    {
      "cell_type": "code",
      "source": [
        "def mc_dropout_predict(model, data, num_samples=100):\n",
        "    predictions = [model(data, training=True) for _ in range(num_samples)]\n",
        "    return tf.reduce_mean(predictions, axis=0)"
      ],
      "metadata": {
        "id": "fbVrwM_xdftb"
      },
      "execution_count": null,
      "outputs": []
    },
    {
      "cell_type": "markdown",
      "source": [
        "### Construir y entrenar el modelo con dropout\n",
        "\n"
      ],
      "metadata": {
        "id": "ol2hEFdCdf3K"
      }
    },
    {
      "cell_type": "code",
      "source": [
        "model_dropout = build_model_with_dropout(train_data[0].shape[1:], ds_info.features['label'].num_classes)\n",
        "history_dropout = compile_and_train(model_dropout, train_data, test_data)"
      ],
      "metadata": {
        "colab": {
          "base_uri": "https://localhost:8080/"
        },
        "id": "nLsS1oKRdf-7",
        "outputId": "75bfebfe-eb65-4304-9e41-1083fbcfbff1"
      },
      "execution_count": null,
      "outputs": [
        {
          "output_type": "stream",
          "name": "stdout",
          "text": [
            "Epoch 1/50\n",
            "2290/2290 [==============================] - 37s 12ms/step - loss: 2.4917 - accuracy: 0.1487 - val_loss: 2.2263 - val_accuracy: 0.1959\n",
            "Epoch 2/50\n",
            "2290/2290 [==============================] - 25s 11ms/step - loss: 2.2503 - accuracy: 0.1843 - val_loss: 2.2245 - val_accuracy: 0.1959\n",
            "Epoch 3/50\n",
            "2290/2290 [==============================] - 25s 11ms/step - loss: 2.2487 - accuracy: 0.1837 - val_loss: 2.2245 - val_accuracy: 0.1959\n",
            "Epoch 4/50\n",
            "2290/2290 [==============================] - 26s 12ms/step - loss: 2.2505 - accuracy: 0.1828 - val_loss: 2.2260 - val_accuracy: 0.1959\n",
            "Epoch 5/50\n",
            "2290/2290 [==============================] - 26s 11ms/step - loss: 2.2515 - accuracy: 0.1838 - val_loss: 2.2285 - val_accuracy: 0.1959\n",
            "Epoch 6/50\n",
            "2290/2290 [==============================] - 25s 11ms/step - loss: 2.2498 - accuracy: 0.1838 - val_loss: 2.2331 - val_accuracy: 0.1959\n",
            "Epoch 7/50\n",
            "2290/2290 [==============================] - 25s 11ms/step - loss: 2.2504 - accuracy: 0.1834 - val_loss: 2.2250 - val_accuracy: 0.1959\n",
            "Epoch 8/50\n",
            "2290/2290 [==============================] - 25s 11ms/step - loss: 2.2493 - accuracy: 0.1831 - val_loss: 2.2305 - val_accuracy: 0.1959\n"
          ]
        }
      ]
    },
    {
      "cell_type": "markdown",
      "source": [
        "### Utilizar MC Dropout para evaluar el modelo en el conjunto de test,  Evluación con MC Dropout (Parte C, paso 2)"
      ],
      "metadata": {
        "id": "pZbwfn5adgHu"
      }
    },
    {
      "cell_type": "code",
      "source": [
        "mc_predictions = mc_dropout_predict(model_dropout, test_data[0])"
      ],
      "metadata": {
        "id": "a6uy8U4HdgP9"
      },
      "execution_count": null,
      "outputs": []
    },
    {
      "cell_type": "markdown",
      "source": [
        "\n",
        "###  Calcular la precisión final con MC Dropout"
      ],
      "metadata": {
        "id": "PsE0XMnHdgY0"
      }
    },
    {
      "cell_type": "code",
      "source": [
        "mc_accuracy = tf.metrics.categorical_accuracy(test_data[1], mc_predictions)\n",
        "mc_accuracy_mean = tf.reduce_mean(mc_accuracy)"
      ],
      "metadata": {
        "id": "2NUDtPJPdggh"
      },
      "execution_count": null,
      "outputs": []
    },
    {
      "cell_type": "markdown",
      "source": [
        "### Imprimir las métricas"
      ],
      "metadata": {
        "id": "rfhSGwTCgqpQ"
      }
    },
    {
      "cell_type": "code",
      "source": [
        "print(\"Historial con Dropout:\", history_dropout.history)\n",
        "print(\"Precisión media con MC Dropout:\", mc_accuracy_mean.numpy())"
      ],
      "metadata": {
        "colab": {
          "base_uri": "https://localhost:8080/"
        },
        "id": "1LcVwpIBgqx3",
        "outputId": "3b5b9dff-eeb1-497a-d9e5-1fca3eeb821a"
      },
      "execution_count": null,
      "outputs": [
        {
          "output_type": "stream",
          "name": "stdout",
          "text": [
            "Historial con Dropout: {'loss': [2.491741895675659, 2.250297784805298, 2.2486677169799805, 2.250488519668579, 2.251457929611206, 2.2498247623443604, 2.2504401206970215, 2.2492573261260986], 'accuracy': [0.14870934188365936, 0.1842554360628128, 0.18368209898471832, 0.18276751041412354, 0.18379130959510803, 0.18383225798606873, 0.18339544534683228, 0.18306782841682434], 'val_loss': [2.22632098197937, 2.2244961261749268, 2.224463939666748, 2.226010799407959, 2.2284536361694336, 2.2330868244171143, 2.225013494491577, 2.2305243015289307], 'val_accuracy': [0.19587430357933044, 0.19587430357933044, 0.19587430357933044, 0.19587430357933044, 0.19587430357933044, 0.19587430357933044, 0.19587430357933044, 0.19587430357933044]}\n",
            "Precisión media con MC Dropout: 0.1958743\n"
          ]
        }
      ]
    },
    {
      "cell_type": "markdown",
      "source": [
        "## Gráficos de las Curvas de Entrenamiento y Validación"
      ],
      "metadata": {
        "id": "WTxINz0khRXr"
      }
    },
    {
      "cell_type": "code",
      "source": [
        "%matplotlib inline\n",
        "import matplotlib.pyplot as plt\n",
        "import warnings\n",
        "warnings.filterwarnings('ignore')   # Suppress Matplotlib warnings"
      ],
      "metadata": {
        "id": "GFmio4wGkIjx"
      },
      "execution_count": null,
      "outputs": []
    },
    {
      "cell_type": "code",
      "source": [
        "def plot_history(histories, titles):\n",
        "    plt.figure(figsize=(14, 5))\n",
        "    for i, (history, title) in enumerate(zip(histories, titles)):\n",
        "        plt.subplot(1, len(histories), i+1)\n",
        "        plt.plot(history.history['accuracy'], label='train_accuracy')\n",
        "        plt.plot(history.history['val_accuracy'], label='val_accuracy')\n",
        "        plt.title('Model Accuracy - ' + title)\n",
        "        plt.ylabel('Accuracy')\n",
        "        plt.xlabel('Epoch')\n",
        "        plt.legend(loc='upper left')\n",
        "    plt.tight_layout()\n",
        "    plt.show()"
      ],
      "metadata": {
        "id": "5rYMd_BUhRf_"
      },
      "execution_count": null,
      "outputs": []
    },
    {
      "cell_type": "markdown",
      "source": [
        "### Suponiendo que history, history_bn, history_relu_he, history_dropout son los históricos obtenidos de cada modelo"
      ],
      "metadata": {
        "id": "QBgBP6rNhUqR"
      }
    },
    {
      "cell_type": "code",
      "source": [
        "plot_history([history, history_bn, history_relu_he, history_dropout],\n",
        "             ['Inicial', 'BatchNorm', 'ReLU+He', 'Dropout'])"
      ],
      "metadata": {
        "colab": {
          "base_uri": "https://localhost:8080/",
          "height": 507
        },
        "id": "cIAYZjlhhU09",
        "outputId": "896ce4a7-49f4-4900-af9d-a793357f41d0"
      },
      "execution_count": null,
      "outputs": [
        {
          "output_type": "display_data",
          "data": {
            "text/plain": [
              "<Figure size 1400x500 with 4 Axes>"
            ],
            "image/png": "[encoded data removed]"
          },
          "metadata": {}
        }
      ]
    },
    {
      "cell_type": "markdown",
      "source": [
        "### Optimización de Hiperparámetros"
      ],
      "metadata": {
        "id": "cGcTQ9T8hU_n"
      }
    },
    {
      "cell_type": "code",
      "source": [
        "import tensorflow as tf\n",
        "from tensorflow import keras\n",
        "from kerastuner.tuners import RandomSearch"
      ],
      "metadata": {
        "id": "VRm09rrfWkJ1"
      },
      "execution_count": null,
      "outputs": []
    },
    {
      "cell_type": "markdown",
      "source": [],
      "metadata": {
        "id": "zOyCu-VfWweW"
      }
    },
    {
      "cell_type": "markdown",
      "source": [
        "### funcion"
      ],
      "metadata": {
        "id": "wA-DG2SGWpqZ"
      }
    },
    {
      "cell_type": "code",
      "source": [
        "def build_model(hp):\n",
        "    model = keras.Sequential()\n",
        "    model.add(keras.layers.Flatten(input_shape=(28, 28)))  # Ajusta según la forma de tus datos de entrada\n",
        "\n",
        "    # Permite a Keras Tuner decidir el número de neuronas en las primeras dos capas Dense\n",
        "    for i in range(2):  # Dos capas densas\n",
        "        model.add(keras.layers.Dense(\n",
        "            units=hp.Int('units_' + str(i), min_value=32, max_value=512, step=32),\n",
        "            activation='relu'))\n",
        "\n",
        "    model.add(keras.layers.Dense(10, activation='softmax'))  # Ajusta según el número de clases\n",
        "\n",
        "    # Permite a Keras Tuner decidir la tasa de aprendizaje\n",
        "    hp_learning_rate = hp.Choice('learning_rate', values=[1e-2, 1e-3, 1e-4])\n",
        "\n",
        "    model.compile(\n",
        "        optimizer=keras.optimizers.Adam(learning_rate=hp_learning_rate),\n",
        "        loss=keras.losses.SparseCategoricalCrossentropy(),\n",
        "        metrics=['accuracy'])\n",
        "\n",
        "    return model\n"
      ],
      "metadata": {
        "id": "dSGY9_uTWp6f"
      },
      "execution_count": null,
      "outputs": []
    },
    {
      "cell_type": "markdown",
      "source": [
        "### # Crear el tuner y realizar la búsqueda de hiperparámetros"
      ],
      "metadata": {
        "id": "zttKj1MKWyAz"
      }
    },
    {
      "cell_type": "code",
      "source": [
        "tunner = RandomSearch(\n",
        "    build_model,\n",
        "    objective='val_accuracy',\n",
        "    max_trials=10,  # Número máximo de configuraciones de prueba\n",
        "    executions_per_trial=3,  # Número de modelos que se entrenan por prueba\n",
        "    directory='logs',  # Directorio para almacenar logs\n",
        "    project_name='keras_tuner_demo')"
      ],
      "metadata": {
        "id": "KtcoYqnnWyJD"
      },
      "execution_count": null,
      "outputs": []
    },
    {
      "cell_type": "markdown",
      "source": [
        "### Obtener el mejor modelo"
      ],
      "metadata": {
        "id": "_WR40msmW7s-"
      }
    },
    {
      "cell_type": "code",
      "source": [
        "tuner.search(x_train, y_train, epochs=10, validation_split=0.2)\n",
        "best_model = tuner.get_best_models(num_models=1)[0]"
      ],
      "metadata": {
        "id": "85iBggiyW74A"
      },
      "execution_count": null,
      "outputs": []
    },
    {
      "cell_type": "markdown",
      "source": [
        "# Evaluar el mejor modelo"
      ],
      "metadata": {
        "id": "5t5Xjj11W8CK"
      }
    },
    {
      "cell_type": "code",
      "source": [
        "loss, accuracy = best_model.evaluate(x_test, y_test)\n",
        "print(f\"Loss: {loss}, Accuracy: {accuracy}\")"
      ],
      "metadata": {
        "id": "QRySncYVW8Lz"
      },
      "execution_count": null,
      "outputs": []
    }
  ]
}